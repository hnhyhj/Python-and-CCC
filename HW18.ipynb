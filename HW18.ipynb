{
  "nbformat": 4,
  "nbformat_minor": 0,
  "metadata": {
    "colab": {
      "name": "HW18.ipynb",
      "provenance": [],
      "authorship_tag": "ABX9TyMXw/3fiNGHtDfaTH+y5IEb",
      "include_colab_link": true
    },
    "kernelspec": {
      "name": "python3",
      "display_name": "Python 3"
    }
  },
  "cells": [
    {
      "cell_type": "markdown",
      "metadata": {
        "id": "view-in-github",
        "colab_type": "text"
      },
      "source": [
        "<a href=\"https://colab.research.google.com/github/hnhyhj/Python-and-CCC/blob/master/HW18.ipynb\" target=\"_parent\"><img src=\"https://colab.research.google.com/assets/colab-badge.svg\" alt=\"Open In Colab\"/></a>"
      ]
    },
    {
      "cell_type": "markdown",
      "metadata": {
        "id": "W-YptYsgGlEx"
      },
      "source": [
        "#### 1 \n",
        "Create a version of the Rectangle class that is safe by assuring that both\n",
        "width and height are positive values (how you do that is up to you). Expand it with methods that calculate its surface area and its circumference. Also provide a method that returns\n",
        "the bottom-right corner of the rectangle as a Point. Finally, create a method that gets a second Rectangle object as parameter, and returns the overlapping area of the two rectangles\n",
        "as a new Rectangle object (the last one is much harder than the other ones)."
      ]
    },
    {
      "cell_type": "code",
      "metadata": {
        "id": "ET40KMYEGh9l"
      },
      "source": [
        ""
      ],
      "execution_count": null,
      "outputs": []
    },
    {
      "cell_type": "markdown",
      "metadata": {
        "id": "kIUh7TySGsYX"
      },
      "source": [
        "#### 2\n",
        "A student has a last name, a first name, a date of birth (either a year,\n",
        "month, and day, or a datetime object if you took the liberty of studying the datetime\n",
        "module already), and an administration number. A course has a name and a number.\n",
        "Students can enroll in courses. Create a class Student and a class Course. Create several\n",
        "students and several courses. Enroll each student in some of the courses. Display a list\n",
        "of students, showing their number, first name, last name, and age, and per student which\n",
        "courses he or she is enrolled in."
      ]
    },
    {
      "cell_type": "code",
      "metadata": {
        "id": "cRXdAznOGxWR"
      },
      "source": [
        ""
      ],
      "execution_count": null,
      "outputs": []
    },
    {
      "cell_type": "markdown",
      "metadata": {
        "id": "BDBgPqO-Mk4h"
      },
      "source": [
        "#### 3\n",
        "A playing card consists of a suit (\"Hearts\", \"Spades\", \"Clubs\", \"Diamonds\") and a value (2, 3, 4, 5, 6, 7, 8, 9, 10, \"Jack\", \"Queen\", \"King\", \"Ace\"). Implement a Card class. Implement that cards are equal when they have an equal rank, and that the other comparisons use the ranks in the order given above (2 lowest, Ace highest). Test the class."
      ]
    },
    {
      "cell_type": "code",
      "metadata": {
        "id": "q2pim-nFMuif"
      },
      "source": [
        ""
      ],
      "execution_count": null,
      "outputs": []
    },
    {
      "cell_type": "markdown",
      "metadata": {
        "id": "OkwdxiL4L9GY"
      },
      "source": [
        "#### 4\n",
        "A Rectangle and a Square can be considered shapes. There are, of course, different kinds of shapes which are defined differently, but share with rectangles and squares that they have an area and circumference. Define an interface class Shape, of which Rectangle and Square are sub(sub)classes. Also define a class Circle that you derive from Shape."
      ]
    },
    {
      "cell_type": "code",
      "metadata": {
        "id": "tKbXNV1dMF0W"
      },
      "source": [
        ""
      ],
      "execution_count": null,
      "outputs": []
    },
    {
      "cell_type": "markdown",
      "metadata": {
        "id": "UKhs29SoXHdS"
      },
      "source": [
        "#### 5 USACO 2016 December Contest, Bronze\n",
        "[Block Game](http://www.usaco.org/index.php?page=viewproblem2&cpid=664)"
      ]
    },
    {
      "cell_type": "code",
      "metadata": {
        "id": "_YGStjfHXWC3"
      },
      "source": [
        ""
      ],
      "execution_count": null,
      "outputs": []
    },
    {
      "cell_type": "markdown",
      "metadata": {
        "id": "w0muGbdiXWpt"
      },
      "source": [
        "#### 6 USACO 2015 December Contest, Bronze\n",
        "[Speeding Ticket](http://www.usaco.org/index.php?page=viewproblem2&cpid=568)"
      ]
    },
    {
      "cell_type": "code",
      "metadata": {
        "id": "b6MaObiFXz8Z"
      },
      "source": [
        ""
      ],
      "execution_count": null,
      "outputs": []
    }
  ]
}