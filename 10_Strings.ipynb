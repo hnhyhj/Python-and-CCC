{
  "nbformat": 4,
  "nbformat_minor": 0,
  "metadata": {
    "colab": {
      "name": "10 Strings.ipynb",
      "provenance": [],
      "collapsed_sections": [],
      "authorship_tag": "ABX9TyNmTexSTO38tNh4i94wsoxx",
      "include_colab_link": true
    },
    "kernelspec": {
      "name": "python3",
      "display_name": "Python 3"
    }
  },
  "cells": [
    {
      "cell_type": "markdown",
      "metadata": {
        "id": "view-in-github",
        "colab_type": "text"
      },
      "source": [
        "<a href=\"https://colab.research.google.com/github/hnhyhj/Python-study/blob/master/10_Strings.ipynb\" target=\"_parent\"><img src=\"https://colab.research.google.com/assets/colab-badge.svg\" alt=\"Open In Colab\"/></a>"
      ]
    },
    {
      "cell_type": "markdown",
      "metadata": {
        "id": "_HQjnux_YpqB"
      },
      "source": [
        "# Chapter 10\n",
        "# Strings\n",
        "\n"
      ]
    },
    {
      "cell_type": "markdown",
      "metadata": {
        "id": "WT-gE9iQZM84"
      },
      "source": [
        "## 10.1 Basics"
      ]
    },
    {
      "cell_type": "code",
      "metadata": {
        "colab": {
          "base_uri": "https://localhost:8080/"
        },
        "id": "i0YyodxhYolG",
        "outputId": "dc10a18b-9054-4b17-ad8d-8fbddda0208e"
      },
      "source": [
        "s1 = \"apple\"\n",
        "s2 = ' banana '\n",
        "print( s1 )\n",
        "print( s2 )\n",
        "print( s1 + s2 )\n",
        "print( 3 * s1 )\n",
        "print( s2 * 3 )\n",
        "print( 2 * s1 + 2 * s2 )"
      ],
      "execution_count": null,
      "outputs": [
        {
          "output_type": "stream",
          "text": [
            "apple\n",
            " banana \n",
            "apple banana \n",
            "appleappleapple\n",
            " banana  banana  banana \n",
            "appleapple banana  banana \n"
          ],
          "name": "stdout"
        }
      ]
    },
    {
      "cell_type": "markdown",
      "metadata": {
        "id": "f6pPJKTFZRHj"
      },
      "source": [
        "# 10.2 Multi-line strings\n",
        "As you can see when you run the code, Python interprets this example as a single line of\n",
        "text. The **backslash (\\\\)** can actually be included after any Python statement to indicate that\n",
        "it continues on the next line, and it can be quite useful for that, for instance when you write\n",
        "long calculations.\n",
        "The recommended way to write multi-line strings in Python is, however, to use triple double or single quotes. I indicated earlier that you can use those to write multi-line comments.\n",
        "Such comments are basically large strings in the middle of your Python program, which\n",
        "do nothing as they are not assigned to a variable."
      ]
    },
    {
      "cell_type": "code",
      "metadata": {
        "colab": {
          "base_uri": "https://localhost:8080/"
        },
        "id": "1DhDh0XxZ8Ou",
        "outputId": "fd832d0f-1c0a-4eda-f180-bf0e4c30a704"
      },
      "source": [
        "long = \"I'm fed up with being treated like sheep. What's the \\\n",
        "point of going abroad if you're just another tourist carted \\\n",
        "around in buses surrounded by sweaty mindless oafs from \\\n",
        "Kettering and Coventry in their cloth caps and their cardigans \\\n",
        "and their transistor radios and their Sunday Mirrors, ....... \"\n",
        "print( long )"
      ],
      "execution_count": null,
      "outputs": [
        {
          "output_type": "stream",
          "text": [
            "I'm fed up with being treated like sheep. What's the point of going abroad if you're just another tourist carted around in buses surrounded by sweaty mindless oafs from Kettering and Coventry in their cloth caps and their cardigans and their transistor radios and their Sunday Mirrors, ....... \n"
          ],
          "name": "stdout"
        }
      ]
    },
    {
      "cell_type": "code",
      "metadata": {
        "colab": {
          "base_uri": "https://localhost:8080/"
        },
        "id": "z9nkkqEAfErz",
        "outputId": "e24e2672-fdcf-479c-a51d-923144152944"
      },
      "source": [
        "long = \"\"\"And being herded into endless Hotel Miramars and\n",
        "Bellevueses and Continentales with their modern international\n",
        "luxury roomettes and draught Red Barrel and swimming pools full\n",
        "of fat German businessmen pretending they ' re acrobats forming\n",
        "pyramids and frightening the children and barging into queues......\"\"\"\n",
        "print( long )"
      ],
      "execution_count": null,
      "outputs": [
        {
          "output_type": "stream",
          "text": [
            "And being herded into endless Hotel Miramars and\n",
            "Bellevueses and Continentales with their modern international\n",
            "luxury roomettes and draught Red Barrel and swimming pools full\n",
            "of fat German businessmen pretending they ' re acrobats forming\n",
            "pyramids and frightening the children and barging into queues......\n"
          ],
          "name": "stdout"
        }
      ]
    },
    {
      "cell_type": "markdown",
      "metadata": {
        "id": "RFmG-_5YNCqz"
      },
      "source": [
        "## 10.3  Escape sequences\n",
        "\n",
        "**\"\\n\"** is a so-called “escape sequence.” An escape sequence is a string character written as\n",
        "a backslash followed by a code, which can be one or multiple characters. Python interprets\n",
        "escape sequences in a string as a special character."
      ]
    },
    {
      "cell_type": "markdown",
      "metadata": {
        "id": "kTJAjLL6Nc0f"
      },
      "source": [
        "Besides these, there are a few more escape sequences which lead to a special character.\n",
        "Most of these are archaic and you do not need to worry about them. The two I want to\n",
        "mention are **\"\\t\"** which represents a single tabulation, and **\"\\xnn\"** whereby nn stands\n",
        "for two hexadecimal digits, which represents the character with hexadecimal number nn.\n",
        "- For example, **\"\\x20\"** is the character expressed by the hexadecimal number 20, which is\n",
        "the same as the decimal number 32, which is the space (this will be explained later in this\n",
        "chapter)."
      ]
    },
    {
      "cell_type": "code",
      "metadata": {
        "id": "sgw9dgapOnWy"
      },
      "source": [
        ""
      ],
      "execution_count": null,
      "outputs": []
    },
    {
      "cell_type": "markdown",
      "metadata": {
        "id": "RbwHMLyJOL1q"
      },
      "source": [
        "## 10.4 Accessing characters of a string"
      ]
    },
    {
      "cell_type": "markdown",
      "metadata": {
        "id": "R3TXNL_XOQV7"
      },
      "source": [
        "### 10.4.1 String indices\n",
        "\n",
        "![屏幕快照 2020-11-29 18.57.22.png](data:image/png;base64,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)\n",
        "\n"
      ]
    },
    {
      "cell_type": "code",
      "metadata": {
        "id": "EfKmzDs9OUg6"
      },
      "source": [
        "fruit = \"orange\"\n",
        "print( fruit[1] )\n",
        "print( fruit[2] )\n",
        "print( fruit[3] )\n",
        "print( fruit[-2] )\n",
        "print( fruit[-6] )\n",
        "print( fruit[0] )\n",
        "print( fruit[-3] )"
      ],
      "execution_count": null,
      "outputs": []
    },
    {
      "cell_type": "markdown",
      "metadata": {
        "id": "HXzKjfKfSWPr"
      },
      "source": [
        "You can also use variables as indices, and even calculations or function calls. You must\n",
        "make sure, however, that calculations result in integers, because you cannot use floats as\n",
        "indices. Below are some examples, most of which are so convoluted that I do not see any\n",
        "reason to incorporate them like this in a program. But they show what is possible."
      ]
    },
    {
      "cell_type": "code",
      "metadata": {
        "colab": {
          "base_uri": "https://localhost:8080/"
        },
        "id": "8xvvrvr3SW9V",
        "outputId": "96bfb513-9908-4d1e-bf36-0a53fd49f7eb"
      },
      "source": [
        "from math import sqrt\n",
        "fruit = \"orange\"\n",
        "x = 3\n",
        "print( fruit[3-2] )\n",
        "print( fruit[int( sqrt( 4 ) )] )\n",
        "print( fruit [2**2] )\n",
        "print( fruit[int( (x-len( fruit ))/3 )] )\n",
        "print( fruit[-len( fruit )])\n",
        "print( fruit[-x] )"
      ],
      "execution_count": 6,
      "outputs": [
        {
          "output_type": "stream",
          "text": [
            "r\n",
            "a\n",
            "g\n",
            "e\n",
            "o\n",
            "n\n"
          ],
          "name": "stdout"
        }
      ]
    },
    {
      "cell_type": "markdown",
      "metadata": {
        "id": "ZPM6EqZFS1j2"
      },
      "source": [
        "Besides using single indices you can also access a substring (also called a “slice”) from a string by using two numbers between the square brackets with a colon **(:)** in between. \n",
        "- The first of these numbers is the index where the substring starts, \n",
        "- the second where it ends. \n",
        "- The substring does not include the letter at the second index. \n",
        "- By leaving out the left number you indicate that the substring starts at the beginning of the string (i.e., at index 0). \n",
        "- By leaving out the right number you indicate that the substring ranges up to and includes the last character of the string.\n"
      ]
    },
    {
      "cell_type": "markdown",
      "metadata": {
        "id": "c0G5363YS3fP"
      },
      "source": [
        "\n",
        "For a range of indices to access substrings such limitations do not exist; you can use numbers that are outside the bounds of the string."
      ]
    },
    {
      "cell_type": "code",
      "metadata": {
        "colab": {
          "base_uri": "https://localhost:8080/"
        },
        "id": "mlW5UFgjSZVs",
        "outputId": "1e0f0812-b6b2-414a-90e7-fed8c5195c9d"
      },
      "source": [
        "fruit = \"orange\"\n",
        "print( fruit[:] )\n",
        "print( fruit[0:] )\n",
        "print( fruit[:6] )\n",
        "print( fruit[:100] )\n",
        "print( fruit[:len( fruit )] )\n",
        "print( fruit[1:-1] )\n",
        "print( fruit[2], fruit[1:6] )"
      ],
      "execution_count": 22,
      "outputs": [
        {
          "output_type": "stream",
          "text": [
            "orange\n",
            "orange\n",
            "orange\n",
            "orange\n",
            "orange\n",
            "rang\n",
            "a range\n"
          ],
          "name": "stdout"
        }
      ]
    },
    {
      "cell_type": "code",
      "metadata": {
        "id": "qY0mKYBgWShD"
      },
      "source": [
        "# If you try to access a character using an index that is beyond the reaches of a string, you get a runtime error (“index out of bounds”). \n",
        "print( fruit[100] )"
      ],
      "execution_count": null,
      "outputs": []
    },
    {
      "cell_type": "markdown",
      "metadata": {
        "id": "1_uJ1X_BTgxA"
      },
      "source": [
        "### 10.4.2 Traversing strings"
      ]
    },
    {
      "cell_type": "code",
      "metadata": {
        "colab": {
          "base_uri": "https://localhost:8080/"
        },
        "id": "70B6YfyaTyps",
        "outputId": "8257962b-b4d9-4fb1-d632-7e49e42a8634"
      },
      "source": [
        "fruit = 'apple'\n",
        "for char in fruit:\n",
        "    print( char, '-' , end=' ')"
      ],
      "execution_count": 16,
      "outputs": [
        {
          "output_type": "stream",
          "text": [
            "a - p - p - l - e - "
          ],
          "name": "stdout"
        }
      ]
    },
    {
      "cell_type": "code",
      "metadata": {
        "colab": {
          "base_uri": "https://localhost:8080/"
        },
        "id": "AMiUslsMTzVU",
        "outputId": "2301ee80-5ab1-44ba-9898-9445529a1682"
      },
      "source": [
        "fruit = 'apple'\n",
        "for i in range( 0, len( fruit ) ):\n",
        "    print( fruit[i], \"-\", end=\" \" )\n",
        "print()\n",
        "\n",
        "i = 0\n",
        "while i < len( fruit ):\n",
        "    print( fruit[i], \"-\", end=\" \" )\n",
        "    i += 1"
      ],
      "execution_count": 17,
      "outputs": [
        {
          "output_type": "stream",
          "text": [
            "a - p - p - l - e - \n",
            "a - p - p - l - e - "
          ],
          "name": "stdout"
        }
      ]
    },
    {
      "cell_type": "markdown",
      "metadata": {
        "id": "bE5nAaybUg_i"
      },
      "source": [
        "### 10.4.3 Extended slices\n",
        "Slices in python can take a third argument, which is the step size (or “stride”) that is taken\n",
        "between indices. It is similar to the third argument for the **range()** function. The format\n",
        "for slices then becomes \"**\\<string>\\[\\<begin>:\\<end>:\\<step>]**\". By default the step size is 1."
      ]
    },
    {
      "cell_type": "code",
      "metadata": {
        "colab": {
          "base_uri": "https://localhost:8080/"
        },
        "id": "d4Ay6s3MUod1",
        "outputId": "a080a849-8bee-4f08-e6af-474b9cb1b78b"
      },
      "source": [
        "fruit = \"banana\"\n",
        "print( fruit[::2] )\n",
        "print( fruit[1::2] )\n",
        "print( fruit[::-1] )\n",
        "print( fruit[::-2] )"
      ],
      "execution_count": 18,
      "outputs": [
        {
          "output_type": "stream",
          "text": [
            "bnn\n",
            "aaa\n",
            "ananab\n",
            "aaa\n"
          ],
          "name": "stdout"
        }
      ]
    },
    {
      "cell_type": "code",
      "metadata": {
        "colab": {
          "base_uri": "https://localhost:8080/"
        },
        "id": "ssLQngjNVGiS",
        "outputId": "560c7a5f-1576-4d50-c127-0eca25ba5962"
      },
      "source": [
        "fruit = \"banana\"\n",
        "print( fruit[::-1] )\n",
        "for i in range( 5, -1, -1 ):\n",
        "    print( fruit[i] )"
      ],
      "execution_count": 20,
      "outputs": [
        {
          "output_type": "stream",
          "text": [
            "ananab\n",
            "a\n",
            "n\n",
            "a\n",
            "n\n",
            "a\n",
            "b\n"
          ],
          "name": "stdout"
        }
      ]
    },
    {
      "cell_type": "markdown",
      "metadata": {
        "id": "xZxFzSSoWgzY"
      },
      "source": [
        "## 10.5 Strings are immutable\n",
        "A core property of strings is that they are immutable. This means that they cannot be\n",
        "changed. For instance, you cannot change a character of a string by assigning a new value\n",
        "to it. As a demonstration, the following code leads to a runtime error if you try to run it:"
      ]
    },
    {
      "cell_type": "code",
      "metadata": {
        "colab": {
          "base_uri": "https://localhost:8080/",
          "height": 202
        },
        "id": "pC0rU1-bWqyM",
        "outputId": "b7adc07d-eb81-4c9d-d8e2-6f9a7d0c2164"
      },
      "source": [
        "fruit = \"oringe\"\n",
        "fruit[2] = \"a\" # Runtime error!\n",
        "print( fruit )"
      ],
      "execution_count": 24,
      "outputs": [
        {
          "output_type": "error",
          "ename": "TypeError",
          "evalue": "ignored",
          "traceback": [
            "\u001b[0;31m---------------------------------------------------------------------------\u001b[0m",
            "\u001b[0;31mTypeError\u001b[0m                                 Traceback (most recent call last)",
            "\u001b[0;32m<ipython-input-24-33942fd1b27b>\u001b[0m in \u001b[0;36m<module>\u001b[0;34m()\u001b[0m\n\u001b[1;32m      1\u001b[0m \u001b[0mfruit\u001b[0m \u001b[0;34m=\u001b[0m \u001b[0;34m\"oringe\"\u001b[0m\u001b[0;34m\u001b[0m\u001b[0;34m\u001b[0m\u001b[0m\n\u001b[0;32m----> 2\u001b[0;31m \u001b[0mfruit\u001b[0m\u001b[0;34m[\u001b[0m\u001b[0;36m2\u001b[0m\u001b[0;34m]\u001b[0m \u001b[0;34m=\u001b[0m \u001b[0;34m\"a\"\u001b[0m \u001b[0;31m# Runtime error!\u001b[0m\u001b[0;34m\u001b[0m\u001b[0;34m\u001b[0m\u001b[0m\n\u001b[0m\u001b[1;32m      3\u001b[0m \u001b[0mprint\u001b[0m\u001b[0;34m(\u001b[0m \u001b[0mfruit\u001b[0m \u001b[0;34m)\u001b[0m\u001b[0;34m\u001b[0m\u001b[0;34m\u001b[0m\u001b[0m\n",
            "\u001b[0;31mTypeError\u001b[0m: 'str' object does not support item assignment"
          ]
        }
      ]
    },
    {
      "cell_type": "markdown",
      "metadata": {
        "id": "rETwB2xoWxaM"
      },
      "source": [
        "If you want to make a change to a string, you have to create a new string that contains\n",
        "the change; you can then assign the new string to the existing variable if you want. For\n",
        "instance:"
      ]
    },
    {
      "cell_type": "code",
      "metadata": {
        "id": "RS1wg4lWWyoT"
      },
      "source": [
        "fruit = \"oringe\"\n",
        "fruit = fruit[:2] + \"a\" + fruit[3:]\n",
        "print( fruit )"
      ],
      "execution_count": null,
      "outputs": []
    },
    {
      "cell_type": "markdown",
      "metadata": {
        "id": "5in_2313W5Q3"
      },
      "source": [
        "The reasons for why strings are immutable are beyond the scope of this book. Just remember that if you want to modify a string you need to overwrite the entire string, and you\n",
        "cannot modify individual indices."
      ]
    },
    {
      "cell_type": "markdown",
      "metadata": {
        "id": "EcXvBn1_W7Xa"
      },
      "source": [
        "## 10.6 String methods"
      ]
    },
    {
      "cell_type": "markdown",
      "metadata": {
        "id": "qx-MjT0VXNB7"
      },
      "source": [
        "There is a collection of methods that are designed to operate on strings. All of these methods are applied to a string to perform some operation. Since strings are immutable, they\n",
        "never change the string they work on, but they always return a changed version of the string."
      ]
    },
    {
      "cell_type": "markdown",
      "metadata": {
        "id": "w_-Fh_Q-Xmd6"
      },
      "source": [
        "### 10.6.1 strip( )"
      ]
    },
    {
      "cell_type": "markdown",
      "metadata": {
        "id": "bFmD8J5hXz0l"
      },
      "source": [
        "**strip( )** removes from a string leading and trailing spaces, including leading and trailing\n",
        "newlines and other characters that may be viewed as spaces. If instead of spaces, you want\n",
        "to remove different characters, you can add a string parameter that consists of all characters\n",
        "you want to be removed."
      ]
    },
    {
      "cell_type": "code",
      "metadata": {
        "colab": {
          "base_uri": "https://localhost:8080/"
        },
        "id": "JYYv7hv7XWjP",
        "outputId": "47795f40-22d6-4006-fa89-b0d80fb209b3"
      },
      "source": [
        "s = \" And now for something completely different \\n \"\n",
        "print( \"[\"+s+\"]\" )\n",
        "s = s.strip()\n",
        "print( \"[\"+s+\"]\" )"
      ],
      "execution_count": 25,
      "outputs": [
        {
          "output_type": "stream",
          "text": [
            "[ And now for something completely different \n",
            " ]\n",
            "[And now for something completely different]\n"
          ],
          "name": "stdout"
        }
      ]
    },
    {
      "cell_type": "markdown",
      "metadata": {
        "id": "pOHt11kIX7Va"
      },
      "source": [
        "### 10.6.2 **upper()** and **lower()**"
      ]
    },
    {
      "cell_type": "code",
      "metadata": {
        "id": "Z7OuJg6vYEdE"
      },
      "source": [
        "s = \"The Meaning of Life\"\n",
        "print( s )\n",
        "print( s.upper() )\n",
        "print( s.lower() )"
      ],
      "execution_count": null,
      "outputs": []
    },
    {
      "cell_type": "markdown",
      "metadata": {
        "id": "mv2_rYfmYHsN"
      },
      "source": [
        "### 10.6.3 **find()**"
      ]
    },
    {
      "cell_type": "markdown",
      "metadata": {
        "id": "Lx5z5cR_YNjD"
      },
      "source": [
        "**find()** can be used to search in a string for the starting index of a particular substring.\n",
        "As parameters it gets the substring, and optionally a starting index to search from, and an\n",
        "ending index. It returns the lowest index where the substring starts, or -1 if the substring\n",
        "is not found."
      ]
    },
    {
      "cell_type": "code",
      "metadata": {
        "colab": {
          "base_uri": "https://localhost:8080/"
        },
        "id": "50G56JJ6YMqE",
        "outputId": "95bd949a-6227-4bb2-a20b-c3c39618b28a"
      },
      "source": [
        "s = \"Humpty Dumpty sat on the wall\"\n",
        "print( s.find( \"sat\" ) )\n",
        "print( s.find( \"t\" ) )\n",
        "print( s.find( \"t\", 12 ) )\n",
        "print( s.find( \"q\" ) )"
      ],
      "execution_count": 26,
      "outputs": [
        {
          "output_type": "stream",
          "text": [
            "14\n",
            "4\n",
            "16\n",
            "-1\n"
          ],
          "name": "stdout"
        }
      ]
    },
    {
      "cell_type": "markdown",
      "metadata": {
        "id": "qx5qYXsjYmH1"
      },
      "source": [
        "### 10.6.4 **replace( )**\n",
        "replace() replaces all occurrences of a substring with another substring. As parameters\n",
        "it gets the substring to look for, and the substring to replace it with. Optionally, it gets a\n",
        "parameter that indicates the maximum number of replacements to be made.\n",
        "I must stress again that strings are immutable, so the replace() function is not actually\n",
        "changing the string. It returns a new string that is a copy of the string with the replacements\n",
        "made."
      ]
    },
    {
      "cell_type": "code",
      "metadata": {
        "colab": {
          "base_uri": "https://localhost:8080/"
        },
        "id": "nlsD4rbTYrbi",
        "outputId": "309f16ea-4ab0-410f-e576-a0d17fe20860"
      },
      "source": [
        "s = 'Humpty Dumpty sat on the wall'\n",
        "print(s.replace('sat on' , 'fell off'))"
      ],
      "execution_count": 28,
      "outputs": [
        {
          "output_type": "stream",
          "text": [
            "Humpty Dumpty fell off the wall\n"
          ],
          "name": "stdout"
        }
      ]
    },
    {
      "cell_type": "markdown",
      "metadata": {
        "id": "HgPkn-a9ZadD"
      },
      "source": [
        "### **10.6.5 split( )**\n",
        "split() splits a string up in words, based on a given character or substring which is used\n",
        "as separator. The separator is given as the parameter, and if no separator is given, the white\n",
        "space is used, i.e., you split a string in the actual words (though punctuation attached to\n",
        "words is considered part of the words). If there are multiple occurrences of the separator\n",
        "next to each other, the extra ones are ignored (i.e., with the white space as separator, it does\n",
        "not matter if there is a single white space between two words, or multiple)."
      ]
    },
    {
      "cell_type": "code",
      "metadata": {
        "colab": {
          "base_uri": "https://localhost:8080/"
        },
        "id": "bql8yRnjZiot",
        "outputId": "333390c1-66c1-4bdd-f6a7-3d3bbabefae2"
      },
      "source": [
        "s = ' Humpty Dumpty sat on the wall '\n",
        "wordlist = s.split()\n",
        "for word in wordlist:\n",
        "    print(word)"
      ],
      "execution_count": 29,
      "outputs": [
        {
          "output_type": "stream",
          "text": [
            "Humpty\n",
            "Dumpty\n",
            "sat\n",
            "on\n",
            "the\n",
            "wall\n"
          ],
          "name": "stdout"
        }
      ]
    },
    {
      "cell_type": "markdown",
      "metadata": {
        "id": "ac4VXQvNZ28O"
      },
      "source": [
        "A very useful property of splitting is that we can decode some basic file formats. For\n",
        "example, a comma separated value (CSV) file is a very simple format, of which the basic\n",
        "setup is that each line consists of values that are separated by a comma. These values can\n",
        "be split from each other using the split() method."
      ]
    },
    {
      "cell_type": "code",
      "metadata": {
        "colab": {
          "base_uri": "https://localhost:8080/"
        },
        "id": "bcxWXH8mZ6_k",
        "outputId": "166937d8-f6e5-4c8e-82b6-feb382ae00d6"
      },
      "source": [
        "csv = \"2016,September,28,Data Processing,Tilburg University\"\n",
        "values = csv.split(',')\n",
        "for value in values:\n",
        "    print( value )"
      ],
      "execution_count": 32,
      "outputs": [
        {
          "output_type": "stream",
          "text": [
            "2016\n",
            "September\n",
            "28\n",
            "Data Processing\n",
            "Tilburg University\n"
          ],
          "name": "stdout"
        }
      ]
    },
    {
      "cell_type": "markdown",
      "metadata": {
        "id": "j9T_8QgaaSaE"
      },
      "source": [
        "### **10.6.6 join( )**\n",
        "join() is the opposite of split(). join() joins a list of words together, separated by a\n",
        "specific separator. This sounds like it would be a method of lists, but for historic reasons it is defined as a method for strings. Since all string methods are called using the format\n",
        "**\\<string>.\\<method>( )**, there must be a string in front of the call to join(). That string is\n",
        "the separator that you want to use, while the parameter of the method is the list that you\n",
        "want to join together. The return value, as always, is the resulting string."
      ]
    },
    {
      "cell_type": "code",
      "metadata": {
        "colab": {
          "base_uri": "https://localhost:8080/"
        },
        "id": "DYS68U3EagA7",
        "outputId": "0272a49b-b7c4-4f4a-f329-250e541d21cc"
      },
      "source": [
        "s = \"Humpty;Dumpty;sat;on;the;wall\"\n",
        "wordlist = s.split(';')\n",
        "s = \" \".join(wordlist)\n",
        "print(s)"
      ],
      "execution_count": 33,
      "outputs": [
        {
          "output_type": "stream",
          "text": [
            "Humpty Dumpty sat on the wall\n"
          ],
          "name": "stdout"
        }
      ]
    },
    {
      "cell_type": "markdown",
      "metadata": {
        "id": "oDxATfy7aqtz"
      },
      "source": [
        "## **10.7 Character encoding**\n",
        "All systems use a particular way of encoding characters. The basic encoding that (almost) every system supports is the standard ASCII code. This is a 7-bits code, which can\n",
        "represent 128 different characters. Several of these (in particular those with the lowestnumbered encodings) are control characters that have a special function. Most of these\n",
        "special functions are only useful for archaic computer systems, but the tabulation, newline, and backspace characters are found amongst them. If you only use characters on a\n",
        "standard US keyboard, you are limited to ASCII characters.\n",
        "Nowadays, many systems use Unicode. Unicode supports far more characters. There are\n",
        "different formats for storing characters in Unicode. The best-known is UTF-8, which uses\n",
        "one byte for each of the ASCII characters, but multiple bytes for all the other characters (a\n",
        "byte is a group of 8 bits, whereby each bit contains either a 1 or a zero). Other Unicode\n",
        "encodings use multiple bytes to store any character. Python, be default, works with UTF-8,\n",
        "which means that it also supports regular ASCII encodings."
      ]
    },
    {
      "cell_type": "markdown",
      "metadata": {
        "id": "OWwKYvEcbLO1"
      },
      "source": [
        "### 10.7.1 ASCII"
      ]
    },
    {
      "cell_type": "markdown",
      "metadata": {
        "id": "1CtWiQh2bZot"
      },
      "source": [
        "Below I display the ASCII table. The only characters I have left off are those which are\n",
        "control sequences. These have the numbers zero to 31, and 127. 32 is the space. I also display the hexadecimal code for each character next to the decimal code. (If you wonder\n",
        "why I even bother listing those hexadecimal codes: they become relevant in a later chapter.)\n",
        "As you can see, each character has a number attached to it. \n",
        "- To find out what a character’s\n",
        "number is in a program, you can use the **ord( )** function. For instance, **ord(\"A\")** returns\n",
        "the number of \"A\", which, as you can see, is 65. \n",
        "- The counterpart of the **ord( )** function is the\n",
        "chr() function. **chr( )** gets a number as argument, and returns the character that belongs\n",
        "to that number. For instance, **chr(65)** is the letter \"A\"."
      ]
    },
    {
      "cell_type": "markdown",
      "metadata": {
        "id": "MrMf_N1CcO5C"
      },
      "source": [
        "![屏幕快照 2020-11-29 19.54.47.png](data:image/png;base64,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)"
      ]
    },
    {
      "cell_type": "markdown",
      "metadata": {
        "id": "baBg4IImcmcp"
      },
      "source": [
        "---\n",
        "\n",
        "A comparison of strings which use only these characters use the numbers of the characters\n",
        "to determine which string is “smaller.” For instance, the string \"orange\" is smaller than\n",
        "the string \"ordinal\", because the first character that differs between them is the third one,\n",
        "which is \"a\" for \"orange\" and \"d\" for \"ordinal\", and since the number for \"a\" is lower\n",
        "than the number for \"d\", the string \"orange\" is considered to be smaller than the string\n",
        "\"ordinal\". This is, basically, an alphabetic comparison. If characters occur in a string that\n",
        "are not letters, you can check in the ASCII table which is considered lower. Notice how all\n",
        "the digits are lower than letters.\n",
        "\n",
        "---"
      ]
    },
    {
      "cell_type": "code",
      "metadata": {
        "colab": {
          "base_uri": "https://localhost:8080/"
        },
        "id": "GHnvukk0cSiI",
        "outputId": "e8d5f52f-1e29-41b7-83a9-2640eaf89188"
      },
      "source": [
        "print( ord( 'A' ) )\n",
        "print( ord( 'a' ) )\n",
        "print( chr( 65 ) )\n",
        "print( chr( 97 ) )\n",
        "print( \"orange\" < \"ordinal\" )"
      ],
      "execution_count": 35,
      "outputs": [
        {
          "output_type": "stream",
          "text": [
            "65\n",
            "97\n",
            "A\n",
            "a\n",
            "True\n"
          ],
          "name": "stdout"
        }
      ]
    },
    {
      "cell_type": "markdown",
      "metadata": {
        "id": "VVoC1Y-pc89h"
      },
      "source": [
        "You can use these numbers that are associated with characters to do all kinds of neat calculations. For instance, if I want to know which the twelfth letter after \"g\" is, I can calculate\n",
        "that as follows:"
      ]
    },
    {
      "cell_type": "code",
      "metadata": {
        "colab": {
          "base_uri": "https://localhost:8080/"
        },
        "id": "AIaAeYUra5Mm",
        "outputId": "f562a3ad-6b2d-40c6-bab8-eb850efaffe5"
      },
      "source": [
        "print(\"The 12th letter after g is\", chr(ord(\"g\")+12))"
      ],
      "execution_count": 37,
      "outputs": [
        {
          "output_type": "stream",
          "text": [
            "The 12th letter after g is s\n"
          ],
          "name": "stdout"
        }
      ]
    },
    {
      "cell_type": "markdown",
      "metadata": {
        "id": "T2V0FnkTdNVy"
      },
      "source": [
        "For another example of what you can do with character codes, here is a program that generates the ASCII table as a matrix:"
      ]
    },
    {
      "cell_type": "code",
      "metadata": {
        "colab": {
          "base_uri": "https://localhost:8080/"
        },
        "id": "minA5UaMdP8q",
        "outputId": "4f436e9b-bde6-4a6b-bea7-71f83b3273e3"
      },
      "source": [
        "print(' ' , end= ' ')\n",
        "for i in range(16):\n",
        "    if i < 10:\n",
        "        print(' ' +chr( ord('0')+i ), end= ' ')\n",
        "    else:\n",
        "        print(' ' +chr( ord('A')+i-10 ), end= ' ')\n",
        "print()\n",
        "\n",
        "for i in range(2, 8):\n",
        "    print( i, end= ' ' )\n",
        "    for j in range( 16 ):\n",
        "        c = i*16+j\n",
        "        print(' ' +chr(c), end= ' ')\n",
        "    print()"
      ],
      "execution_count": 39,
      "outputs": [
        {
          "output_type": "stream",
          "text": [
            "   0  1  2  3  4  5  6  7  8  9  A  B  C  D  E  F \n",
            "2     !  \"  #  $  %  &  '  (  )  *  +  ,  -  .  / \n",
            "3  0  1  2  3  4  5  6  7  8  9  :  ;  <  =  >  ? \n",
            "4  @  A  B  C  D  E  F  G  H  I  J  K  L  M  N  O \n",
            "5  P  Q  R  S  T  U  V  W  X  Y  Z  [  \\  ]  ^  _ \n",
            "6  `  a  b  c  d  e  f  g  h  i  j  k  l  m  n  o \n",
            "7  p  q  r  s  t  u  v  w  x  y  z  {  |  }  ~   \n"
          ],
          "name": "stdout"
        }
      ]
    },
    {
      "cell_type": "markdown",
      "metadata": {
        "id": "DYxiMCMOeFYu"
      },
      "source": [
        "Note that I highly prefer you using the ord() and chr() functions if you want to juggle\n",
        "character encoding. If you want to refer to the character code of the letter \"A\", do not\n",
        "write 65, but write ord(\"A\") instead. 65 is only meaningful to people who know ASCII\n",
        "encodings, and your programs should be meaningful to anybody. Moreover, while ASCII\n",
        "is a widely-used standard, there are still computers out there which use different encoding\n",
        "mechanisms, in which the code for \"A\" is not necessarily 65 (I am looking at you, IBM)."
      ]
    },
    {
      "cell_type": "markdown",
      "metadata": {
        "id": "iApXj3yveIME"
      },
      "source": [
        "### 10.7.2 UTF-8"
      ]
    },
    {
      "cell_type": "markdown",
      "metadata": {
        "id": "Fjlj2ooDeNIx"
      },
      "source": [
        "Python supports Unicode, in particular the most common Unicode encoding scheme UTF-8. This means that you can use all kinds of “weird” characters. I explained that in the\n",
        "naming of functions and variables you can use “letters,” which you probably assumed\n",
        "meant \"A\" to \"Z\" and \"a\" to \"z\". The funny thing is that it depends on the language codes\n",
        "of your computer what is considered a letter. For instance, if your computer tells Python\n",
        "that the language is German, then you can also use characters with umlauts. I strongly\n",
        "discourage using such letters in variable and function names, by the way. Not only are\n",
        "they hard to type, but they also make your program less portable."
      ]
    },
    {
      "cell_type": "markdown",
      "metadata": {
        "id": "a3NSn4VOec4z"
      },
      "source": [
        "In UTF-8, the regular characters which you find on a keyboard are represented in strings\n",
        "exactly as you would expect. However, “special” characters can be incorporated too, but\n",
        "look quite different. Since Python supports UTF-8, you have to be careful when you copy\n",
        "texts from, for instance, a word processor document. Word processors have the disturbing\n",
        "habit of changing characters into other characters, like turning straight quotes into round\n",
        "quotes. If you copy such round quotes into your program, Python will accept the characters, but will not interpret them as, for instance, string boundaries."
      ]
    },
    {
      "cell_type": "markdown",
      "metadata": {
        "id": "c6hGDywpeefe"
      },
      "source": [
        "f you want to display Unicode characters, you can do so by using Unicode encodings. You\n",
        "have to know the UTF-8 number of the character that you want to display. If you know\n",
        "that, you can use a code \\uxxxx, where xxxx is a hexadecimal number, to incorporate a\n",
        "Unicode character in a string. For example, the code below displays the capitals of the\n",
        "Greek alphabet:"
      ]
    },
    {
      "cell_type": "code",
      "metadata": {
        "colab": {
          "base_uri": "https://localhost:8080/"
        },
        "id": "vXQRM4Eiekew",
        "outputId": "0e3a579c-5736-4353-9ada-88949af0a5a7"
      },
      "source": [
        "alpha = \"\\u0391\"\n",
        "for i in range( 25 ):\n",
        "    print( chr( ord( alpha )+i ), end=\" \" )"
      ],
      "execution_count": 40,
      "outputs": [
        {
          "output_type": "stream",
          "text": [
            "Α Β Γ Δ Ε Ζ Η Θ Ι Κ Λ Μ Ν Ξ Ο Π Ρ ΢ Σ Τ Υ Φ Χ Ψ Ω "
          ],
          "name": "stdout"
        }
      ]
    },
    {
      "cell_type": "markdown",
      "metadata": {
        "id": "Ef3op2i9eslG"
      },
      "source": [
        "In general, you will not need to worry too much about character encodings. I recommend\n",
        "that you restrict yourself to ASCII whenever possible. In cases where you have to deal\n",
        "with Unicode characters, things usually work correctly automatically, since the standard\n",
        "Python functionalities support Unicode. Occasionally I have run into translation problems\n",
        "from Unicode to ASCII, in particular where files were concerned. It will be a while before\n",
        "you run into problems like that, and I will bring it up again in Chapter 16 and later."
      ]
    }
  ]
}