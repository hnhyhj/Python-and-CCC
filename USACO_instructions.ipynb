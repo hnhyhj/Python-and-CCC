{
  "nbformat": 4,
  "nbformat_minor": 0,
  "metadata": {
    "colab": {
      "name": "USACO instructions.ipynb",
      "provenance": [],
      "authorship_tag": "ABX9TyMfqOdqtIqemWQXSsthO6ab",
      "include_colab_link": true
    },
    "kernelspec": {
      "name": "python3",
      "display_name": "Python 3"
    }
  },
  "cells": [
    {
      "cell_type": "markdown",
      "metadata": {
        "id": "view-in-github",
        "colab_type": "text"
      },
      "source": [
        "<a href=\"https://colab.research.google.com/github/hnhyhj/Python-and-CCC/blob/master/USACO_instructions.ipynb\" target=\"_parent\"><img src=\"https://colab.research.google.com/assets/colab-badge.svg\" alt=\"Open In Colab\"/></a>"
      ]
    },
    {
      "cell_type": "markdown",
      "metadata": {
        "id": "hNE9YQvQ-WvO"
      },
      "source": [
        "# USACO HOWTO"
      ]
    },
    {
      "cell_type": "markdown",
      "metadata": {
        "id": "0Ib1iCeb-dhN"
      },
      "source": [
        "## 1 Contest Instructions and Rules\n",
        "\n",
        "[FULL TEXT](http://www.usaco.org/index.php?page=instructions)"
      ]
    },
    {
      "cell_type": "markdown",
      "metadata": {
        "id": "xm76zEex-1ay"
      },
      "source": [
        "## 2 Contest Format\n",
        "When you submit a program, it will be run against a number of judging test cases and for each one, you will receive feedback, shown in a colored box: green for correct, and red for incorrect. Incorrect submissions are further differentiated by the type of problem: \n",
        "- X (incorrect answer), T (time limit exceeded), \n",
        "- ! (run-time error or memory limit exceeded), \n",
        "- E (empty output file), or \n",
        "- M (missing output file). \n",
        "\n",
        "If your program fails to compile, you will be shown the error messages from the compiler. The first test case is typically the same as the sample case described in the problem statement, and you need to solve it correctly before you are given feedback on the remaining cases (which are not revealed during the contest, even though you receive feedback on whether you solved them or not). The judges reserve the right to add or remove test cases after the end of the contest, so it is still worthwhile to test your program even if it passes all of the cases during the contest."
      ]
    },
    {
      "cell_type": "markdown",
      "metadata": {
        "id": "dbDRxwVv-_5-"
      },
      "source": [
        "If you achieve a perfect score during a contest, you qualify for an **\"in contest\" promotion**; otherwise, promotions will be granted after a contest ends to all participants with scores above the promotion threshold for that contest. \n",
        "\n",
        "If you receive an in-contest promotion, you will be able to start working on the next contest any time within the larger contest window, and with a full timer; that is, time you spent on the earlier contest does not count against the time you will have to solve the next contest.\n",
        "\n"
      ]
    },
    {
      "cell_type": "markdown",
      "metadata": {
        "id": "-X1wDpO__eoT"
      },
      "source": [
        "## 3 Contest Conduct and Academic Integrity\n",
        "\n",
        "- Work by yourself, not in a team environment.\n",
        "Consultation about the contest problems with people other than the contest director is prohibited.\n",
        "- Do not share any technical information or code pertaining to a contest while it is actively running.\n",
        "- The USACO contest environment is meant to mimic the environment at the International Olympiad in Informatics, where all code must be written from scratch, and the only references you may consult are those describing syntax or library functions of your programming language. You may therefore NOT use pre-written code or \"templates\" to get a head start on your coding, and you may not consult resources other than those that provide information about basic functionality of your programming language (e.g., syntax, library functions, input / output, etc.). (Note that this particular rule has been updated (as of December 2020) to be more clear and slightly more strict than in the past, so do not worry if on past contests you did not adhere to this rule precisely as written above).\n",
        "- Do not use two login IDs in order to participate in more than one division. Do not use another login ID to read the problems, to circumvent the contest time limits.\n",
        "- Do not submit any code that behaves in a malicious way towards the grading machine (i.e., do not try to open network connections, intentially slow down the grading machine, etc.). The judging environment monitors activities and system calls to prevent forbidden actions. Submission of code must be done via the interface on the usaco.org website (i.e., by selecting your file and clicking \"submit solution\"); attempts to submit via other means (e.g., scripts that attempt to automate this process) are NOT permitted."
      ]
    },
    {
      "cell_type": "markdown",
      "metadata": {
        "id": "FB6Uche4_SKW"
      },
      "source": [
        "## 4 General Technical Details\n",
        "\n",
        "- Some programs --- specifically, solutions of most tasks **prior to the December 2020 contest** --- will read their input from a file named in the problem statement (e.g., 'cow.in'). If you are using file input, do not specify a complete path name in your 'open' statement, just 'cow.in'. Note that filenames are case-sensitive. If the problem says 'cow.in' then you must use 'cow.in' since 'CoW.In' and 'COW.IN' will not work. Some programs write their output to a file named in the problem statement (e.g., 'cow.out'); do not specify a path name in your 'open' statement, just 'cow.out'. Like the input filenames, output filenames are case-sensitive. If a problem uses file input / output, then output written to stdout or stderr will not be graded. \n",
        "\n",
        "- Note that **as of the December 2020 contest**, input and output is being switched from file-based to terminal-based, using standard input and standard output. The input and output spec of a problem will specify which mode is being used."
      ]
    },
    {
      "cell_type": "markdown",
      "metadata": {
        "id": "OTQrYKbvBOxX"
      },
      "source": [
        "### 4.1 file-based\n",
        "\n",
        "\n",
        "\n",
        "```\n",
        "fin = open('cow.in', 'r')\n",
        "fout = open('cow.out', 'w')\n",
        "\n",
        "data = fin.read().split('\\n')\n",
        "\n",
        "......\n",
        "......\n",
        "\n",
        "fout.write(str(cow)) # cast cow into a string\n",
        "\n",
        "fin.close()\n",
        "fout.close()\n",
        "\n",
        "```\n",
        "\n"
      ]
    },
    {
      "cell_type": "markdown",
      "metadata": {
        "id": "SPLlbqdfB7Ua"
      },
      "source": [
        "### 4.2 terminal-based\n",
        "\n",
        "\n",
        "\n",
        "\n",
        "```\n",
        "import sys\n",
        "data = sys.stdin.read().split('\\n')\n",
        "\n",
        "\n",
        "......\n",
        "......\n",
        "\n",
        "\n",
        "print(cow)\n",
        "\n",
        "```\n",
        "\n"
      ]
    },
    {
      "cell_type": "markdown",
      "metadata": {
        "id": "bkoJTFy6CpbC"
      },
      "source": [
        "\n",
        "\n",
        "```\n",
        "import sys\n",
        "input = sys.stdin. readline\n",
        "\n",
        "data1 = input\n",
        "data2 = input\n",
        "...\n",
        "\n",
        "\n",
        "......\n",
        "......\n",
        "\n",
        "\n",
        "print(cow)\n",
        "\n",
        "```\n",
        "\n"
      ]
    }
  ]
}