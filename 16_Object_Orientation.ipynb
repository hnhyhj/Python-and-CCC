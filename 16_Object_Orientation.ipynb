{
  "nbformat": 4,
  "nbformat_minor": 0,
  "metadata": {
    "colab": {
      "name": "16 Object Orientation.ipynb",
      "provenance": [],
      "authorship_tag": "ABX9TyOzw/Vv+EfDjwQ5gOTJ6H92",
      "include_colab_link": true
    },
    "kernelspec": {
      "name": "python3",
      "display_name": "Python 3"
    }
  },
  "cells": [
    {
      "cell_type": "markdown",
      "metadata": {
        "id": "view-in-github",
        "colab_type": "text"
      },
      "source": [
        "<a href=\"https://colab.research.google.com/github/hnhyhj/Python-and-CCC/blob/master/16_Object_Orientation.ipynb\" target=\"_parent\"><img src=\"https://colab.research.google.com/assets/colab-badge.svg\" alt=\"Open In Colab\"/></a>"
      ]
    },
    {
      "cell_type": "markdown",
      "metadata": {
        "id": "ZolIhph5SlOc"
      },
      "source": [
        "# **Chapter 16**\n",
        "# **Object Orientation**"
      ]
    },
    {
      "cell_type": "markdown",
      "metadata": {
        "id": "_TAxxCNPVYvr"
      },
      "source": [
        "The chapters until this point covered an approach to programming that is often referred to\n",
        "as “structured programming” or “imperative programming,” wherein a program is considered a sequence of statements, decisions, and loops. You can solve any programming\n",
        "problem with a structured programming approach. However, in the last decades several\n",
        "other programming “paradigms” have been coined up, which help designing and implementing large-scale programs. One of the most successful paradigms is “object orientation,” and most modern programming languages support the object oriented paradigm.\n",
        "Python is, in fact, an object oriented language."
      ]
    },
    {
      "cell_type": "markdown",
      "metadata": {
        "id": "-QJoCPO8VhN3"
      },
      "source": [
        "While object orientation tends to provide a natural way to look at problems and solutions,\n",
        "designing an object oriented program can be quite hard. The reason that it is hard, is that\n",
        "you have to really think about your approach to a problem in all of its aspects, before\n",
        "you start coding. For bigger problems, this can be daunting, especially when you lack\n",
        "experience with programming. However, for bigger problems you have to spend a lot\n",
        "of time designing your solution anyway, and an object oriented approach may be quite\n",
        "helpful in creating it. Moreover, you will find that most modules provide object oriented\n",
        "implementations, and that object orientation can be helpful for many smaller problems too."
      ]
    },
    {
      "cell_type": "markdown",
      "metadata": {
        "id": "4TfcbXhrSwVw"
      },
      "source": [
        "## 16.1 The object oriented world"
      ]
    },
    {
      "cell_type": "code",
      "metadata": {
        "id": "HUSLut8iSkcm"
      },
      "source": [
        ""
      ],
      "execution_count": null,
      "outputs": []
    }
  ]
}