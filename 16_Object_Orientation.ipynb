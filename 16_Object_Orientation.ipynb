{
  "nbformat": 4,
  "nbformat_minor": 0,
  "metadata": {
    "colab": {
      "name": "16 Object Orientation.ipynb",
      "provenance": [],
      "authorship_tag": "ABX9TyPDiWt3nxGgHiB0XLKB70Nv",
      "include_colab_link": true
    },
    "kernelspec": {
      "name": "python3",
      "display_name": "Python 3"
    }
  },
  "cells": [
    {
      "cell_type": "markdown",
      "metadata": {
        "id": "view-in-github",
        "colab_type": "text"
      },
      "source": [
        "<a href=\"https://colab.research.google.com/github/hnhyhj/Python-and-CCC/blob/master/16_Object_Orientation.ipynb\" target=\"_parent\"><img src=\"https://colab.research.google.com/assets/colab-badge.svg\" alt=\"Open In Colab\"/></a>"
      ]
    },
    {
      "cell_type": "markdown",
      "metadata": {
        "id": "ZolIhph5SlOc"
      },
      "source": [
        "# **Chapter 16**\n",
        "# **Object Orientation**"
      ]
    },
    {
      "cell_type": "markdown",
      "metadata": {
        "id": "_TAxxCNPVYvr"
      },
      "source": [
        "The chapters until this point covered an approach to programming that is often referred to\n",
        "as “structured programming” or “imperative programming,” wherein a program is considered a sequence of statements, decisions, and loops. You can solve any programming\n",
        "problem with a structured programming approach. However, in the last decades several\n",
        "other programming “paradigms” have been coined up, which help designing and implementing large-scale programs. One of the most successful paradigms is “object orientation,” and most modern programming languages support the object oriented paradigm.\n",
        "Python is, in fact, an object oriented language."
      ]
    },
    {
      "cell_type": "markdown",
      "metadata": {
        "id": "-QJoCPO8VhN3"
      },
      "source": [
        "While object orientation tends to provide a natural way to look at problems and solutions,\n",
        "designing an object oriented program can be quite hard. The reason that it is hard, is that\n",
        "you have to really think about your approach to a problem in all of its aspects, before\n",
        "you start coding. For bigger problems, this can be daunting, especially when you lack\n",
        "experience with programming. However, for bigger problems you have to spend a lot\n",
        "of time designing your solution anyway, and an object oriented approach may be quite\n",
        "helpful in creating it. Moreover, you will find that most modules provide object oriented\n",
        "implementations, and that object orientation can be helpful for many smaller problems too."
      ]
    },
    {
      "cell_type": "markdown",
      "metadata": {
        "id": "4TfcbXhrSwVw"
      },
      "source": [
        "## 16.1 The **object oriented** world (**OO**)"
      ]
    },
    {
      "cell_type": "markdown",
      "metadata": {
        "id": "AsIJfSjMOCBF"
      },
      "source": [
        "### 16.1.1 This world is object oriented"
      ]
    },
    {
      "cell_type": "markdown",
      "metadata": {
        "id": "AXAkeJWYJBlR"
      },
      "source": [
        "Supposed, I am sitting at my kitchen table. Next to me is a bowl of fruit.\n",
        "There are some apples in the bowl. While these apples share certain features, they have\n",
        "their differences too. They share their name, their price, and their age, but they all have\n",
        "(slightly) different weights. There are also some oranges in the bowl. Like the apples, they\n",
        "are fruits, but they have a lot of differences with apples: different names, different colors,\n",
        "different trees that they grow from. Still, they share some things with apples that all fruits\n",
        "share, and make them different from, for instance, the table I am sitting at. I can eat a fruit,\n",
        "i.e., I can eat apples and I can eat oranges. I am not going to try to eat a table."
      ]
    },
    {
      "cell_type": "markdown",
      "metadata": {
        "id": "E_AEjXNOJ2yj"
      },
      "source": [
        "When I try to model my world in a computer program, I have to model objects: objects such as apples, oranges, and tables. Some of these objects have a lot in common, for instance, each apple shares a lot of features with every other apple. It behooves me to define a class “apple” which contains the features that all apples share, and only fill in the few features in which apples differ from each other for each individual apple object. The same holds for\n",
        "oranges, they should get their own class “orange.” And while “apples” and “oranges” are quite different, they still share some features that entail that I would like to put them in the same class: the class “fruit.” Every object that belongs to the class “fruit” at least has the property that I can eat it. Which means that each individual apple object not only belongs to the class “apple,” but also belongs to the class “fruit” – just like the “oranges.”\n",
        "\n",
        "Come to think of it: I can eat more things than only apples and oranges. I can eat cakes too. And mushrooms. And bread. And licorice. So maybe I need another class, which the class “fruit” also belongs to. The class “food,” perhaps?\n",
        "\n",
        "What this leads to, is that if I try to model the world, or part of the world, I need to model objects – and rather than modeling each separate object, I am better off defining classes of objects, as that means I can make statements about certain groups of objects in general. I can talk about the relationships between classes, and I can define functions that work on classes; for instance, I can define a functionality “eat” that works on every object that is part\n",
        "of the class “food,” which removes the object from the world and assigns its “nutrients” to the object that does the “eating.” Since I can “eat” objects that belong to the class “food,” I can eat “fruit.” And since I can eat “fruit,” I can eat any “apple” object.\n",
        "\n",
        "A computer program is, in essence, a model of a part of the world. As such, there are many programs that benefit from the ability to deal with objects, classes, relationships, and functionalities (methods) that work on objects."
      ]
    },
    {
      "cell_type": "markdown",
      "metadata": {
        "id": "kqUPc02nJD6-"
      },
      "source": [
        "In the object oriented world, every distinguishable entity belongs to a “class.” A class is a\n",
        "general model for a specific group of entities. It describes all the attributes that these entities have, and it describes the methods that the class offers the outside world to influence it.\n",
        "\n",
        "A class, by itself, is not an entity. An entity that belongs to the class, is an “object.” The\n",
        "terminology is that an object is an “instance” of a particular class. While the class describes\n",
        "its attributes, an object that is an instance of the class has values for these attributes. While\n",
        "the class describes the methods that it supports, to execute such a method one needs an\n",
        "object that is an instance of the class to call the method with.\n",
        "\n",
        "A class is a data type, an object is a value."
      ]
    },
    {
      "cell_type": "markdown",
      "metadata": {
        "id": "kA0kNYcALM7C"
      },
      "source": [
        "Classes may exist in hierarchies. A general, high-level class may describe properties and methods that are shared by different subclasses. Each subclass may add properties, add methods, and even change properties and methods (though in general cannot – and should not – completely remove them). Each subclass may have further subclasses.\n",
        "\n",
        "For instance, the class Apple may be a subclass of the class Fruit, which may be a subclass of the class Food. This means that where in a program an object of the class Food is needed, you can supply an object that is an instance of the class Food, but also an object that is an instance of the class Fruit, or an object that is an instance of the class Apple. This does not work the other way around, though. When, for instance, a function in a program was designed for instances of Apple, you cannot use it with instances of Fruit, or other\n",
        "subclasses of Fruit. While an Apple is Fruit, Fruit is not an Apple, and Apples aren’t Oranges.\n",
        "\n",
        "Such a hierarchy is implemented using “inheritance,” which will be covered later."
      ]
    },
    {
      "cell_type": "markdown",
      "metadata": {
        "id": "9PV8AcYrNM2z"
      },
      "source": [
        "### 16.1.2 Classes and data types in Python\n",
        "\n",
        "Most object oriented programming languages have some basic data types, and allow you to create classes, i.e., new data types. This was the case for Python up to Python 2. Since Python 3, every data type is a class.\n",
        "\n",
        "You can recognize some of this by the way that many functionalities of the basic data types are implemented as methods. Remember that a method is always called as $<variable>.<method>()$, contrary to functions that work on a variable, which are called as $<function>(<variable>)$. The fact that when you want to create a lower case version of a string, you effectuate that as $<string>.lower()$ already indicates that the string is an instance of a class.\n",
        "\n",
        "But not only strings are class instances: integers and floats are too. They even have methods, though these are seldom used explicitly. Some methods are used implicitly, e.g., when you add two numbers together with $+$, that is actually a method call. This will be discussed later."
      ]
    },
    {
      "cell_type": "markdown",
      "metadata": {
        "id": "JS0WS5taMv2g"
      },
      "source": [
        "## 16.2 Classes and objects\n",
        "\n",
        "Now the basic philosophies of object orientation are out of the way, I am going to discuss how to use object orientation in Python. It starts with creating new classes using the keyword **class**."
      ]
    },
    {
      "cell_type": "markdown",
      "metadata": {
        "id": "cFuR0cx9NHYz"
      },
      "source": [
        "### 16.2.1 Class"
      ]
    },
    {
      "cell_type": "markdown",
      "metadata": {
        "id": "fF3egd7tO5i4"
      },
      "source": [
        "A class can be considered a new data type. Once a class is created, you can assign instances\n",
        "of the class to variables. To start simple, I am going to create a class that represents a\n",
        "point in 2D space. I name this class Point (the naming of classes is restricted to the same\n",
        "requirements as the naming of variables, and it is convention to let the names of classes\n",
        "start with a capital). Creating this class in Python is incredibly easy:"
      ]
    },
    {
      "cell_type": "code",
      "metadata": {
        "id": "HUSLut8iSkcm"
      },
      "source": [
        "class Point:\n",
        "    pass"
      ],
      "execution_count": 2,
      "outputs": []
    },
    {
      "cell_type": "markdown",
      "metadata": {
        "id": "M8E5nUQ7Pv2u"
      },
      "source": [
        "The keyword pass in the class definition means “do nothing.” This keyword can be used\n",
        "wherever you need to place a statement, but you have nothing yet to place there. You\n",
        "cannot just leave it empty or give a comment and nothing else. But as soon as statements\n",
        "are added, you no longer need pass."
      ]
    },
    {
      "cell_type": "markdown",
      "metadata": {
        "id": "czO5jqtgPyWw"
      },
      "source": [
        "To create an object that is an instance of the class, I assign to a variable the name of the\n",
        "class, with parentheses after it, as if it is a function call (you can have arguments between\n",
        "the parenthesis, which will be discussed a bit later in this chapter)."
      ]
    },
    {
      "cell_type": "code",
      "metadata": {
        "colab": {
          "base_uri": "https://localhost:8080/"
        },
        "id": "K81JqTERP1Fi",
        "outputId": "04f95da3-f2b1-4bea-f00b-3eb9fab4a8f3"
      },
      "source": [
        "p = Point()\n",
        "print(type(p))"
      ],
      "execution_count": 4,
      "outputs": [
        {
          "output_type": "stream",
          "text": [
            "<class '__main__.Point'>\n"
          ],
          "name": "stdout"
        }
      ]
    },
    {
      "cell_type": "markdown",
      "metadata": {
        "id": "I6WQToRXQJRK"
      },
      "source": [
        "Of course, a point is more than just an object. A point has an $x$ and a $y$ coordinate. Since\n",
        "Python is a soft-typed language, you need to assign values to attributes to create them.\n",
        "This is done in a special initialization method in the class."
      ]
    },
    {
      "cell_type": "markdown",
      "metadata": {
        "id": "t3vtl6gsqlDH"
      },
      "source": [
        "### 16.2.2 \\_\\_init\\_\\_( )"
      ]
    },
    {
      "cell_type": "markdown",
      "metadata": {
        "id": "4s4f-goEzA7a"
      },
      "source": [
        "![屏幕快照 2021-03-16 22.27.49.png](data:image/png;base64,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)"
      ]
    },
    {
      "cell_type": "markdown",
      "metadata": {
        "id": "6tIa0GhjrN2X"
      },
      "source": [
        "The initialization method of a class has the name \\_\\_init\\_\\_ (that’s two underscores, followed by the word init, followed by two more underscores). Even if the \\_\\_init\\_\\_( ) method is not defined explicitly for the class, it still exists. You use the \\_\\_init\\_\\_( ) method to initialize everything that you want to initialize upon creation of an instance of the class.\n",
        "\n",
        "In the case of Point, \\_\\_init\\_\\_( ) should assure that any Point object has an $x$ and a $y$ coordinate. This is implemented as follows:"
      ]
    },
    {
      "cell_type": "code",
      "metadata": {
        "id": "kLVQfX3yrxe6",
        "colab": {
          "base_uri": "https://localhost:8080/"
        },
        "outputId": "117c492e-e059-4b42-ec7f-48c8e1d89a53"
      },
      "source": [
        "class Point:\n",
        "    def __init__(self, x, y):\n",
        "        self.lat = x\n",
        "        self.lon = y\n",
        "\n",
        "p = Point(0.0, 0.0)\n",
        "\n",
        "print(f'({p.lat}, {p.lon})')"
      ],
      "execution_count": null,
      "outputs": [
        {
          "output_type": "stream",
          "text": [
            "(0.0, 0.0)\n"
          ],
          "name": "stdout"
        }
      ]
    },
    {
      "cell_type": "markdown",
      "metadata": {
        "id": "WnI4DqPlq2wH"
      },
      "source": [
        "Study the code above closely. You see that \\_\\_init\\_\\_( ) is defined just as you would define a function, inside the class definition.\n",
        "\n",
        "\\_\\_init\\_\\_( ) gets a parameter called self. Every method that you define, always gets at least one parameter, which will get filled with a reference to the object for which the method is called. By convention, this first parameter is always called self. That is not mandatory, but everybody always does it like this. If you forget to include that first parameter, you will get a runtime error. If you forget to include the first parameter self but you do have other parameters, Python will fill the first of the parameters that you do list with a reference to the object, and you will probably also get a runtime error (as you did not expect that that would happen).\n",
        "\n"
      ]
    },
    {
      "cell_type": "markdown",
      "metadata": {
        "id": "mbkYk1tGvvq-"
      },
      "source": [
        "### Attributes\n",
        "In the \\_\\_init\\_\\_( ) method for Point, the object that is created gets two **attributes**, which are variables that are part of the object. They are called $x$ and $y$, and since they are part of the object, you refer to them as **self.x** and **self.y**. They both get initial value 0.0, which makes them floats."
      ]
    },
    {
      "cell_type": "markdown",
      "metadata": {
        "id": "jCfEpdVdz4Jz"
      },
      "source": [
        "<font size=4> Terminology<font>\n",
        "- A variable stored in an instance or class is called an [attribute](https://docs.python.org/3/glossary.html#term-attribute).\n",
        "- A function stored in an instance or class is called a [method](https://docs.python.org/3/glossary.html#term-method)."
      ]
    },
    {
      "cell_type": "markdown",
      "metadata": {
        "id": "cftaqrJijkOh"
      },
      "source": [
        "### 16.2.3 Magic methods"
      ]
    },
    {
      "cell_type": "markdown",
      "metadata": {
        "id": "Horhy9sUp6tv"
      },
      "source": [
        "Magic methods in Python are the special methods that start and end with the double underscores. They are also called dunder methods. Magic methods are not meant to be invoked directly by you, but the invocation happens internally from the class on a certain action. For example, when you add two numbers using the + operator, internally, the \\_\\_add\\_\\_( ) method will be called.\n",
        "\n",
        "Built-in classes in Python define many magic methods. Use the $dir()$ function to see the number of magic methods inherited by a class. For example, the following lists all the attributes and methods defined in the $int$ class."
      ]
    },
    {
      "cell_type": "code",
      "metadata": {
        "id": "Oismzv00qrII",
        "colab": {
          "base_uri": "https://localhost:8080/"
        },
        "outputId": "10eef063-46b8-4d26-fb15-5dcea44f2b54"
      },
      "source": [
        "dir(Point) # Magic methods of Point"
      ],
      "execution_count": 3,
      "outputs": [
        {
          "output_type": "execute_result",
          "data": {
            "text/plain": [
              "['__class__',\n",
              " '__delattr__',\n",
              " '__dict__',\n",
              " '__dir__',\n",
              " '__doc__',\n",
              " '__eq__',\n",
              " '__format__',\n",
              " '__ge__',\n",
              " '__getattribute__',\n",
              " '__gt__',\n",
              " '__hash__',\n",
              " '__init__',\n",
              " '__init_subclass__',\n",
              " '__le__',\n",
              " '__lt__',\n",
              " '__module__',\n",
              " '__ne__',\n",
              " '__new__',\n",
              " '__reduce__',\n",
              " '__reduce_ex__',\n",
              " '__repr__',\n",
              " '__setattr__',\n",
              " '__sizeof__',\n",
              " '__str__',\n",
              " '__subclasshook__',\n",
              " '__weakref__']"
            ]
          },
          "metadata": {
            "tags": []
          },
          "execution_count": 3
        }
      ]
    },
    {
      "cell_type": "code",
      "metadata": {
        "id": "352p0XrEqCJI"
      },
      "source": [
        "dir(int)"
      ],
      "execution_count": null,
      "outputs": []
    },
    {
      "cell_type": "markdown",
      "metadata": {
        "id": "TxSgaoyLqZp9"
      },
      "source": [
        "It is good practice to create all the attributes that you need exclusively in the $__init__()$ method (though you can change their values elsewhere), so that you know that every instance of the class has them, and no instances have more."
      ]
    },
    {
      "cell_type": "markdown",
      "metadata": {
        "id": "li1Jq7klyk8Q"
      },
      "source": [
        "If you do need a version of the class with extra attributes, you can use “inheritance” to create new classes based on existing ones, which do have these extra attributes. Inheritance will be discussed in a later chapter. For now, make sure that you create classes with all their attributes defined in the $__init__()$ method."
      ]
    },
    {
      "cell_type": "markdown",
      "metadata": {
        "id": "v_kjRwJk0fTC"
      },
      "source": [
        "### 16.2.4 $\\_\\_repr\\_\\_()$  and  $\\_\\_str\\_\\_()$"
      ]
    },
    {
      "cell_type": "markdown",
      "metadata": {
        "id": "lTJejaSy05i2"
      },
      "source": [
        "In the code above, I print the point attributes. What happens if I try to print the point itself?"
      ]
    },
    {
      "cell_type": "code",
      "metadata": {
        "colab": {
          "base_uri": "https://localhost:8080/"
        },
        "id": "GIrtumY2yyda",
        "outputId": "c5e81546-dc0f-483f-d210-07739cbfc245"
      },
      "source": [
        "class Point:\n",
        "    def __init__( self , x=0.0, y=0.0 ):\n",
        "        self.x = x\n",
        "        self.y = y\n",
        "\n",
        "p = Point( 3.5, 5.0 )\n",
        "print(p)"
      ],
      "execution_count": 1,
      "outputs": [
        {
          "output_type": "stream",
          "text": [
            "<__main__.Point object at 0x7fc4236e9c10>\n"
          ],
          "name": "stdout"
        }
      ]
    },
    {
      "cell_type": "markdown",
      "metadata": {
        "id": "lDCpD1XIzyAH"
      },
      "source": [
        "Try it, and you will agree that the result is not very informative. When I print a point,\n",
        "I want to see the coordinates. Python offers another predefined(magic) method for that, which is \\_\\_repr\\_\\_( ). \\_\\_repr\\_\\_( ) should return a string, which contains what you want to see when an object is displayed."
      ]
    },
    {
      "cell_type": "code",
      "metadata": {
        "colab": {
          "base_uri": "https://localhost:8080/"
        },
        "id": "FHr8KgjD0Csq",
        "outputId": "c67c675a-d03f-4eb8-e405-b9117d28f514"
      },
      "source": [
        "class Point:\n",
        "    def __init__( self , x=0.0, y=0.0 ):\n",
        "        self.x = x\n",
        "        self.y = y\n",
        "    def __repr__( self ):\n",
        "        return f\"({self.x}, {self.y})\"\n",
        "\n",
        "p = Point( 3.5, 5.0 )\n",
        "print( p )"
      ],
      "execution_count": 2,
      "outputs": [
        {
          "output_type": "stream",
          "text": [
            "(3.5, 5.0)\n"
          ],
          "name": "stdout"
        }
      ]
    },
    {
      "cell_type": "markdown",
      "metadata": {
        "id": "JdolJGEx1G-N"
      },
      "source": [
        "That looks much better.\n",
        "\n",
        "Python offers yet another standard method for creating a string version of an object, namely \\_\\_str\\_\\_(). \\_\\_str\\_\\_() is the same as \\_\\_repr\\_\\_(), but it is only used when the object is being printed or passed to a format() method. If \\_\\_str\\_\\_() is not defined, it is the same as \\_\\_repr\\_\\_() (but not vice versa). If \\_\\_str\\_\\_() is defined, you can ensure that something different is shown when print() is used, than what is shown in other places.\n",
        "\n",
        "You now might think: “what other places?” The main “other place” where objects are displayed is in the command shell, when you just type the name of the variable that contains an object.\n",
        "\n",
        "It is commonly understood that in the \\_\\_repr\\_\\_() method you are supposed to return a string that contains each and every bit of information that is needed to recreate an object, while in \\_\\_str\\_\\_() you can just return a string that contains a nicely formatted representation of the most important information that you want to see in the program. Very often, these two are the same.\n",
        "\n",
        "Many programmers ignore \\_\\_repr\\_\\_() altogether and only define \\_\\_str\\_\\_(). I think this is the wrong way around: you should always define \\_\\_repr\\_\\_(), while \\_\\_str\\_\\_() is optional. If you use \\_\\_repr\\_\\_(), make sure that you indeed return all details of an object. If you leave things out, it is better to just use \\_\\_str\\_\\_()."
      ]
    },
    {
      "cell_type": "markdown",
      "metadata": {
        "id": "dp6klBaMAqfk"
      },
      "source": [
        "### 16.2.5 Methods"
      ]
    },
    {
      "cell_type": "markdown",
      "metadata": {
        "id": "Fa8q6952Avks"
      },
      "source": [
        "I already introduced to you the three methods \\_\\_init\\_\\_(), \\_\\_repr\\_\\_(), and \\_\\_str\\_\\_().\n",
        "These are predefined methods that every class has. As they were defined by the Python\n",
        "developers, they have the eccentric names that start and end with a double underscore.\n",
        "There are several more of such methods, which I will discuss in later chapters.\n",
        "\n",
        "You can also define your own methods for a class. Such methods get names similar to\n",
        "names you give to functions, and tend to follow the same conventions: starting with a\n",
        "lower case letter, and if there are different words either have underscores between them or\n",
        "capitalize the first letter of the second and later words. The prefix is is used for methods\n",
        "that provide a True/False statement about the object, the prefix get is used to get a value\n",
        "from an object, and the prefix set is used to set a value for an object."
      ]
    },
    {
      "cell_type": "markdown",
      "metadata": {
        "id": "SMiEX1s2BBr2"
      },
      "source": [
        "For instance, for a point I can create a method $distance\\_from\\_origin()$, which calculates the distance from the point $(0,0)$ to the given point."
      ]
    },
    {
      "cell_type": "code",
      "metadata": {
        "colab": {
          "base_uri": "https://localhost:8080/"
        },
        "id": "u6qrjKvGBYsI",
        "outputId": "5128c109-68c1-4044-f841-de65364cb3a0"
      },
      "source": [
        "from math import sqrt\n",
        "\n",
        "class Point:\n",
        "    def __init__(self, x=0.0, y=0.0):\n",
        "        self.x = x\n",
        "        self.y = y\n",
        "    def __repr__(self):\n",
        "        return f\"({self.x}, {self.y})\"\n",
        "    def distance_from_origin( self ):\n",
        "        return sqrt(self.x* self.x + self.y* self.y)\n",
        "\n",
        "p = Point(3.5, 5.0)\n",
        "print(p.distance_from_origin())"
      ],
      "execution_count": 5,
      "outputs": [
        {
          "output_type": "stream",
          "text": [
            "6.103277807866851\n"
          ],
          "name": "stdout"
        }
      ]
    },
    {
      "cell_type": "markdown",
      "metadata": {
        "id": "8YWMGMooBohC"
      },
      "source": [
        "You may also create methods that change the object in some way. For instance, the “translation” of points over a distance is defined as a specific shift in the horizontal and in the vertical direction. A method $translate()$ gets two arguments (beyond the self reference), which are the horizontal and vertical shifts."
      ]
    },
    {
      "cell_type": "code",
      "metadata": {
        "colab": {
          "base_uri": "https://localhost:8080/"
        },
        "id": "jH03PGQqBx_v",
        "outputId": "1bee60c1-6c6e-4c1b-b0fe-4e34fe775dd9"
      },
      "source": [
        "from math import sqrt\n",
        "\n",
        "class Point:\n",
        "    def __init__(self, x=0.0, y=0.0):\n",
        "        self.x = x\n",
        "        self.y = y\n",
        "    def __repr__(self):\n",
        "        return f\"({self.x}, {self.y})\"\n",
        "    def translate(self , shift_x , shift_y):\n",
        "        self.x += shift_x\n",
        "        self.y += shift_y\n",
        "\n",
        "p = Point(3.5, 5.0)\n",
        "p.translate(-3, 7)\n",
        "print(p)"
      ],
      "execution_count": 4,
      "outputs": [
        {
          "output_type": "stream",
          "text": [
            "(0.5, 12.0)\n"
          ],
          "name": "stdout"
        }
      ]
    },
    {
      "cell_type": "markdown",
      "metadata": {
        "id": "t7FB2E3ODK_R"
      },
      "source": [
        "### 12.6 Copies and references"
      ]
    },
    {
      "cell_type": "code",
      "metadata": {
        "colab": {
          "base_uri": "https://localhost:8080/"
        },
        "id": "Fw9flzcuDPsU",
        "outputId": "2a8ad251-1057-49d8-9c2b-466560c80306"
      },
      "source": [
        "class Point:\n",
        "    def __init__( self , x=0.0, y=0.0 ):\n",
        "        self.x = x\n",
        "        self.y = y\n",
        "    def __repr__( self ):\n",
        "        return f\"({self.x}, {self.y})\"\n",
        "\n",
        "class Rectangle:\n",
        "    def __init__( self , point , width , height ):\n",
        "        self.point = point\n",
        "        self.width = width\n",
        "        self.height = height\n",
        "    def __repr__( self ):\n",
        "        return f\"[{self.point},w={self.width},h={self.height}]\"\n",
        "\n",
        "p = Point( 3.5, 5.0 )\n",
        "r = Rectangle( p, 4.0, 2.0 )\n",
        "print( r )\n",
        "\n",
        "p.x = 1.0\n",
        "p.y = 1.0\n",
        "print( r )"
      ],
      "execution_count": 6,
      "outputs": [
        {
          "output_type": "stream",
          "text": [
            "[(3.5, 5.0),w=4.0,h=2.0]\n",
            "[(1.0, 1.0),w=4.0,h=2.0]\n"
          ],
          "name": "stdout"
        }
      ]
    },
    {
      "cell_type": "markdown",
      "metadata": {
        "id": "Iu9hYwRNDTnr"
      },
      "source": [
        "When you run this code, you see that by changing p, the Rectangle r is also changed. The\n",
        "point that it contains, is actually a reference to the point that was passed to the \\_\\_init\\_\\_()\n",
        "method. Like lists, dictionaries, and sets, all the objects that are instances of classes that\n",
        "you define, are “passed by reference” to functions and methods. Therefore, Rectangle r\n",
        "gets created with a reference to p. In this way you can represent relationships between objects.\n",
        "\n",
        "You do not always want this. In fact, it is unlikely that you would want a Rectangle object\n",
        "to have a relationship with the point that is indicated as its upper left corner. How can you\n",
        "solve that? You can solve it by creating a copy of the object. You can do this using the copy\n",
        "module. As discussed before, the $copy()$ function of the $copy$ module creates a shallow\n",
        "copy; if you want a deep copy, you have to use the $deepcopy()$ function. For Points this is\n",
        "not needed, as there is no difference between shallow and deep copies of instances of this class."
      ]
    },
    {
      "cell_type": "code",
      "metadata": {
        "colab": {
          "base_uri": "https://localhost:8080/"
        },
        "id": "shN3Fd1HDlxp",
        "outputId": "53964303-25d8-4fbd-a142-dfa816bfb685"
      },
      "source": [
        "from copy import copy\n",
        "\n",
        "class Point:\n",
        "    def __init__( self , x=0.0, y=0.0 ):\n",
        "        self.x = x\n",
        "        self.y = y\n",
        "    def __repr__( self ):\n",
        "        return f\"({self.x}, {self.y})\"\n",
        "\n",
        "class Rectangle:\n",
        "    def __init__( self , point , width , height ):\n",
        "        self.point = copy(point)\n",
        "        self.width = width\n",
        "        self.height = height\n",
        "    def __repr__( self ):\n",
        "        return f\"[{self.point},w={self.width},h={self.height}]\"\n",
        "\n",
        "p = Point( 3.5, 5.0 )\n",
        "r = Rectangle( p, 4.0, 2.0 )\n",
        "print( r )\n",
        "\n",
        "p.x = 1.0\n",
        "p.y = 1.0\n",
        "print( r )"
      ],
      "execution_count": 8,
      "outputs": [
        {
          "output_type": "stream",
          "text": [
            "[(3.5, 5.0),w=4.0,h=2.0]\n",
            "[(3.5, 5.0),w=4.0,h=2.0]\n"
          ],
          "name": "stdout"
        }
      ]
    },
    {
      "cell_type": "markdown",
      "metadata": {
        "id": "D7T5h70ep65C"
      },
      "source": [
        "## 16.3 Operator Overloading"
      ]
    },
    {
      "cell_type": "markdown",
      "metadata": {
        "id": "BFUSRFJv2OVM"
      },
      "source": [
        "Operator overloading is a powerful feature of object orientation that allows you to integrate your new classes into programs in a natural way. Operator overloading is always based on the definition of some special methods, that have the typical \\_\\_\\<name>\\_\\_( ) structure."
      ]
    },
    {
      "cell_type": "markdown",
      "metadata": {
        "id": "jmgZUBRc26jd"
      },
      "source": [
        "### 16.3.1 The idea behind operator overloading\n",
        "\n",
        "When you write Python programs with basic data types, without thinking you use operators to add, subtract, multiply, and divide values, to compare values, and to apply all kinds of standard functionalities. Such interactions are not defined by default for classes you define yourself, but Python allows you to specify what should happen when one applies such an interaction to instances of your class. This is called “operator overloading.”\n",
        "\n",
        "For instance, suppose that you define a class that represents quaternions. You know that adding and multiplying quaternions are well-defined operations. Therefore, you might want to define what happens when you combine two of your quaternions with a $+$ operator. Python allows you to specify that. In fact, Python allows you to specify what the $+$ operator does for any of your new classes.\n",
        "\n",
        "Isn’t that great? You can define a class Student, and then define that if you add two students together with a $+$ operator, that their ages are added up. Wonderful, isn’t it? No, it isn’t. It obviously makes no sense to add up two students. You might start thinking about what a natural interpretation of adding up two students would entail, but the answer is that everything that you can come up with is far-fetched. You should not define an addition operator for classes which have no natural addition defined. This is one of the dangers\n",
        "of operator overloading: if you apply it without thinking, you get nonsensical programs.\n",
        "\n",
        "Still, operator overloading has powerful applications. In the rest of this chapter I will introduce some of the most common applications of operator overloading.\n",
        "\n",
        "By the way, operator overloading is a typical example of “polymorphism,” a concept that allows a function to have different results depending on the type of its arguments. Polymorphism is often hailed as one of the powerful features of object orientation."
      ]
    },
    {
      "cell_type": "markdown",
      "metadata": {
        "id": "SxiCoQWW4gTy"
      },
      "source": [
        "### 16.3.2 Calculations"
      ]
    },
    {
      "cell_type": "markdown",
      "metadata": {
        "id": "6aOU95O94220"
      },
      "source": [
        "There are methods available to define what should happen when you combine an instance\n",
        "of a class with a value using a regular calculation operator. The most important of these\n",
        "are:\n",
        "- \\_\\_add\\_\\_() for addition (+)\n",
        "- \\_\\_sub\\_\\_() for subtraction (-)\n",
        "- \\_\\_mul\\_\\_() for multiplication (*)\n",
        "- \\_\\_truediv\\_\\_() for division (/)\n",
        "- \\_\\_floordiv\\_\\_() for integer division (//)\n",
        "- \\_\\_mod\\_\\_() for modulo (%)\n",
        "- \\_\\_pow\\_\\_() for power (**)\n",
        "- \\_\\_lshift\\_\\_() for left shift (<<)\n",
        "- \\_\\_rshift\\_\\_() for right shift (>>)\n",
        "- \\_\\_and\\_\\_() for bitwise and (&)\n",
        "- \\_\\_or\\_\\_() for bitwise or (|)\n",
        "- \\_\\_xor\\_\\_() for bitwise xor (^)\n",
        "\n",
        "For example, for quaternions the addition is defined as: $(A + Bi + Cj + Dk) + (E + Fi +\n",
        "Gj + Hk) = (A + E) + (B + F)i + (C + G)j + (D + H)k$. Naturally, you can also add integers and floats to quaternions. This can be implemented as follows:"
      ]
    },
    {
      "cell_type": "code",
      "metadata": {
        "id": "tOwoJS-m4eSt",
        "outputId": "1bdaac71-19b0-4eb3-93c6-c0a3a89d1d48",
        "colab": {
          "base_uri": "https://localhost:8080/"
        }
      },
      "source": [
        "class Quaternion:\n",
        "    def __init__( self , a, b, c, d ):\n",
        "        self.a, self.b, self.c, self.d = a, b, c, d\n",
        "    def __repr__( self ):\n",
        "        return \"({},{}i,{}j,{}k)\".format( self.a, self.b, self.c, self.d )\n",
        "    def __add__( self , n ):\n",
        "        if isinstance( n, int ) or isinstance( n, float ):\n",
        "            return Quaternion( n+self.a, self.b, self.c, self.d )\n",
        "        elif isinstance( n, Quaternion ):\n",
        "            return Quaternion( n.a + self.a, n.b + self.b, n.c + self.c, n.d + self.d )\n",
        "        return NotImplemented\n",
        "\n",
        "c1 = Quaternion( 3, 4, 5, 6 )\n",
        "c2 = Quaternion( 1, 2, 3, 4 )\n",
        "\n",
        "print( c1 + c2 )\n",
        "print( c1 + 10 )"
      ],
      "execution_count": 6,
      "outputs": [
        {
          "output_type": "stream",
          "text": [
            "(4,6i,8j,10k)\n",
            "(13,4i,5j,6k)\n"
          ],
          "name": "stdout"
        }
      ]
    },
    {
      "cell_type": "markdown",
      "metadata": {
        "id": "cL5l8LhD7O2h"
      },
      "source": [
        "If a calculation operator is used with your new class as the right operand, and the left operand does not support the operator with your new class (it returns NotImplemented), Python checks if your new class supports the operation as the right operand. For that, you need to implement extra methods, which have the same names as the methods above, but with an r in front of the name, e.g., \\_\\_radd\\_\\_() is the addition operator with corresponding object as the right operand (all the other methods can be created in this way too).\n",
        "The code above will actually produce a runtime error if you try to calculate $10 + c1$ (try it). You will have to implement \\_\\_radd\\_\\_() to solve that."
      ]
    },
    {
      "cell_type": "code",
      "metadata": {
        "id": "WtzOb_EG5ACx",
        "outputId": "c3c4258a-356a-47c6-ec80-9becc921d156",
        "colab": {
          "base_uri": "https://localhost:8080/",
          "height": 175
        }
      },
      "source": [
        "print(10 + c1)"
      ],
      "execution_count": 7,
      "outputs": [
        {
          "output_type": "error",
          "ename": "TypeError",
          "evalue": "ignored",
          "traceback": [
            "\u001b[0;31m---------------------------------------------------------------------------\u001b[0m",
            "\u001b[0;31mTypeError\u001b[0m                                 Traceback (most recent call last)",
            "\u001b[0;32m<ipython-input-7-b8e2aebfe030>\u001b[0m in \u001b[0;36m<module>\u001b[0;34m()\u001b[0m\n\u001b[0;32m----> 1\u001b[0;31m \u001b[0mprint\u001b[0m\u001b[0;34m(\u001b[0m\u001b[0;36m10\u001b[0m \u001b[0;34m+\u001b[0m \u001b[0mc1\u001b[0m\u001b[0;34m)\u001b[0m\u001b[0;34m\u001b[0m\u001b[0;34m\u001b[0m\u001b[0m\n\u001b[0m",
            "\u001b[0;31mTypeError\u001b[0m: unsupported operand type(s) for +: 'int' and 'Quaternion'"
          ]
        }
      ]
    },
    {
      "cell_type": "code",
      "metadata": {
        "id": "Fl8DX8TA7rrO",
        "outputId": "90e3c70b-a5d2-4b04-aa5c-3ba50f1e2b7b",
        "colab": {
          "base_uri": "https://localhost:8080/"
        }
      },
      "source": [
        "class Quaternion:\n",
        "    def __init__( self , a, b, c, d ):\n",
        "        self.a, self.b, self.c, self.d = a, b, c, d\n",
        "    def __repr__( self ):\n",
        "        return \"({},{}i,{}j,{}k)\".format( self.a, self.b, self.c, self.d )\n",
        "    def __add__( self , n ):\n",
        "        if isinstance( n, int ) or isinstance( n, float ):\n",
        "            return Quaternion( n+self.a, self.b, self.c, self.d )\n",
        "        elif isinstance( n, Quaternion ):\n",
        "            return Quaternion( n.a + self.a, n.b + self.b, n.c + self.c, n.d + self.d )\n",
        "        return NotImplemented\n",
        "    def __radd__( self , n ):\n",
        "        return self.__add__( n )\n",
        "        \n",
        "c1 = Quaternion( 3, 4, 5, 6 )\n",
        "print( 10 + c1 )"
      ],
      "execution_count": 8,
      "outputs": [
        {
          "output_type": "stream",
          "text": [
            "(13,4i,5j,6k)\n"
          ],
          "name": "stdout"
        }
      ]
    },
    {
      "cell_type": "markdown",
      "metadata": {
        "id": "cAuE3EP-8IpG"
      },
      "source": [
        "As you see, I resolved the problem by making \\_\\_radd\\_\\_() a direct call to \\_\\_add\\_\\_(). You might wonder why Python does not do that automatically. The reason is mathematical: while in many cases + is “commutative,” i.e., you can exchange the operands without the result changing, this is definitely not always the case. But if your addition operator is commutative, a simple call from \\_\\_radd\\_\\_() to \\_\\_add\\_\\_() will do the trick.\n",
        "\n",
        "For the shorthand operators +=, -=, *=, etcetera, you can also define separate methods. These have the same names as the methods above, but with an i in front of the name, e.g., \\_\\_iadd\\_\\_() implements the += operator (again, for all the other methods you can create this variant too). These methods should actually modify self, and also return the result (usually self). If they are not implemented, Python reverts to the regular interpretation, i.e., if a statement is $x += y$, then Python tries to execute $x.\\_\\_iadd\\_\\_(y)$, and if that returns NotImplemented, it will execute $x = x.\\_\\_add\\_\\_(y)$. Thus, in general you do not need to implement methods for the shorthand operators."
      ]
    },
    {
      "cell_type": "markdown",
      "metadata": {
        "id": "jof65GlsqD1c"
      },
      "source": [
        "## 16.4 Inheritance\n",
        "\n",
        "Inheritance allows you to create new classes based on existing ones, just by indicating\n",
        "the difference. It is an extremely powerful concept that allows for the creation of highly\n",
        "flexible, easily maintainable programs."
      ]
    },
    {
      "cell_type": "markdown",
      "metadata": {
        "id": "F9vk8kAo9Lbk"
      },
      "source": [
        "### 16.4.1 Class inheritance"
      ]
    },
    {
      "cell_type": "code",
      "metadata": {
        "id": "EA0UhD1m83Qv"
      },
      "source": [
        ""
      ],
      "execution_count": null,
      "outputs": []
    },
    {
      "cell_type": "markdown",
      "metadata": {
        "id": "JojR-GK_QWHN"
      },
      "source": [
        "## Appendix 1 $Fraction$ Class"
      ]
    },
    {
      "cell_type": "markdown",
      "metadata": {
        "id": "wFMUV8ZmVGnF"
      },
      "source": [
        "#### Framework"
      ]
    },
    {
      "cell_type": "markdown",
      "metadata": {
        "id": "EqOE854JQ3_m"
      },
      "source": [
        "A very common example to show the details of implementing a user-defined class is to construct a class to implement the abstract data type Fraction. We have already seen that Python provides a number of numeric classes for our use. There are times, however, that it would be most appropriate to be able to create data objects that “look like” fractions."
      ]
    },
    {
      "cell_type": "markdown",
      "metadata": {
        "id": "7wqAK4R4Q5YK"
      },
      "source": [
        "- A fraction such as $\\frac{3}{5}$ consists of two parts. The top value, known as the numerator, can be any integer. The bottom value, called the denominator, can be any integer greater than 0 (negative fractions have a negative numerator). \n",
        "- Although it is possible to create a floating point approximation for any fraction, in this case we would like to represent the fraction as an exact value.\n",
        "- The operations for the Fraction type will allow a Fraction data object to behave like any other numeric value. We need to be able to add, subtract, multiply, and divide fractions. \n",
        "- We also want to be able to show fractions using the standard “slash” form, for example 3/5. \n",
        "- In addition, all fraction methods should return results in their lowest terms so that no matter what computation is performed, we always end up with the most common form."
      ]
    },
    {
      "cell_type": "code",
      "metadata": {
        "id": "onCxE2I2SeKD"
      },
      "source": [
        "class Fraction:\n",
        "    #the methods will go here\n",
        "    pass"
      ],
      "execution_count": null,
      "outputs": []
    },
    {
      "cell_type": "markdown",
      "metadata": {
        "id": "y0y1uJiWRglT"
      },
      "source": [
        "provides the framework for us to define the methods. The first method that all classes should provide is the constructor. The constructor defines the way in which data objects are created. To create a Fraction object, we will need to provide two pieces of data, the numerator and the denominator. In Python, the constructor method is always called $__init__$ (two underscores before and after $init$) and is shown in"
      ]
    },
    {
      "cell_type": "code",
      "metadata": {
        "id": "_fercE0SS-jJ"
      },
      "source": [
        "class Fraction:\n",
        "    \n",
        "    def __init__(self,top,bottom):\n",
        "        self.num = top\n",
        "        self.den = bottom"
      ],
      "execution_count": null,
      "outputs": []
    },
    {
      "cell_type": "markdown",
      "metadata": {
        "id": "PXr8M7L6TeXx"
      },
      "source": [
        "Notice that the formal parameter list contains three items **(self, top, bottom)**. **self** is a special parameter that will always be used as a reference back to the object itself. It must always be the first formal parameter; however, it will never be given an actual parameter value upon invocation. As described earlier, fractions require two pieces of state data, the numerator and the denominator. The notation **self.num** in the constructor defines the fraction object to have an internal data object called num as part of its state. Likewise, **self.den** creates the denominator. The values of the two formal parameters are initially assigned to the state, allowing the new fraction object to know its starting value."
      ]
    },
    {
      "cell_type": "markdown",
      "metadata": {
        "id": "UGgsXqVSUlst"
      },
      "source": [
        "To create an instance of the Fraction class, we must invoke the constructor. This happens by using the name of the class and passing actual values for the necessary state (note that we never directly invoke $__init__$). "
      ]
    },
    {
      "cell_type": "code",
      "metadata": {
        "id": "qafsXst3UzP5"
      },
      "source": [
        "myfraction = Fraction(3,5)"
      ],
      "execution_count": null,
      "outputs": []
    },
    {
      "cell_type": "markdown",
      "metadata": {
        "id": "-RT3WOsTVOGg"
      },
      "source": [
        "#### Behaviors"
      ]
    },
    {
      "cell_type": "markdown",
      "metadata": {
        "id": "f3OsjIIEVVOu"
      },
      "source": [
        "The next thing we need to do is implement the behavior that the abstract data type requires. To begin, consider what happens when we try to print a Fraction object."
      ]
    },
    {
      "cell_type": "code",
      "metadata": {
        "colab": {
          "base_uri": "https://localhost:8080/"
        },
        "id": "obY7qZkaVYDq",
        "outputId": "f2b36527-e0a9-447f-de15-3ef8ed5cd775"
      },
      "source": [
        "myf = Fraction(3,5)\n",
        "\n",
        "print(myf)"
      ],
      "execution_count": null,
      "outputs": [
        {
          "output_type": "stream",
          "text": [
            "<__main__.Fraction object at 0x7f361aff3a90>\n"
          ],
          "name": "stdout"
        }
      ]
    },
    {
      "cell_type": "markdown",
      "metadata": {
        "id": "w8r_czXxVjfk"
      },
      "source": [
        "The **Fraction** object, **myf**, does not know how to respond to this request to print. The **print** function requires that the object convert itself into a string so that the string can be written to the output. The only choice **myf** has is to show the actual reference that is stored in the variable (the address itself). This is not what we want.\n",
        "\n",
        "There are two ways we can solve this problem. One is to define a method called **show** that will allow the **Fraction** object to print itself as a string. We can implement this method as shown below. If we create a **Fraction** object as before, we can ask it to show itself, in other words, print itself in the proper format. Unfortunately, this does not work in general. In order to make printing work properly, we need to tell the **Fraction** class how to convert itself into a string. This is what the **print** function needs in order to do its job."
      ]
    },
    {
      "cell_type": "code",
      "metadata": {
        "id": "OLeLc1HTWEun"
      },
      "source": [
        "class Fraction:\n",
        "    \n",
        "    def __init__(self,top,bottom):\n",
        "        self.num = top\n",
        "        self.den = bottom\n",
        "\n",
        "    def show(self):\n",
        "        print(self.num,\"/\",self.den)\n",
        "\n",
        "myf = Fraction(3,5)"
      ],
      "execution_count": null,
      "outputs": []
    },
    {
      "cell_type": "code",
      "metadata": {
        "colab": {
          "base_uri": "https://localhost:8080/"
        },
        "id": "fCbo_rSSXO_y",
        "outputId": "64773bca-25ea-4f13-b27d-775acbbc359b"
      },
      "source": [
        "myf.show()"
      ],
      "execution_count": null,
      "outputs": [
        {
          "output_type": "stream",
          "text": [
            "3 / 5\n"
          ],
          "name": "stdout"
        }
      ]
    },
    {
      "cell_type": "code",
      "metadata": {
        "colab": {
          "base_uri": "https://localhost:8080/"
        },
        "id": "kKBWDa8UXQrX",
        "outputId": "5861457f-b37b-42cc-c133-1e62c52544b7"
      },
      "source": [
        "print(myf)"
      ],
      "execution_count": null,
      "outputs": [
        {
          "output_type": "stream",
          "text": [
            "<__main__.Fraction object at 0x7f361afac5d0>\n"
          ],
          "name": "stdout"
        }
      ]
    },
    {
      "cell_type": "markdown",
      "metadata": {
        "id": "yrodtrCtbLEh"
      },
      "source": [
        "In Python, all classes have a set of standard methods that are provided but may not work properly. One of these, $__str__$, is the method to convert an object into a string. The default implementation for this method is to return the instance address string as we have already seen. What we need to do is provide a “better” implementation for this method. We will say that this implementation **overrides** the previous one, or that it redefines the method’s behavior."
      ]
    },
    {
      "cell_type": "markdown",
      "metadata": {
        "id": "IV-K6NZ_bdI1"
      },
      "source": [
        "To do this, we simply define a method with the name $__str__$ and give it a new implementation as shown below. This definition does not need any other information except the special parameter **self**. \n",
        "\n",
        "In turn, the method will build a string representation by converting each piece of internal state data to a string and then placing a **/** character in between the strings using string concatenation. The resulting string will be returned any time a Fraction object is asked to convert itself to a string. Notice the various ways that this function is used."
      ]
    },
    {
      "cell_type": "code",
      "metadata": {
        "colab": {
          "base_uri": "https://localhost:8080/"
        },
        "id": "dLVgQyhAcLRe",
        "outputId": "57298f24-951f-438c-aeb7-f8d416ddd276"
      },
      "source": [
        "class Fraction:\n",
        "    \n",
        "    def __init__(self,top,bottom):\n",
        "        self.num = top\n",
        "        self.den = bottom\n",
        "\n",
        "    def __str__(self):\n",
        "        return str(self.num)+\"/\"+str(self.den)\n",
        "\n",
        "myf = Fraction(3,5)\n",
        "print(myf)"
      ],
      "execution_count": null,
      "outputs": [
        {
          "output_type": "stream",
          "text": [
            "3/5\n"
          ],
          "name": "stdout"
        }
      ]
    },
    {
      "cell_type": "code",
      "metadata": {
        "id": "iQztvEZ3cZs4"
      },
      "source": [
        "print(\"I ate\", myf, \"of the pizza\")"
      ],
      "execution_count": null,
      "outputs": []
    },
    {
      "cell_type": "code",
      "metadata": {
        "id": "g3qs-VHLcb3v"
      },
      "source": [
        "myf.__str__()"
      ],
      "execution_count": null,
      "outputs": []
    },
    {
      "cell_type": "code",
      "metadata": {
        "id": "1D1ZZmVuceK4"
      },
      "source": [
        "str(myf)"
      ],
      "execution_count": null,
      "outputs": []
    },
    {
      "cell_type": "markdown",
      "metadata": {
        "id": "w2P0vq00bkWu"
      },
      "source": [
        "#### Override"
      ]
    },
    {
      "cell_type": "markdown",
      "metadata": {
        "id": "v_t9qXOOct-9"
      },
      "source": [
        "We can override many other methods for our new Fraction class. Some of the most important of these are the basic arithmetic operations. We would like to be able to create two Fraction objects and then add them together using the standard “+” notation. At this point, if we try to add two fractions, we get the following:"
      ]
    },
    {
      "cell_type": "code",
      "metadata": {
        "colab": {
          "base_uri": "https://localhost:8080/",
          "height": 211
        },
        "id": "UC_5kq1pcwp4",
        "outputId": "3f67bd64-51fe-424c-e8da-22f87c1e1d59"
      },
      "source": [
        "f1 = Fraction(1,4)\n",
        "f2 = Fraction(1,2)\n",
        "\n",
        "f1 + f2"
      ],
      "execution_count": null,
      "outputs": [
        {
          "output_type": "error",
          "ename": "TypeError",
          "evalue": "ignored",
          "traceback": [
            "\u001b[0;31m---------------------------------------------------------------------------\u001b[0m",
            "\u001b[0;31mTypeError\u001b[0m                                 Traceback (most recent call last)",
            "\u001b[0;32m<ipython-input-11-d13360800772>\u001b[0m in \u001b[0;36m<module>\u001b[0;34m()\u001b[0m\n\u001b[1;32m      2\u001b[0m \u001b[0mf2\u001b[0m \u001b[0;34m=\u001b[0m \u001b[0mFraction\u001b[0m\u001b[0;34m(\u001b[0m\u001b[0;36m1\u001b[0m\u001b[0;34m,\u001b[0m\u001b[0;36m2\u001b[0m\u001b[0;34m)\u001b[0m\u001b[0;34m\u001b[0m\u001b[0;34m\u001b[0m\u001b[0m\n\u001b[1;32m      3\u001b[0m \u001b[0;34m\u001b[0m\u001b[0m\n\u001b[0;32m----> 4\u001b[0;31m \u001b[0mf1\u001b[0m \u001b[0;34m+\u001b[0m \u001b[0mf2\u001b[0m\u001b[0;34m\u001b[0m\u001b[0;34m\u001b[0m\u001b[0m\n\u001b[0m",
            "\u001b[0;31mTypeError\u001b[0m: unsupported operand type(s) for +: 'Fraction' and 'Fraction'"
          ]
        }
      ]
    },
    {
      "cell_type": "markdown",
      "metadata": {
        "id": "sJTkxo9Rc5M0"
      },
      "source": [
        "If you look closely at the error, you see that the problem is that the “+” operator does not understand the Fraction operands.\n",
        "\n",
        "We can fix this by providing the Fraction class with a method that overrides the addition method. In Python, this method is called $__add__$ and it requires two parameters. The first, self, is always needed, and the second represents the other operand in the expression. For example,"
      ]
    },
    {
      "cell_type": "code",
      "metadata": {
        "id": "v1wfTLinf7Vb"
      },
      "source": [
        "def __add__(self,otherfraction):\n",
        "\n",
        "     newnum = self.num*otherfraction.den + self.den*otherfraction.num\n",
        "     newden = self.den * otherfraction.den\n",
        "\n",
        "     return Fraction(newnum,newden)"
      ],
      "execution_count": null,
      "outputs": []
    },
    {
      "cell_type": "markdown",
      "metadata": {
        "id": "UlKL2hKJc5Dq"
      },
      "source": [
        ""
      ]
    }
  ]
}