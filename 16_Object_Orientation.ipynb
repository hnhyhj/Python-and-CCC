{
  "nbformat": 4,
  "nbformat_minor": 0,
  "metadata": {
    "colab": {
      "name": "16 Object Orientation.ipynb",
      "provenance": [],
      "authorship_tag": "ABX9TyNYCtERhA2VUZyVpaSomlIx",
      "include_colab_link": true
    },
    "kernelspec": {
      "name": "python3",
      "display_name": "Python 3"
    }
  },
  "cells": [
    {
      "cell_type": "markdown",
      "metadata": {
        "id": "view-in-github",
        "colab_type": "text"
      },
      "source": [
        "<a href=\"https://colab.research.google.com/github/hnhyhj/Python-and-CCC/blob/master/16_Object_Orientation.ipynb\" target=\"_parent\"><img src=\"https://colab.research.google.com/assets/colab-badge.svg\" alt=\"Open In Colab\"/></a>"
      ]
    },
    {
      "cell_type": "markdown",
      "metadata": {
        "id": "ZolIhph5SlOc"
      },
      "source": [
        "# **Chapter 16**\n",
        "# **Object Orientation**"
      ]
    },
    {
      "cell_type": "markdown",
      "metadata": {
        "id": "_TAxxCNPVYvr"
      },
      "source": [
        "The chapters until this point covered an approach to programming that is often referred to\n",
        "as “structured programming” or “imperative programming,” wherein a program is considered a sequence of statements, decisions, and loops. You can solve any programming\n",
        "problem with a structured programming approach. However, in the last decades several\n",
        "other programming “paradigms” have been coined up, which help designing and implementing large-scale programs. One of the most successful paradigms is “object orientation,” and most modern programming languages support the object oriented paradigm.\n",
        "Python is, in fact, an object oriented language."
      ]
    },
    {
      "cell_type": "markdown",
      "metadata": {
        "id": "-QJoCPO8VhN3"
      },
      "source": [
        "While object orientation tends to provide a natural way to look at problems and solutions,\n",
        "designing an object oriented program can be quite hard. The reason that it is hard, is that\n",
        "you have to really think about your approach to a problem in all of its aspects, before\n",
        "you start coding. For bigger problems, this can be daunting, especially when you lack\n",
        "experience with programming. However, for bigger problems you have to spend a lot\n",
        "of time designing your solution anyway, and an object oriented approach may be quite\n",
        "helpful in creating it. Moreover, you will find that most modules provide object oriented\n",
        "implementations, and that object orientation can be helpful for many smaller problems too."
      ]
    },
    {
      "cell_type": "markdown",
      "metadata": {
        "id": "4TfcbXhrSwVw"
      },
      "source": [
        "## 16.1 The **object oriented** world (**OO**)"
      ]
    },
    {
      "cell_type": "markdown",
      "metadata": {
        "id": "AsIJfSjMOCBF"
      },
      "source": [
        "### 16.1.1 This world is object oriented"
      ]
    },
    {
      "cell_type": "markdown",
      "metadata": {
        "id": "AXAkeJWYJBlR"
      },
      "source": [
        "Supposed, I am sitting at my kitchen table. Next to me is a bowl of fruit.\n",
        "There are some apples in the bowl. While these apples share certain features, they have\n",
        "their differences too. They share their name, their price, and their age, but they all have\n",
        "(slightly) different weights. There are also some oranges in the bowl. Like the apples, they\n",
        "are fruits, but they have a lot of differences with apples: different names, different colors,\n",
        "different trees that they grow from. Still, they share some things with apples that all fruits\n",
        "share, and make them different from, for instance, the table I am sitting at. I can eat a fruit,\n",
        "i.e., I can eat apples and I can eat oranges. I am not going to try to eat a table."
      ]
    },
    {
      "cell_type": "markdown",
      "metadata": {
        "id": "E_AEjXNOJ2yj"
      },
      "source": [
        "When I try to model my world in a computer program, I have to model objects: objects such as apples, oranges, and tables. Some of these objects have a lot in common, for instance, each apple shares a lot of features with every other apple. It behooves me to define a class “apple” which contains the features that all apples share, and only fill in the few features in which apples differ from each other for each individual apple object. The same holds for\n",
        "oranges, they should get their own class “orange.” And while “apples” and “oranges” are quite different, they still share some features that entail that I would like to put them in the same class: the class “fruit.” Every object that belongs to the class “fruit” at least has the property that I can eat it. Which means that each individual apple object not only belongs to the class “apple,” but also belongs to the class “fruit” – just like the “oranges.”\n",
        "\n",
        "Come to think of it: I can eat more things than only apples and oranges. I can eat cakes too. And mushrooms. And bread. And licorice. So maybe I need another class, which the class “fruit” also belongs to. The class “food,” perhaps?\n",
        "\n",
        "What this leads to, is that if I try to model the world, or part of the world, I need to model objects – and rather than modeling each separate object, I am better off defining classes of objects, as that means I can make statements about certain groups of objects in general. I can talk about the relationships between classes, and I can define functions that work on classes; for instance, I can define a functionality “eat” that works on every object that is part\n",
        "of the class “food,” which removes the object from the world and assigns its “nutrients” to the object that does the “eating.” Since I can “eat” objects that belong to the class “food,” I can eat “fruit.” And since I can eat “fruit,” I can eat any “apple” object.\n",
        "\n",
        "A computer program is, in essence, a model of a part of the world. As such, there are many programs that benefit from the ability to deal with objects, classes, relationships, and functionalities (methods) that work on objects."
      ]
    },
    {
      "cell_type": "markdown",
      "metadata": {
        "id": "kqUPc02nJD6-"
      },
      "source": [
        "In the object oriented world, every distinguishable entity belongs to a “class.” A class is a\n",
        "general model for a specific group of entities. It describes all the attributes that these entities have, and it describes the methods that the class offers the outside world to influence it.\n",
        "\n",
        "A class, by itself, is not an entity. An entity that belongs to the class, is an “object.” The\n",
        "terminology is that an object is an “instance” of a particular class. While the class describes\n",
        "its attributes, an object that is an instance of the class has values for these attributes. While\n",
        "the class describes the methods that it supports, to execute such a method one needs an\n",
        "object that is an instance of the class to call the method with.\n",
        "\n",
        "A class is a data type, an object is a value."
      ]
    },
    {
      "cell_type": "markdown",
      "metadata": {
        "id": "kA0kNYcALM7C"
      },
      "source": [
        "Classes may exist in hierarchies. A general, high-level class may describe properties and methods that are shared by different subclasses. Each subclass may add properties, add methods, and even change properties and methods (though in general cannot – and should not – completely remove them). Each subclass may have further subclasses.\n",
        "\n",
        "For instance, the class Apple may be a subclass of the class Fruit, which may be a subclass of the class Food. This means that where in a program an object of the class Food is needed, you can supply an object that is an instance of the class Food, but also an object that is an instance of the class Fruit, or an object that is an instance of the class Apple. This does not work the other way around, though. When, for instance, a function in a program was designed for instances of Apple, you cannot use it with instances of Fruit, or other\n",
        "subclasses of Fruit. While an Apple is Fruit, Fruit is not an Apple, and Apples aren’t Oranges.\n",
        "\n",
        "Such a hierarchy is implemented using “inheritance,” which will be covered later."
      ]
    },
    {
      "cell_type": "markdown",
      "metadata": {
        "id": "9PV8AcYrNM2z"
      },
      "source": [
        "### 16.1.2 Classes and data types in Python\n",
        "\n",
        "Most object oriented programming languages have some basic data types, and allow you to create classes, i.e., new data types. This was the case for Python up to Python 2. Since Python 3, every data type is a class.\n",
        "\n",
        "You can recognize some of this by the way that many functionalities of the basic data types are implemented as methods. Remember that a method is always called as $<variable>.<method>()$, contrary to functions that work on a variable, which are called as $<function>(<variable>)$. The fact that when you want to create a lower case version of a string, you effectuate that as $<string>.lower()$ already indicates that the string is an instance of a class.\n",
        "\n",
        "But not only strings are class instances: integers and floats are too. They even have methods, though these are seldom used explicitly. Some methods are used implicitly, e.g., when you add two numbers together with $+$, that is actually a method call. This will be discussed later."
      ]
    },
    {
      "cell_type": "markdown",
      "metadata": {
        "id": "JS0WS5taMv2g"
      },
      "source": [
        "## 16.2 Classes and objects\n",
        "\n",
        "Now the basic philosophies of object orientation are out of the way, I am going to discuss how to use object orientation in Python. It starts with creating new classes using the keyword **class**."
      ]
    },
    {
      "cell_type": "markdown",
      "metadata": {
        "id": "cFuR0cx9NHYz"
      },
      "source": [
        "### 16.2.1 Class"
      ]
    },
    {
      "cell_type": "markdown",
      "metadata": {
        "id": "fF3egd7tO5i4"
      },
      "source": [
        "A class can be considered a new data type. Once a class is created, you can assign instances\n",
        "of the class to variables. To start simple, I am going to create a class that represents a\n",
        "point in 2D space. I name this class Point (the naming of classes is restricted to the same\n",
        "requirements as the naming of variables, and it is convention to let the names of classes\n",
        "start with a capital). Creating this class in Python is incredibly easy:"
      ]
    },
    {
      "cell_type": "code",
      "metadata": {
        "id": "HUSLut8iSkcm"
      },
      "source": [
        "class Point:\n",
        "    pass"
      ],
      "execution_count": 2,
      "outputs": []
    },
    {
      "cell_type": "markdown",
      "metadata": {
        "id": "M8E5nUQ7Pv2u"
      },
      "source": [
        "The keyword pass in the class definition means “do nothing.” This keyword can be used\n",
        "wherever you need to place a statement, but you have nothing yet to place there. You\n",
        "cannot just leave it empty or give a comment and nothing else. But as soon as statements\n",
        "are added, you no longer need pass."
      ]
    },
    {
      "cell_type": "markdown",
      "metadata": {
        "id": "czO5jqtgPyWw"
      },
      "source": [
        "To create an object that is an instance of the class, I assign to a variable the name of the\n",
        "class, with parentheses after it, as if it is a function call (you can have arguments between\n",
        "the parenthesis, which will be discussed a bit later in this chapter)."
      ]
    },
    {
      "cell_type": "code",
      "metadata": {
        "colab": {
          "base_uri": "https://localhost:8080/"
        },
        "id": "K81JqTERP1Fi",
        "outputId": "04f95da3-f2b1-4bea-f00b-3eb9fab4a8f3"
      },
      "source": [
        "p = Point()\n",
        "print(type(p))"
      ],
      "execution_count": 4,
      "outputs": [
        {
          "output_type": "stream",
          "text": [
            "<class '__main__.Point'>\n"
          ],
          "name": "stdout"
        }
      ]
    },
    {
      "cell_type": "markdown",
      "metadata": {
        "id": "I6WQToRXQJRK"
      },
      "source": [
        "Of course, a point is more than just an object. A point has an $x$ and a $y$ coordinate. Since\n",
        "Python is a soft-typed language, you need to assign values to attributes to create them.\n",
        "This is done in a special initialization method in the class."
      ]
    },
    {
      "cell_type": "markdown",
      "metadata": {
        "id": "jCfEpdVdz4Jz"
      },
      "source": [
        "<font size=4> Terminology<font>\n",
        "- A variable stored in an instance or class is called an [attribute](https://docs.python.org/3/glossary.html#term-attribute).\n",
        "- A function stored in an instance or class is called a [method](https://docs.python.org/3/glossary.html#term-method)."
      ]
    },
    {
      "cell_type": "markdown",
      "metadata": {
        "id": "t3vtl6gsqlDH"
      },
      "source": [
        "### 16.2.2 \\_\\_init\\_\\_( )"
      ]
    },
    {
      "cell_type": "markdown",
      "metadata": {
        "id": "6tIa0GhjrN2X"
      },
      "source": [
        "The initialization method of a class has the name \\_\\_init\\_\\_ (that’s two underscores, followed by the word init, followed by two more underscores). Even if the \\_\\_init\\_\\_() method is not defined explicitly for the class, it still exists. You use the \\_\\_init\\_\\_() method to initialize everything that you want to initialize upon creation of an instance of the class.\n",
        "\n",
        "In the case of Point, \\_\\_init\\_\\_() should assure that any Point object has an $x$ and a $y$ coordinate. This is implemented as follows:"
      ]
    },
    {
      "cell_type": "code",
      "metadata": {
        "id": "kLVQfX3yrxe6",
        "colab": {
          "base_uri": "https://localhost:8080/"
        },
        "outputId": "117c492e-e059-4b42-ec7f-48c8e1d89a53"
      },
      "source": [
        "class Point:\n",
        "    def __init__(self, x, y):\n",
        "        self.lat = x\n",
        "        self.lon = y\n",
        "\n",
        "p = Point(0.0, 0.0)\n",
        "\n",
        "print(f'({p.lat}, {p.lon})')"
      ],
      "execution_count": null,
      "outputs": [
        {
          "output_type": "stream",
          "text": [
            "(0.0, 0.0)\n"
          ],
          "name": "stdout"
        }
      ]
    },
    {
      "cell_type": "markdown",
      "metadata": {
        "id": "WnI4DqPlq2wH"
      },
      "source": [
        "Study the code above closely. You see that $__init__()$ is defined just as you would define a function, inside the class definition.\n",
        "\n",
        "$__init__()$ gets a parameter called self. Every method that you define, always gets at least one parameter, which will get filled with a reference to the object for which the method is called. By convention, this first parameter is always called self. That is not mandatory, but everybody always does it like this. If you forget to include that first parameter, you will get a runtime error. If you forget to include the first parameter self but you do have other parameters, Python will fill the first of the parameters that you do list with a reference to the object, and you will probably also get a runtime error (as you did not expect that that would happen).\n",
        "\n"
      ]
    },
    {
      "cell_type": "markdown",
      "metadata": {
        "id": "mbkYk1tGvvq-"
      },
      "source": [
        "### Attributes\n",
        "In the $__init__()$ method for Point, the object that is created gets two **attributes**, which are variables that are part of the object. They are called $x$ and $y$, and since they are part of the object, you refer to them as **self.x** and **self.y**. They both get initial value 0.0, which makes them floats."
      ]
    },
    {
      "cell_type": "markdown",
      "metadata": {
        "id": "cftaqrJijkOh"
      },
      "source": [
        "### 16.2.3 Magic methods"
      ]
    },
    {
      "cell_type": "markdown",
      "metadata": {
        "id": "Horhy9sUp6tv"
      },
      "source": [
        "Magic methods in Python are the special methods that start and end with the double underscores. They are also called dunder methods. Magic methods are not meant to be invoked directly by you, but the invocation happens internally from the class on a certain action. For example, when you add two numbers using the + operator, internally, the \\_\\_add\\_\\_( ) method will be called.\n",
        "\n",
        "Built-in classes in Python define many magic methods. Use the $dir()$ function to see the number of magic methods inherited by a class. For example, the following lists all the attributes and methods defined in the $int$ class."
      ]
    },
    {
      "cell_type": "code",
      "metadata": {
        "id": "Oismzv00qrII",
        "outputId": "10eef063-46b8-4d26-fb15-5dcea44f2b54",
        "colab": {
          "base_uri": "https://localhost:8080/"
        }
      },
      "source": [
        "dir(Point) # Magic methods of Point"
      ],
      "execution_count": 3,
      "outputs": [
        {
          "output_type": "execute_result",
          "data": {
            "text/plain": [
              "['__class__',\n",
              " '__delattr__',\n",
              " '__dict__',\n",
              " '__dir__',\n",
              " '__doc__',\n",
              " '__eq__',\n",
              " '__format__',\n",
              " '__ge__',\n",
              " '__getattribute__',\n",
              " '__gt__',\n",
              " '__hash__',\n",
              " '__init__',\n",
              " '__init_subclass__',\n",
              " '__le__',\n",
              " '__lt__',\n",
              " '__module__',\n",
              " '__ne__',\n",
              " '__new__',\n",
              " '__reduce__',\n",
              " '__reduce_ex__',\n",
              " '__repr__',\n",
              " '__setattr__',\n",
              " '__sizeof__',\n",
              " '__str__',\n",
              " '__subclasshook__',\n",
              " '__weakref__']"
            ]
          },
          "metadata": {
            "tags": []
          },
          "execution_count": 3
        }
      ]
    },
    {
      "cell_type": "code",
      "metadata": {
        "id": "352p0XrEqCJI"
      },
      "source": [
        "dir(int)"
      ],
      "execution_count": null,
      "outputs": []
    },
    {
      "cell_type": "markdown",
      "metadata": {
        "id": "TxSgaoyLqZp9"
      },
      "source": [
        "It is good practice to create all the attributes that you need exclusively in the $__init__()$ method (though you can change their values elsewhere), so that you know that every instance of the class has them, and no instances have more."
      ]
    },
    {
      "cell_type": "markdown",
      "metadata": {
        "id": "li1Jq7klyk8Q"
      },
      "source": [
        "If you do need a version of the class with extra attributes, you can use “inheritance” to create new classes based on existing ones, which do have these extra attributes. Inheritance will be discussed in a later chapter. For now, make sure that you create classes with all their attributes defined in the $__init__()$ method."
      ]
    },
    {
      "cell_type": "markdown",
      "metadata": {
        "id": "v_kjRwJk0fTC"
      },
      "source": [
        "### 16.2.4 $\\_\\_repr\\_\\_()$  and  $\\_\\_str\\_\\_()$"
      ]
    },
    {
      "cell_type": "markdown",
      "metadata": {
        "id": "lTJejaSy05i2"
      },
      "source": [
        "In the code above, I print the point attributes. What happens if I try to print the point itself?"
      ]
    },
    {
      "cell_type": "markdown",
      "metadata": {
        "id": "dp6klBaMAqfk"
      },
      "source": [
        "### 16.2.5 Methods"
      ]
    },
    {
      "cell_type": "markdown",
      "metadata": {
        "id": "Fa8q6952Avks"
      },
      "source": [
        "I already introduced to you the three methods \\_\\_init\\_\\_(), \\_\\_repr\\_\\_(), and \\_\\_str\\_\\_().\n",
        "These are predefined methods that every class has. As they were defined by the Python\n",
        "developers, they have the eccentric names that start and end with a double underscore.\n",
        "There are several more of such methods, which I will discuss in later chapters.\n",
        "\n",
        "You can also define your own methods for a class. Such methods get names similar to\n",
        "names you give to functions, and tend to follow the same conventions: starting with a\n",
        "lower case letter, and if there are different words either have underscores between them or\n",
        "capitalize the first letter of the second and later words. The prefix is is used for methods\n",
        "that provide a True/False statement about the object, the prefix get is used to get a value\n",
        "from an object, and the prefix set is used to set a value for an object."
      ]
    },
    {
      "cell_type": "markdown",
      "metadata": {
        "id": "SMiEX1s2BBr2"
      },
      "source": [
        "For instance, for a point I can create a method $distance\\_from\\_origin()$, which calculates the distance from the point $(0,0)$ to the given point."
      ]
    },
    {
      "cell_type": "code",
      "metadata": {
        "id": "u6qrjKvGBYsI",
        "outputId": "5128c109-68c1-4044-f841-de65364cb3a0",
        "colab": {
          "base_uri": "https://localhost:8080/"
        }
      },
      "source": [
        "from math import sqrt\n",
        "\n",
        "class Point:\n",
        "    def __init__(self, x=0.0, y=0.0):\n",
        "        self.x = x\n",
        "        self.y = y\n",
        "    def __repr__(self):\n",
        "        return f\"({self.x}, {self.y})\"\n",
        "    def distance_from_origin( self ):\n",
        "        return sqrt(self.x* self.x + self.y* self.y)\n",
        "\n",
        "p = Point(3.5, 5.0)\n",
        "print(p.distance_from_origin())"
      ],
      "execution_count": 5,
      "outputs": [
        {
          "output_type": "stream",
          "text": [
            "6.103277807866851\n"
          ],
          "name": "stdout"
        }
      ]
    },
    {
      "cell_type": "markdown",
      "metadata": {
        "id": "8YWMGMooBohC"
      },
      "source": [
        "You may also create methods that change the object in some way. For instance, the “translation” of points over a distance is defined as a specific shift in the horizontal and in the vertical direction. A method $translate()$ gets two arguments (beyond the self reference), which are the horizontal and vertical shifts."
      ]
    },
    {
      "cell_type": "code",
      "metadata": {
        "id": "jH03PGQqBx_v",
        "outputId": "1bee60c1-6c6e-4c1b-b0fe-4e34fe775dd9",
        "colab": {
          "base_uri": "https://localhost:8080/"
        }
      },
      "source": [
        "from math import sqrt\n",
        "\n",
        "class Point:\n",
        "    def __init__(self, x=0.0, y=0.0):\n",
        "        self.x = x\n",
        "        self.y = y\n",
        "    def __repr__(self):\n",
        "        return f\"({self.x}, {self.y})\"\n",
        "    def translate(self , shift_x , shift_y):\n",
        "        self.x += shift_x\n",
        "        self.y += shift_y\n",
        "\n",
        "p = Point(3.5, 5.0)\n",
        "p.translate(-3, 7)\n",
        "print(p)"
      ],
      "execution_count": 4,
      "outputs": [
        {
          "output_type": "stream",
          "text": [
            "(0.5, 12.0)\n"
          ],
          "name": "stdout"
        }
      ]
    },
    {
      "cell_type": "markdown",
      "metadata": {
        "id": "t7FB2E3ODK_R"
      },
      "source": [
        "### 12.6 Copies and references"
      ]
    },
    {
      "cell_type": "code",
      "metadata": {
        "id": "Fw9flzcuDPsU",
        "outputId": "2a8ad251-1057-49d8-9c2b-466560c80306",
        "colab": {
          "base_uri": "https://localhost:8080/"
        }
      },
      "source": [
        "class Point:\n",
        "    def __init__( self , x=0.0, y=0.0 ):\n",
        "        self.x = x\n",
        "        self.y = y\n",
        "    def __repr__( self ):\n",
        "        return f\"({self.x}, {self.y})\"\n",
        "\n",
        "class Rectangle:\n",
        "    def __init__( self , point , width , height ):\n",
        "        self.point = point\n",
        "        self.width = width\n",
        "        self.height = height\n",
        "    def __repr__( self ):\n",
        "        return f\"[{self.point},w={self.width},h={self.height}]\"\n",
        "\n",
        "p = Point( 3.5, 5.0 )\n",
        "r = Rectangle( p, 4.0, 2.0 )\n",
        "print( r )\n",
        "\n",
        "p.x = 1.0\n",
        "p.y = 1.0\n",
        "print( r )"
      ],
      "execution_count": 6,
      "outputs": [
        {
          "output_type": "stream",
          "text": [
            "[(3.5, 5.0),w=4.0,h=2.0]\n",
            "[(1.0, 1.0),w=4.0,h=2.0]\n"
          ],
          "name": "stdout"
        }
      ]
    },
    {
      "cell_type": "markdown",
      "metadata": {
        "id": "Iu9hYwRNDTnr"
      },
      "source": [
        "When you run this code, you see that by changing p, the Rectangle r is also changed. The\n",
        "point that it contains, is actually a reference to the point that was passed to the \\_\\_init\\_\\_()\n",
        "method. Like lists, dictionaries, and sets, all the objects that are instances of classes that\n",
        "you define, are “passed by reference” to functions and methods. Therefore, Rectangle r\n",
        "gets created with a reference to p. In this way you can represent relationships between objects.\n",
        "\n",
        "You do not always want this. In fact, it is unlikely that you would want a Rectangle object\n",
        "to have a relationship with the point that is indicated as its upper left corner. How can you\n",
        "solve that? You can solve it by creating a copy of the object. You can do this using the copy\n",
        "module. As discussed before, the $copy()$ function of the $copy$ module creates a shallow\n",
        "copy; if you want a deep copy, you have to use the $deepcopy()$ function. For Points this is\n",
        "not needed, as there is no difference between shallow and deep copies of instances of this class."
      ]
    },
    {
      "cell_type": "code",
      "metadata": {
        "id": "shN3Fd1HDlxp",
        "outputId": "53964303-25d8-4fbd-a142-dfa816bfb685",
        "colab": {
          "base_uri": "https://localhost:8080/"
        }
      },
      "source": [
        "from copy import copy\n",
        "\n",
        "class Point:\n",
        "    def __init__( self , x=0.0, y=0.0 ):\n",
        "        self.x = x\n",
        "        self.y = y\n",
        "    def __repr__( self ):\n",
        "        return f\"({self.x}, {self.y})\"\n",
        "\n",
        "class Rectangle:\n",
        "    def __init__( self , point , width , height ):\n",
        "        self.point = copy(point)\n",
        "        self.width = width\n",
        "        self.height = height\n",
        "    def __repr__( self ):\n",
        "        return f\"[{self.point},w={self.width},h={self.height}]\"\n",
        "\n",
        "p = Point( 3.5, 5.0 )\n",
        "r = Rectangle( p, 4.0, 2.0 )\n",
        "print( r )\n",
        "\n",
        "p.x = 1.0\n",
        "p.y = 1.0\n",
        "print( r )"
      ],
      "execution_count": 8,
      "outputs": [
        {
          "output_type": "stream",
          "text": [
            "[(3.5, 5.0),w=4.0,h=2.0]\n",
            "[(3.5, 5.0),w=4.0,h=2.0]\n"
          ],
          "name": "stdout"
        }
      ]
    },
    {
      "cell_type": "markdown",
      "metadata": {
        "id": "D7T5h70ep65C"
      },
      "source": [
        "## 16.3 Operator Overloading"
      ]
    },
    {
      "cell_type": "markdown",
      "metadata": {
        "id": "jof65GlsqD1c"
      },
      "source": [
        "## 16.4 Inheritance"
      ]
    },
    {
      "cell_type": "markdown",
      "metadata": {
        "id": "JojR-GK_QWHN"
      },
      "source": [
        "## Appendix 1 $Fraction$ Class"
      ]
    },
    {
      "cell_type": "markdown",
      "metadata": {
        "id": "wFMUV8ZmVGnF"
      },
      "source": [
        "#### Framework"
      ]
    },
    {
      "cell_type": "markdown",
      "metadata": {
        "id": "EqOE854JQ3_m"
      },
      "source": [
        "A very common example to show the details of implementing a user-defined class is to construct a class to implement the abstract data type Fraction. We have already seen that Python provides a number of numeric classes for our use. There are times, however, that it would be most appropriate to be able to create data objects that “look like” fractions."
      ]
    },
    {
      "cell_type": "markdown",
      "metadata": {
        "id": "7wqAK4R4Q5YK"
      },
      "source": [
        "- A fraction such as $\\frac{3}{5}$ consists of two parts. The top value, known as the numerator, can be any integer. The bottom value, called the denominator, can be any integer greater than 0 (negative fractions have a negative numerator). \n",
        "- Although it is possible to create a floating point approximation for any fraction, in this case we would like to represent the fraction as an exact value.\n",
        "- The operations for the Fraction type will allow a Fraction data object to behave like any other numeric value. We need to be able to add, subtract, multiply, and divide fractions. \n",
        "- We also want to be able to show fractions using the standard “slash” form, for example 3/5. \n",
        "- In addition, all fraction methods should return results in their lowest terms so that no matter what computation is performed, we always end up with the most common form."
      ]
    },
    {
      "cell_type": "code",
      "metadata": {
        "id": "onCxE2I2SeKD"
      },
      "source": [
        "class Fraction:\n",
        "    #the methods will go here\n",
        "    pass"
      ],
      "execution_count": null,
      "outputs": []
    },
    {
      "cell_type": "markdown",
      "metadata": {
        "id": "y0y1uJiWRglT"
      },
      "source": [
        "provides the framework for us to define the methods. The first method that all classes should provide is the constructor. The constructor defines the way in which data objects are created. To create a Fraction object, we will need to provide two pieces of data, the numerator and the denominator. In Python, the constructor method is always called $__init__$ (two underscores before and after $init$) and is shown in"
      ]
    },
    {
      "cell_type": "code",
      "metadata": {
        "id": "_fercE0SS-jJ"
      },
      "source": [
        "class Fraction:\n",
        "    \n",
        "    def __init__(self,top,bottom):\n",
        "        self.num = top\n",
        "        self.den = bottom"
      ],
      "execution_count": null,
      "outputs": []
    },
    {
      "cell_type": "markdown",
      "metadata": {
        "id": "PXr8M7L6TeXx"
      },
      "source": [
        "Notice that the formal parameter list contains three items **(self, top, bottom)**. **self** is a special parameter that will always be used as a reference back to the object itself. It must always be the first formal parameter; however, it will never be given an actual parameter value upon invocation. As described earlier, fractions require two pieces of state data, the numerator and the denominator. The notation **self.num** in the constructor defines the fraction object to have an internal data object called num as part of its state. Likewise, **self.den** creates the denominator. The values of the two formal parameters are initially assigned to the state, allowing the new fraction object to know its starting value."
      ]
    },
    {
      "cell_type": "markdown",
      "metadata": {
        "id": "UGgsXqVSUlst"
      },
      "source": [
        "To create an instance of the Fraction class, we must invoke the constructor. This happens by using the name of the class and passing actual values for the necessary state (note that we never directly invoke $__init__$). "
      ]
    },
    {
      "cell_type": "code",
      "metadata": {
        "id": "qafsXst3UzP5"
      },
      "source": [
        "myfraction = Fraction(3,5)"
      ],
      "execution_count": null,
      "outputs": []
    },
    {
      "cell_type": "markdown",
      "metadata": {
        "id": "-RT3WOsTVOGg"
      },
      "source": [
        "#### Behaviors"
      ]
    },
    {
      "cell_type": "markdown",
      "metadata": {
        "id": "f3OsjIIEVVOu"
      },
      "source": [
        "The next thing we need to do is implement the behavior that the abstract data type requires. To begin, consider what happens when we try to print a Fraction object."
      ]
    },
    {
      "cell_type": "code",
      "metadata": {
        "colab": {
          "base_uri": "https://localhost:8080/"
        },
        "id": "obY7qZkaVYDq",
        "outputId": "f2b36527-e0a9-447f-de15-3ef8ed5cd775"
      },
      "source": [
        "myf = Fraction(3,5)\n",
        "\n",
        "print(myf)"
      ],
      "execution_count": null,
      "outputs": [
        {
          "output_type": "stream",
          "text": [
            "<__main__.Fraction object at 0x7f361aff3a90>\n"
          ],
          "name": "stdout"
        }
      ]
    },
    {
      "cell_type": "markdown",
      "metadata": {
        "id": "w8r_czXxVjfk"
      },
      "source": [
        "The **Fraction** object, **myf**, does not know how to respond to this request to print. The **print** function requires that the object convert itself into a string so that the string can be written to the output. The only choice **myf** has is to show the actual reference that is stored in the variable (the address itself). This is not what we want.\n",
        "\n",
        "There are two ways we can solve this problem. One is to define a method called **show** that will allow the **Fraction** object to print itself as a string. We can implement this method as shown below. If we create a **Fraction** object as before, we can ask it to show itself, in other words, print itself in the proper format. Unfortunately, this does not work in general. In order to make printing work properly, we need to tell the **Fraction** class how to convert itself into a string. This is what the **print** function needs in order to do its job."
      ]
    },
    {
      "cell_type": "code",
      "metadata": {
        "id": "OLeLc1HTWEun"
      },
      "source": [
        "class Fraction:\n",
        "    \n",
        "    def __init__(self,top,bottom):\n",
        "        self.num = top\n",
        "        self.den = bottom\n",
        "\n",
        "    def show(self):\n",
        "        print(self.num,\"/\",self.den)\n",
        "\n",
        "myf = Fraction(3,5)"
      ],
      "execution_count": null,
      "outputs": []
    },
    {
      "cell_type": "code",
      "metadata": {
        "colab": {
          "base_uri": "https://localhost:8080/"
        },
        "id": "fCbo_rSSXO_y",
        "outputId": "64773bca-25ea-4f13-b27d-775acbbc359b"
      },
      "source": [
        "myf.show()"
      ],
      "execution_count": null,
      "outputs": [
        {
          "output_type": "stream",
          "text": [
            "3 / 5\n"
          ],
          "name": "stdout"
        }
      ]
    },
    {
      "cell_type": "code",
      "metadata": {
        "colab": {
          "base_uri": "https://localhost:8080/"
        },
        "id": "kKBWDa8UXQrX",
        "outputId": "5861457f-b37b-42cc-c133-1e62c52544b7"
      },
      "source": [
        "print(myf)"
      ],
      "execution_count": null,
      "outputs": [
        {
          "output_type": "stream",
          "text": [
            "<__main__.Fraction object at 0x7f361afac5d0>\n"
          ],
          "name": "stdout"
        }
      ]
    },
    {
      "cell_type": "markdown",
      "metadata": {
        "id": "yrodtrCtbLEh"
      },
      "source": [
        "In Python, all classes have a set of standard methods that are provided but may not work properly. One of these, $__str__$, is the method to convert an object into a string. The default implementation for this method is to return the instance address string as we have already seen. What we need to do is provide a “better” implementation for this method. We will say that this implementation **overrides** the previous one, or that it redefines the method’s behavior."
      ]
    },
    {
      "cell_type": "markdown",
      "metadata": {
        "id": "IV-K6NZ_bdI1"
      },
      "source": [
        "To do this, we simply define a method with the name $__str__$ and give it a new implementation as shown below. This definition does not need any other information except the special parameter **self**. \n",
        "\n",
        "In turn, the method will build a string representation by converting each piece of internal state data to a string and then placing a **/** character in between the strings using string concatenation. The resulting string will be returned any time a Fraction object is asked to convert itself to a string. Notice the various ways that this function is used."
      ]
    },
    {
      "cell_type": "code",
      "metadata": {
        "colab": {
          "base_uri": "https://localhost:8080/"
        },
        "id": "dLVgQyhAcLRe",
        "outputId": "57298f24-951f-438c-aeb7-f8d416ddd276"
      },
      "source": [
        "class Fraction:\n",
        "    \n",
        "    def __init__(self,top,bottom):\n",
        "        self.num = top\n",
        "        self.den = bottom\n",
        "\n",
        "    def __str__(self):\n",
        "        return str(self.num)+\"/\"+str(self.den)\n",
        "\n",
        "myf = Fraction(3,5)\n",
        "print(myf)"
      ],
      "execution_count": null,
      "outputs": [
        {
          "output_type": "stream",
          "text": [
            "3/5\n"
          ],
          "name": "stdout"
        }
      ]
    },
    {
      "cell_type": "code",
      "metadata": {
        "id": "iQztvEZ3cZs4"
      },
      "source": [
        "print(\"I ate\", myf, \"of the pizza\")"
      ],
      "execution_count": null,
      "outputs": []
    },
    {
      "cell_type": "code",
      "metadata": {
        "id": "g3qs-VHLcb3v"
      },
      "source": [
        "myf.__str__()"
      ],
      "execution_count": null,
      "outputs": []
    },
    {
      "cell_type": "code",
      "metadata": {
        "id": "1D1ZZmVuceK4"
      },
      "source": [
        "str(myf)"
      ],
      "execution_count": null,
      "outputs": []
    },
    {
      "cell_type": "markdown",
      "metadata": {
        "id": "w2P0vq00bkWu"
      },
      "source": [
        "#### Override"
      ]
    },
    {
      "cell_type": "markdown",
      "metadata": {
        "id": "v_t9qXOOct-9"
      },
      "source": [
        "We can override many other methods for our new Fraction class. Some of the most important of these are the basic arithmetic operations. We would like to be able to create two Fraction objects and then add them together using the standard “+” notation. At this point, if we try to add two fractions, we get the following:"
      ]
    },
    {
      "cell_type": "code",
      "metadata": {
        "colab": {
          "base_uri": "https://localhost:8080/",
          "height": 211
        },
        "id": "UC_5kq1pcwp4",
        "outputId": "3f67bd64-51fe-424c-e8da-22f87c1e1d59"
      },
      "source": [
        "f1 = Fraction(1,4)\n",
        "f2 = Fraction(1,2)\n",
        "\n",
        "f1 + f2"
      ],
      "execution_count": null,
      "outputs": [
        {
          "output_type": "error",
          "ename": "TypeError",
          "evalue": "ignored",
          "traceback": [
            "\u001b[0;31m---------------------------------------------------------------------------\u001b[0m",
            "\u001b[0;31mTypeError\u001b[0m                                 Traceback (most recent call last)",
            "\u001b[0;32m<ipython-input-11-d13360800772>\u001b[0m in \u001b[0;36m<module>\u001b[0;34m()\u001b[0m\n\u001b[1;32m      2\u001b[0m \u001b[0mf2\u001b[0m \u001b[0;34m=\u001b[0m \u001b[0mFraction\u001b[0m\u001b[0;34m(\u001b[0m\u001b[0;36m1\u001b[0m\u001b[0;34m,\u001b[0m\u001b[0;36m2\u001b[0m\u001b[0;34m)\u001b[0m\u001b[0;34m\u001b[0m\u001b[0;34m\u001b[0m\u001b[0m\n\u001b[1;32m      3\u001b[0m \u001b[0;34m\u001b[0m\u001b[0m\n\u001b[0;32m----> 4\u001b[0;31m \u001b[0mf1\u001b[0m \u001b[0;34m+\u001b[0m \u001b[0mf2\u001b[0m\u001b[0;34m\u001b[0m\u001b[0;34m\u001b[0m\u001b[0m\n\u001b[0m",
            "\u001b[0;31mTypeError\u001b[0m: unsupported operand type(s) for +: 'Fraction' and 'Fraction'"
          ]
        }
      ]
    },
    {
      "cell_type": "markdown",
      "metadata": {
        "id": "sJTkxo9Rc5M0"
      },
      "source": [
        "If you look closely at the error, you see that the problem is that the “+” operator does not understand the Fraction operands.\n",
        "\n",
        "We can fix this by providing the Fraction class with a method that overrides the addition method. In Python, this method is called $__add__$ and it requires two parameters. The first, self, is always needed, and the second represents the other operand in the expression. For example,"
      ]
    },
    {
      "cell_type": "code",
      "metadata": {
        "id": "v1wfTLinf7Vb"
      },
      "source": [
        "def __add__(self,otherfraction):\n",
        "\n",
        "     newnum = self.num*otherfraction.den + self.den*otherfraction.num\n",
        "     newden = self.den * otherfraction.den\n",
        "\n",
        "     return Fraction(newnum,newden)"
      ],
      "execution_count": null,
      "outputs": []
    },
    {
      "cell_type": "markdown",
      "metadata": {
        "id": "UlKL2hKJc5Dq"
      },
      "source": [
        ""
      ]
    }
  ]
}