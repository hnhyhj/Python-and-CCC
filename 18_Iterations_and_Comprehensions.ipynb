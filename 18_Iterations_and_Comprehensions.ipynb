{
  "nbformat": 4,
  "nbformat_minor": 0,
  "metadata": {
    "colab": {
      "name": "18 Iterations and Comprehensions.ipynb",
      "provenance": [],
      "authorship_tag": "ABX9TyOxTVsFA8RumGr4hPYj7LFa",
      "include_colab_link": true
    },
    "kernelspec": {
      "name": "python3",
      "display_name": "Python 3"
    }
  },
  "cells": [
    {
      "cell_type": "markdown",
      "metadata": {
        "id": "view-in-github",
        "colab_type": "text"
      },
      "source": [
        "<a href=\"https://colab.research.google.com/github/hnhyhj/Python-and-CCC/blob/master/18_Iterations_and_Comprehensions.ipynb\" target=\"_parent\"><img src=\"https://colab.research.google.com/assets/colab-badge.svg\" alt=\"Open In Colab\"/></a>"
      ]
    },
    {
      "cell_type": "markdown",
      "metadata": {
        "id": "ofi4s4eXKxT8"
      },
      "source": [
        "# Chapre 18 \n",
        "# Iterations and Comprehensions"
      ]
    },
    {
      "cell_type": "code",
      "metadata": {
        "id": "gC7RfSKydcEL"
      },
      "source": [
        ""
      ],
      "execution_count": null,
      "outputs": []
    }
  ]
}