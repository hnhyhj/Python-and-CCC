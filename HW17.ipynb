{
  "nbformat": 4,
  "nbformat_minor": 0,
  "metadata": {
    "colab": {
      "name": "HW17.ipynb",
      "provenance": [],
      "collapsed_sections": [],
      "authorship_tag": "ABX9TyNtmZvyMaDAygE7y2PQ3aaO",
      "include_colab_link": true
    },
    "kernelspec": {
      "name": "python3",
      "display_name": "Python 3"
    }
  },
  "cells": [
    {
      "cell_type": "markdown",
      "metadata": {
        "id": "view-in-github",
        "colab_type": "text"
      },
      "source": [
        "<a href=\"https://colab.research.google.com/github/hnhyhj/Python-and-CCC/blob/master/HW17.ipynb\" target=\"_parent\"><img src=\"https://colab.research.google.com/assets/colab-badge.svg\" alt=\"Open In Colab\"/></a>"
      ]
    },
    {
      "cell_type": "markdown",
      "metadata": {
        "id": "UPyua0SdxDwD"
      },
      "source": [
        "#### 1. What is the output of the following code, and why?"
      ]
    },
    {
      "cell_type": "code",
      "metadata": {
        "id": "5GuhcKap7ASp"
      },
      "source": [
        "def f(a): \n",
        "    print(a is b)\n",
        "\n",
        "b = 88\n",
        "f(b) "
      ],
      "execution_count": null,
      "outputs": []
    },
    {
      "cell_type": "code",
      "metadata": {
        "id": "naiTpnnu6749"
      },
      "source": [
        "def f(a): \n",
        "    a = 99\n",
        "    print(a is b)\n",
        "\n",
        "b = 88\n",
        "f(b) "
      ],
      "execution_count": null,
      "outputs": []
    },
    {
      "cell_type": "code",
      "metadata": {
        "colab": {
          "base_uri": "https://localhost:8080/"
        },
        "id": "EvvehnFg06Wf",
        "outputId": "cae2a26d-5ba3-4f8a-a81e-cb9c0ce94508"
      },
      "source": [
        "def changer(a, b): \n",
        "    a = 2 \n",
        "    b[0] = 'spam' \n",
        "    print(a is X)\n",
        "    print(b is L)\n",
        "\n",
        "X = 1\n",
        "L = [1, 2] \n",
        "\n",
        "changer(X, L)\n",
        "X, L"
      ],
      "execution_count": 7,
      "outputs": [
        {
          "output_type": "stream",
          "text": [
            "False\n",
            "True\n"
          ],
          "name": "stdout"
        },
        {
          "output_type": "execute_result",
          "data": {
            "text/plain": [
              "(1, ['spam', 2])"
            ]
          },
          "metadata": {
            "tags": []
          },
          "execution_count": 7
        }
      ]
    },
    {
      "cell_type": "code",
      "metadata": {
        "colab": {
          "base_uri": "https://localhost:8080/"
        },
        "id": "nzeOMGRa1ZhU",
        "outputId": "75b9d072-c65a-4890-b29b-4f59c1077b81"
      },
      "source": [
        "def changer(a, b): \n",
        "    a = 2 \n",
        "    b[0] = 'spam' \n",
        "    print(a is X)\n",
        "    print(b is L)\n",
        "\n",
        "X = 1\n",
        "L = [1, 2] \n",
        "\n",
        "changer(X, L[:])\n",
        "X, L"
      ],
      "execution_count": 8,
      "outputs": [
        {
          "output_type": "stream",
          "text": [
            "False\n",
            "False\n"
          ],
          "name": "stdout"
        },
        {
          "output_type": "execute_result",
          "data": {
            "text/plain": [
              "(1, [1, 2])"
            ]
          },
          "metadata": {
            "tags": []
          },
          "execution_count": 8
        }
      ]
    },
    {
      "cell_type": "code",
      "metadata": {
        "colab": {
          "base_uri": "https://localhost:8080/"
        },
        "id": "aL3WYGtB4geb",
        "outputId": "58786b7f-3857-42e9-92c0-b249845344d7"
      },
      "source": [
        "f = lambda a, b=2, c=3 : (a, b, c)\n",
        "\n",
        "f(4, 5, 5)"
      ],
      "execution_count": 10,
      "outputs": [
        {
          "output_type": "execute_result",
          "data": {
            "text/plain": [
              "(4, 5, 5)"
            ]
          },
          "metadata": {
            "tags": []
          },
          "execution_count": 10
        }
      ]
    },
    {
      "cell_type": "markdown",
      "metadata": {
        "id": "Bb7MCa1919mC"
      },
      "source": [
        "#### 2 **map**\n",
        "use $map()$ function and list comphrehension  to rewrite the following codes, and try to compare which one is faster? "
      ]
    },
    {
      "cell_type": "code",
      "metadata": {
        "id": "z2lrMurR_PvZ"
      },
      "source": [
        "alist = list(range(1000000))\n",
        "blist = []\n",
        "\n",
        "for item in alist:\n",
        "    blist.append(str(item))"
      ],
      "execution_count": null,
      "outputs": []
    },
    {
      "cell_type": "markdown",
      "metadata": {
        "id": "8arvt3kx2SLO"
      },
      "source": [
        "####5  **Use list comprehension in your solution**\n",
        "The sieve of Eratosthenes is a method to find all prime numbers between\n",
        "1 and a given number using a list. This works as follows: Fill the list with the sequence of\n",
        "numbers from 1 to the highest number. Set the value of 1 to zero, as 1 is not prime. Now\n",
        "loop over the list. Find the next number on the list that is not zero, which, at the start, is\n",
        "the number 2. Now set all multiples of this number to zero. Then find the next number on\n",
        "the list that is not zero, which is 3. Set all multiples of this number to zero. Then the next\n",
        "number, which is 5 (because 4 has already been set to zero), and do the same thing again.\n",
        "Process all the numbers of the list in this way. When you have finished, the only numbers\n",
        "left on the list are primes. Use this method to determine all the primes between 1 and 100."
      ]
    },
    {
      "cell_type": "code",
      "metadata": {
        "id": "8Ma-QbcP6sNv"
      },
      "source": [
        ""
      ],
      "execution_count": null,
      "outputs": []
    }
  ]
}