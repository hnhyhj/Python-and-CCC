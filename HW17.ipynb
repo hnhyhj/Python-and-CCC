{
  "nbformat": 4,
  "nbformat_minor": 0,
  "metadata": {
    "colab": {
      "name": "HW17.ipynb",
      "provenance": [],
      "collapsed_sections": [],
      "authorship_tag": "ABX9TyNpyVz+2lyljvkFFya5sPiu",
      "include_colab_link": true
    },
    "kernelspec": {
      "name": "python3",
      "display_name": "Python 3"
    }
  },
  "cells": [
    {
      "cell_type": "markdown",
      "metadata": {
        "id": "view-in-github",
        "colab_type": "text"
      },
      "source": [
        "<a href=\"https://colab.research.google.com/github/hnhyhj/Python-and-CCC/blob/master/HW17.ipynb\" target=\"_parent\"><img src=\"https://colab.research.google.com/assets/colab-badge.svg\" alt=\"Open In Colab\"/></a>"
      ]
    },
    {
      "cell_type": "markdown",
      "metadata": {
        "id": "UPyua0SdxDwD"
      },
      "source": [
        "#### 1. What is the output of the following code, and why?"
      ]
    },
    {
      "cell_type": "code",
      "metadata": {
        "id": "5GuhcKap7ASp",
        "outputId": "2b2b1495-dbcf-4b96-bd10-0d04e45eeb7e",
        "colab": {
          "base_uri": "https://localhost:8080/"
        }
      },
      "source": [
        "def f(a): \n",
        "    print(a is b)\n",
        "\n",
        "b = 88\n",
        "f(b) "
      ],
      "execution_count": 15,
      "outputs": [
        {
          "output_type": "stream",
          "text": [
            "True\n"
          ],
          "name": "stdout"
        }
      ]
    },
    {
      "cell_type": "code",
      "metadata": {
        "id": "naiTpnnu6749",
        "outputId": "a20fe9c0-4059-430a-a006-b19c945c022e",
        "colab": {
          "base_uri": "https://localhost:8080/"
        }
      },
      "source": [
        "def f(a): \n",
        "    a = 99\n",
        "    print(a is b)\n",
        "\n",
        "b = 88\n",
        "f(b) "
      ],
      "execution_count": 16,
      "outputs": [
        {
          "output_type": "stream",
          "text": [
            "False\n"
          ],
          "name": "stdout"
        }
      ]
    },
    {
      "cell_type": "code",
      "metadata": {
        "id": "EvvehnFg06Wf",
        "outputId": "fa61db3d-346c-43fa-9f08-a544f13d2bc7",
        "colab": {
          "base_uri": "https://localhost:8080/"
        }
      },
      "source": [
        "def changer(a, b): \n",
        "    a = 2 \n",
        "    b[0] = 'spam' \n",
        "    print(a is X)\n",
        "    print(b is L)\n",
        "\n",
        "X = 1\n",
        "L = [1, 2] \n",
        "\n",
        "changer(X, L)\n",
        "X, L"
      ],
      "execution_count": 17,
      "outputs": [
        {
          "output_type": "stream",
          "text": [
            "False\n",
            "True\n"
          ],
          "name": "stdout"
        },
        {
          "output_type": "execute_result",
          "data": {
            "text/plain": [
              "(1, ['spam', 2])"
            ]
          },
          "metadata": {
            "tags": []
          },
          "execution_count": 17
        }
      ]
    },
    {
      "cell_type": "code",
      "metadata": {
        "id": "nzeOMGRa1ZhU",
        "outputId": "77922daa-3359-40a2-88d1-2e7d128005a3",
        "colab": {
          "base_uri": "https://localhost:8080/"
        }
      },
      "source": [
        "def changer(a, b): \n",
        "    a = 2 \n",
        "    b[0] = 'spam' \n",
        "    print(a is X)\n",
        "    print(b is L)\n",
        "\n",
        "X = 1\n",
        "L = [1, 2] \n",
        "\n",
        "changer(X, L[:])\n",
        "X, L"
      ],
      "execution_count": 18,
      "outputs": [
        {
          "output_type": "stream",
          "text": [
            "False\n",
            "False\n"
          ],
          "name": "stdout"
        },
        {
          "output_type": "execute_result",
          "data": {
            "text/plain": [
              "(1, [1, 2])"
            ]
          },
          "metadata": {
            "tags": []
          },
          "execution_count": 18
        }
      ]
    },
    {
      "cell_type": "code",
      "metadata": {
        "id": "VD7t1Sk8Cu4t"
      },
      "source": [
        "L = [1, 2]\n",
        "M = L[:]"
      ],
      "execution_count": 19,
      "outputs": []
    },
    {
      "cell_type": "code",
      "metadata": {
        "id": "c6j6crL9C0sg",
        "outputId": "7a95a37d-c236-4f11-8d1e-02cee5e597fc",
        "colab": {
          "base_uri": "https://localhost:8080/"
        }
      },
      "source": [
        "M is L"
      ],
      "execution_count": 20,
      "outputs": [
        {
          "output_type": "execute_result",
          "data": {
            "text/plain": [
              "False"
            ]
          },
          "metadata": {
            "tags": []
          },
          "execution_count": 20
        }
      ]
    },
    {
      "cell_type": "code",
      "metadata": {
        "id": "aL3WYGtB4geb",
        "outputId": "7cd2242a-2590-4d13-8bdf-151d002234bd",
        "colab": {
          "base_uri": "https://localhost:8080/"
        }
      },
      "source": [
        "f = lambda a, b=2, c=3 : (a, b, c)\n",
        "\n",
        "f(4, 5, 5)"
      ],
      "execution_count": 21,
      "outputs": [
        {
          "output_type": "execute_result",
          "data": {
            "text/plain": [
              "(4, 5, 5)"
            ]
          },
          "metadata": {
            "tags": []
          },
          "execution_count": 21
        }
      ]
    },
    {
      "cell_type": "code",
      "metadata": {
        "id": "wL_cTjGKRjEl",
        "outputId": "d8bcfdd4-8658-469e-a74f-1187f98778b2",
        "colab": {
          "base_uri": "https://localhost:8080/"
        }
      },
      "source": [
        "alist = [0]*10\n",
        "blist = [alist[:]]*10\n",
        "\n",
        "print(alist[0] is alist[1])\n",
        "print(type(alist[0]))\n",
        "print(alist is blist[0])\n",
        "print(blist[0] is blist[1])\n",
        "\n",
        "blist[0][0] = 1\n",
        "blist"
      ],
      "execution_count": 22,
      "outputs": [
        {
          "output_type": "stream",
          "text": [
            "True\n",
            "<class 'int'>\n",
            "False\n",
            "True\n"
          ],
          "name": "stdout"
        },
        {
          "output_type": "execute_result",
          "data": {
            "text/plain": [
              "[[1, 0, 0, 0, 0, 0, 0, 0, 0, 0],\n",
              " [1, 0, 0, 0, 0, 0, 0, 0, 0, 0],\n",
              " [1, 0, 0, 0, 0, 0, 0, 0, 0, 0],\n",
              " [1, 0, 0, 0, 0, 0, 0, 0, 0, 0],\n",
              " [1, 0, 0, 0, 0, 0, 0, 0, 0, 0],\n",
              " [1, 0, 0, 0, 0, 0, 0, 0, 0, 0],\n",
              " [1, 0, 0, 0, 0, 0, 0, 0, 0, 0],\n",
              " [1, 0, 0, 0, 0, 0, 0, 0, 0, 0],\n",
              " [1, 0, 0, 0, 0, 0, 0, 0, 0, 0],\n",
              " [1, 0, 0, 0, 0, 0, 0, 0, 0, 0]]"
            ]
          },
          "metadata": {
            "tags": []
          },
          "execution_count": 22
        }
      ]
    },
    {
      "cell_type": "code",
      "metadata": {
        "id": "EX5Wd6nwQxF1",
        "outputId": "a2bf2e92-0870-41ab-c473-b17e331da558",
        "colab": {
          "base_uri": "https://localhost:8080/"
        }
      },
      "source": [
        "alist = [0]*10\n",
        "blist = [alist[:] for i in range(10)]\n",
        "\n",
        "print(alist is blist[0])\n",
        "print(blist[0] is blist[1])\n",
        "\n",
        "blist[0][0] = 1\n",
        "blist"
      ],
      "execution_count": 23,
      "outputs": [
        {
          "output_type": "stream",
          "text": [
            "False\n",
            "False\n"
          ],
          "name": "stdout"
        },
        {
          "output_type": "execute_result",
          "data": {
            "text/plain": [
              "[[1, 0, 0, 0, 0, 0, 0, 0, 0, 0],\n",
              " [0, 0, 0, 0, 0, 0, 0, 0, 0, 0],\n",
              " [0, 0, 0, 0, 0, 0, 0, 0, 0, 0],\n",
              " [0, 0, 0, 0, 0, 0, 0, 0, 0, 0],\n",
              " [0, 0, 0, 0, 0, 0, 0, 0, 0, 0],\n",
              " [0, 0, 0, 0, 0, 0, 0, 0, 0, 0],\n",
              " [0, 0, 0, 0, 0, 0, 0, 0, 0, 0],\n",
              " [0, 0, 0, 0, 0, 0, 0, 0, 0, 0],\n",
              " [0, 0, 0, 0, 0, 0, 0, 0, 0, 0],\n",
              " [0, 0, 0, 0, 0, 0, 0, 0, 0, 0]]"
            ]
          },
          "metadata": {
            "tags": []
          },
          "execution_count": 23
        }
      ]
    },
    {
      "cell_type": "markdown",
      "metadata": {
        "id": "Bb7MCa1919mC"
      },
      "source": [
        "#### 2 **map**\n",
        "use $map()$ function and list comphrehension  to rewrite the following codes, and find out which one is faster? "
      ]
    },
    {
      "cell_type": "code",
      "metadata": {
        "id": "z2lrMurR_PvZ"
      },
      "source": [
        "alist = list(range(1000000))\n",
        "blist = []\n",
        "\n",
        "for item in alist:\n",
        "    blist.append(str(item))"
      ],
      "execution_count": null,
      "outputs": []
    },
    {
      "cell_type": "markdown",
      "metadata": {
        "id": "8arvt3kx2SLO"
      },
      "source": [
        "####3  **Use list comprehension in your solution**\n",
        "The sieve of Eratosthenes is a method to find all prime numbers between\n",
        "1 and a given number using a list. This works as follows: Fill the list with the sequence of\n",
        "numbers from 1 to the highest number. Set the value of 1 to zero, as 1 is not prime. Now\n",
        "loop over the list. Find the next number on the list that is not zero, which, at the start, is\n",
        "the number 2. Now set all multiples of this number to zero. Then find the next number on\n",
        "the list that is not zero, which is 3. Set all multiples of this number to zero. Then the next\n",
        "number, which is 5 (because 4 has already been set to zero), and do the same thing again.\n",
        "Process all the numbers of the list in this way. When you have finished, the only numbers\n",
        "left on the list are primes. Use this method to determine all the primes between 1 and 100."
      ]
    },
    {
      "cell_type": "code",
      "metadata": {
        "id": "8Ma-QbcP6sNv"
      },
      "source": [
        ""
      ],
      "execution_count": null,
      "outputs": []
    },
    {
      "cell_type": "markdown",
      "metadata": {
        "id": "INPlYAxRTYEF"
      },
      "source": [
        "#### 4 **CCC '20 S4 - Swapping Seats**\n",
        "[Swapping Seats](https://dmoj.ca/problem/ccc20s4)\n",
        "\n",
        "Try to use $collections.Counter$ in your solution!"
      ]
    },
    {
      "cell_type": "code",
      "metadata": {
        "id": "vzeKorAmUMV1"
      },
      "source": [
        "s = 'ABDFSSBBDDAADCCBBVV'"
      ],
      "execution_count": 12,
      "outputs": []
    },
    {
      "cell_type": "code",
      "metadata": {
        "id": "7glasTjp-4oT"
      },
      "source": [
        "from collections import Counter\n",
        "\n",
        "counts = Counter(s)"
      ],
      "execution_count": 13,
      "outputs": []
    },
    {
      "cell_type": "code",
      "metadata": {
        "id": "07LAlc2F_BeJ",
        "outputId": "d780903b-7d63-43f2-b507-e25146e52b3b",
        "colab": {
          "base_uri": "https://localhost:8080/"
        }
      },
      "source": [
        "counts"
      ],
      "execution_count": 14,
      "outputs": [
        {
          "output_type": "execute_result",
          "data": {
            "text/plain": [
              "Counter({'A': 3, 'B': 5, 'C': 2, 'D': 4, 'F': 1, 'S': 2, 'V': 2})"
            ]
          },
          "metadata": {
            "tags": []
          },
          "execution_count": 14
        }
      ]
    }
  ]
}