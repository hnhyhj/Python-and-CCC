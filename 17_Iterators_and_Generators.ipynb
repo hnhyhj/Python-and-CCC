{
  "nbformat": 4,
  "nbformat_minor": 0,
  "metadata": {
    "colab": {
      "name": "17 Iterators and Generators.ipynb",
      "provenance": [],
      "authorship_tag": "ABX9TyMxZCn0Fc4nsj0CO2Nq55HT",
      "include_colab_link": true
    },
    "kernelspec": {
      "name": "python3",
      "display_name": "Python 3"
    }
  },
  "cells": [
    {
      "cell_type": "markdown",
      "metadata": {
        "id": "view-in-github",
        "colab_type": "text"
      },
      "source": [
        "<a href=\"https://colab.research.google.com/github/hnhyhj/Python-and-CCC/blob/master/17_Iterators_and_Generators.ipynb\" target=\"_parent\"><img src=\"https://colab.research.google.com/assets/colab-badge.svg\" alt=\"Open In Colab\"/></a>"
      ]
    },
    {
      "cell_type": "markdown",
      "metadata": {
        "id": "DCpDiWfIReUZ"
      },
      "source": [
        "# **Chapter 17**\n",
        "# **Iterators and Generators**\n",
        "\n",
        "Iterators allow your classes to be used in $for ... in ...$ statements. Generators are an easy way to create iterators."
      ]
    },
    {
      "cell_type": "markdown",
      "metadata": {
        "id": "olFLgY3YiP0V"
      },
      "source": [
        "## 17.1 Iterators\n"
      ]
    },
    {
      "cell_type": "markdown",
      "metadata": {
        "id": "Mcl4zVXCjE_M"
      },
      "source": [
        "List, strings, and dictionaries are all “iterables,” which means they can be used in such $for ... in ...$ expressions. Many other objects can also be used as iterables. You can actually ensure that your own classes can be used as iterables as well."
      ]
    },
    {
      "cell_type": "code",
      "metadata": {
        "id": "FGl6o9JKRc3n",
        "outputId": "9ef8bdeb-9b32-41cf-f230-5d5c32ddfc0b",
        "colab": {
          "base_uri": "https://localhost:8080/"
        }
      },
      "source": [
        "for x in [1, 2, 3, 4]: print(x ** 2, end=' ')"
      ],
      "execution_count": 1,
      "outputs": [
        {
          "output_type": "stream",
          "text": [
            "1 4 9 16 "
          ],
          "name": "stdout"
        }
      ]
    },
    {
      "cell_type": "code",
      "metadata": {
        "id": "0KhxEFqHlSst",
        "outputId": "f8998468-cadc-4a0a-eace-5f62ccedb8ec",
        "colab": {
          "base_uri": "https://localhost:8080/"
        }
      },
      "source": [
        "for x in (1, 2, 3, 4): print(x ** 3, end=' ')"
      ],
      "execution_count": 2,
      "outputs": [
        {
          "output_type": "stream",
          "text": [
            "1 8 27 64 "
          ],
          "name": "stdout"
        }
      ]
    },
    {
      "cell_type": "code",
      "metadata": {
        "id": "G5HRVgbGlayi",
        "outputId": "89e0151f-bbb1-4af2-f7a1-51c6912561d1",
        "colab": {
          "base_uri": "https://localhost:8080/"
        }
      },
      "source": [
        "for x in 'spam': print(x * 2, end=' ')"
      ],
      "execution_count": 3,
      "outputs": [
        {
          "output_type": "stream",
          "text": [
            "ss pp aa mm "
          ],
          "name": "stdout"
        }
      ]
    },
    {
      "cell_type": "markdown",
      "metadata": {
        "id": "gec7JpMulaca"
      },
      "source": [
        "Actually, the for loop turns out to be even more generic than this—it works on any\n",
        "iterable object. In fact, this is true of all iteration tools that scan objects from left to right\n",
        "in Python, including for loops, the list comprehensions we’ll study in this chapter, in\n",
        "membership tests, the map built-in function, and more."
      ]
    },
    {
      "cell_type": "markdown",
      "metadata": {
        "id": "sipmEwtglIxk"
      },
      "source": [
        "The concept of “iterable objects” is relatively recent in Python, but it has come to\n",
        "permeate the language’s design. It’s essentially a generalization of the notion of sequences—an object is considered iterable if it is either a physically stored sequence, or\n",
        "an object that produces one result at a time in the context of an iteration tool like a\n",
        "for loop. In a sense, iterable objects include both physical sequences and virtual sequences computed on demand."
      ]
    },
    {
      "cell_type": "markdown",
      "metadata": {
        "id": "fqj-Th0NjNcJ"
      },
      "source": [
        "An “iterator” is an object that returns a new item every time you call the $next()$ function with the object as argument. When there are no items left, it raises a StopIteration exception. If you want to avoid the exception, you can give an optional second argument to $next()$, which is returned when the iterator is exhausted. You can turn an iterable into an iterator object using the built-in function $iter()$."
      ]
    },
    {
      "cell_type": "markdown",
      "metadata": {
        "id": "hVrQhtL1j51P"
      },
      "source": [
        "## 17.2 Generator"
      ]
    },
    {
      "cell_type": "markdown",
      "metadata": {
        "id": "4G1o-j-ynVMW"
      },
      "source": [
        "we’ve learned about coding normal functions that receive input\n",
        "parameters and send back a single result immediately. It is also possible, however, to write functions that may send back a value and later be resumed, picking up where they left off. Such functions, are known as **generator**\n",
        "**functions**  because they generate a sequence of values over time."
      ]
    },
    {
      "cell_type": "markdown",
      "metadata": {
        "id": "uJEMVvixnsQL"
      },
      "source": [
        "Generator functions are like normal functions in most respects, and in fact are coded with normal def statements. However, when created, they are compiled specially into an object that supports the iteration protocol. And when called, they don’t return a result: they return a result generator that can appear in any iteration context. "
      ]
    },
    {
      "cell_type": "markdown",
      "metadata": {
        "id": "LhHgtr2cocnf"
      },
      "source": [
        "Unlike normal functions that return a value and exit, generator functions automatically\n",
        "suspend and resume their execution and state around the point of value generation.\n",
        "Because of that, they are often a useful alternative to both computing an entire series\n",
        "of values up front and manually saving and restoring state in classes. The state that\n",
        "generator functions retain when they are suspended includes both their code location,\n",
        "and their entire local scope. Hence, their local variables retain information between\n",
        "results, and make it available when the functions are resumed.\n",
        "\n",
        "The chief code difference between generator and normal functions is that a generator\n",
        "yields a value, rather than returning one—the yield statement suspends the function\n",
        "and sends a value back to the caller, but retains enough state to enable the function to\n",
        "resume from where it left off. When resumed, the function continues execution immediately after the last yield run. From the function’s perspective, this allows its code\n",
        "to produce a series of values over time, rather than computing them all at once and\n",
        "sending them back in something like a list."
      ]
    },
    {
      "cell_type": "code",
      "metadata": {
        "id": "eb_4Sa9FoiWD"
      },
      "source": [
        "def gensquares(N):\n",
        "    for i in range(N):\n",
        "        yield i ** 2"
      ],
      "execution_count": 21,
      "outputs": []
    },
    {
      "cell_type": "code",
      "metadata": {
        "id": "m_ITjf9ZpHLI"
      },
      "source": [
        "iters = gensquares(5)"
      ],
      "execution_count": 22,
      "outputs": []
    },
    {
      "cell_type": "code",
      "metadata": {
        "id": "iIXSV8pbp95S",
        "outputId": "8a51977b-bfc0-4a12-dad8-517538387594",
        "colab": {
          "base_uri": "https://localhost:8080/"
        }
      },
      "source": [
        "iters"
      ],
      "execution_count": 23,
      "outputs": [
        {
          "output_type": "execute_result",
          "data": {
            "text/plain": [
              "<generator object gensquares at 0x7f74a41ca150>"
            ]
          },
          "metadata": {
            "tags": []
          },
          "execution_count": 23
        }
      ]
    },
    {
      "cell_type": "code",
      "metadata": {
        "id": "iNIMYUmnpUd7",
        "outputId": "831a4d1d-db35-4893-b829-7456686b0ec8",
        "colab": {
          "base_uri": "https://localhost:8080/"
        }
      },
      "source": [
        "next(iters)"
      ],
      "execution_count": 24,
      "outputs": [
        {
          "output_type": "execute_result",
          "data": {
            "text/plain": [
              "0"
            ]
          },
          "metadata": {
            "tags": []
          },
          "execution_count": 24
        }
      ]
    },
    {
      "cell_type": "code",
      "metadata": {
        "id": "_knUo8zqqgZw",
        "outputId": "c0ef6bb1-6e32-4b7f-b030-fd8c4c017928",
        "colab": {
          "base_uri": "https://localhost:8080/"
        }
      },
      "source": [
        "next(iters)\n",
        "next(iters)\n",
        "next(iters)"
      ],
      "execution_count": 25,
      "outputs": [
        {
          "output_type": "execute_result",
          "data": {
            "text/plain": [
              "9"
            ]
          },
          "metadata": {
            "tags": []
          },
          "execution_count": 25
        }
      ]
    },
    {
      "cell_type": "code",
      "metadata": {
        "id": "AqCY0QHPqiQf",
        "outputId": "a6eba202-0cd7-42ae-9586-2e5252b79ce7",
        "colab": {
          "base_uri": "https://localhost:8080/"
        }
      },
      "source": [
        "next(iters)"
      ],
      "execution_count": 26,
      "outputs": [
        {
          "output_type": "execute_result",
          "data": {
            "text/plain": [
              "16"
            ]
          },
          "metadata": {
            "tags": []
          },
          "execution_count": 26
        }
      ]
    },
    {
      "cell_type": "code",
      "metadata": {
        "id": "6W4m6S1lqkmx",
        "outputId": "23f8d5db-8624-4db6-8e0b-55522a6f3733",
        "colab": {
          "base_uri": "https://localhost:8080/",
          "height": 175
        }
      },
      "source": [
        "next(iters)"
      ],
      "execution_count": 27,
      "outputs": [
        {
          "output_type": "error",
          "ename": "StopIteration",
          "evalue": "ignored",
          "traceback": [
            "\u001b[0;31m---------------------------------------------------------------------------\u001b[0m",
            "\u001b[0;31mStopIteration\u001b[0m                             Traceback (most recent call last)",
            "\u001b[0;32m<ipython-input-27-809c2433a208>\u001b[0m in \u001b[0;36m<module>\u001b[0;34m()\u001b[0m\n\u001b[0;32m----> 1\u001b[0;31m \u001b[0mnext\u001b[0m\u001b[0;34m(\u001b[0m\u001b[0miters\u001b[0m\u001b[0;34m)\u001b[0m\u001b[0;34m\u001b[0m\u001b[0;34m\u001b[0m\u001b[0m\n\u001b[0m",
            "\u001b[0;31mStopIteration\u001b[0m: "
          ]
        }
      ]
    },
    {
      "cell_type": "markdown",
      "metadata": {
        "id": "d0RgFWokqxFS"
      },
      "source": [
        ""
      ]
    }
  ]
}