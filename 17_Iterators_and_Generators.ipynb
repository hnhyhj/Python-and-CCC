{
  "nbformat": 4,
  "nbformat_minor": 0,
  "metadata": {
    "colab": {
      "name": "17 Iterators and Generators.ipynb",
      "provenance": [],
      "authorship_tag": "ABX9TyNoEgY4ZmzWsPzuu90Lhe6L",
      "include_colab_link": true
    },
    "kernelspec": {
      "name": "python3",
      "display_name": "Python 3"
    }
  },
  "cells": [
    {
      "cell_type": "markdown",
      "metadata": {
        "id": "view-in-github",
        "colab_type": "text"
      },
      "source": [
        "<a href=\"https://colab.research.google.com/github/hnhyhj/Python-and-CCC/blob/master/17_Iterators_and_Generators.ipynb\" target=\"_parent\"><img src=\"https://colab.research.google.com/assets/colab-badge.svg\" alt=\"Open In Colab\"/></a>"
      ]
    },
    {
      "cell_type": "markdown",
      "metadata": {
        "id": "DCpDiWfIReUZ"
      },
      "source": [
        "# **Chapter 17**\n",
        "# **Iterators and Generators**\n",
        "\n",
        "Iterators allow your classes to be used in $for ... in ...$ statements. Generators are an easy way to create iterators."
      ]
    },
    {
      "cell_type": "markdown",
      "metadata": {
        "id": "olFLgY3YiP0V"
      },
      "source": [
        "## 17.1 Iterators\n"
      ]
    },
    {
      "cell_type": "markdown",
      "metadata": {
        "id": "Mcl4zVXCjE_M"
      },
      "source": [
        "List, strings, and dictionaries are all “iterables,” which means they can be used in such $for ... in ...$ expressions. Many other objects can also be used as iterables. You can actually ensure that your own classes can be used as iterables as well."
      ]
    },
    {
      "cell_type": "code",
      "metadata": {
        "id": "FGl6o9JKRc3n",
        "colab": {
          "base_uri": "https://localhost:8080/"
        },
        "outputId": "9ef8bdeb-9b32-41cf-f230-5d5c32ddfc0b"
      },
      "source": [
        "for x in [1, 2, 3, 4]: print(x ** 2, end=' ')"
      ],
      "execution_count": 1,
      "outputs": [
        {
          "output_type": "stream",
          "text": [
            "1 4 9 16 "
          ],
          "name": "stdout"
        }
      ]
    },
    {
      "cell_type": "code",
      "metadata": {
        "colab": {
          "base_uri": "https://localhost:8080/"
        },
        "id": "0KhxEFqHlSst",
        "outputId": "f8998468-cadc-4a0a-eace-5f62ccedb8ec"
      },
      "source": [
        "for x in (1, 2, 3, 4): print(x ** 3, end=' ')"
      ],
      "execution_count": 2,
      "outputs": [
        {
          "output_type": "stream",
          "text": [
            "1 8 27 64 "
          ],
          "name": "stdout"
        }
      ]
    },
    {
      "cell_type": "code",
      "metadata": {
        "colab": {
          "base_uri": "https://localhost:8080/"
        },
        "id": "G5HRVgbGlayi",
        "outputId": "89e0151f-bbb1-4af2-f7a1-51c6912561d1"
      },
      "source": [
        "for x in 'spam': print(x * 2, end=' ')"
      ],
      "execution_count": 3,
      "outputs": [
        {
          "output_type": "stream",
          "text": [
            "ss pp aa mm "
          ],
          "name": "stdout"
        }
      ]
    },
    {
      "cell_type": "markdown",
      "metadata": {
        "id": "gec7JpMulaca"
      },
      "source": [
        "Actually, the for loop turns out to be even more generic than this—it works on any\n",
        "iterable object. In fact, this is true of all iteration tools that scan objects from left to right\n",
        "in Python, including for loops, the list comprehensions we’ll study in this chapter, in\n",
        "membership tests, the map built-in function, and more."
      ]
    },
    {
      "cell_type": "markdown",
      "metadata": {
        "id": "sipmEwtglIxk"
      },
      "source": [
        "The concept of “iterable objects” is relatively recent in Python, but it has come to\n",
        "permeate the language’s design. It’s essentially a generalization of the notion of sequences—an object is considered iterable if it is either a physically stored sequence, or\n",
        "an object that produces one result at a time in the context of an iteration tool like a\n",
        "for loop. In a sense, iterable objects include both physical sequences and virtual sequences computed on demand."
      ]
    },
    {
      "cell_type": "markdown",
      "metadata": {
        "id": "fqj-Th0NjNcJ"
      },
      "source": [
        "An “iterator” is an object that returns a new item every time you call the $next()$ function with the object as argument. When there are no items left, it raises a StopIteration exception. If you want to avoid the exception, you can give an optional second argument to $next()$, which is returned when the iterator is exhausted. You can turn an iterable into an iterator object using the built-in function $iter()$."
      ]
    },
    {
      "cell_type": "markdown",
      "metadata": {
        "id": "hVrQhtL1j51P"
      },
      "source": [
        "## 17.2 Generator"
      ]
    },
    {
      "cell_type": "markdown",
      "metadata": {
        "id": "4G1o-j-ynVMW"
      },
      "source": [
        "### 17.2.1 What is generator?\n",
        "we’ve learned about coding normal functions that receive input\n",
        "parameters and send back a single result immediately. It is also possible, however, to write functions that may send back a value and later be resumed, picking up where they left off. Such functions, are known as **generator**\n",
        "**functions**  because they generate a sequence of values over time."
      ]
    },
    {
      "cell_type": "markdown",
      "metadata": {
        "id": "uJEMVvixnsQL"
      },
      "source": [
        "Generator functions are like normal functions in most respects, and in fact are coded with normal def statements. However, when created, they are compiled specially into an object that supports the iteration protocol. And when called, they don’t return a result: they return a result generator that can appear in any iteration context. "
      ]
    },
    {
      "cell_type": "markdown",
      "metadata": {
        "id": "LhHgtr2cocnf"
      },
      "source": [
        "Unlike normal functions that return a value and exit, generator functions automatically\n",
        "suspend and resume their execution and state around the point of value generation.\n",
        "Because of that, they are often a useful alternative to both computing an entire series\n",
        "of values up front and manually saving and restoring state in classes. The state that\n",
        "generator functions retain when they are suspended includes both their code location,\n",
        "and their entire local scope. Hence, their local variables retain information between\n",
        "results, and make it available when the functions are resumed.\n",
        "\n",
        "The chief code difference between generator and normal functions is that a generator\n",
        "yields a value, rather than returning one—the yield statement suspends the function\n",
        "and sends a value back to the caller, but retains enough state to enable the function to\n",
        "resume from where it left off. When resumed, the function continues execution immediately after the last yield run. From the function’s perspective, this allows its code\n",
        "to produce a series of values over time, rather than computing them all at once and\n",
        "sending them back in something like a list."
      ]
    },
    {
      "cell_type": "code",
      "metadata": {
        "id": "eb_4Sa9FoiWD"
      },
      "source": [
        "def gensquares(N):\n",
        "    for i in range(N):\n",
        "        yield i ** 2"
      ],
      "execution_count": 3,
      "outputs": []
    },
    {
      "cell_type": "code",
      "metadata": {
        "colab": {
          "base_uri": "https://localhost:8080/"
        },
        "id": "24VdpNeRsNci",
        "outputId": "0be2375f-2a58-4d64-a761-57ca627649b2"
      },
      "source": [
        "for i in gensquares(5): # Resume the function\n",
        "    print(i, end=' : ')"
      ],
      "execution_count": 4,
      "outputs": [
        {
          "output_type": "stream",
          "text": [
            "0 : 1 : 4 : 9 : 16 : "
          ],
          "name": "stdout"
        }
      ]
    },
    {
      "cell_type": "markdown",
      "metadata": {
        "id": "cu6onO3CsN8f"
      },
      "source": [
        "#### Explore in $next()$ way"
      ]
    },
    {
      "cell_type": "code",
      "metadata": {
        "id": "m_ITjf9ZpHLI"
      },
      "source": [
        "iters = gensquares(5)"
      ],
      "execution_count": 22,
      "outputs": []
    },
    {
      "cell_type": "code",
      "metadata": {
        "colab": {
          "base_uri": "https://localhost:8080/"
        },
        "id": "iIXSV8pbp95S",
        "outputId": "8a51977b-bfc0-4a12-dad8-517538387594"
      },
      "source": [
        "iters"
      ],
      "execution_count": 23,
      "outputs": [
        {
          "output_type": "execute_result",
          "data": {
            "text/plain": [
              "<generator object gensquares at 0x7f74a41ca150>"
            ]
          },
          "metadata": {
            "tags": []
          },
          "execution_count": 23
        }
      ]
    },
    {
      "cell_type": "code",
      "metadata": {
        "colab": {
          "base_uri": "https://localhost:8080/"
        },
        "id": "iNIMYUmnpUd7",
        "outputId": "831a4d1d-db35-4893-b829-7456686b0ec8"
      },
      "source": [
        "next(iters)"
      ],
      "execution_count": 24,
      "outputs": [
        {
          "output_type": "execute_result",
          "data": {
            "text/plain": [
              "0"
            ]
          },
          "metadata": {
            "tags": []
          },
          "execution_count": 24
        }
      ]
    },
    {
      "cell_type": "code",
      "metadata": {
        "colab": {
          "base_uri": "https://localhost:8080/"
        },
        "id": "_knUo8zqqgZw",
        "outputId": "c0ef6bb1-6e32-4b7f-b030-fd8c4c017928"
      },
      "source": [
        "next(iters)\n",
        "next(iters)\n",
        "next(iters)"
      ],
      "execution_count": 25,
      "outputs": [
        {
          "output_type": "execute_result",
          "data": {
            "text/plain": [
              "9"
            ]
          },
          "metadata": {
            "tags": []
          },
          "execution_count": 25
        }
      ]
    },
    {
      "cell_type": "code",
      "metadata": {
        "colab": {
          "base_uri": "https://localhost:8080/"
        },
        "id": "AqCY0QHPqiQf",
        "outputId": "a6eba202-0cd7-42ae-9586-2e5252b79ce7"
      },
      "source": [
        "next(iters)"
      ],
      "execution_count": 26,
      "outputs": [
        {
          "output_type": "execute_result",
          "data": {
            "text/plain": [
              "16"
            ]
          },
          "metadata": {
            "tags": []
          },
          "execution_count": 26
        }
      ]
    },
    {
      "cell_type": "markdown",
      "metadata": {
        "id": "YIn_asxBfkar"
      },
      "source": [
        "#### Fibo"
      ]
    },
    {
      "cell_type": "code",
      "metadata": {
        "id": "kuKebrnKYNFP"
      },
      "source": [
        "def fibo(maxnum):\n",
        "    nr1 = 0\n",
        "    nr2 = 1\n",
        "\n",
        "    while nr2 <= maxnum:\n",
        "        nr3 = nr1 + nr2\n",
        "        nr1 = nr2\n",
        "        nr2 = nr3\n",
        "        yield nr1"
      ],
      "execution_count": 31,
      "outputs": []
    },
    {
      "cell_type": "code",
      "metadata": {
        "id": "C9yM84ynYQap"
      },
      "source": [
        "fseq = fibo(1000)"
      ],
      "execution_count": 32,
      "outputs": []
    },
    {
      "cell_type": "code",
      "metadata": {
        "id": "6dCx-DIqYTJS",
        "outputId": "bc1c2e03-445f-4244-94c7-3e327585d3de",
        "colab": {
          "base_uri": "https://localhost:8080/"
        }
      },
      "source": [
        "fseq"
      ],
      "execution_count": 33,
      "outputs": [
        {
          "output_type": "execute_result",
          "data": {
            "text/plain": [
              "<generator object fibo at 0x7fd9f2dd35d0>"
            ]
          },
          "metadata": {
            "tags": []
          },
          "execution_count": 33
        }
      ]
    },
    {
      "cell_type": "code",
      "metadata": {
        "id": "bQosmhBPYbIx",
        "outputId": "69f227da-ec1e-423e-e4d4-161a06e36b0d",
        "colab": {
          "base_uri": "https://localhost:8080/"
        }
      },
      "source": [
        "for n in fseq:\n",
        "    print(n, end=\" \")\n",
        "print()"
      ],
      "execution_count": 34,
      "outputs": [
        {
          "output_type": "stream",
          "text": [
            "1 1 2 3 5 8 13 21 34 55 89 144 233 377 610 987 \n"
          ],
          "name": "stdout"
        }
      ]
    },
    {
      "cell_type": "markdown",
      "metadata": {
        "id": "d0RgFWokqxFS"
      },
      "source": [
        "### 17.2.2 Why generator functions?"
      ]
    },
    {
      "cell_type": "code",
      "metadata": {
        "colab": {
          "base_uri": "https://localhost:8080/"
        },
        "id": "GF6oDdJlv5hR",
        "outputId": "846b69e7-62f8-4dd9-8978-4dbcd20593a6"
      },
      "source": [
        "def buildsquares(n):\n",
        "    res = []\n",
        "    for i in range(n):\n",
        "        res.append(i ** 2)\n",
        "    return res\n",
        "\n",
        "for x in buildsquares(5): print(x, end=' : ')"
      ],
      "execution_count": 5,
      "outputs": [
        {
          "output_type": "stream",
          "text": [
            "0 : 1 : 4 : 9 : 16 : "
          ],
          "name": "stdout"
        }
      ]
    },
    {
      "cell_type": "code",
      "metadata": {
        "colab": {
          "base_uri": "https://localhost:8080/"
        },
        "id": "Q57suxyBr7Qb",
        "outputId": "7c496d0b-08bc-4a4f-dd3a-7e9bffe63eb1"
      },
      "source": [
        "for x in [n ** 2 for n in range(5)]:\n",
        "    print(x, end=' : ')"
      ],
      "execution_count": 1,
      "outputs": [
        {
          "output_type": "stream",
          "text": [
            "0 : 1 : 4 : 9 : 16 : "
          ],
          "name": "stdout"
        }
      ]
    },
    {
      "cell_type": "markdown",
      "metadata": {
        "id": "6olSw6wxtB-X"
      },
      "source": [
        "However, generators can be better in terms of both memory use and performance in\n",
        "larger programs. They allow functions to avoid doing all the work up front, which is\n",
        "especially useful when the result lists are large or when it takes a lot of computation to\n",
        "produce each value. Generators distribute the time required to produce the series of\n",
        "values among loop iterations."
      ]
    },
    {
      "cell_type": "markdown",
      "metadata": {
        "id": "mGdFTMVQhal0"
      },
      "source": [
        "### 17.2.3 Generator expressions\n",
        "\n",
        "In Chapter 12, it was introduced the concept of list comprehension. Since any list can be turned into an iterator, and thus into a generator, Python introduced a similar concept for generators, and calls it “generator expressions.” The syntax for a generator expression is the same\n",
        "as for a list comprehension, except that the square brackets are replaced by round brackets."
      ]
    },
    {
      "cell_type": "code",
      "metadata": {
        "id": "hJ5qrWx6hhTy",
        "outputId": "7575d86c-8ee9-44ef-f387-911642037bc7",
        "colab": {
          "base_uri": "https://localhost:8080/"
        }
      },
      "source": [
        "seq = (x * x for x in range(11))\n",
        "\n",
        "for x in seq:\n",
        "    print(x, end=\" \")"
      ],
      "execution_count": 35,
      "outputs": [
        {
          "output_type": "stream",
          "text": [
            "0 1 4 9 16 25 36 49 64 81 100 "
          ],
          "name": "stdout"
        }
      ]
    },
    {
      "cell_type": "markdown",
      "metadata": {
        "id": "AHYV1I0Ph_I1"
      },
      "source": [
        "If you just replace the outer two parentheses by square brackets in the generator expression, the code runs with seq being the result of list comprehension. To be absolutely clear about it: with list comprehension the whole list is generated at once, while with a generator\n",
        "expression the items are generated when needed. Thus, in principle a generator expression\n",
        "is preferable, as it saves memory."
      ]
    },
    {
      "cell_type": "markdown",
      "metadata": {
        "id": "IXyMxOFkiDn6"
      },
      "source": [
        "### 17.2.4 $itertools$ **module**"
      ]
    },
    {
      "cell_type": "markdown",
      "metadata": {
        "id": "RncU8HqKiXSZ"
      },
      "source": [
        "The itertools module contains a collection of functions that allow advanced manipulation of iterators. Taken to the extreme, they allow for a sort of “iterator algebra” that can\n",
        "be used to implement specialized tools in Python. Here I just highlight a few of the basic\n",
        "functions from itertools that you might find handy at times."
      ]
    },
    {
      "cell_type": "markdown",
      "metadata": {
        "id": "M1YIkUixikbp"
      },
      "source": [
        "#### $chain()$\n",
        "$chain()$ takes two or more iterables as arguments and functions as an iterable that works through them in sequence."
      ]
    },
    {
      "cell_type": "code",
      "metadata": {
        "id": "QhY4I737izRR",
        "outputId": "33526978-86c9-40e4-b8c1-a59a3bb967af",
        "colab": {
          "base_uri": "https://localhost:8080/"
        }
      },
      "source": [
        "from itertools import chain\n",
        "\n",
        "seq = chain([1,2,3], [11,12,13,14], [x*x for x in range(1,6)])\n",
        "\n",
        "for item in seq:\n",
        "    print(item , end=\" \")"
      ],
      "execution_count": 36,
      "outputs": [
        {
          "output_type": "stream",
          "text": [
            "1 2 3 11 12 13 14 1 4 9 16 25 "
          ],
          "name": "stdout"
        }
      ]
    },
    {
      "cell_type": "markdown",
      "metadata": {
        "id": "wNf0ZdppjPCI"
      },
      "source": [
        "#### $product()$\n",
        "$product()$ creates an iterable that produces all elements of the Cartesian product of the\n",
        "iterables that are given as its arguments. To put that in less mathematical terms: if two\n",
        "iterables are given as arguments, and the first has elements $x, y,$ and $z$, while the second\n",
        "has elements $a$ and $b$, $product()$ produces $xa, xb, ya, yb, za,$ and $zb$."
      ]
    },
    {
      "cell_type": "code",
      "metadata": {
        "id": "rNKqMntjjinC"
      },
      "source": [
        "from itertools import product\n",
        "\n",
        "seq = product([1,2,3], \"ABC\", [\"apple\",\"banana\"])\n",
        "\n",
        "for item in seq:\n",
        "    print(item)"
      ],
      "execution_count": null,
      "outputs": []
    },
    {
      "cell_type": "markdown",
      "metadata": {
        "id": "SCEOewacj-gi"
      },
      "source": [
        "#### $permutations()$\n",
        "$permutations()$ gets an iterable as argument, and an optional second argument that indicates a length. It creates an iterable that produces all permutations of the elements of the\n",
        "first argument of the given length. If no length is given, it generates all permutations that\n",
        "contain all the elements. Note that if the iterable has certain elements multiple times, you\n",
        "will get copies of permutations."
      ]
    },
    {
      "cell_type": "code",
      "metadata": {
        "id": "1Gb5jvL8kEn-",
        "outputId": "01884a4f-31e9-4e27-e0ad-00368736bb91",
        "colab": {
          "base_uri": "https://localhost:8080/"
        }
      },
      "source": [
        "from itertools import permutations\n",
        "\n",
        "seq = permutations([1,2,3], 3)\n",
        "\n",
        "for item in seq:\n",
        "    print(item)"
      ],
      "execution_count": 39,
      "outputs": [
        {
          "output_type": "stream",
          "text": [
            "(1, 2, 3)\n",
            "(1, 3, 2)\n",
            "(2, 1, 3)\n",
            "(2, 3, 1)\n",
            "(3, 1, 2)\n",
            "(3, 2, 1)\n"
          ],
          "name": "stdout"
        }
      ]
    },
    {
      "cell_type": "markdown",
      "metadata": {
        "id": "xZODYslFkqej"
      },
      "source": [
        "#### $combinations()$\n",
        "$combinations()$ gets an iterable as argument, and a second argument that indicates a\n",
        "length. It creates an iterable that produces all combinations of the elements of the first argument of the given length. The length is not optional (which is logical, if you think about\n",
        "it for one moment – for maximum length there is only one combination). The elements of\n",
        "the combinations will be in the order that they appeared in the original iterable. Note that\n",
        "if the iterable has certain elements multiple times, you will get copies of combinations."
      ]
    },
    {
      "cell_type": "code",
      "metadata": {
        "id": "nAxDVCABkw5S",
        "outputId": "056392c9-9df7-41ab-edfd-8725de8f3552",
        "colab": {
          "base_uri": "https://localhost:8080/"
        }
      },
      "source": [
        "from itertools import combinations\n",
        "\n",
        "seq = combinations([1,2,3], 2)\n",
        "\n",
        "for item in seq:\n",
        "    print(item)"
      ],
      "execution_count": 42,
      "outputs": [
        {
          "output_type": "stream",
          "text": [
            "(1, 2)\n",
            "(1, 3)\n",
            "(2, 3)\n"
          ],
          "name": "stdout"
        }
      ]
    },
    {
      "cell_type": "markdown",
      "metadata": {
        "id": "FrtQzIrqlJU5"
      },
      "source": [
        "#### **combinations_with_replacement()**\n",
        "**combinations_with_replacement()** works like **combinations()**, except that each element of the iterable can be used multiple times."
      ]
    },
    {
      "cell_type": "code",
      "metadata": {
        "id": "tHVz2IlOlq4A",
        "outputId": "9ffeaafd-e2e8-4b36-f04d-020385ebe41d",
        "colab": {
          "base_uri": "https://localhost:8080/"
        }
      },
      "source": [
        "from itertools import combinations_with_replacement\n",
        "\n",
        "seq = combinations_with_replacement([1,2,3], 2)\n",
        "\n",
        "for item in seq:\n",
        "    print(item)"
      ],
      "execution_count": 43,
      "outputs": [
        {
          "output_type": "stream",
          "text": [
            "(1, 1)\n",
            "(1, 2)\n",
            "(1, 3)\n",
            "(2, 2)\n",
            "(2, 3)\n",
            "(3, 3)\n"
          ],
          "name": "stdout"
        }
      ]
    }
  ]
}