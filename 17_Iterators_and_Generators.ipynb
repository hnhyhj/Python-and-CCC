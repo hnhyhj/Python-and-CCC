{
  "nbformat": 4,
  "nbformat_minor": 0,
  "metadata": {
    "colab": {
      "name": "17 Iterators and Generators.ipynb",
      "provenance": [],
      "authorship_tag": "ABX9TyNiPPR55I6ZRSR8soqHCTcc",
      "include_colab_link": true
    },
    "kernelspec": {
      "name": "python3",
      "display_name": "Python 3"
    }
  },
  "cells": [
    {
      "cell_type": "markdown",
      "metadata": {
        "id": "view-in-github",
        "colab_type": "text"
      },
      "source": [
        "<a href=\"https://colab.research.google.com/github/hnhyhj/Python-and-CCC/blob/master/17_Iterators_and_Generators.ipynb\" target=\"_parent\"><img src=\"https://colab.research.google.com/assets/colab-badge.svg\" alt=\"Open In Colab\"/></a>"
      ]
    },
    {
      "cell_type": "markdown",
      "metadata": {
        "id": "DCpDiWfIReUZ"
      },
      "source": [
        "# **Chapter 17**\n",
        "# **Iterators and Generators**"
      ]
    },
    {
      "cell_type": "code",
      "metadata": {
        "id": "FGl6o9JKRc3n"
      },
      "source": [
        ""
      ],
      "execution_count": null,
      "outputs": []
    }
  ]
}