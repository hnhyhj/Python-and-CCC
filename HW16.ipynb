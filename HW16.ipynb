{
  "nbformat": 4,
  "nbformat_minor": 0,
  "metadata": {
    "colab": {
      "name": "HW16.ipynb",
      "provenance": [],
      "authorship_tag": "ABX9TyOs4sgAad0bB5ipQCEHZ30a",
      "include_colab_link": true
    },
    "kernelspec": {
      "name": "python3",
      "display_name": "Python 3"
    }
  },
  "cells": [
    {
      "cell_type": "markdown",
      "metadata": {
        "id": "view-in-github",
        "colab_type": "text"
      },
      "source": [
        "<a href=\"https://colab.research.google.com/github/hnhyhj/Python-and-CCC/blob/master/HW16.ipynb\" target=\"_parent\"><img src=\"https://colab.research.google.com/assets/colab-badge.svg\" alt=\"Open In Colab\"/></a>"
      ]
    },
    {
      "cell_type": "markdown",
      "metadata": {
        "id": "JdcBISd785RH"
      },
      "source": [
        "# Lesson16 Homework"
      ]
    },
    {
      "cell_type": "markdown",
      "metadata": {
        "id": "64ZW_Yxe9EPB"
      },
      "source": [
        "#### 1. What is the output of the following code, and why?"
      ]
    },
    {
      "cell_type": "code",
      "metadata": {
        "id": "zZGqSoGb8_oH"
      },
      "source": [
        "X = 'Spam'\n",
        "def func():\n",
        "    print(X)\n",
        "    \n",
        "func()"
      ],
      "execution_count": null,
      "outputs": []
    },
    {
      "cell_type": "code",
      "metadata": {
        "id": "tT7mXjvd4UVe"
      },
      "source": [
        "X = 'Spam'\n",
        "def func():\n",
        "    X = X + '&Ham'\n",
        "    print(X+'Ham')\n",
        "    \n",
        "func()"
      ],
      "execution_count": null,
      "outputs": []
    },
    {
      "cell_type": "code",
      "metadata": {
        "id": "zC2-SVCo4KeA"
      },
      "source": [
        "X = 'Spam'\n",
        "def func():\n",
        "    print(X+'&Ham')\n",
        "    \n",
        "func()"
      ],
      "execution_count": null,
      "outputs": []
    },
    {
      "cell_type": "code",
      "metadata": {
        "id": "HXvfOLvX9ogc"
      },
      "source": [
        "X = 'Spam'\n",
        "def func():\n",
        "    X = 'Ham'\n",
        "\n",
        "func()\n",
        "print(X)"
      ],
      "execution_count": null,
      "outputs": []
    },
    {
      "cell_type": "code",
      "metadata": {
        "id": "R7wyI34-9vNZ"
      },
      "source": [
        "X = 'Spam'\n",
        "def func():\n",
        "    X = 'Ham'\n",
        "    print(X)\n",
        "\n",
        "func()\n",
        "print(X)"
      ],
      "execution_count": null,
      "outputs": []
    },
    {
      "cell_type": "code",
      "metadata": {
        "id": "I7MVIRbG-ECC"
      },
      "source": [
        "X = 'Spam'\n",
        "def func():\n",
        "    global X\n",
        "    X = 'Ham'\n",
        "\n",
        "func()\n",
        "print(X)"
      ],
      "execution_count": null,
      "outputs": []
    },
    {
      "cell_type": "markdown",
      "metadata": {
        "id": "LIjymsPZ2VhK"
      },
      "source": [
        "#### 2. Multiplication table\n",
        "Create a function that gets a number as parameter, and then prints the\n",
        "multiplication table for that number from 1 to 10. E.g., when the parameter is 12, the first line printed is “1 * 12 = 12” and the last line printed is “10 * 12 = 120.”"
      ]
    },
    {
      "cell_type": "markdown",
      "metadata": {
        "id": "tcFGGLzk23aq"
      },
      "source": [
        "#### 3. Pi approximation\n",
        "The Grerory-Leibnitz series approximates pi as $4 ∗ (1/1 − 1/3 + 1/5 − 1/7 + 1/9...)$. Write a function that returns the approximation of pi according to this series.\n",
        "The function gets one parameter, namely an integer that indicates how many of the terms\n",
        "between the parentheses must be calculated."
      ]
    },
    {
      "cell_type": "markdown",
      "metadata": {
        "id": "-aTU52ZU2-v8"
      },
      "source": [
        "#### 4. Quadratic equations\n",
        "You were asked to implement the quadratic formula to solve\n",
        "quadratic equations. A quadratic equation is described by three numeric values, usually\n",
        "called A, B, and C. It has zero, one, or two solutions, depending on the discriminant (the\n",
        "part under the square root). Write a function that solves a quadratic equation. As parameters it gets A, B, and C. It returns three values. The first is an integer that indicates the\n",
        "number of solutions. The second is the first solution. The third is the second solution. Any\n",
        "of the solutions that do not exist, you can return as zero."
      ]
    }
  ]
}