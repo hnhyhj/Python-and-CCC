{
  "nbformat": 4,
  "nbformat_minor": 0,
  "metadata": {
    "colab": {
      "name": "13 Dictionary.ipynb",
      "provenance": [],
      "collapsed_sections": [],
      "authorship_tag": "ABX9TyOkksXDZYBzyzAt/emAG25t",
      "include_colab_link": true
    },
    "kernelspec": {
      "name": "python3",
      "display_name": "Python 3"
    }
  },
  "cells": [
    {
      "cell_type": "markdown",
      "metadata": {
        "id": "view-in-github",
        "colab_type": "text"
      },
      "source": [
        "<a href=\"https://colab.research.google.com/github/hnhyhj/Python-study/blob/master/13_Dictionary.ipynb\" target=\"_parent\"><img src=\"https://colab.research.google.com/assets/colab-badge.svg\" alt=\"Open In Colab\"/></a>"
      ]
    },
    {
      "cell_type": "markdown",
      "metadata": {
        "id": "pptRhxsF1SiU"
      },
      "source": [
        "# Chapter 13\n",
        "# Dictionary"
      ]
    },
    {
      "cell_type": "markdown",
      "metadata": {
        "id": "mttsk24TIsRW"
      },
      "source": [
        "<font size = 6 > What you will learn\n",
        "\n",
        "- Dictionaries\n",
        "- Dictionary keys and values\n",
        "- Dictionary methods copy( ), keys( ), values( ), items( ), and get( )\n",
        "- Complicated dictionaries\n",
        "- Speed differences between lists and dictionaries\n"
      ]
    },
    {
      "cell_type": "markdown",
      "metadata": {
        "id": "sL9sGNBH1fWu"
      },
      "source": [
        "Strings, tuples and lists are ordered data structures, which entails that they can be indexed.\n",
        "Not all data is naturally ordered, which is why Python offers dictionaries as a way to structure unordered data."
      ]
    },
    {
      "cell_type": "markdown",
      "metadata": {
        "id": "wYAVMmmw1klQ"
      },
      "source": [
        "## 13.1 Basics of dictionaries\n",
        "\n",
        "Dictionaries are unordered collections of elements. To identify an element, you have to\n",
        "know the element’s “key.”\n",
        "\n",
        "Basically, dictionaries store “key-value pairs.” Any immutable data type can function as a\n",
        "key. A very common type to use as key is the string.\n",
        "\n",
        "You create dictionaries using curly brackets { }, similar to how you create lists using square\n",
        "brackets. An empty dictionary you create by assigning { } to a variable. You can create a\n",
        "dictionary with contents by describing every element of the dictionary between the curly\n",
        "brackets using the syntax <key>:<value>, and commas between the elements.\n",
        "\n",
        "To access the value belonging to a specific key, you use the same syntax as you would use\n",
        "for a list, except that you write the key in the place where you would write the index for a\n",
        "list."
      ]
    },
    {
      "cell_type": "code",
      "metadata": {
        "colab": {
          "base_uri": "https://localhost:8080/"
        },
        "id": "IlcxlZHG1ZDv",
        "outputId": "3a699a30-21c9-4c75-e75d-c2384139aacb"
      },
      "source": [
        "fruitbasket = { \"apple\":3, \"banana\":5, \"cherry\":50 }\n",
        "print( fruitbasket[\"banana\"] )"
      ],
      "execution_count": 1,
      "outputs": [
        {
          "output_type": "stream",
          "text": [
            "5\n"
          ],
          "name": "stdout"
        }
      ]
    },
    {
      "cell_type": "code",
      "metadata": {
        "colab": {
          "base_uri": "https://localhost:8080/"
        },
        "id": "urcXJfke19JB",
        "outputId": "8c29398f-fabf-4e4e-8ed8-7beb124c0e4c"
      },
      "source": [
        "for key in fruitbasket:\n",
        "    print( f\"{key}: {fruitbasket[key]}\" )"
      ],
      "execution_count": 5,
      "outputs": [
        {
          "output_type": "stream",
          "text": [
            "apple: 3\n",
            "banana: 5\n",
            "cherry: 50\n"
          ],
          "name": "stdout"
        }
      ]
    },
    {
      "cell_type": "markdown",
      "metadata": {
        "id": "CHYaLz5D3SoM"
      },
      "source": [
        "Trying to access a dictionary element using a key that is not available in the dictionary will\n",
        "lead to a runtime error. However, adding a new element to a dictionary you can do by\n",
        "simply assigning a value to the dictionary item identified by the new key. For instance,\n",
        "adding a \"mango\" to the fruitbasket you can do as follows:"
      ]
    },
    {
      "cell_type": "code",
      "metadata": {
        "id": "6Y5PvMRr3TXy"
      },
      "source": [
        "fruitbasket = { \"apple\":3, \"banana\":5, \"cherry\":50 }\n",
        "print( fruitbasket )\n",
        "fruitbasket[\"mango\"] = 1\n",
        "print( fruitbasket )"
      ],
      "execution_count": null,
      "outputs": []
    },
    {
      "cell_type": "code",
      "metadata": {
        "id": "bsw7_LiO3koh"
      },
      "source": [
        "del fruitbasket[\"banana\"]\n",
        "print( fruitbasket )"
      ],
      "execution_count": null,
      "outputs": []
    },
    {
      "cell_type": "code",
      "metadata": {
        "colab": {
          "base_uri": "https://localhost:8080/"
        },
        "id": "AfXSuS8o3tJy",
        "outputId": "5080ef9b-6f0d-4754-8f17-3e3721b421a6"
      },
      "source": [
        "len(fruitbasket)"
      ],
      "execution_count": 8,
      "outputs": [
        {
          "output_type": "execute_result",
          "data": {
            "text/plain": [
              "3"
            ]
          },
          "metadata": {
            "tags": []
          },
          "execution_count": 8
        }
      ]
    },
    {
      "cell_type": "markdown",
      "metadata": {
        "id": "03wrollK34By"
      },
      "source": [
        "By the way, do you understand how the ordering of a dictionary works when looking at\n",
        "the display of a dictionary? Think about it.\n",
        "\n",
        "The answer is: there is no ordering. That was what I said at the start: dictionaries are\n",
        "unordered. In principle I cannot even tell you what ordering you see on your screen when\n",
        "you run the code above, because it might differ between computers, operating systems, and\n",
        "versions of Python. There is a certain structure to the ordering of the items, but nothing\n",
        "that you can (or should desire to) predict. By adding enough items, the ordering might\n",
        "even suddenly change completely.\n",
        "\n",
        "Since dictionaries are unordered, many of the concepts that are applicable to lists, do not\n",
        "work on dictionaries. For instance, you cannot refer to “slices” of a dictionary, and neither\n",
        "can you “sort” or “reverse” a dictionary. So dictionaries are quite limited, but they do have\n",
        "their uses."
      ]
    },
    {
      "cell_type": "markdown",
      "metadata": {
        "id": "lVkTPfPj4BGL"
      },
      "source": [
        "## 13.2 Dictionary methods"
      ]
    },
    {
      "cell_type": "markdown",
      "metadata": {
        "id": "4Ey6B3t04MlQ"
      },
      "source": [
        "### 13.2.1 copy( )\n",
        "\n",
        "Just like lists, if you assign a variable that contains a dictionary to another variable, you\n",
        "are not creating a copy of the dictionary; you are actually creating an alias (if you do not\n",
        "remember what an alias is, see Chapter 12). You cannot use the trick which is used for lists\n",
        "to create a copy, as it uses a slice-syntax, and dictionaries do not support slices. Therefore,\n",
        "there is a method copy( ) that returns a copy of a dictionary."
      ]
    },
    {
      "cell_type": "code",
      "metadata": {
        "id": "MAPGi1Ir4EMi"
      },
      "source": [
        "fruitbasket = { \"apple\":3, \"banana\":5, \"cherry\":50 }\n",
        "fruitbasketalias = fruitbasket\n",
        "fruitbasketcopy = fruitbasket.copy()\n",
        "print( id( fruitbasket ) )\n",
        "print( id( fruitbasketalias ) )\n",
        "print( id( fruitbasketcopy ) )"
      ],
      "execution_count": null,
      "outputs": []
    },
    {
      "cell_type": "markdown",
      "metadata": {
        "id": "zrVA5Q6U4apE"
      },
      "source": [
        "Note that this method makes a shallow copy of the dictionary (see Chapter 12 if you do not\n",
        "remember the difference between shallow and deep copies). If you want to make a deep\n",
        "copy, use the deepcopy() function from the copy module."
      ]
    },
    {
      "cell_type": "markdown",
      "metadata": {
        "id": "POd06yMT4iEO"
      },
      "source": [
        "### 13.2.2 keys( ), values( ), and items( )\n",
        "\n",
        "The method keys( ) provides an iterator that lists all the keys of a dictionary. The method\n",
        "values( ) provides an iterator that lists all the values of a dictionary. The method items( )\n",
        "provides an iterator that lists all the key-value pairs of a dictionary as tuples.\n",
        "I specifically say that these methods returns an iterator and not a list. If you want to turn\n",
        "them into lists, you have to use list casting (see Chapter 12).\n"
      ]
    },
    {
      "cell_type": "code",
      "metadata": {
        "colab": {
          "base_uri": "https://localhost:8080/"
        },
        "id": "vnWX6StL4rC9",
        "outputId": "1e41ed9e-f460-48e7-a222-0e707f74e2be"
      },
      "source": [
        "fruitbasket = { \"apple\":3, \"banana\":5, \"cherry\":50 }\n",
        "print( list( fruitbasket.keys() ) )\n",
        "print( list( fruitbasket.values() ) )\n",
        "print( list( fruitbasket.items() ) )"
      ],
      "execution_count": 10,
      "outputs": [
        {
          "output_type": "stream",
          "text": [
            "['apple', 'banana', 'cherry']\n",
            "[3, 5, 50]\n",
            "[('apple', 3), ('banana', 5), ('cherry', 50)]\n"
          ],
          "name": "stdout"
        }
      ]
    },
    {
      "cell_type": "markdown",
      "metadata": {
        "id": "RJ40efY95ItH"
      },
      "source": [
        "At this point you might be wondering when you can use an iterator. You mainly use\n",
        "iterators for for loops (though you can also use them as arguments for the functions max( ),\n",
        "min( ) and sum( ))."
      ]
    },
    {
      "cell_type": "code",
      "metadata": {
        "colab": {
          "base_uri": "https://localhost:8080/"
        },
        "id": "w_Re_ACS5LvC",
        "outputId": "90f9e9ca-79f3-40e8-c165-c7bd08d0a5fc"
      },
      "source": [
        "fruitbasket = { \"apple\":3, \"banana\":5, \"cherry\":50, \"durian\":0, \"mango\":2 }\n",
        "\n",
        "for key in fruitbasket.keys():\n",
        "    print( \"{}:{}\".format( key, fruitbasket[key] ) )\n",
        "\n",
        "print()\n",
        "print( max(fruitbasket.values()) )\n",
        "print( min(fruitbasket.values()) )\n",
        "print( sum(fruitbasket.values()) )\n"
      ],
      "execution_count": 13,
      "outputs": [
        {
          "output_type": "stream",
          "text": [
            "apple:3\n",
            "banana:5\n",
            "cherry:50\n",
            "durian:0\n",
            "mango:2\n",
            "\n",
            "50\n",
            "0\n",
            "60\n"
          ],
          "name": "stdout"
        }
      ]
    },
    {
      "cell_type": "markdown",
      "metadata": {
        "id": "mSy7TW275xLH"
      },
      "source": [
        "Since this code provides an unpredictable order for the keys, you might want to sort them\n",
        "before looping over them. Since keys( ) does not provide a list, it cannot be sorted directly,\n",
        "but you can turn the result into a list using list casting. After doing that, you can sort."
      ]
    },
    {
      "cell_type": "code",
      "metadata": {
        "colab": {
          "base_uri": "https://localhost:8080/"
        },
        "id": "5yDQvAgM5wKz",
        "outputId": "45b63e69-bf68-417f-f8e2-e12f1f69864d"
      },
      "source": [
        "fruitbasket = { \"apple\":3, \"banana\":5, \"cherry\":50, \"durian\":0, \"mango\":2 }\n",
        "keylist = list( fruitbasket.keys() )\n",
        "keylist.sort()\n",
        "\n",
        "for key in keylist:\n",
        "    print( f\"{key}: {fruitbasket[key]}\" ) "
      ],
      "execution_count": 16,
      "outputs": [
        {
          "output_type": "stream",
          "text": [
            "apple: 3\n",
            "banana: 5\n",
            "cherry: 50\n",
            "durian: 0\n",
            "mango: 2\n"
          ],
          "name": "stdout"
        }
      ]
    },
    {
      "cell_type": "markdown",
      "metadata": {
        "id": "ZF_gY6G095Xn"
      },
      "source": [
        "### 13.2.3 get( )\n",
        "\n",
        "The get( ) method can be used to get a value from a dictionary even when you do not\n",
        "know if the key for which you seek the value exists. You call the get( ) method with the\n",
        "key you are looking for, and it will return the corresponding value when the key exists in\n",
        "the dictionary, or the special value **None** when the key does not exist in the dictionary. If\n",
        "you want to return a specific value instead of **None** if the key does not exist, you can add\n",
        "that value as a second argument to the method."
      ]
    },
    {
      "cell_type": "code",
      "metadata": {
        "colab": {
          "base_uri": "https://localhost:8080/"
        },
        "id": "K1z_02Sh97nG",
        "outputId": "80b291af-0171-4e42-e41e-1826a3f749e2"
      },
      "source": [
        "fruitbasket = { \"apple\":3, \"banana\":5, \"cherry\":50, \"durian\":0, \"mango\":2 }\n",
        "\n",
        "apple = fruitbasket.get( \"apple\" )\n",
        "if apple:\n",
        "    print( \"apple is in the basket\" )\n",
        "else:\n",
        "    print( \"no apples in the basket\")\n",
        "\n",
        "orange = fruitbasket.get( \"orange\" )\n",
        "if orange:\n",
        "    print( \"orange is in the basket\" )\n",
        "else:\n",
        "    print( \"no oranges in the basket\")\n",
        "\n",
        "banana = fruitbasket.get( \"banana\", 0 )\n",
        "print( \"number of bananas in the basket:\", banana )\n",
        "\n",
        "strawberry = fruitbasket.get( \"strawberry\", 0 )\n",
        "print( \"number of strawberries in the basket:\", strawberry )"
      ],
      "execution_count": 17,
      "outputs": [
        {
          "output_type": "stream",
          "text": [
            "apple is in the basket\n",
            "no oranges in the basket\n",
            "number of bananas in the basket: 5\n",
            "number of strawberries in the basket: 0\n"
          ],
          "name": "stdout"
        }
      ]
    },
    {
      "cell_type": "markdown",
      "metadata": {
        "id": "hkLUsw0G_S3p"
      },
      "source": [
        "Run and study the example above closely, as what it demonstrates about the get( ) method\n",
        "is very useful. Suppose that you store a collection of items with corresponding quantities, for instance, the contents of a fruit basket with the keys being the names of the fruits and\n",
        "the values being the quantities. When you query the fruitbasket using the get( ) method\n",
        "with a second parameter zero, you can look for any fruit in the basket without the need to\n",
        "check first if the fruit exists in the basket, because if you ask for a fruit that is not there, the\n",
        "get( ) method returns zero, which is exactly what you want to hear."
      ]
    },
    {
      "cell_type": "markdown",
      "metadata": {
        "id": "wYdNP-EG_ssW"
      },
      "source": [
        "## 13.3 Keys\n",
        "As I said, any immutable data type can be a dictionary key. This means that strings, integers, and floats can all be used as keys. You may remember that tuples are also immutable,\n",
        "which entails that you can use tuples as keys. This can occasionally be useful.\n",
        "A very straightforward example of tuples being useful as keys is a dictionary in which you\n",
        "want to store information associated with points in two-dimensional space (a discussion\n",
        "of which was given in Chapter 11). There is no good way in which you can store the\n",
        "identification of a point in a single number or string. It is not impossible (for instance, you\n",
        "could store the number-pair as their string-representations, concatenated with a comma in\n",
        "between) but it becomes ambiguous and convoluted (for instance, the string-keys \"2,3\",\n",
        "\"2, 3\", \"+2,+3\", and \"02,03\" would all be representing the same tuple but different keys)."
      ]
    },
    {
      "cell_type": "markdown",
      "metadata": {
        "id": "Z6AHhmEbACG8"
      },
      "source": [
        "## 13.4 Storing complicated values\n",
        "Until now I only considered the case in which a dictionary stores a single value of a simple\n",
        "data type. However, it is possible to store much more complex values in dictionaries. Values can be arbitrary Python objects. For example, you can store a list with each key. Below a\n",
        "dictionary is used to store the students who are following a course. The course is identified\n",
        "by its course number, while the students are identified by their student numbers."
      ]
    },
    {
      "cell_type": "code",
      "metadata": {
        "id": "aHS3J1k1_a1c"
      },
      "source": [
        "courses = {\n",
        "' 880254 ' :[ ' u123456 ' , ' u383213 ' , ' u234178 ' ],\n",
        "' 822177 ' :[ ' u123456 ' , ' u223416 ' , ' u234178 ' ],\n",
        "' 822164 ' :[ ' u123456 ' , ' u223416 ' , ' u383213 ' , ' u234178 ' ]}\n",
        "\n",
        "for c in courses:\n",
        "    print( c )\n",
        "    for s in courses[c]:\n",
        "        print( s, end=\" \" )\n",
        "        print()\n",
        "    print()"
      ],
      "execution_count": null,
      "outputs": []
    },
    {
      "cell_type": "markdown",
      "metadata": {
        "id": "Bh6hVLRFE9DS"
      },
      "source": [
        "Data structures can become a lot more complex than this if you want. However, if you\n",
        "are really considering designing Python programs for data structures like this, you should\n",
        "at least investigate object orientation first (Chapter 20 and onward) and probably do a\n",
        "separate course on databases."
      ]
    },
    {
      "cell_type": "code",
      "metadata": {
        "colab": {
          "base_uri": "https://localhost:8080/"
        },
        "id": "7x0XdeJHEifA",
        "outputId": "b544a20c-d9c1-4576-d033-d05ff00382c9"
      },
      "source": [
        "courses = {\n",
        "' 880254 ' : { \"name\":\"RS: Data Processing\", \"ects\":3,\n",
        "\"students\":{ ' u123456 ' :8, ' u383213 ' :7.5, ' u234178 ' :6} },\n",
        "' 822177 ' : { \"name\":\"Understanding Intelligence\", \"ects\":6,\n",
        "\"students\":{ ' u123456 ' :5, ' u223416 ' :7, ' u234178 ' :9} },\n",
        "' 822164 ' : { \"name\":\"Computer Games\", \"ects\":6,\n",
        "\"students\":{ ' u383213 ' :6, ' u234178 ' :4} } }\n",
        "\n",
        "for c in courses:\n",
        "    print( \"{}: {} ({})\".format( c, courses[c][\"name\"], courses[c][\"ects\"] ) )\n",
        "    for s in courses[c][\"students\"]:\n",
        "        print( \"{}: {}\".format( s, courses[c][\"students\"][s] ) )\n",
        "    print()"
      ],
      "execution_count": 23,
      "outputs": [
        {
          "output_type": "stream",
          "text": [
            " 880254 : RS: Data Processing (3)\n",
            " u123456 : 8\n",
            " u383213 : 7.5\n",
            " u234178 : 6\n",
            "\n",
            " 822177 : Understanding Intelligence (6)\n",
            " u123456 : 5\n",
            " u223416 : 7\n",
            " u234178 : 9\n",
            "\n",
            " 822164 : Computer Games (6)\n",
            " u383213 : 6\n",
            " u234178 : 4\n",
            "\n"
          ],
          "name": "stdout"
        }
      ]
    },
    {
      "cell_type": "markdown",
      "metadata": {
        "id": "roiMtF4AFME8"
      },
      "source": [
        "## 13.5 Lookup speed\n",
        "Lists and dictionaries are the two most-used data structures in Python. While often it is\n",
        "clear when you should use which data structure, it is helpful if you know a little bit about\n",
        "how Python processes these data structures in case you have a choice.\n",
        "\n",
        "Suppose that you read a large bunch of numbers from a file. The numbers are all different\n",
        "and can be anything. You later need to compare the numbers on another list to the numbers\n",
        "that you read from the file.\n",
        "\n",
        "Should you use a list or a dictionary to store the numbers that you read from the file?\n",
        "Since they are just numbers, without extra data, a list seems to be the best option. There\n",
        "is, however, a problem if you use a list here. Check out the following code, in which a list\n",
        "of 10000 numbers is created, and after that some code checks for 10000 different numbers\n",
        "whether they are on the list (which none of them are)."
      ]
    },
    {
      "cell_type": "code",
      "metadata": {
        "colab": {
          "base_uri": "https://localhost:8080/"
        },
        "id": "ciSBdn-zFL2F",
        "outputId": "5801fadc-1489-415f-d174-336440a1c04c"
      },
      "source": [
        "import time\n",
        "\n",
        "numlist = []\n",
        "for i in range( 10000 ):\n",
        "    numlist.append( i )\n",
        "\n",
        "start = time.time()\n",
        "count = 0\n",
        "for i in range( 10000, 20000 ):\n",
        "    if i in numlist:\n",
        "        count += 1\n",
        "end = time.time()\n",
        "\n",
        "print( f\"{end - start} seconds, {count} numbers)\" )"
      ],
      "execution_count": 32,
      "outputs": [
        {
          "output_type": "stream",
          "text": [
            "1.240412950515747 seconds, 0 numbers)\n"
          ],
          "name": "stdout"
        }
      ]
    },
    {
      "cell_type": "markdown",
      "metadata": {
        "id": "5fqBYwWtFzj6"
      },
      "source": [
        "Here is the code for doing the same thing with a dictionary, where I simply store the value\n",
        "1 with each number."
      ]
    },
    {
      "cell_type": "code",
      "metadata": {
        "colab": {
          "base_uri": "https://localhost:8080/"
        },
        "id": "JP_e5ZPhFLcL",
        "outputId": "7dafd0f2-eff0-4389-e402-4890418e816b"
      },
      "source": [
        "import time\n",
        "\n",
        "numdict = {}\n",
        "for i in range( 10000 ):\n",
        "    numdict[i] = 1\n",
        "\n",
        "start = time.time()\n",
        "count = 0\n",
        "\n",
        "for i in range( 10000, 20000 ):\n",
        "    if i in numdict:\n",
        "        count += 1\n",
        "end = time.time()\n",
        "\n",
        "print( f\"{end - start} seconds, {count} numbers)\" )"
      ],
      "execution_count": 31,
      "outputs": [
        {
          "output_type": "stream",
          "text": [
            "0.0013225078582763672 seconds, 0 numbers)\n"
          ],
          "name": "stdout"
        }
      ]
    },
    {
      "cell_type": "markdown",
      "metadata": {
        "id": "KHrdFviKHqaF"
      },
      "source": [
        "You will notice that for a dictionary, the code gives an answer almost immediately, while\n",
        "for a list it takes quite some time for the code to provide an answer.\n",
        "\n",
        "The reason is that I use the in operator to check whether a number is in the list, or in the\n",
        "dictionary. For a list this means that Python searches through the list, sequentially, until it\n",
        "reaches the number or reaches the end of the list. In this case, it means that Python checks\n",
        "10000 times 10000 numbers (as it cannot find any of them), which is 100 million numbers.\n",
        "\n",
        "For a dictionary, the process of finding a key is much faster. Python can quickly decide\n",
        "whether or not a key is in a dictionary.9 Usually, the checking of just a handful of numbers\n",
        "suffices. Therefore, the code is much, much faster for a dictionary.\n",
        "\n",
        "You might think that a couple of seconds for the list search is still negligible, but the search\n",
        "time increases quadratically with the size of the data. Depending on the problem, using a\n",
        "dictionary might be highly preferable over using a list.\n",
        "\n",
        "On the other hand, lists take less memory than dictionaries, and if you can directly access a\n",
        "list item via its index, lists are faster than dictionaries. For instance, in the problem above,\n",
        "if the list is sorted you can find numbers on it in a smarter way than using the in operator\n",
        "(checking about 14 indices would suffice) – in that case, a list may be faster again.\n",
        "\n",
        "From this, you should remember that a list is fast if you can access its elements directly via\n",
        "their index, while a dictionary is a much better choice if the main way to find something\n",
        "is by scanning items. The in operator seems easy and reads well, but if you use it to seek\n",
        "something in a long list, you better think again."
      ]
    },
    {
      "cell_type": "code",
      "metadata": {
        "id": "s3yL7aNJH5U0"
      },
      "source": [
        ""
      ],
      "execution_count": null,
      "outputs": []
    }
  ]
}