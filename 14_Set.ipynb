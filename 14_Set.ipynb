{
  "nbformat": 4,
  "nbformat_minor": 0,
  "metadata": {
    "colab": {
      "name": "14 Set.ipynb",
      "provenance": [],
      "collapsed_sections": [],
      "authorship_tag": "ABX9TyMjO1DQ+30BElKeRhSo9GHt",
      "include_colab_link": true
    },
    "kernelspec": {
      "name": "python3",
      "display_name": "Python 3"
    }
  },
  "cells": [
    {
      "cell_type": "markdown",
      "metadata": {
        "id": "view-in-github",
        "colab_type": "text"
      },
      "source": [
        "<a href=\"https://colab.research.google.com/github/hnhyhj/Python-study/blob/master/14_Set.ipynb\" target=\"_parent\"><img src=\"https://colab.research.google.com/assets/colab-badge.svg\" alt=\"Open In Colab\"/></a>"
      ]
    },
    {
      "cell_type": "markdown",
      "metadata": {
        "id": "fXcKk0xtV4oD"
      },
      "source": [
        "# Chapter 14\n",
        "# Set\n",
        "\n",
        "Sets are unordered data structures, which contain only unique elements. Few programming languages support sets natively, but Python is one of them. Sets are not used often,\n",
        "but occasionally they provide a nice solution to a problem that you are trying to solve,\n",
        "when you need to ensure that you only have unique solution items."
      ]
    },
    {
      "cell_type": "markdown",
      "metadata": {
        "id": "L3lTIM8oWDcn"
      },
      "source": [
        "## 14.1 Basics of sets\n",
        "Sets are unordered collections of elements. You cannot access specific elements using an\n",
        "index or a key. The only way to access items in a set is by using a **for** loop, or by testing\n",
        "for the existence of elements **in** the set using the in operator.\n",
        "\n",
        "You have to think of sets in the mathematical sense. In mathematics, a set is a collection of\n",
        "elements, all unique, and elements can be part of a specific set, or not part of the set. You\n",
        "use special set operators to combine sets in different ways.\n",
        "\n",
        "Python uses dictionaries to implement sets; specifically, it implements the elements of a set\n",
        "as dictionary keys. Thus, only immutable data types can be set elements. Sets themselves,\n",
        "however, are mutable.\n",
        "\n",
        "Since Python uses dictionaries to implement sets, you might think that you can create an\n",
        "empty set by assigning {} to a variable. That, however, does not work as it creates an\n",
        "empty dictionary, not an empty set. Instead, you create an empty set by assigning a call to\n",
        "the function **set( )** to a variable.\n",
        "\n",
        "To create a set with some elements already in it, you can assign the elements to the variable\n",
        "between curly brackets. Alternatively, you can call the **set( )** function with a list of the\n",
        "elements as argument.\n"
      ]
    },
    {
      "cell_type": "code",
      "metadata": {
        "colab": {
          "base_uri": "https://localhost:8080/"
        },
        "id": "Vk6oQGlVWDPz",
        "outputId": "35c43b86-0851-41af-86a2-eb9afc52cf54"
      },
      "source": [
        "fruitset = { \"apple\", \"banana\", \"cherry\" }\n",
        "print( type(fruitset) )\n",
        "print(fruitset)"
      ],
      "execution_count": 2,
      "outputs": [
        {
          "output_type": "stream",
          "text": [
            "<class 'set'>\n",
            "{'banana', 'cherry', 'apple'}\n"
          ],
          "name": "stdout"
        }
      ]
    },
    {
      "cell_type": "markdown",
      "metadata": {
        "id": "VHyaPsH1X6T9"
      },
      "source": [
        "If you want to create a set consisting of the different characters in a string, you can call\n",
        "**set()** with the string as argument."
      ]
    },
    {
      "cell_type": "code",
      "metadata": {
        "colab": {
          "base_uri": "https://localhost:8080/"
        },
        "id": "CqRN-EycVuay",
        "outputId": "223adc7d-5849-4e9d-f7ce-77c5a8b7206a"
      },
      "source": [
        "helloset = set(\"hello world\")\n",
        "print( helloset )"
      ],
      "execution_count": 4,
      "outputs": [
        {
          "output_type": "stream",
          "text": [
            "{' ', 'w', 'e', 'o', 'l', 'r', 'h', 'd'}\n"
          ],
          "name": "stdout"
        }
      ]
    },
    {
      "cell_type": "markdown",
      "metadata": {
        "id": "OM_V3d5qYPKl"
      },
      "source": [
        "You can use a **for** loop to traverse a set. The variable in the **for** loop gets access to all the\n",
        "set elements. There is no way to determine in which order you get to see the elements.\n",
        "Sorting them is not possible as long as they form a set. You can, however, use list casting\n",
        "on a set to create a list of its elements, which can then be sorted."
      ]
    },
    {
      "cell_type": "code",
      "metadata": {
        "colab": {
          "base_uri": "https://localhost:8080/"
        },
        "id": "k6KaU-X_YTTc",
        "outputId": "1885db22-3b5b-42c4-b995-e87188a1b578"
      },
      "source": [
        "fruitset = { \"apple\", \"banana\", \"cherry\", \"durian\", \"mango\" }\n",
        "\n",
        "for element in fruitset:\n",
        "    print(element, end= \" \" )\n",
        "print()\n",
        "\n",
        "fruitlist = list( fruitset )\n",
        "fruitlist.sort()\n",
        "\n",
        "for element in fruitlist:\n",
        "    print(element, end=\" \" )"
      ],
      "execution_count": 6,
      "outputs": [
        {
          "output_type": "stream",
          "text": [
            "banana cherry mango apple durian \n",
            "apple banana cherry durian mango "
          ],
          "name": "stdout"
        }
      ]
    },
    {
      "cell_type": "markdown",
      "metadata": {
        "id": "sI87Yez5YowH"
      },
      "source": [
        "You can determine the number of elements in a set using the **len()** function."
      ]
    },
    {
      "cell_type": "code",
      "metadata": {
        "colab": {
          "base_uri": "https://localhost:8080/"
        },
        "id": "dk8UtQFHYs3P",
        "outputId": "c63427a7-2c11-4192-9980-b6d208310a87"
      },
      "source": [
        "print(len(fruitset))"
      ],
      "execution_count": 7,
      "outputs": [
        {
          "output_type": "stream",
          "text": [
            "5\n"
          ],
          "name": "stdout"
        }
      ]
    },
    {
      "cell_type": "markdown",
      "metadata": {
        "id": "yrY_AU4ZYyTO"
      },
      "source": [
        "## 14.2 Set methods\n",
        "To manipulate the contents of sets, the following methods are supported. This is not a\n",
        "complete list of set methods, but these are the most common ones."
      ]
    },
    {
      "cell_type": "markdown",
      "metadata": {
        "id": "lYNEQhllY28Z"
      },
      "source": [
        "### 14.2.1 add( ) and update( )\n",
        "\n",
        "Adding new items to a set you can do using the add( ) method, to add one new element that\n",
        "you provide as an argument. If you want to add multiple new elements at once, you can\n",
        "use the update( ) method, which you provide with a list of the new elements as argument.\n",
        "\n",
        "You can also use update( ) with a tuple as argument, and you can even use it with a string\n",
        "as argument. If you use it with a string, it will consider each letter of the string as a separate\n",
        "element to add.\n",
        "\n",
        "Since sets can only contain unique elements, any duplicate element that you try to add will\n",
        "be ignored."
      ]
    },
    {
      "cell_type": "code",
      "metadata": {
        "colab": {
          "base_uri": "https://localhost:8080/"
        },
        "id": "8G6_TvYkY7se",
        "outputId": "6555a852-b39f-4303-b946-8ff3766f9013"
      },
      "source": [
        "fruitset = { \"apple\", \"banana\", \"cherry\", \"durian\", \"mango\" }\n",
        "print( fruitset )\n",
        "\n",
        "fruitset.add( \"apple\" )\n",
        "fruitset.add( \"elderberry\" )\n",
        "print( fruitset )\n",
        "\n",
        "fruitset.update( [\"apple\",\"apple\",\"apple\",\"strawberry\",\"strawberry\",\"apple\",\"mango\"] )\n",
        "print( fruitset )"
      ],
      "execution_count": 8,
      "outputs": [
        {
          "output_type": "stream",
          "text": [
            "{'banana', 'cherry', 'mango', 'apple', 'durian'}\n",
            "{'banana', 'cherry', 'mango', 'apple', 'durian', 'elderberry'}\n",
            "{'banana', 'cherry', 'strawberry', 'mango', 'apple', 'durian', 'elderberry'}\n"
          ],
          "name": "stdout"
        }
      ]
    },
    {
      "cell_type": "markdown",
      "metadata": {
        "id": "jYOup33KZpw_"
      },
      "source": [
        "### 14.2.2 remove( ), discard( ), and clear( )\n",
        "To remove elements from a set, you can use the remove( ) or discard( ) method. Both\n",
        "get the element to remove as argument. The difference between the two methods is that\n",
        "remove( ) will cause a runtime error if the element is not part of the set, while discard( )\n",
        "will ignore such errors.\n",
        "\n",
        "clear( ) removes all elements of the set at once."
      ]
    },
    {
      "cell_type": "code",
      "metadata": {
        "colab": {
          "base_uri": "https://localhost:8080/"
        },
        "id": "kdTRXbggZvLg",
        "outputId": "79e4c952-0065-4dce-8d2b-1d2f371c83d4"
      },
      "source": [
        "fruitset = { \"apple\", \"banana\", \"cherry\", \"durian\", \"mango\" }\n",
        "print( fruitset )\n",
        "\n",
        "fruitset.remove( \"apple\" )\n",
        "print( fruitset )\n",
        "\n",
        "# fruitset.remove( \"apple\" )\n",
        "fruitset.discard( \"apple\" )"
      ],
      "execution_count": 15,
      "outputs": [
        {
          "output_type": "stream",
          "text": [
            "{'banana', 'cherry', 'mango', 'apple', 'durian'}\n",
            "{'banana', 'cherry', 'mango', 'durian'}\n"
          ],
          "name": "stdout"
        }
      ]
    },
    {
      "cell_type": "code",
      "metadata": {
        "colab": {
          "base_uri": "https://localhost:8080/"
        },
        "id": "0ZODJCt1aIjv",
        "outputId": "c20df6af-9849-4355-9e39-756aa034a94c"
      },
      "source": [
        "fruitset.clear()\n",
        "print(fruitset)"
      ],
      "execution_count": 16,
      "outputs": [
        {
          "output_type": "stream",
          "text": [
            "set()\n"
          ],
          "name": "stdout"
        }
      ]
    },
    {
      "cell_type": "markdown",
      "metadata": {
        "id": "rHM47ogKadnz"
      },
      "source": [
        "### 14.2.3 pop( )\n",
        "Calling the pop( ) method will remove an element from the set and return it. You cannot\n",
        "predict which element will be removed, as sets are unordered."
      ]
    },
    {
      "cell_type": "code",
      "metadata": {
        "id": "iTRUEk5bank8"
      },
      "source": [
        "fruitset = { \"apple\", \"banana\", \"cherry\", \"durian\", \"mango\" }\n",
        "while len( fruitset ) > 0:\n",
        "    print( fruitset.pop() )"
      ],
      "execution_count": null,
      "outputs": []
    },
    {
      "cell_type": "markdown",
      "metadata": {
        "id": "aimBL4jpa1WN"
      },
      "source": [
        "### 14.2.4 copy( )\n",
        "Just like lists and dictionaries, if you assign a variable that contains a set to another variable, you are creating an alias. Like with dictionaries (and probably because sets are implemented as dictionaries), you use the method copy( ) to create a copy of a set."
      ]
    },
    {
      "cell_type": "markdown",
      "metadata": {
        "id": "OgMmRzCNbDLu"
      },
      "source": [
        "### 14.2.5 union( )\n",
        "The union of two sets is a set which contains elements of both of them. You can use the\n",
        "union( ) method for one set, with as argument a second set, to return the union of both sets\n",
        "involved. This does not change the sets themselves. Alternatively, you can use the special\n",
        "operator **|** (pipeline) to create the union of two sets. \n",
        "\n",
        "Note: you might suspect that you can\n",
        "also use the + operator to combine two sets, but + is not defined for sets, and neither is ∗."
      ]
    },
    {
      "cell_type": "code",
      "metadata": {
        "colab": {
          "base_uri": "https://localhost:8080/"
        },
        "id": "uQZ-U2rAa7Hb",
        "outputId": "23091983-8331-4b55-9a7b-361cb2e9660a"
      },
      "source": [
        "fruit1 = { \"apple\", \"banana\", \"cherry\" }\n",
        "fruit2 = { \"banana\", \"cherry\", \"durian\" }\n",
        "fruitunion = fruit1.union( fruit2 )\n",
        "print( fruitunion )\n",
        "\n",
        "fruitunion = fruit1 | fruit2\n",
        "print( fruitunion )"
      ],
      "execution_count": 21,
      "outputs": [
        {
          "output_type": "stream",
          "text": [
            "{'banana', 'cherry', 'apple', 'durian'}\n",
            "{'banana', 'cherry', 'apple', 'durian'}\n"
          ],
          "name": "stdout"
        }
      ]
    },
    {
      "cell_type": "markdown",
      "metadata": {
        "id": "YShfxAfEbXqq"
      },
      "source": [
        "### 14.2.6 intersection( )\n",
        "The intersection of two sets is a set which contains only the elements that they both have.\n",
        "You can use the intersection( ) method for one set, with as argument a second set, to\n",
        "return the intersection of the sets involved. This does not change the sets themselves.\n",
        "Alternatively, you can use the special operator **&** (ampersand) to create the intersection of\n",
        "two sets."
      ]
    },
    {
      "cell_type": "code",
      "metadata": {
        "colab": {
          "base_uri": "https://localhost:8080/"
        },
        "id": "56tggLGMbfl4",
        "outputId": "466a87b6-0bf8-436f-e0c0-227d5d6fefb1"
      },
      "source": [
        "fruit1 = { \"apple\", \"banana\", \"cherry\" }\n",
        "fruit2 = { \"banana\", \"cherry\", \"durian\" }\n",
        "fruitintersection = fruit1.intersection( fruit2 )\n",
        "print( fruitintersection )\n",
        "\n",
        "fruitintersection = fruit1 & fruit2\n",
        "print( fruitintersection )"
      ],
      "execution_count": 22,
      "outputs": [
        {
          "output_type": "stream",
          "text": [
            "{'banana', 'cherry'}\n",
            "{'banana', 'cherry'}\n"
          ],
          "name": "stdout"
        }
      ]
    },
    {
      "cell_type": "markdown",
      "metadata": {
        "id": "fvVivQg4bkBx"
      },
      "source": [
        "### 14.2.7 difference( )\n",
        "The difference of two sets is a set which contains only the elements that the first set has\n",
        "that are not also in the second set. You can use the difference( ) method for one set, with\n",
        "as argument a second set, to return the difference whereby the elements of the argument\n",
        "set are removed from the first set. This does not change the sets themselves. Alternatively,\n",
        "you can use the special operator **-** (minus) to create the difference of two sets."
      ]
    },
    {
      "cell_type": "code",
      "metadata": {
        "colab": {
          "base_uri": "https://localhost:8080/"
        },
        "id": "g6zT_8Tsbqv2",
        "outputId": "5a0350c3-ee76-409a-8cb7-7e911f757ad3"
      },
      "source": [
        "fruit1 = { \"apple\", \"banana\", \"cherry\" }\n",
        "fruit2 = { \"banana\", \"cherry\", \"durian\" }\n",
        "fruitdifference = fruit1.difference( fruit2 )\n",
        "print( fruitdifference )\n",
        "\n",
        "fruitdifference = fruit1 - fruit2\n",
        "print( fruitdifference )\n",
        "\n",
        "fruitdifference = fruit2 - fruit1\n",
        "print( fruitdifference )"
      ],
      "execution_count": 23,
      "outputs": [
        {
          "output_type": "stream",
          "text": [
            "{'apple'}\n",
            "{'apple'}\n",
            "{'durian'}\n"
          ],
          "name": "stdout"
        }
      ]
    },
    {
      "cell_type": "markdown",
      "metadata": {
        "id": "27UyOqN2b3nu"
      },
      "source": [
        "### 14.2.8 isdisjoint( ), issubset( ), and issuperset( )\n",
        "The methods isdisjoint( ), issubset( ), and issuperset( ) are all called as methods of\n",
        "one set, with a second set as argument. All return True or False. isdisjoint( ) returns\n",
        "True if the two sets share no elements. issubset( ) returns True if all the elements of the\n",
        "first set are also found in the argument set. issuperset( ) returns True if all the elements\n",
        "of the argument set are also found in the first set. Note that a set is both a subset and a\n",
        "superset of itself."
      ]
    },
    {
      "cell_type": "code",
      "metadata": {
        "colab": {
          "base_uri": "https://localhost:8080/"
        },
        "id": "_fLoyhNecAHI",
        "outputId": "28f1a39f-2670-43b0-d1b4-e45512c172f6"
      },
      "source": [
        "fruit1 = { \"apple\", \"banana\", \"cherry\" }\n",
        "fruit2 = { \"banana\", \"cherry\" }\n",
        "\n",
        "print( fruit1.isdisjoint( fruit2 ) )\n",
        "print( fruit1.issubset( fruit2 ) )\n",
        "print( fruit2.issubset( fruit1 ) )\n",
        "print( fruit1.issubset( fruit1 ) )\n",
        "print( fruit1.issuperset( fruit2 ) )\n",
        "print( fruit2.issuperset( fruit1 ) )\n",
        "print( fruit1.issuperset( fruit1 ) )"
      ],
      "execution_count": 24,
      "outputs": [
        {
          "output_type": "stream",
          "text": [
            "False\n",
            "False\n",
            "True\n",
            "True\n",
            "True\n",
            "False\n",
            "True\n"
          ],
          "name": "stdout"
        }
      ]
    }
  ]
}