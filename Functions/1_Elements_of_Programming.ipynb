{
  "nbformat": 4,
  "nbformat_minor": 0,
  "metadata": {
    "colab": {
      "name": "Functions/1 Elements of Programming.ipynb",
      "provenance": [],
      "authorship_tag": "ABX9TyOHsbP3Kd3meygcZpjU+mUM",
      "include_colab_link": true
    },
    "kernelspec": {
      "name": "python3",
      "display_name": "Python 3"
    }
  },
  "cells": [
    {
      "cell_type": "markdown",
      "metadata": {
        "id": "view-in-github",
        "colab_type": "text"
      },
      "source": [
        "<a href=\"https://colab.research.google.com/github/hnhyhj/Python-and-CCC/blob/master/Functions/1_Elements_of_Programming.ipynb\" target=\"_parent\"><img src=\"https://colab.research.google.com/assets/colab-badge.svg\" alt=\"Open In Colab\"/></a>"
      ]
    },
    {
      "cell_type": "markdown",
      "metadata": {
        "id": "SizgHj72lycy"
      },
      "source": [
        "# 1 Elements of Programming"
      ]
    },
    {
      "cell_type": "markdown",
      "metadata": {
        "id": "Kuwl1MMYlhq-"
      },
      "source": [
        "A programming language is more than just a means for instructing a computer to perform tasks. The language also serves as a framework within which we organize our ideas about computational processes. Programs serve to communicate those ideas among the members of a programming community. Thus, programs must be written for people to read, and only incidentally for machines to execute.\n",
        "\n",
        "When we describe a language, we should pay particular attention to the means that the language provides for combining simple ideas to form more complex ideas. Every powerful language has three such mechanisms:\n",
        "\n",
        "- **primitive expressions and statements**, which represent the simplest building blocks that the language provides,\n",
        "- **means of combination**, by which compound elements are built from simpler ones, and\n",
        "- **means of abstraction**, by which compound elements can be named and manipulated as units.\n",
        "\n",
        "In programming, we deal with two kinds of elements: functions and data. (Soon we will discover that they are really not so distinct.) Informally, data is stuff that we want to manipulate, and functions describe the rules for manipulating the data. Thus, any powerful programming language should be able to describe primitive data and primitive functions, as well as have some methods for combining and abstracting both functions and data."
      ]
    },
    {
      "cell_type": "markdown",
      "metadata": {
        "id": "rPIBCch1lck2"
      },
      "source": [
        "## 1.1   Expressions\n",
        "\n",
        "\n",
        "```\n",
        "http://composingprograms.com/pages/12-elements-of-programming.html\n",
        "```\n",
        "\n",
        "\n",
        "\n"
      ]
    },
    {
      "cell_type": "markdown",
      "metadata": {
        "id": "hVSbTE2Nmhno"
      },
      "source": [
        "### 1.1.1   Call Expressions"
      ]
    },
    {
      "cell_type": "markdown",
      "metadata": {
        "id": "EHWBosMRnawt"
      },
      "source": [
        "### 1.1.2   Importing Library Functions"
      ]
    },
    {
      "cell_type": "markdown",
      "metadata": {
        "id": "4oVorivqnl7j"
      },
      "source": [
        "### 1.1.3   Names and the Environmen"
      ]
    },
    {
      "cell_type": "markdown",
      "metadata": {
        "id": "QXVsdhiKnriW"
      },
      "source": [
        "### 1.1.4   Evaluating Nested Expressions"
      ]
    },
    {
      "cell_type": "markdown",
      "metadata": {
        "id": "fM4VpTj7nzAF"
      },
      "source": [
        "### 1.1.5   The Non-Pure Print Function"
      ]
    },
    {
      "cell_type": "markdown",
      "metadata": {
        "id": "O2YzHn8792y0"
      },
      "source": [
        "## 1.2 Statements\n",
        "\n",
        "\n",
        "```\n",
        "http://composingprograms.com/pages/15-control.html\n",
        "```\n",
        "\n"
      ]
    },
    {
      "cell_type": "markdown",
      "metadata": {
        "id": "R8BIc0bY-n_y"
      },
      "source": [
        "### 1.2.1 Statements"
      ]
    },
    {
      "cell_type": "markdown",
      "metadata": {
        "id": "NixSq4QM-w97"
      },
      "source": [
        "### 1.2.2 Compound Statements"
      ]
    },
    {
      "cell_type": "markdown",
      "metadata": {
        "id": "kuS62DGE-wrt"
      },
      "source": [
        "### 1.2.3 Conditional Statements"
      ]
    },
    {
      "cell_type": "markdown",
      "metadata": {
        "id": "sspatesf-w1K"
      },
      "source": [
        "### 1.2.4  Iteration"
      ]
    },
    {
      "cell_type": "markdown",
      "metadata": {
        "id": "AMa5doF7-wi9"
      },
      "source": [
        "### 1.2.5 Testing"
      ]
    },
    {
      "cell_type": "markdown",
      "metadata": {
        "id": "9RcDX-jn-wPg"
      },
      "source": [
        ""
      ]
    },
    {
      "cell_type": "code",
      "metadata": {
        "id": "_DCKV87v97Sx"
      },
      "source": [
        ""
      ],
      "execution_count": null,
      "outputs": []
    }
  ]
}