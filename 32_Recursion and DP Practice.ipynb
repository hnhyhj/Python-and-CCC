{
  "nbformat": 4,
  "nbformat_minor": 0,
  "metadata": {
    "colab": {
      "name": "32 Dynamic Programming.ipynb",
      "provenance": [],
      "authorship_tag": "ABX9TyMa72WTKDlKRMeaM9ONBBD2",
      "include_colab_link": true
    },
    "kernelspec": {
      "name": "python3",
      "display_name": "Python 3"
    }
  },
  "cells": [
    {
      "cell_type": "markdown",
      "metadata": {
        "id": "view-in-github",
        "colab_type": "text"
      },
      "source": [
        "<a href=\"https://colab.research.google.com/github/hnhyhj/Python-and-CCC/blob/master/32_Recursion%20and%20DP%20Practice.ipynb\" target=\"_parent\"><img src=\"https://colab.research.google.com/assets/colab-badge.svg\" alt=\"Open In Colab\"/></a>"
      ]
    },
    {
      "cell_type": "markdown",
      "metadata": {
        "id": "h8s3P2s6GIS1"
      },
      "source": [
        "# Chapter 32\n",
        "# Recursion and DP Practice"
      ]
    },
    {
      "cell_type": "markdown",
      "metadata": {
        "id": "UUCojxfWGgdD"
      },
      "source": [
        "## 32.1 Simple sample\n",
        "\n",
        "\n",
        "\n",
        "```\n",
        "问题描述：一只青蛙一次可以跳上1级台阶，也可以跳上2级。求该青蛙跳上一个n级的台阶总共有多少种跳法。\n",
        "\n",
        "One little Frog jump steps, and he could only jump one step or two steps every time. \n",
        "Please find there are how many ways to jump to the top of n steps.\n",
        "```\n",
        "\n"
      ]
    },
    {
      "cell_type": "markdown",
      "metadata": {
        "id": "sfblsW1PG0wb"
      },
      "source": [
        "## 32.2 Unique Paths\n",
        "\n",
        "[Leetcode 62](https://leetcode.com/problems/unique-paths/)\n",
        "\n",
        "\n",
        "A robot is located at the top-left corner of a m x n grid (marked 'Start' in the diagram below).\n",
        "\n",
        "The robot can only move either down or right at any point in time. The robot is trying to reach the bottom-right corner of the grid (marked 'Finish' in the diagram below).\n",
        "\n",
        "How many possible unique paths are there?\n",
        "\n",
        "\n",
        "![robot_maze.png](data:image/png;base64,iVBORw0KGgoAAAANSUhEUgAAAZAAAAC3CAIAAACzA5+hAAAAA3NCSVQICAjb4U/gAAAgAElEQVR4nO3dd3wUZf4H8M8zZXtL7yEECL13UHMqKh72rqdnQfQ8wd7u9JreTz3P09PTs9791J+IHqKCngUUBEGkSScQWkJ62bSts1Oe3x9LS0SzSUB28ft++cJkMpP5zuzuJ8/MPPMM45yDEEISgdDN5TS1YtnyUHNLjLOHvV7V5+vmugghBEC3A2vF3/7+fvEZS37zoBYKdTpz1Zq170w7f8Gts0KNjd1bHSGEoNuBVblls4pw5Vvz1LDS6cxV69bVrVpR/X+vV61e273VEUIIuh1Y2X2LFCDtnCmyxdzpzLbUVAZIeYWO9PTurY4QQgCwbp90X3n+pQOe+ktSn8LOZ+X820f/IrhcI2b9unvrIoQQAFK3l0zq3cuZkhzTrIzljRqp+/3dXhchhKD7VwkBbnShacaNrsxNCCFHEmsLi0cinHMGAIyDc1U1IkqkqYlzgBuH5mNMD4U6HGYKkhTxevVQKFhVrSsKO/g7Obekp8tOx1HYDkLIT0BM57CC+yoqZr/FIxEwBoBreqSqOrBpi6WwgEntIo8JQnjXbq6o0TkPTGWGGoFhaN5mvaYWEAEGMANtBU8/2/eOWUd7owghJ6aYAqv63fdKb7kDAuMRDYYBgNkszGbhigpDP/y3QWDMbAIAJkCUwA0YgAAwEboKxpgogAlgDGGVB0LOkUNGfTr/GG0bIeQEE9shIefMarYOHpD+s2LBZOKGYc/N2ff23JwLz5McdhyIPCaK3rXr3RaTu29frilGTQmr3sSlOqanIX8sSx9ocjkElwuail2fITAfaUN4wxb+8QvstF/CYj+GW0kIOSHEFFiMCVA1W5/eva68jDkc4Byi2PDFkpSJ46XkJBw8ny6Kgtsd+XqlOT3Z+HaeHnhRnFaArAtRWYfPXzRsvxbST0I4ou9cyJPeFS55lDu3sMgE471fi8uc7Myrj+FWEkJOCDEFVqi5yWgLCGYLAEQiABBR9UjEUBRoevQgEQAMw+x0NPmDqXtW6f4XxftegpzElS9QEOQDHOypv8PiQvZIrfmv5oteNiz/ZYGlEJOEn6Xq8+dK48+GO+UYbSQh5MQQU2AZqsqDiik9lTkcUBSYTOVz3vUuXFyZk9375huZybT/qNAwrP36qbu3CWaDXzQDYoT7LgPLBCQhTVanBnwb93iyhipGTsC70IxthopIpKWxkglhrd/hlxoJIeRIutBxlBscnIMxvaXF++ViwSTvfvaV7KuvtJjNB09jwTC0cBuMejH/Rq78GkIvMEEQEfLxVTutGc01Hj0UDA3d9P67lsJsXWWairaq1n6WPFitx2T7CCEnkO70dGequscf8PrDor/2pA7XGDnklKxwRFj9xtOFxRGn26LrvGaPVrmbN+0Lp4pmSLI46MryN0vZvj2S2R4OSA0rIzkPTIKZemMRQjrR9cDiXPB4CgcPrv/sv4PPuchsOax5BYAbck4hJEHZ+Po3wSxJijAAHIFmtfLryOCrJyO/0J7ZO6/qD2Url6taVXDbhgxFbnnqhT3hSOGM6yGKR2/TCCEnmtgCi3X4lg2/ZUb2uNHOPn0Fm619YHHBk8I9GSlVe7/9dFnqQLs3LMEXUksief0utfefhJRkm26MPmty0djhyWmyHPZvuPMBbffufX/8c3Bnab977zZnZhzFzSOEnEhiPOmuAcKhzuuGITocmaedCsM4dIkwinN7bnrQbs+9/vne//rfqo3fmtSQ4Enpfcao/PHnZ/dKVVvbmmvrwxFFEHRfs2RzuSbPfXPfnHf2vfZmwxtzmt95v+i1F9OLT2GyfLS3lBCS8DoPLCOsqHV1QpLd7HQemso5NO1IcxvOoqKyufN6/7LP6XfcprQ1cVWRrG7JbnfZWcnKr1YuXLR36aq2sm0aYIGQOmJsvzNP7T9oyMDHHyl95HGltrbk8muVpx7Lv/oqOjwkhHQQQwvL0HlEhSxJkgRVPXJOHcSYOTMj/6Lzd73wyoC7ZglZuTA4BKb6A8/NuGP75x+7oXpgTRPsMAwDIWxYVblhVXVylnvs2El9C9skUdlX2bx6Tc7FF4oOOg1PCGmni90avnsM+F2GYc3JyTv/nO1PPVs4Y7olNydQV/vCnffv/fzDbMAOuCA7BhRY0tLcmRn2JE9ycnJqaqo9Jdmcm1u37tvtz7/MI6qhqtS+IoR0EOOtOQAAbuwPLFFE9ByTYUBV8d3bp3XdWdQv64zTK999z5qXu27psvCnS8+Zdl56Tk7KgH42q81is5osVovDDrMZADgH5zB02WIRrBa1vkH3++WkpKO4nYSQE0C7wIpoiGjtrgkyBiMMTeMQAMOApsEwqtdvWfyXJyN6eMApp4y/4VrRaj1Cs0vTkoYPa9q02RYKnXPVFeddc9X+2Iv+G00ooN0BpiiKosAEwdCNQJjrKr7b+50Bus51zjr+IP6IjItitFNH/GIA5zykMsP4zrXgeMNhliGLcb0/ER04icX3q36Y+L+/RGSwyIcu+LULrN11kERI4qE2ExPAA4goYIwxDnCutLZ9/e9/1a9edtqLL69+9vlwRDl15q1MEqHr6EDTRM5dvfIEUTiUUJ1iMHTW5GdSGxD9FDFwY/87QGCo8zFJgBDfny7G4AuxnCTE+VuXMbQGmWpAFmN9fY4LxqDqkEW4rfFep6LB64fNFN+vO6Ab0DkynIjbsYAZYABBBX0yYDPtnyh1mKVPOoT2wyZzix6UtYDBNV2DYSiBUMWuRgCl//14wh23LXvoD4zj5OnXSQ5Hx8wyDHDOOz3n1QGHbEJBpiinAEC4vg4cloxDnbNCGkwS5Pg+xcUYFBWFifCQoKpm+JUE+IAFI3CYkRP35wkCCkIRpDrjen8CUHVENBSkHe86OrO3od23Hc9hGbzjMO9Kqy9ctk/0uJIyMxCJ2OzWzDMnfrtjBfvwg0BZ+bTXXl3y50ebbr/77D/93padBVU9tKRucFVrN/RoDJgk+kp3LbnnN341EmxrFWRZbWrOGjXytCcel6L3G/IuNNdIp/iB/RnnezRRXvRog4Uj3qvlPL4b/wBwhLdlDA+hiA4Tqhu6qsIwJFkaOaHYU3x5HdCyef1XDz8y+a7bjZysBfc+UL9tO0SRGwY3DM657msTNZ0JXW0LMXDOHDZ3/35ZY8ZkjhiRPmrklueeba5p6HxRQsgJLeZuDQzc4FzXYRgZmcljTj93tarUf/0Bvlmx4g/+U/7y6M4FH827Zea4m6aPvuQiAIZhcF2XJKGLDSwwhrawsvLlf6lQbUAYiAAtwDWm+D4IJIQce13oh8UMnRk6ImqS25Se6Roy6ed73ckNi9/lW7fPP2fa5L8/mzlm9Lcvvtywfsuoqy9LH9CfGUb3TugZhtEG1X+gxWqFcNZ9v/XE+AxEQsiJK/YWFoNuQNOhaeBi/z7uuh2VA4ZOKjfbdn3wXBazrL7jtrwrfjHp3rsrNm547/pbRtx03ZCJ40VZFqSuDQjBDcOdn3/W5TebCz3u3D6Grmfmp2UVFso0YBYhP3mdpwljAGMcAOeIRKDr0HWr1TRwZN6mjTUF/Ue4f/nQ+q8/cu7aZLw9u+KDj0bee+dpb766cfbbWxd9kepxFxcW2FxOk812qAcWY2CAwaHrkKQO1xa5briSPZNmXWHJzz02m0wISVSdB5YeiWgtrUwUxYO920WRRZS8PLevJbB3T3NSRv7Eqddu/3ZJ3dcLnIq67pE/2nr1GXLHrILJkwKR8KdvzBZbWnMnjMnIzrHY7ZIs65rqb21trm8I+f0DxozJ6Ft48IIKP3iFJf4vYBBCfnQxjdag1zUIJpPJYYeqQtejHawEwRjUP0UJhCsq/GazZdi4M2ty+m5Z/K7k3ZdVXrn6zjs84yclDRqUM2pk2qQJkVCocu364OatoUavOcnj6Ncv+eSTIvsq5t/z0I3/eV0wydGr1qLZxGRJ83r1UOhH2HhCSGKJ4QQTYxDY/vs2DONQfxidC4yNHp+fnFK7s7Qtoui5ef3yrv3tzo1f7t2zle0taVv1dcOqrwWAAWY4UoonJA0s8uTlqj5fzfLl3/7PnzgQBGr37skeOBC6Ds7NLpdgsRgtbYaiHNPNJoQkopjPiHNAj55xb3+wpuu981KSnbatW+sbGoOiwPoOPTm3cFh1TVn5tpV1ezZbAatsFxlal34lLP1cBCKAAHPE7Appmk8PGrKrYw82xrra3ZQQ8lMQY2AddsfykTrwupOs48blNjYGSksb29oU2WwvKBzmsTqCAya0ttbWVJaFmmqZKEGTo925mCgZkmxJzug//DQu2QBAEDreE0QIIe118SEU33cvr8ElWcjMdmXmeRprmuvqw21+RWuzCJznD/j50HFQdTXQ2hDyt3Bd45ybLE57UmaSx+lwyTn5Hqiav9Ebampq2LhFbWkVRYnH+X0NhJDjIbbAEhgAUZYhydC1A7dLtc+U6N1Thp6a7k7N8GiqtssSWLuyXNc0wzAAOFxpdmeaYUA2S5lZ1owMl8tlYf6WquUr2srKfHvKQ3srEInwRr/p5FGyy3W0t5QQkvA6Dyw1GAxvKJH6F2x45TV3Ya+04UNtaamiJIkmMyQR4DDaHycaHOCSLFvMIjgXRCZJgiAKNrspPcOW4rHaLYLS0tK0ZfW2b1Yr3ma91ccDITHFYxnY19G/KH3qWalnnC5aLMdwowkhianzwDK5Xc4zT/F/vtJX7/Vt2FTx7gLJaXf26+MeNMCanmZ2ux1pqSaPG4zBMMCN/ceMhiG2to4cnp1WlGu3SVabrDZ5A41NrWvWb1+3QdldJggMnHPGnJPHJxWf7OjdO3nCOIlGGSWEfL/OA8uW32vYa6+Gm7xNX3zZtvKbprc/1Bqamuu9bVu2MZMsut2WjDRTSrIrP9/TK99d2BtmOTqSskUQM/rliXahYfPm8p27fLv2hGvqWCQiyqJgs1S2+W2Txp30wL2uggJTWuqPsKmEkEQXw605omDOyjRnZboHD8Ztt2IOAjtK/Zu2fPGXZ6xN9ZY2X6itTS4pbQx9CVE0FDVp9DBPUV/PwAGNpaU731+g1NRB13goInlc9uGDt+za488s2rJmSdDfODH7PPfQobLF/CNsJyHkBND1R9UD9v5F9v5FTXMW1mpyeO8WF4yiwYMHDRviW75c2Vresm5j66atZXy+YJZ5ROX1PsfUkz3FJ3nGjk4ZMnj5rNuZbai2ZK4EZOTkUFoRQmLXncCKcibbWmvdjZraGGxKL8gb9NfHDEUJNTY0LVrcumqNb+MmyeVMO29axoUXWNLTJIeDSRKALLPZlu/cATiBZLn7ayeE/AR1PzJyHHK9SRQF0QLYGZOcDjgdptQU94ABmHWkBTjXW1oNvz8jmRcBgslV948Xymz2nCsul5M83S6DEPLT0f3AEnRlUP9MoTJF8Td42IFxY47ECIXqvljSsn69f9t238rVGzZvZRa3ITDF11bx4J9a123Iv2l60rgx3a6EEPIT0f3AMjTdbre4zCY/wJjwA3f/7Zs9p+w3f+S+kJTuEUKKr65SMNnVsFZZNMpqRPSFi1qXLks+b9qQvz3R7WIIIT8FPbh9j0WfacEBaM3NRjB4xLmUxsbq51/inGc9eEfRc08Xv/6qediZSnpf6Zxrht74sP/ki3cHVcUw6p96vmnpV90vhhDyE9D9FpZsyJBExgQmOFpWrdn2uz/0mXmrtXfB4fMYQN3Hnym7ywUDAx78DQQhA3CPmrhz3Z6KJatLP3ytINU8+P67g6tWtLb6m9euSy4+uYfbQwg5gXUhsIxwWGlqbvjks8bFSwJfr6oLBIO5WZFGL7NIPiXc+Pa7TXPm5f32nsyrfhGBJdQSCLQpYGLN8y8zmyXzlhsPDsYQ+fj9lDVr8gsLc844T3DYYfAyb23rsm9at23Tg0HRZjs2W0oISXixj4fFK17/v713PmgIjMkiC6smq6li/RrZ5hZ0nWfmtqZnOyq273vw4apPvnRfco116CgmidBUISWVVZTXzX7b2qdP3mUXM5PJ9/Wqgdf9AoIARWnZtddbUuL9dqNgt2oVVUpNna1P72O5vYSQBBZrYOnhcPnjf0OKy9G3MOnU4qTTihVBrJp8RiTY0gZknHIpG3Gyd/0S6/J57m0bmh/ZJP9ztpyVC0lOuev3LS/9LbRsyd6H/hgsLe33m/tlswzOG9dv3LdkaaiqOlJZLcgSDyumSaeytKxjurWEkIQWa2Dt+/frurfF3Ldg3JKFBydOW73mq7fnpYrZqUXD1Vav0WvQPm9d3q6VnrbW4JJFnmtmcDUipWel3f9o2+D/+F57oea5l30rVhqqVnf/75TKagGGkJxsO/UM84ixzlPPdOVnmR3U8Z0Q8r1iCiweDte//wEMnj3zV4dPLxg7MHvIb9c8P3fHwrlMDeZnSePPHKVmsupPFka2rGHir7gK6DqXZOcFVwlOV+trLwRLd0KSEAzITof5rPMtoyc7hgx1986yWgSrXWYCjYxMCPleMQVW/edfKLvLxOx01/ChBycqjd7KV/6tlO3tV9RvxMWjJJvNbDbDJLeYWdWHn0b27NKaGgS7E5yDG2DMPuU8uVef5pefNlRV/tnZyadPtSS7k3KTbA4TjY1MCIlFTIFlTksTPW610bv9+psHvPLP5HHjwKA0NJjbWvpcfgkMA4yB80BlVWt1TcWSpaLHxQN+dVeJZeRErmtAdDx43dRvcNrDz1hdVluax+6UzBa6l5AQ0gUxRYZn3NgB/3xm+/RfKVW12265reC+u3KvuEyprrZmZ0FgMODbs7dq3fqWDZvCFVXQNRbym88+Ty7oxw0dHBycGxBlZnfLjt7ZFrtJFOnQjxDSZbG1cRhLmThh9KKPS//8WNPcD3beemfb2nXJY0YJmlbz1cryhV+EKyqhhJnVIhX1d0442XLaOVJ6JjcMgEtm0eKQHR6r3U2jHhNCeqQLB2WWnOzBf318Z1ZG3cuv1c/+T8uixZyxiLeJaapolsxnX2AZOcY8eKSUng1dNZkFi8Nsscs2p0WU6BwVIeQo6NpZJNFhL7r/PntBr72/eyRS1wDOGdetV0y3F59pyswSnQ6zRXR4TFanU5JEUaacIoQcTV0+7S2YTXm/vMY9dGjZ7LdsA4Y4ppxvdlrNsiZbzbIsHosSCSEkqpvX6VwjRwwbOeKwCaajUg0hhPyAnnYsaGhoePbZZ0tLS0ePHn3TTTd5PB7Ouc/nczgcwvd3r+KcNzc3Jycn93DthJCflB6dZuKcX3311UlJSddff72iKFdffXVbW9uuXbseeuihH15w/fr1N9xwQ09WTQj5CepRC6u+vt7n8911110Apk6dOmfOHFEUn3nmmRUrVixatKi4uPiNN94oKSlJSkqaNWuW1Wr95ptv1q5dGwwGvV7v+vXrly5dWlxcfJQ2hBBy4utRCysjI2PKlCnDhw9/+OGHd+zYcfHFF9vtdlmWLRaLxWKZPXv2pk2brrzySr/f/9hjjymK8uCDD2qaNnHiRKvVarfbJYl6uhNCuqCnkfHwww8XFxeXlpbed999OTk5TzzxxMyZM0VRLC4uzsrK8ng8DQ0NAKqrqwGYzeZrr702KytLluWysrLJkycfhS0ghPxk9CiwVqxY0dDQcMEFF5x++umXXXbZjBkzKioqBEHgnOu6/tZbb61Zs+bss892uVzR2DKbzbquA9A0zTCMo7MFhJCfjB4dEtrt9vvvv7+kpKS2tra6ulrTNKvVyjmvqKgoLy+fP3/+zJkzzz333KampsbGRgCqqnLOo8s2NjY2NTUdhS0ghPxk9KiFNWLEiL8//ez06dNlWRYE4bbbbsvPz/d6vVardc6cOU8++eQLL7xgt9vHjx/PORdFccKECSaTKbpgXl7eG2+8MXPmTDqTRQiJETvY5AFQUo1+GZC62F+9tbU1EomYTCaXy8UYAxAOh3Vdt9vtwWAQgM1mCwaDNpstFAqZzeZo/6zoj6xWK/v+BxoeUUk1ZAlx3qmeMdQ0Y3yf411HDCqb4FdgM4F3Pu9xw4BgBA4zcuO+654vjF11SHGCx/MOBVQdqoaB2ce7jh/EOfY2ItMN24Ge6UehdeN2uztMsVj2D8xgO/AInOgXVqv14Dw2ejoOIaSLOgZWF5s7xwMDi9YZx3/B4n8vHrR/ZzKwON6fYGAsMfZq9BMU76VGd2a8V3mEF71jYDX6IInxGwUCg6JCNxDRj3cpP4gBBkej/3jX0RmBwa8gpEKP+2u2EQ3gaArAiNt3Z/TQVYGmI6DE74coSjeg6fG+PzmHorabciiwohtQ04p4fhAEAxQVHhssclyfIxAYggqqm493HZ1hQEhFUnR/Hu9ifgADwgKag4ho8V6nasBmgscW1+9PAJqBmhZUNcX1/gQQikA9rHXSroXFAbcNYhwPY8UAzUCaC/a4Hx7C64fdEu+H2AwwAsjywBH3w8H6wwiq8Njj/QMWVmGRkNnxvG7cUXV4ffG+PzmHbrQ7Kux4SMh5fP9lYECcV3gARyLUycB5XB8UHGRwcJ4AezXeP0EHRF/0ON+f360tjltThBDSHgUWISRhUGARQhIGBRYhJGFQYBFCEgYFFiEkYVBgEUISBgUWISRhUGARQhIGBRYhJGFQYBFCEgYFFiEkYVBgEUISBgUWISRhUGARQhIGBRYhJGFQYBFCEgYFFiEkYVBgEUISBgUWISRhUGARQhIGBRYhJGFQYBFCEgYFFiEkYVBgEUISBgUWISRhUGARQhIGBRYhJGFQYBFCEgYFFiEkYVBgEUISBgUWISRhUGARQhIGBRYhJGFQYBFCEgYFFiEkYVBgEUISBgUWISRhUGARQhIGBRYhJGFQYBFCEgYFFiEkYVBgEUISBgUWISRhUGARQhIGBRYhJGFQYBFCEobU4XvGwBjAj0sxnWMAGNjxLiMW+0uN450JgEX/S4Qdytj+auNa9BWP9yqBAy96XFd6oLjDP0CHAosxCAyBMEQhfj9iDNB0tIYQ0eK3SAACQ0QDwmAsrutkgKqjNQhNj/c6AwpUHf5wvNcZ0cENtARhxHGh0dddM+J6fzKAc+hGu8PAQ4ElMEgCrGZIcRxYAkMogkYfxPg+lmUMIRWpzjj/EwYGGAYa/WgNHe9SOqPqsMpwWeP3zQmAAeEImgLQeFy3rAHoBgQGty2ug5VzcEAUD01pd0jIgdykeM+C1iBkCSYxrt8PAoMvhNzk411HLDh8Cmxm8DjeoYwhqMBpRk7S8S6lM34FbWE4LfG9P4GIDlVDtud4l9KZvQ3tvu0YTvG8lw8X52XGeXmH4+3+F6/4wX/iXUJ8ghKhRuBAC+tw8d2aIoQkDoPjz3ONN5YYx24VHa8SEkJI93ywCr9bIEDQTxmMgvRjsgpqYRFCjgJFw7+/QIYDLov48mf6MVoLBRYh5Cj4ZC3WVCPNpubYtI83iRvLjslaKLAIIT3lV/DFBjSoeOCMf10/ZtHGJixYaajHoJlFgUUI6amScryxEUNckWkjnjht6P+5ZLy+BhX1R/9qJAUWIaSnfj8PbQpu+9mLHkf16D5zLh309e5W4YkPj/6KKLAIIT2yaic+3YaxmY0XjXyHa2nQMm477UWXWX/pG17eeJTXRYFFCOmRf38GmHDLhM889p0Glwxu6ZfxzYxhXwPC7MXa0V0XBRYhpPs++xbvl+C83vvOHPaCwEwA41ywmpuvnPjmII9/wQZpR9XRXB0FFiGkOxr9WL4d761EQxjThn6Rk7xON0zRHxm6Y3j+3Cl9N62qx7wVWLsHzcGjs1Lq6U4I+V4Gh2GAA00+VHixdg9qmlBWi/pmBFRUBVAVQrbDuHrSvdw41Ledg0mi5ebTHnl29SdPfYnXViLbDpuEvnnI8KAgHUPy0SsVDgsACAKEmAc1ocAihBzZ8m14bSlK6/FVDRDEoREUBQxIakq3BYrzWtJs2unD37ZZDF0TD19W1y2D8j795/mv764ZVu2z7GtzlbbaPyn37L+bmQM6irKQ68bQHMw6G30yYyqJAosQcmT/uwz/Xo1sK4oskezMfQVJtf3TqorS6rPcPodtl9Xs9dj2uq21sqTr2hHGqdEjvW+ZMjOsOFtCuW2h3JCS4gv0KW9y72jI2uPNKm/JqGvNLqk2LS7B8AIKLEJIzzx8KSob8U0FihxtT1380Ij8zzmXBaaCGeBmQORc5Nyu6997RKdraSaJZzhrM11VgA4WmcxFg8sCU+Z/e/sDC+6NcFw/CVdOjrUkOulOCDmynBS88itcPBRf1qTe/+5TmyunCKKiGy5d9+iGVTdMBhd5Z4Pqcs4MLumGWTdsuu4xDKdoqlmw/s77Fty9w2e9chSeug4WU6wlUWARQr5Xfir+MQOT87CoIvv2Oc+WewtFqaUHv4+Lpr1fbb351/Pu29lkv20iHv8lPPYuLE+BRQj5IXYzFv4WM8biy7r0K19a+O3eaaIQ6NZv4qLof3/V/1z6+j9Cqunvl+CZ6bCbu/YrKLAIIZ2wmfDY1bhuOFbWJd8z96/baiaIUnMXR1rmoqnsvxt+ffeCO+p88u9/jpundqcSCixCSOdSnPjHjTinP5bUZN7+1ks7aiaIQjjmzOKi1PL5xntuf++BvX7b76bi9vNgkbtTBgUWISQmDgvenIVfjcGy2syfPffe8tIrRCEcy4ICUz7ZcNt1bz/SGLY+cz5+f3n3n35HgUUIiZXbhseuwUUDUBuwLtkxAVA7XYSB61yet+G0Kr/l/in41c8h9SB1KLAIIV3gsaN3JmCgd3JD53MDABj0ZKsfBgqzYRI7n/8HUGARQrpmRyUgYHjuvliebM7BBCE8OrccwM7qnq6aAosQ0gUcqGxEX3eLJNfFeKsMY8hPqYWMHRU9HeadAosQ0gW769GqYnhajdu2l/N2l/pEISJKtaLUKLD2wcRlh7VqoLu5qkkMRnq0dgosQkgX7KxCg4Isp99urucHAoQxXTTt3Vk/5Ac7GBYAAAWBSURBVM2l/5r79V+bgjZRamBs/yOgOZc8jt1FSY1NYezr2aDJdPMzIaQLmn1o0lCY7HfbynU9U2AqEwKBcOp7K598dfkvl9WmQcS0b865ufjVs4e/IIkqN+yA6DTXZdqDa2pR5cWA7O6vnQKLENIF+6oBGLnpa8FkUfTWt476suS8Wf+dUd/m9Fhx80j4FczenvPf1/8wPue6J855aUj+Z8mOco+rvCi9qXorGpp6tHYKLEJIrIIR1PmQJWvprjLA959VT8xbe/F/9hSC49IhuPVMjOmPcAQXbTSeXojlFb3Oeu3Rq/pfddXEf50+4u8eZxkM1Hl7VAAFFiEkVk0+7GxEmlnbUFX09MLyzyvzReCUTO3eC6Qpw/bfbWM34aLJwtQxmL8Gj76H17YP+WTX36atumFQ7pc5Fq2yRQpGYIt5PJkOKLAIIbFqC6C0EUHF9uAntwci+MVwXDjO+Pk4yfqdGwNtZlx5Ek4fhgUr8c4q4dUNQ13bhtpFbKhCsw+2lG4WQIFFCIlVMISdXkBCngPPXIILJyHZ8UM9DdJduPEsnDUaryzCI0uhqNjVjFAPejZQYBFCYpWWhJvGYkwRrjsNcsw32eSl4uErMescPPcRQmG4uzJiXwcUWISQWPVKx0u3dnPZNCf+dGVPC6COo4SQhEGBRQhJGBRYhJCEQeewCCExqampefnll2VZBqCq6tlnn11YWLhs2bLzzz9fFNudgfd6vYsXL77wwgslqV3CvPLKK1dccYXT6ex2DdTCIoTEpKysbN68eWlpaR6PJykpSZIkSZJcLtd35/y+6a+++qrP5+tJDdTCIoTEaurUqTNmzDj4rdfrVVVVEIR33nknFAqtX79+3Lhxl156KQBVVSVJmj9//qJFi1JTU++55x6Hw2G1Wj/88MOtW7eedNJJl112WTcKoBYWISQmgiCsWrVq7ty5b7755kcffRQKhVpaWt577z3DMK644orNmzdfeOGFM2fO3Lx5czAYnDdv3r59+6ZPnz5t2jTO+Zw5cwCUlZWVlJRccsklN9100+LFi7tRA7WwCCExYYwpiuLz+SKRCGMs2raKnqUaPnz4ddddN3To0LvvvltRFMaYKIpWqzUlJeWrr74aOXLkpEmTAOTl5d1+++29e/e+/PLL/X5/N2qgwCKExETX9cmTJ99www0HpzQ0NADgnFssFkEQAGiaxhgDYBhGcnLykiVLPvzwwyeffHLEiBFPPfWU2WyOBpymad2rgQ4JCSEx4ZxHIh3vA9R1HYCiKIZhRL/lnHPORVFcvXr1ueeeO2XKlNffeH3dmvXhsBL9KQBN06JfdBW1sAghMXG73Xl5eYdPkWW5X79+jLFTTz3V4XAAKCgosNlskiT17t177NixM6bfdOedd3o8nn/+8/mUlOTBgwdbrVYAw4cPT05O7kYN7PCcK6lGvwxIPXtw2LFWUg1Z6sKNl8cFY6hpxvg+x7uOGFQ2wa/AZor1oePHBQOCETjMyO3Om/xH5QtjVx1SnOhWA+LHo+pQNQzsymjFhmEoihJNnINTIpGIxWIJhUJms1kQBEVRRFEURVFRFIvFAiAQCIiiGP06GAxardbouTBRFDv00vouzrG3EZnuQ+NndVyAdfsZ0j8iFq0zjt8Q8V1dRwwAA4vnihkY6/7zzX9M0U9QvJfarZ0pCMLhaRWdEk2ig9PNZnP0i+h0AHb7ocEZbDZbh9k6KfM7dbYPLI4GX48eJH2sMQZVh6pD0uL6LxhjEBkae9RF7sfAGBQNigadx/v+VFRwA15/XNcJhpACRYUvHNd1MgZNh8DifX8aHOH2Z+fbHRI2BxCMxP0fB0LiG4//FlaC4IAsItlxqBXFuneunhBCfnxxfPhHCCHt/T+NDQME9FP/HgAAAABJRU5ErkJggg==)\n",
        "\n"
      ]
    },
    {
      "cell_type": "markdown",
      "metadata": {
        "id": "A333rCNSH2cf"
      },
      "source": [
        "\n",
        "\n",
        "```\n",
        "Input: m = 3, n = 7\n",
        "Output: 28\n",
        "```\n",
        "\n"
      ]
    },
    {
      "cell_type": "markdown",
      "metadata": {
        "id": "m7Rtvh_hICCp"
      },
      "source": [
        "## 32.3 Minimum Path Sum\n",
        "\n",
        "[Leetcode 64](https://leetcode.com/problems/minimum-path-sum/)\n",
        "\n",
        "Given a $m*n$ grid filled with non-negative numbers, find a path from top left to bottom right, which minimizes the sum of all numbers along its path.\n",
        "\n",
        "Note: You can only move either down or right at any point in time."
      ]
    },
    {
      "cell_type": "markdown",
      "metadata": {
        "id": "IeR1R9OMIhEn"
      },
      "source": [
        "![minpath.jpg](data:image/jpeg;base64,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)"
      ]
    },
    {
      "cell_type": "markdown",
      "metadata": {
        "id": "dcu1OGL2Ioad"
      },
      "source": [
        "\n",
        "\n",
        "```\n",
        "Input: grid = [[1,3,1],[1,5,1],[4,2,1]]\n",
        "Output: 7\n",
        "Explanation: Because the path 1 → 3 → 1 → 1 → 1 minimizes the sum\n",
        "```\n",
        "\n"
      ]
    },
    {
      "cell_type": "markdown",
      "metadata": {
        "id": "oViBSJAwIsvf"
      },
      "source": [
        "## 32.4 Edit Distance\n",
        "\n",
        "[Leetcode 72](https://leetcode.com/problems/edit-distance/)\n",
        "\n",
        "Given two strings *word1* and *word2*, return the minimum number of operations required to convert word1 to word2.\n",
        "\n",
        "You have the following three operations permitted on a word:\n",
        "\n",
        "- Insert a character\n",
        "- Delete a character\n",
        "- Replace a character"
      ]
    },
    {
      "cell_type": "markdown",
      "metadata": {
        "id": "EPZVo4OoJLDL"
      },
      "source": [
        "\n",
        "\n",
        "```\n",
        "Input: word1 = \"horse\", word2 = \"ros\"\n",
        "Output: 3\n",
        "Explanation: \n",
        "horse -> rorse (replace 'h' with 'r')\n",
        "rorse -> rose (remove 'r')\n",
        "rose -> ros (remove 'e')\n",
        "```\n",
        "\n",
        "\n",
        "```\n",
        "Input: word1 = \"intention\", word2 = \"execution\"\n",
        "Output: 5\n",
        "Explanation: \n",
        "intention -> inention (remove 't')\n",
        "inention -> enention (replace 'i' with 'e')\n",
        "enention -> exention (replace 'n' with 'x')\n",
        "exention -> exection (replace 'n' with 'c')\n",
        "exection -> execution (insert 'u')\n",
        "```\n"
      ]
    }
  ]
}