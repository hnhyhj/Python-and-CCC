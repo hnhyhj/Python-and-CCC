{
  "nbformat": 4,
  "nbformat_minor": 0,
  "metadata": {
    "colab": {
      "name": "Exercise1.ipynb",
      "provenance": [],
      "authorship_tag": "ABX9TyMgTF0MBWo2oILKwZucEbbw",
      "include_colab_link": true
    },
    "kernelspec": {
      "name": "python3",
      "display_name": "Python 3"
    }
  },
  "cells": [
    {
      "cell_type": "markdown",
      "metadata": {
        "id": "view-in-github",
        "colab_type": "text"
      },
      "source": [
        "<a href=\"https://colab.research.google.com/github/hnhyhj/Python-and-CCC/blob/master/Exercise1.ipynb\" target=\"_parent\"><img src=\"https://colab.research.google.com/assets/colab-badge.svg\" alt=\"Open In Colab\"/></a>"
      ]
    },
    {
      "cell_type": "markdown",
      "metadata": {
        "id": "0GAeaXPoasVW"
      },
      "source": [
        "# 1 String"
      ]
    },
    {
      "cell_type": "markdown",
      "metadata": {
        "id": "cc9TrbHkaz4D"
      },
      "source": [
        "1. Count how many of each vowel (a, e, i, o, u) there are in a text string, and\n",
        "print the count for each vowel with a single formatted string. Remember that vowels can be both lower and uppercase."
      ]
    },
    {
      "cell_type": "code",
      "metadata": {
        "id": "JPaFrp1mdQOa"
      },
      "source": [
        ""
      ],
      "execution_count": null,
      "outputs": []
    },
    {
      "cell_type": "markdown",
      "metadata": {
        "id": "UfgnGFLAbRSE"
      },
      "source": [
        "2. Below is a text with several characters enclosed in square brackets [ and ].\n",
        "Scan the text and print out all characters which are between square brackets.\n",
        "\n",
        "\n",
        "```\n",
        "text = \"\"\"And sending tinted postcards of places they don't\n",
        "realise they haven't even visited to 'All at nu[m]ber 22, weather\n",
        "w[on]derful, our room is marked with an 'X'. Wish you were here.\n",
        "Food very greasy but we've found a charming li[t]tle local place\n",
        "hidden awa[y ]in the back streets where they serve Watney's Red\n",
        "Barrel and cheese and onion cris[p]s and the accordionist pla[y]s\n",
        "\"Maybe i[t]'s because I'm a Londoner \"' and spending four days on\n",
        "the tarmac at Luton airport on a five -day package tour wit[h]\n",
        "n[o]thing to eat but dried Watney's sa[n]dwiches...\"\"\"\n",
        "```\n",
        "\n"
      ]
    },
    {
      "cell_type": "code",
      "metadata": {
        "id": "kRzfS5BRdRFD"
      },
      "source": [
        ""
      ],
      "execution_count": null,
      "outputs": []
    },
    {
      "cell_type": "markdown",
      "metadata": {
        "id": "y7f5u4BUdOZ-"
      },
      "source": [
        "3. Print a line of all the capital letters \"A\" to \"Z\". Below it, print a line of\n",
        "the letters that are 13 positions in the alphabet away from the letters that are above them.\n",
        "E.g., below the \"A\" you print an \"N\", below the \"B\" you print an \"O\", etcetera. You have to\n",
        "consider the alphabet to be circular, i.e., after the \"Z\", it loops back to the \"A\" again."
      ]
    },
    {
      "cell_type": "code",
      "metadata": {
        "id": "PsfBFa2udWzW"
      },
      "source": [
        ""
      ],
      "execution_count": null,
      "outputs": []
    },
    {
      "cell_type": "markdown",
      "metadata": {
        "id": "XPg0I1vkdYCe"
      },
      "source": [
        "4. In the text below, count how often the word “wood” occurs (using program code, of course). Capitals and lower case letters may both be used, and you have to\n",
        "consider that the word “wood” should be a separate word, and not part of another word.\n",
        "Hint: If you did the exercises from this chapter, you already developed a function that\n",
        "“cleans” a text. Combining that function with the split() function more or less solves the\n",
        "problem for you.\n",
        "\n",
        "\n",
        "```\n",
        "text = \"\"\"How much wood would a woodchuck chuck\n",
        "If a woodchuck could chuck wood?\n",
        "He would chuck, he would, as much as he could ,\n",
        "And chuck as much as a woodchuck would\n",
        "If a woodchuck could chuck wood.\"\"\"\n",
        "```\n",
        "\n"
      ]
    },
    {
      "cell_type": "code",
      "metadata": {
        "id": "nkH0-wETd9sp"
      },
      "source": [
        ""
      ],
      "execution_count": null,
      "outputs": []
    },
    {
      "cell_type": "markdown",
      "metadata": {
        "id": "vTUetM3TdeUI"
      },
      "source": [
        "5. Write a program that takes a string and produces a new string that contains the exact characters that the first string contains, but in order of their ASCII-codes.\n",
        "For instance, the string \"Hello, world!\" should be turned into \" !,Hdellloorw\". This is\n",
        "relatively easy to do with list functions, which will be introduced in a future chapter, but\n",
        "for now try to do it with string manipulation functions alone."
      ]
    },
    {
      "cell_type": "code",
      "metadata": {
        "id": "eMCsLMsCd-Xy"
      },
      "source": [
        ""
      ],
      "execution_count": null,
      "outputs": []
    },
    {
      "cell_type": "markdown",
      "metadata": {
        "id": "KbRfHUb3drd8"
      },
      "source": [
        "6. Typical autocorrect functions are the following: (1) if a word starts with\n",
        "two capitals, followed by a lower-case letter, the second capital is made lower case; (2) if\n",
        "a sentence contains a word that is immediately followed by the same word, the second\n",
        "occurrence is removed; (3) if a sentence starts with a lower-case letter, that letter is turned\n",
        "into a capital; (4) if a word consists entirely of capitals, except for the first letter which\n",
        "is lower case, then the case of the letters in the word is reversed; and (5) if the sentence\n",
        "contains the name of a day (in English) which does not start with a capital, the first letter\n",
        "is turned into a capital. Write a program that takes a sentence and makes these autocorrections. Test it out on the string below.\n",
        "\n",
        "\n",
        "```\n",
        "sentence = \"as it turned out our chance meeting with REverend \\\n",
        "aRTHUR BElling was was to change our whole way of life , and \\\n",
        "every sunday we'd hurry along to St lOONY up the Cream BUn \\\n",
        "and Jam...\"\n",
        "```\n",
        "\n"
      ]
    },
    {
      "cell_type": "code",
      "metadata": {
        "id": "tzXVX_dXd107"
      },
      "source": [
        ""
      ],
      "execution_count": null,
      "outputs": []
    },
    {
      "cell_type": "markdown",
      "metadata": {
        "id": "hdHjFQAoet85"
      },
      "source": [
        "# 2 List"
      ]
    },
    {
      "cell_type": "markdown",
      "metadata": {
        "id": "iYWfoW5mfIsp"
      },
      "source": [
        "2.1 A magic 8-ball, when asked a question, provides a random answer from a\n",
        "list. The code below contains a list of possible answers. Create a magic 8-ball program that\n",
        "asks a question, then gives a random answer.\n",
        "\n",
        "\n",
        "\n",
        "```\n",
        "answers = [ \"It is certain\", \"It is decidedly so\", \"Without a \\\n",
        "doubt\", \"Yes, definitely\", \"You may rely on it\", \"As I see it, \\\n",
        "yes\", \"Most likely\", \"Outlook good\", \"Yes\", \"Signs point to yes\",\n",
        "\"Reply hazy try again\", \"Ask again later\", \"Better not tell you \\\n",
        "now\", \"Cannot predict now\", \"Concentrate and ask again\", \"Don ' t \\\n",
        "count on it\", \"My reply is no\", \"My sources say no\", \"Outlook \\\n",
        "not so good\", \"Very doubtful\" ]\n",
        "```\n",
        "\n"
      ]
    },
    {
      "cell_type": "code",
      "metadata": {
        "id": "BxCLUTSRewkm"
      },
      "source": [
        ""
      ],
      "execution_count": null,
      "outputs": []
    },
    {
      "cell_type": "markdown",
      "metadata": {
        "id": "hTSYzutefVxR"
      },
      "source": [
        "2.2 A playing card consists of a suit (\"Hearts\", \"Spades\", \"Clubs\",\n",
        "\"Diamonds\") and a value (2, 3, 4, 5, 6, 7, 8, 9, 10, \"Jack\", \"Queen\", \"King\",\n",
        "\"Ace\"). Create a list of all possible playing cards, which is a deck. Then create a function that shuffles the deck, producing a random order."
      ]
    },
    {
      "cell_type": "code",
      "metadata": {
        "id": "YBAa2-kGfiCf"
      },
      "source": [
        ""
      ],
      "execution_count": null,
      "outputs": []
    },
    {
      "cell_type": "markdown",
      "metadata": {
        "id": "PfUD6eJ3faUt"
      },
      "source": [
        "2.3 A first-in-first-out (FIFO) structure, also called a “queue,” is a list that gets\n",
        "new elements added at the end, while elements from the front are removed and processed.\n",
        "Write a program that processes a queue. In a loop, ask the user for input. If the user just\n",
        "presses the Enter key, the program ends. If the user enters anything else, except for a\n",
        "single question mark (?), the program considers what the user entered a new element and\n",
        "appends it to the queue. If the user enters a single question mark, the program pops the\n",
        "first element from the queue and displays it. You have to take into account that the user\n",
        "might type a question mark even if the queue is empty."
      ]
    },
    {
      "cell_type": "code",
      "metadata": {
        "id": "-Xb38vEMfgYA"
      },
      "source": [
        ""
      ],
      "execution_count": null,
      "outputs": []
    },
    {
      "cell_type": "markdown",
      "metadata": {
        "id": "RPtXVtRLflU_"
      },
      "source": [
        "2.4 Count how often each letter occurs in a string (case-insensitively). You can\n",
        "ignore every character that is not a letter. Print the letters with their counts, in order from\n",
        "highest count to lowest count."
      ]
    },
    {
      "cell_type": "code",
      "metadata": {
        "id": "idIYyJW7fm-o"
      },
      "source": [
        ""
      ],
      "execution_count": null,
      "outputs": []
    },
    {
      "cell_type": "markdown",
      "metadata": {
        "id": "J1ZdNLikfnYf"
      },
      "source": [
        "2.5 The sieve of Eratosthenes is a method to find all prime numbers between\n",
        "1 and a given number using a list. This works as follows: Fill the list with the sequence of\n",
        "numbers from 1 to the highest number. Set the value of 1 to zero, as 1 is not prime. Now\n",
        "loop over the list. Find the next number on the list that is not zero, which, at the start, is\n",
        "the number 2. Now set all multiples of this number to zero. Then find the next number on\n",
        "the list that is not zero, which is 3. Set all multiples of this number to zero. Then the next\n",
        "number, which is 5 (because 4 has already been set to zero), and do the same thing again.\n",
        "Process all the numbers of the list in this way. When you have finished, the only numbers\n",
        "left on the list are primes. Use this method to determine all the primes between 1 and 100."
      ]
    },
    {
      "cell_type": "code",
      "metadata": {
        "id": "sJ01ZObRfraC"
      },
      "source": [
        ""
      ],
      "execution_count": null,
      "outputs": []
    },
    {
      "cell_type": "markdown",
      "metadata": {
        "id": "OzIzwxF8fr4c"
      },
      "source": [
        "2.6 Write a Tic-Tac-Toe program that allows two people to play the game\n",
        "against each other. In turn, ask each player which row and column they want to play. Make\n",
        "sure that the program checks if that row/column combination is empty. When a player has\n",
        "won, end the game. When the whole board is full and there is no winner, announce a draw."
      ]
    },
    {
      "cell_type": "code",
      "metadata": {
        "id": "7XRZ09E0gEJh"
      },
      "source": [
        ""
      ],
      "execution_count": null,
      "outputs": []
    },
    {
      "cell_type": "markdown",
      "metadata": {
        "id": "CpkBi3oBgE4r"
      },
      "source": [
        "2.7 Create a program that is a simplified version of the game “Battleship.”\n",
        "The computer creates (in memory) a grid that is 4 cells wide and 3 cells high. The rows of\n",
        "the grid are numbered 1 to 3, and the columns of the grid are labeled A to D. The computer\n",
        "hides a battleship in three random cells in the grid. Each battleship occupies exactly one\n",
        "cell. Battleships are not allowed to touch each other horizontally or vertically. Make sure\n",
        "that the program places the battleships randomly, so not pre-configured.\n",
        "The computer asks the player to “shoot” at cells of the grid. The player does so by entering\n",
        "the column letter and row number of the cell which he wants to shoot at (e.g., \"D3\"). If the\n",
        "cell which the player shoots at contains nothing, the computer responds with “Miss!” If\n",
        "the cell contains a battleship, the computer responds with “You sunk my battleship!” and\n",
        "removes the battleship from the cell (i.e., a second shot at the same cell is a miss). As soon\n",
        "as the player hits the last battleship, the computer responds with displaying how many\n",
        "shots the player needed to shoot down all three battleships, and the program ends.\n",
        "To help with debugging the game, at the start the computer should display the grid with\n",
        "periods marking empty cells and Xs marking cells with battleships."
      ]
    },
    {
      "cell_type": "code",
      "metadata": {
        "id": "CLDci5qXgnPy"
      },
      "source": [
        ""
      ],
      "execution_count": null,
      "outputs": []
    },
    {
      "cell_type": "markdown",
      "metadata": {
        "id": "G899IwHqgnhz"
      },
      "source": [
        "2.8 The “subset sum” problem asks the question whether a list of integers\n",
        "contains a subset of integers that, when summed, gives zero as answer. For instance, for\n",
        "the list [1, 4, -3, -5, 7] the answer is “yes,” as 1 + 4 − 5 = 0. However, for the list\n",
        "[1, 4, -3, 7] the answer is “no,” as there is no subset of integers that adds up to zero."
      ]
    },
    {
      "cell_type": "code",
      "metadata": {
        "id": "zvI8WAVlhHEQ"
      },
      "source": [
        ""
      ],
      "execution_count": null,
      "outputs": []
    },
    {
      "cell_type": "markdown",
      "metadata": {
        "id": "JtDFv8RRhHaj"
      },
      "source": [
        "# 3 Tuple"
      ]
    },
    {
      "cell_type": "markdown",
      "metadata": {
        "id": "ivQYAg6bhLsu"
      },
      "source": [
        "3.1 A complex number is a number of the form $a + bi$, whereby $a$ and $b$ are\n",
        "constants, and $i$ is a special value that is defined as the square root of $-1$. Of course, you\n",
        "never try to actually calculate what the square root of $-1$ is, as that gives a runtime error; in\n",
        "complex numbers, you always let the $i$ remain. For instance, the complex number $3 + 2i$\n",
        "cannot be simplified any further. Addition of two complex numbers $a + bi$ and $c + di$ is\n",
        "defined as $(a + c) + (b + d)i$. Represent a complex number as a tuple of two numeric\n",
        "values, and create a function that calculates the addition of two complex numbers."
      ]
    },
    {
      "cell_type": "code",
      "metadata": {
        "id": "BXTf1H3QhKxd"
      },
      "source": [
        ""
      ],
      "execution_count": null,
      "outputs": []
    },
    {
      "cell_type": "markdown",
      "metadata": {
        "id": "ExhpmvQohOTe"
      },
      "source": [
        "3.2 Multiplication of two complex numbers $a + bi$ and $c + di$ is defined as\n",
        "$(a*c - b*d) + (a*d + b*c)i$. Write a function that calculates the multiplication of two complex numbers."
      ]
    },
    {
      "cell_type": "code",
      "metadata": {
        "id": "MCSoLApPhZJC"
      },
      "source": [
        ""
      ],
      "execution_count": null,
      "outputs": []
    },
    {
      "cell_type": "markdown",
      "metadata": {
        "id": "Dt0G2e7phzDc"
      },
      "source": [
        "3.3 Consider the definition of a new datatype. The new datatype is the\n",
        "**inttuple**. An inttuple is defined as being either an integer, or a tuple consisting of inttuples. You see an example of an inttuple in the code block below. Write a function that prints all the integer values stored in an inttuple. Hint: Since the inttuple is defined recursively, a recursive function is probably the right approach. If you skipped Chapter 9, you probably should skip this exercise too. Use the isinstance() function (explained in Chapter 8) to determine whether you are dealing with an integer or a tuple. If you do this correctly, for the inttuple given below, the function will print the numbers 1 to 20 sequentially.\n",
        "\n",
        "\n",
        "```\n",
        "inttuple = ( 1, 2, ( 3, 4 ), 5, ( ( 6, 7, 8, ( 9, 10 ), 11 ), 12,\n",
        "13 ), ( ( 14, 15, 16 ), ( 17, 18, 19, 20 ) ) )\n",
        "```\n",
        "\n"
      ]
    },
    {
      "cell_type": "code",
      "metadata": {
        "id": "OUMvGifIibIW"
      },
      "source": [
        ""
      ],
      "execution_count": null,
      "outputs": []
    },
    {
      "cell_type": "markdown",
      "metadata": {
        "id": "ka7Owvv9ieL-"
      },
      "source": [
        "# 4 Dictionary"
      ]
    },
    {
      "cell_type": "markdown",
      "metadata": {
        "id": "Otf2aTxaimBT"
      },
      "source": [
        "4.1 Write a program that takes a text (for instance the one given below), splits\n",
        "it into words (where everything that is not a letter is considered a word boundary), and\n",
        "case-insensitively builds a dictionary that stores for every word how often it occurs in the\n",
        "text. Then print all the words with their quantities in alphabetical order.\n",
        "\n",
        "\n",
        "\n",
        "```\n",
        "text = \"\"\"How much wood would a woodchuck chuck\n",
        "If a woodchuck could chuck wood?\n",
        "He would chuck, he would, as much as he could,\n",
        "And chuck as much as a woodchuck would\n",
        "If a woodchuck could chuck wood.\"\"\"\n",
        "```\n",
        "\n"
      ]
    },
    {
      "cell_type": "code",
      "metadata": {
        "id": "YAgGDsUGiy1y"
      },
      "source": [
        ""
      ],
      "execution_count": null,
      "outputs": []
    },
    {
      "cell_type": "markdown",
      "metadata": {
        "id": "I8ZexFG7ize4"
      },
      "source": [
        "4.2 The code block below shows a list of movies. For each movie it also shows\n",
        "a list of ratings. Convert this code in such a way that it stores all this data in one dictionary, then use the dictionary to print the average rating for each movie, rounded to one decimal.\n",
        "\n",
        "\n",
        "\n",
        "```\n",
        "movies = [\"Monty Python and the Holy Grail\",\n",
        "\"Monty Python's Life of Brian\",\n",
        "\"Monty Python's Meaning of Life\",\n",
        "\"And Now For Something Completely Different\"]\n",
        "\n",
        "grail_ratings = [9, 10, 9.5, 8.5, 3, 7.5, 8]\n",
        "brian_ratings = [10, 10, 0, 9, 1, 8, 7.5, 8, 6, 9]\n",
        "life_ratings = [7, 6, 5]\n",
        "different_ratings = [6, 5, 6, 6]\n",
        "```\n",
        "\n"
      ]
    },
    {
      "cell_type": "code",
      "metadata": {
        "id": "SK_z8QvKjT8X"
      },
      "source": [
        ""
      ],
      "execution_count": null,
      "outputs": []
    },
    {
      "cell_type": "markdown",
      "metadata": {
        "id": "6Q-h7yfmjUZ3"
      },
      "source": [
        "4.3 A library contains books. Books have a writer, identified by last name\n",
        "and first name. Books also have a title. Books also have a location number that identifies\n",
        "where they can be found in the library. Librarians want to be able to locate a specific book\n",
        "if they know writer and title, and they want to be able to list all the books that they have of\n",
        "a specific writer. What data structure would you use to store the books?"
      ]
    },
    {
      "cell_type": "code",
      "metadata": {
        "id": "7x87lNLqjZrH"
      },
      "source": [
        ""
      ],
      "execution_count": null,
      "outputs": []
    },
    {
      "cell_type": "markdown",
      "metadata": {
        "id": "Bukx5tiIjaPg"
      },
      "source": [
        "# 5 Set"
      ]
    },
    {
      "cell_type": "markdown",
      "metadata": {
        "id": "uRItqS9Njdfs"
      },
      "source": [
        "5.1 A famous syllogism says: All men are mortal. Socrates is a man. Therefore\n",
        "Socrates is mortal. In the code block below you see some sets. The first is the set of all things\n",
        "(I know a few are missing, but for the sake of argument). The second is the set of all men\n",
        "(assuming that the first set indeed contains all things). The third set contains everything\n",
        "that is mortal (again, assuming...). Using set operators and methods, show that indeed (a)\n",
        "all men are mortal, (b) Socrates is a man, and (c) Socrates is mortal. Also shows that (d)\n",
        "there are mortal things that are not men, and (e) there are things that are not mortal.\n",
        "\n",
        "\n",
        "\n",
        "```\n",
        "allthings = {\"Socrates\", \"Plato\", \"Eratosthenes\", \"Zeus\", \"Hera\", \"Athens\", \"Acropolis\", \"Cat\", \"Dog\"}\n",
        "men = {\"Socrates\", \"Plato\", \"Eratosthenes\"}\n",
        "mortalthings = {\"Socrates\",\"Plato\",\"Eratosthenes\",\"Cat\",\"Dog\"}\n",
        "```\n",
        "\n"
      ]
    },
    {
      "cell_type": "code",
      "metadata": {
        "id": "03YPMJ4pjchN"
      },
      "source": [
        ""
      ],
      "execution_count": null,
      "outputs": []
    },
    {
      "cell_type": "markdown",
      "metadata": {
        "id": "kGSCTSqbjtmr"
      },
      "source": [
        "5.2 Write a program that first produces three sets of numbers between 1 and\n",
        "1000, the first all those numbers that are divisible by 3, the second all those numbers that are divisible by 7, and the third all those numbers that are divisible by 11. It is easiest to do that with list comprehension, but it is not necessary. Now produce sets of all the numbers between 1 and 1000 that (a) are divisible by 3, 7, and 11, (b) are divisible by 3 and 7, but not by 11, (c) that are not divisible by 3, 7, or 11. The shortest solution has only one line of code for each of the six sets."
      ]
    },
    {
      "cell_type": "code",
      "metadata": {
        "id": "88pHRDHVj5pU"
      },
      "source": [
        ""
      ],
      "execution_count": null,
      "outputs": []
    }
  ]
}