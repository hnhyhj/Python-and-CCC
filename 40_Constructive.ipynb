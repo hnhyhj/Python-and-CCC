{
  "nbformat": 4,
  "nbformat_minor": 0,
  "metadata": {
    "colab": {
      "provenance": [],
      "authorship_tag": "ABX9TyNza6sFoJ+k09bpVsogS6s/",
      "include_colab_link": true
    },
    "kernelspec": {
      "name": "python3",
      "display_name": "Python 3"
    },
    "language_info": {
      "name": "python"
    }
  },
  "cells": [
    {
      "cell_type": "markdown",
      "metadata": {
        "id": "view-in-github",
        "colab_type": "text"
      },
      "source": [
        "<a href=\"https://colab.research.google.com/github/hnhyhj/Python-and-CCC/blob/master/40_Constructive.ipynb\" target=\"_parent\"><img src=\"https://colab.research.google.com/assets/colab-badge.svg\" alt=\"Open In Colab\"/></a>"
      ]
    },
    {
      "cell_type": "markdown",
      "source": [
        "#Chapter 40 Constructive 构建"
      ],
      "metadata": {
        "id": "GKQaEMr4hoKl"
      }
    },
    {
      "cell_type": "markdown",
      "source": [
        "[DMOJ](https://dmoj.ca/problems/?show_types=1&type=20)"
      ],
      "metadata": {
        "id": "oPXA-6Msh-nh"
      }
    }
  ]
}