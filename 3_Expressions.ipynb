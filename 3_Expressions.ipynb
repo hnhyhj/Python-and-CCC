{
  "nbformat": 4,
  "nbformat_minor": 0,
  "metadata": {
    "colab": {
      "name": "3 Expressions.ipynb",
      "provenance": [],
      "collapsed_sections": [
        "4dClAozJz3PH"
      ],
      "authorship_tag": "ABX9TyP5vj0DO1Cr6vsOXThdY4P/",
      "include_colab_link": true
    },
    "kernelspec": {
      "name": "python3",
      "display_name": "Python 3"
    }
  },
  "cells": [
    {
      "cell_type": "markdown",
      "metadata": {
        "id": "view-in-github",
        "colab_type": "text"
      },
      "source": [
        "<a href=\"https://colab.research.google.com/github/hnhyhj/Python-study/blob/master/3_Expressions.ipynb\" target=\"_parent\"><img src=\"https://colab.research.google.com/assets/colab-badge.svg\" alt=\"Open In Colab\"/></a>"
      ]
    },
    {
      "cell_type": "markdown",
      "metadata": {
        "id": "Lf6TcpUJzkFK"
      },
      "source": [
        "# Chpter 3\n",
        "# Expressions\n",
        "\n"
      ]
    },
    {
      "cell_type": "code",
      "metadata": {
        "id": "Ld1NILa0i8qg",
        "colab": {
          "base_uri": "https://localhost:8080/"
        },
        "outputId": "ea224f47-66ed-4fac-fe02-8ae3a79efe08"
      },
      "source": [
        "5 + 7"
      ],
      "execution_count": null,
      "outputs": [
        {
          "output_type": "execute_result",
          "data": {
            "text/plain": [
              "12"
            ]
          },
          "metadata": {
            "tags": []
          },
          "execution_count": 2
        }
      ]
    },
    {
      "cell_type": "code",
      "metadata": {
        "id": "GIKyACktjFtE",
        "colab": {
          "base_uri": "https://localhost:8080/"
        },
        "outputId": "539c88ec-4202-458b-dc18-2fa3a8ca6a6a"
      },
      "source": [
        "print(\"Hello, World!\")"
      ],
      "execution_count": null,
      "outputs": [
        {
          "output_type": "stream",
          "text": [
            "Hello, World!\n"
          ],
          "name": "stdout"
        }
      ]
    },
    {
      "cell_type": "markdown",
      "metadata": {
        "id": "4dClAozJz3PH"
      },
      "source": [
        "## 3.1 Data Types\n",
        "- Strings\n",
        "- Integers\n",
        "- Floats"
      ]
    },
    {
      "cell_type": "markdown",
      "metadata": {
        "id": "Jm68t-Rb0Sl6"
      },
      "source": [
        "### 3.1.1 Strings\n",
        "A string is a text, consisting of zero or more characters. In Python, a string is enclosed by\n",
        "either double quotes, or single quotes."
      ]
    },
    {
      "cell_type": "code",
      "metadata": {
        "colab": {
          "base_uri": "https://localhost:8080/"
        },
        "id": "Fz3Xzscy0RaV",
        "outputId": "9b536d96-b223-4d33-e633-597d6df2b199"
      },
      "source": [
        "print('I can\\'t stand it ')"
      ],
      "execution_count": null,
      "outputs": [
        {
          "output_type": "stream",
          "text": [
            "I can\"t stand it \n"
          ],
          "name": "stdout"
        }
      ]
    },
    {
      "cell_type": "code",
      "metadata": {
        "colab": {
          "base_uri": "https://localhost:8080/"
        },
        "id": "Nn4nR72i0eFy",
        "outputId": "10f5ec2e-d0f7-4278-aa95-9efde108cf3c"
      },
      "source": [
        "print(\"I can't stand it\")"
      ],
      "execution_count": null,
      "outputs": [
        {
          "output_type": "stream",
          "text": [
            "I can't stand it\n"
          ],
          "name": "stdout"
        }
      ]
    },
    {
      "cell_type": "markdown",
      "metadata": {
        "id": "2psJQEEe1e0S"
      },
      "source": [
        "### 3.1.2 Integers\n",
        "Integers are whole numbers, which can be positive or negative (or zero). There is a certain\n",
        "maximum size that integers can become, which depends on the kind of computer and\n",
        "operating system you are running."
      ]
    },
    {
      "cell_type": "code",
      "metadata": {
        "colab": {
          "base_uri": "https://localhost:8080/"
        },
        "id": "eEIeJ4U_1l2v",
        "outputId": "9e587ad1-5433-4644-d93a-7cf976ee3538"
      },
      "source": [
        "print(1,\"000\",000,000)"
      ],
      "execution_count": null,
      "outputs": [
        {
          "output_type": "stream",
          "text": [
            "1 000 0 0\n"
          ],
          "name": "stdout"
        }
      ]
    },
    {
      "cell_type": "markdown",
      "metadata": {
        "id": "SNHRqfcJ1vIr"
      },
      "source": [
        "### 3.1.3 Floats\n",
        "Floats, or “floating-point numbers,” are numbers with decimals. For instance, 3.14159265\n",
        "is a float. Note that you have to use a period as the decimal separator."
      ]
    },
    {
      "cell_type": "code",
      "metadata": {
        "colab": {
          "base_uri": "https://localhost:8080/"
        },
        "id": "J3kaQ9Ad171d",
        "outputId": "6d1b7e8a-0c1a-48eb-adfa-60649cb6e8fd"
      },
      "source": [
        "print((431 / 100) * 100)"
      ],
      "execution_count": null,
      "outputs": [
        {
          "output_type": "stream",
          "text": [
            "430.99999999999994\n"
          ],
          "name": "stdout"
        }
      ]
    },
    {
      "cell_type": "code",
      "metadata": {
        "colab": {
          "base_uri": "https://localhost:8080/"
        },
        "id": "90-nRdN_2Muv",
        "outputId": "3e9fbac8-1f05-42bd-d787-6a0abdc1663a"
      },
      "source": [
        "print(round((431/100) * 100))"
      ],
      "execution_count": null,
      "outputs": [
        {
          "output_type": "stream",
          "text": [
            "431\n"
          ],
          "name": "stdout"
        }
      ]
    },
    {
      "cell_type": "code",
      "metadata": {
        "colab": {
          "base_uri": "https://localhost:8080/"
        },
        "id": "aV334CQP2gkq",
        "outputId": "36617d6d-122b-47c1-b303-a209f8c1b5aa"
      },
      "source": [
        "print(round(431/100) * 100)"
      ],
      "execution_count": null,
      "outputs": [
        {
          "output_type": "stream",
          "text": [
            "400\n"
          ],
          "name": "stdout"
        }
      ]
    },
    {
      "cell_type": "markdown",
      "metadata": {
        "id": "89XXqtXC2oz7"
      },
      "source": [
        "## 3.2 Basic Calculations\n",
        "![屏幕快照 2020-11-24 11.24.17.png](data:image/png;base64,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)"
      ]
    },
    {
      "cell_type": "code",
      "metadata": {
        "colab": {
          "base_uri": "https://localhost:8080/"
        },
        "id": "gQWgxa3123sK",
        "outputId": "e40340b8-96a7-4275-aed1-ea761f8034ed"
      },
      "source": [
        "print( 15+4 )\n",
        "print( 15-4 )\n",
        "print( 15*4 )\n",
        "print( 15/4 )\n",
        "print( 15//4 )\n",
        "print( 15**4 )\n",
        "print( 15%4 )"
      ],
      "execution_count": null,
      "outputs": [
        {
          "output_type": "stream",
          "text": [
            "19\n",
            "11\n",
            "60\n",
            "3.75\n",
            "3\n",
            "50625\n",
            "3\n"
          ],
          "name": "stdout"
        }
      ]
    },
    {
      "cell_type": "markdown",
      "metadata": {
        "id": "r1INRza03MSE"
      },
      "source": [
        "## 3.3 Type Casting\n",
        "![屏幕快照 2020-11-24 11.26.48.png](data:image/png;base64,iVBORw0KGgoAAAANSUhEUgAAAswAAACICAYAAADzh71JAAABfGlDQ1BJQ0MgUHJvZmlsZQAAKJFjYGAqSSwoyGFhYGDIzSspCnJ3UoiIjFJgv8PAzcDDIMRgxSCemFxc4BgQ4MOAE3y7xsAIoi/rgsxK8/x506a1fP4WNq+ZclYlOrj1gQF3SmpxMgMDIweQnZxSnJwLZOcA2TrJBUUlQPYMIFu3vKQAxD4BZIsUAR0IZN8BsdMh7A8gdhKYzcQCVhMS5AxkSwDZAkkQtgaInQ5hW4DYyRmJKUC2B8guiBvAgNPDRcHcwFLXkYC7SQa5OaUwO0ChxZOaFxoMcgcQyzB4MLgwKDCYMxgwWDLoMjiWpFaUgBQ65xdUFmWmZ5QoOAJDNlXBOT+3oLQktUhHwTMvWU9HwcjA0ACkDhRnEKM/B4FNZxQ7jxDLX8jAYKnMwMDcgxBLmsbAsH0PA4PEKYSYyjwGBn5rBoZt5woSixLhDmf8xkKIX5xmbARh8zgxMLDe+///sxoDA/skBoa/E////73o//+/i4H2A+PsQA4AJHdp4IxrEg8AAAGdaVRYdFhNTDpjb20uYWRvYmUueG1wAAAAAAA8eDp4bXBtZXRhIHhtbG5zOng9ImFkb2JlOm5zOm1ldGEvIiB4OnhtcHRrPSJYTVAgQ29yZSA1LjQuMCI+CiAgIDxyZGY6UkRGIHhtbG5zOnJkZj0iaHR0cDovL3d3dy53My5vcmcvMTk5OS8wMi8yMi1yZGYtc3ludGF4LW5zIyI+CiAgICAgIDxyZGY6RGVzY3JpcHRpb24gcmRmOmFib3V0PSIiCiAgICAgICAgICAgIHhtbG5zOmV4aWY9Imh0dHA6Ly9ucy5hZG9iZS5jb20vZXhpZi8xLjAvIj4KICAgICAgICAgPGV4aWY6UGl4ZWxYRGltZW5zaW9uPjcxNjwvZXhpZjpQaXhlbFhEaW1lbnNpb24+CiAgICAgICAgIDxleGlmOlBpeGVsWURpbWVuc2lvbj4xMzY8L2V4aWY6UGl4ZWxZRGltZW5zaW9uPgogICAgICA8L3JkZjpEZXNjcmlwdGlvbj4KICAgPC9yZGY6UkRGPgo8L3g6eG1wbWV0YT4KB0Ye/AAAQABJREFUeAHsXQd8VMXz/14uvYf0TnolCSQh9C5FEUFERcWC2FBEELD/QERA/IOgAoKiSG9C6L33kgTSC6mk914uV/7zLrnkklySCwQMuO8DuVf27c5+d3Z2dnZ2Hk8C0D+gaMpU7ocdDAGGAEOAIcAQYAgwBBgCDAGGACFgtPlPKQ48TmGu8fJE8oErDBiGAEOAIcAQYAgwBBgCDAGGAEOgHgF3J0PpmQpDhCHAEGAIMAQYAgwBhgBDgCHAEGgdAaYwt44Ne8IQYAgwBBgCDAGGAEOAIcAQAFOYGRMwBBgCDAGGAEOAIcAQYAgwBNpAgCnMbYDDHjEEGAIMAYYAQ4AhwBBgCDAEmMLMeIAhwBBgCDAEGAIMAYYAQ4Ah0AYCTGFuAxz2iCHAEGAIMAQYAgwBhgBDgCGg2qUhqM3AuR3BiCrhQcdrPF4ZZgV1adToLk11pxInrs5CSrEB7C20wRflIuRgMM6GRCA6TR+v/rQYw41rkX9rP4LPhSIyKhWar/2KpcPqQqB0KiGPUWaiojAcCz6Nm+HRSORPxLIfnoElvwtWgCd8tG0nLS8YwWfDEBGdCq0pa7B0qH4XBKYLkUSYFd05gn2nbxFmSeCNW45lz5qjawvOfwE/htO/ADrQZHz4Vyj4FwrliVARtR1rrvvjo6ke0HocdAKiuTzhFIKP3UB4RDwqen+DFdNcoVFPe5doR3EZ7p7Zh6PXwxGVUA3/L1bgHTf1f6GBO1gkYVuVnYpive6w1G5mAxZXIPHgCvy45SpyHT/G2sWjYf4AukCz3DtI6MNOLszCzYP7cOjQPuy/lgPBwy5Plj8n/CP3Y+03H+DN939FWCU9qArDrx+8gY/mr8eR2FIIZWkf5q8oA/vnTMH0N2dj571aKkkN+rZOMC27i8zsYlTXl62mbwtH42IkZeagSHbzYdElFkL0sPJ+kHyp0wjF9Rnw9WHpaI7qlDTkFFd2TXrrSX2kbUdlqunbSXklmXilWNBJI4089g/Shl3oXbGokcv5ulZwNK9E6j3qX1UyJutCxP6bpMjJA4bTI26IFuPDfZT/GPbd6oSd+G55LNxHOj8eynJ9s/C1zeBgx8O91GzkVQjRIEk6ox3vo+lbvsKHtpkj7PnJSMnOR0XDgNoyZVe6I8rYi3lvvoc3Zu1BKqcmyQ6eAOlH/w+/xnvh5elvY4ybIfg82cP7++3aCjOPD3VNbjrAh5a6Cu67rmSZvXPyIA4cOYf4sgY2VYwYzbKiN8/Fu3N+w5VqZ4x5YzzcNSmphhuemzIKDhVnsfqTafhqZwIq7psgxUW3uKtqBO+hQ+E/eBj8uqkRDEZwCeiL3s66jUklqjBw6Y1+vZ2h13i38894NUjZtxDvvzITu9PbwbDzS28zR0HKbix+dzJm/JMhncjw9Z3Qq28/eBh0kkLYZukP8PBRtZ2MRFl5QU6Q4yDZ0/v6bY79fWXSlV4SJCJ48TS8MmMf7nE6M2Gm7xiAfn3dYdCV6Py3aWkuDxhOj75Fmo8PHaTgcey74pJLWDV/H9Rem4Ux1jQmPi6HhHQYq54YMLAXTJrT/IDt2Dy7+75W0YaVzwAM7GV831n8Gy/yu/lg6JBADBnmA2M5g7go8yhWbkiGx/hnMWToRLwztQ9MHlDjfSgri+LqPKRl1cLYzgp6D2D+hmZPzNx0HDNlrXC/+k9NMg6vW4ULZZZ43q0/XPVaQY0syzmnFuGbLSlwfX8dFkywa1gyAbRh2+8VfNp/PCb88w3mrP8Cy0zX4Zthxg9veVaiDZeJX+F7Wf3/1V8Bsm9fI/cQFxhoc416v43R+ZWozQ7FzdRiWOrrPry26Hyyn4gcnzjsazMRdiMFhbYG0OakY9dh8y7GL11XHnQxoB4eOQ84Pjx2fZdXifjtq3FBfSxW9n+I4+7DazHFOT9gOyrO9D90V9MNz3+2uK7CMnlNKyeFIQcRWaGO3s3dNB4Ams5VmEX5uPHXt/hxTyzKiSiJmgOGfTQfM0dbyyme7VNbm7EfixcdQHqDeV0TTu/8gM+D6uxiovyT+GH+DiTXUF58E/SeFIjiIwcRklwCvkVPPDN9Fl7qoQ9+dRz2rN2DuPJCxJTzwOMV4MafPyBPh95Td8T4D1+Bl5YcPSXXseH3EIh6/w9zxskry3JpiLkdn/sMM0KnYum6v3A7aA4CuPwUHOKqDCSll0OiokYBr4XkMqAOc8fuMCR9U1yZiNBUI/h5dJMqeTX5iUgtkoCvIqF0ajDvTuloAi2iPGJuZ8LIPxDWcrMnBcUpdUs+P9PSO7gaWgLTgP7w7MYpwVReaSLCQmKRp2IJlx494MxZtqUHD2oaxC4aBtBTk3Fl3RNRaQoiokphFeADs4bkQpTdi0B4rjUC/c3qfM9pQlKZEY2wTBMEBJqgNOIywoos4N/PA8YkDLNjw5Gq44NAmxrcvXoV8RU6sHb3Rw/7thVhnqoGrUFowlC3rg71BMv9CFGScAVX4qqgbeOBXj3sWk7kiLaSxFCExOaDZ+4GXx8nNFRdLieQT1RWcjrKqNX4PDFEIvKvt3KAtS510ORk5ItUoSIRQqJlDQfrerprCxAfGoqEfMCguzf8PSyh1cqcraEoUTFSI6JRbB0IX1MZqNQ+ZamIjCiARWAvmDfeBpSlv6GA+hMx4R4ThvC0ahg5+8LH1aRlXyVakm6HIDaXD3NXX/RwNmrYS9AC+3p8SsniqKpC+NCynpqFMxz0OaYvR3JoGvR7esKYaypBHpJTiyDi04VICL6ZAxwM6pm8jTJlVWiVV0lYVmXH4k6qHnwCrFCb2E7byzLkfnnqqGNzPXKAauUQFSG+Pf5Ugv6G3MU1yLt7G4mqXujtpI6CyKu4lSqAYXcv+LpboYW8b4+fRBXIjLmNdKNA9DYtQuTV2yg0C0I/D8O6CWVbtHH8oFQ/bF0eNNSrE3ASlSUj4k48Mso1YeXmDU97Y2jI9512+L7d9xuIrT+hZdyieJID1FnFBt3Ro5cnLOU7K5VXlhyO2/FZKNe0hpuXB+yNOfnTxtFOe3H+q7F37kG7RwBsa+Nx5QqtXurYwr1XD3RvVabVlScvz6XjQwd4v0Xfla9CO7hyScUV9xARFoV7ZRqw9AiAb3c9hQaLVvspl0l7vMqlkR1ld7DnRB6Mxw+BvQbdlA1DRGur4wrXMPS8IjsJsTGJNK5ZwNnDHQ6mWk3aTOkxTOn+ISOaq2IGokOjkK/vSWNb4335swdpR2k+1O4V6eEIjUxHuTrxZYAvHJW1VnL40LgcGlUIPWpHW3nCmp2LKrKQFBuDu/k0Fjh7wcPBpG4se1C5T0rR/cts+fa3qh+/yGe8gPOlJZ7sRC2387Ii0PPP/IilpCxX1YPMq03GmVXfw8J1FV53aHX4adYk1A9qi5GbnYlsUpiFwjpvYX5xo08hasuQn5WO9ErONSAN6f8X2phH8iX8vcgAHn99gp7CTIScOYvbtTLfiVpkhJxHBqWWIA8B77xKCnN9r+NmJDd242qZCYZO6g1jeaHcmHvdGd8MfV4ciG7zzmPPzXcRMETxxilJRSZu71uLv8/cg0A/CJMmj8Yoe1KEVcmSfWwZFh0bgp9WT4aDugiCokTc3LMZW8+XwmX8DMycLMSZnxdjy+V7qJS4Ysb23rDuJpMQzQlS4lqQgL0/LKnPzwXvfRuBc4u3I16gAe8vt+PH/lW4sWkFNkUbw3+ANwwy/8YXK0rR86PFmDNMC0mntmJXODFgTQT+/noGdtSqwf31ydA9sAp7Q8m/XKMfvt5SpzBXx/6FRT/sRgitMqDHN9hBCjMSd2LZsq24nFoFocNHWBh1HEu2J0Cg1gvvvWmAk9vPIplmWRYvf4bY2I04kSmBoCAX5SIduL/5E5ZOdmipyBHPlcScwPbdkaggrovd+AU+3k6Kl8f7WPROvdOBpBIxWz7H1pM5ENfkIo9ccjQ9p2HZ0pfgItPN8q9i08rNiDbojf7e+sjcNofapQ8+/H42Rlk241tJBbIjDmH9H8eQLDTBgFenYNRoe1hr0UCbfBN7NmzEJa2n8Pq0t2Bvo4a042uw9kgaxJo8lGfEIClPBNMR3+Kn2X0V8xivAlE06fy/vWHIFmih1/xtdQpzdSS2LFqGXbeyIOD3wmfb/UlhruMHUUfol2eVyihs/vJnBCfUoLaiHLU0rTMdNBuL544CkS4daPKvb8TKzXHQ9x8AH/172Pb5chT4z8TiT4dCJ/F4S+zdJ2OSBfXBjWeRKjRCwAuT8dRoUoRJYRZlH8GK70+i909rMKW7GrVHAZJu7MHWredR4DYR02faw8GQ5EirZY6AFUcXuVi1xqszPW5i9eI/cTapAiLr1zA3JqLNtpeHQ1QaRXy4GxE0ua6N3oCvP96EWlVvvLNwOrxlCQmzrV+1wZ+cHGyPfllepJxln1qFJeuPI542NptM/B5l+1Zj7cUyEnxlqCLRp+E0Dh9/8z6GWVDFyQ2iTX7i1yBpz2L8sOUK0kgI272/EDFnF2JHnBAqvvOxbVkf1LZK2yCITv6IJX+ea78fCosRq0AeuL2zCO/J9hs/KE7qhOPZ5ViwuxKegwNhI4zDvsXLsMD0S2xe0h/6xPpt8r0Vr933Zc0g+xWkHcVva48hRawJlfJ7iEvMQ635GHz90ycY0I0GBFEOzq9cgF2lPhgUaA1h/G4sWR4F4zlbsHSgriybxt/22kuYiiMrF+PPM0kol9jhpbmRiNtyEpk0gSrILYNIqwde/7+leIUmUS2OJvK8bnwwrdyPlcrwvkbrcvO7j3yhldeOPCTD2K0tK7AtyR79gixRFbEb61cth7GXDyzVayHS8cdbn74Md/XW++mckd2Q3iavDkBzj7qq+NMIrzSEr1e9AYZAEbQ6rgTgi61LMQAR2L96Dc6I/DEiwAyVcX/jqyUpMB4zA1+8Pxy2onBs/G6ZEmOYIXKOKNk/6odpcXkcTmzZhvP3eDAw4KM0eR2Wp9XtqWlwn3yQdpSNX4XXsXklGRCt+yPIqhIRpHOs+skMXj0soS4UQcv3Hcx91aWlvzfpPOXxx7Fl+wWkSQxJLylG8h9Lca+C07WauWXQJDt6/y9Ye5YH3+EBsKiKwbYvv0eS6bP44PP38JQlTdLD9mD9xnMdlvvvvRyF3X9vui+Z3aT9HT/FjkBSmDm5enU7tpwrkBpJd33xDg7TVM7x7eX4qn8D8i26lDI3+AuABSIzUxRPfluZ9K2n4ZXixpqfcS63aRKepBB5JiMxtoee0p8V5Bv64ZmXX8Mrr46B6bWduFaoAsO+L2KsM+dMDKjoeWDUc74oPnEcCVU8SDQ88dys+Zg7QRuhJ6NRWl2BbkPGopeZDXqNGIWxtDkg88xlZAjNMWbhL/ji9efx3IRhcO+mDTWZLs0pKtt+x6kcchCfOrJuBtu0Kk2u1LSECDtwBnG8AIwdSIzZ5GndhYq2NTz9HVF86hhi1Ybio7nj0J1LWB2N7cu2ISIzFxr9xsK/myo0jJ3QXXINZ4tfwLefjYKdVjd4DBkG5/SDOJOij6AXnoErZw3nUVSMG8E4Hq/TeI9uC/Ou4cDxBKgHvYhnXepwqqOi/i/fuCG/s+S+kFXihLFTJ8CVLNjoMYAU31n45qwrZv44C2N9XeHh3xtm0Vuw9VAqLIf1hr5QAlHiZYSXumPih29hZN9A+LvTwPH0UFiE78XlAhsMen4o7Gjmr2rSE8MooknsgQvIMh6MF0baQ8fIG4OGOSLj6GmkFuagpPtzmDrBBVWZfARNn4cpvvk4ceIu8vM0MXTOYsyd+hJeIEU059wp3AjNg8PTw9GdsyrIH2ThrcorgViUgKvhFXB84WO8NZJ8vHs5w1KnHOEHDyIquwBqw+Zh0dypePEF8kHPPYMz10OR6fAsRpCZQlwRhnWffI3T9nPx4+yn4efqAf/eJojesQkHk+wwYqgjdOQnTyo6ZE3xg33+EZxM4MPzzVmYyBFGlsludgbIvBALlzkLMYVb4aAB9uz6kzCftRQzJz6NZ54bDvP4Izh1OQOWo0fBTaeO+Zq2nT7M/J7CYItQ7L9cBPMhEzHclphG1Qw+w4fCJiYYF7PNMeCFp+BAxXaYfsJPSAPi/uN3kZsrQc9p32H+x2/g5XG+4EWewbWQW0gyfwrDiIeq7qzGrP9dhN0nP2L2075w9fRHb5M72LX1MBKtnkJ/fUFL7P294Ne3L1yKj+N4rBb6z5iDCfZEP60gJGxfgm0RWcjSHIRn/I2gpm4CR3shbp4rx7hvP8PTtnxUtFnmSIxwECF83YxWedXm+ffw+jgvFJFsuJvXdtvLsxJ3LqnMQylt9ku8Go5i5xcx462R6EOWfBcLasuSUBw6HIXstvhTk6w87dHvpC1XLB+6jv0x3F+Ac5R3bl4hzJ6bj+8/fxuvvPQc/LUTceH0OZyP1kX/EZ4wlLTDT9pqMPIcimHOpIidSUVRdhnsx07DBNdyZPD8MFDnH8z734VW2nMMJhJPDvdUoh+qVyCvhFYPmsmDABcL6FB/6hScLKLx85ebUf3GCnw9tgfcegRhUB99xMcZoF9/a6i102+fCizChq83tfp+c1HCWSHzzqzFUct5WDLzeYx55jkMN4vBiVOXkWz5NEa7aqM6jAbcv0FK7Fd4tocbfIIGI8ggBnG6AzHARsEI0F7/16c9KQOGw7PoKMmSfOSpjcSni+Zh6ksvYLRDFs6dvo6QbBc8PcKO1s+aHXLyXDY+eNDKWP/hHu3zPk1WW5Ob5ipRWN+mPLRD+YlvMG8z8NL3n2Gcrzt8+wbBKPwfnIoSwuv5lzAsqA96WIkR1UY/tRw+AgEBw1rh1V4Y3c+i6ZhKSlDakXXYF2WEUa+Pg6dunVDmd2ttXFGBzwgbhH43ExvKX8OPC19CoKsbevQdhj5a17Bjx37cEvXDU0EeCBwxRIkxzBFmLoOU6x+cXC4LwW+zv8RJm0+wZM4kDBswGMOfHY+BRnE0/mSC5zIGE/qYQu1B2pEzs4uycHzBbGwSvEFyYyz83H3RN0gfEftPIaLaFxNepPr29YaN1I1Sjoc4ZTmU5PvX52H90VLMmTQUAweNwNjnyBB49xSuZajBedR49DEjmyr1jaxDX2H2X9WY9ONCTA5whWuPvhjSVxMh27YhOISH3iP7o4dfAJzvQ+6PdfdSjm+lywpydaBT+fZP0umHF8Y6k/OsBLWkF6oW38Tlu93wzGdf4LVRgxDkYkar4zKFr2k+7V2Z/LxUmkReFWjvnXaek1O7rgKhQW9paHWeIbslEZrwnTEf745wg7WTHxx1aXrHq0IxN0tS0UA3c2tYWhhCundQogItYwtYWVrByqJ+KUGWoagSORmVkOhag1bY2j9osLemyUrZvbyGaBUKX9Jyw+jhplDJuYRr2XWb5cpuByPMdhCseJk4eSgO1LbUwwoRdqYIvpOHyIVAI0eDVjBVWFa7N+vyk9D2pV6vT8Uz/Yfi1e/WYJZDCLYcJeXdZwi8DOpZgm8Ir97mZNSKxPlkbXiQ4uDALfGoUog7L1/4+XjCWqpJqkFHlzP7NTtUtdGCdL6W9J5EPxCvv/0M+g95Hd/9OosUA2oqbT1wsJsNn4wRjprS5TK+SV88P4K2SFSnI6lAQYwUWvY38ugNfwddSk+bs+xJWfP1gae1TsPkTGzxFF4e4VC3bEQrA4HPjwDFz0BGUgEEJDSKrmzE0Wxauh/iCVnVVQy9EWQpJivjBcTLlkvkq0duOe7PPQs75OPc3giU1vfB2rRzuGX6IsbJVlP41nh24SJMsK3HR9UUfv1twZeQK0KugvrIlaGuo6vAJUAV2rpyfel+6a8vx3L0O3jBx4CQI8Gj74sXZ0yABWETcSIS5cSPVzcfQaamH4Z4ksLIvUMbVwy8+4BsSoi6kNQ69oSP0+gRsCT+vnQ9py6iTEkI9oU5op+VBLm0ATeGWy3j6A87jTy/VzGUi/snKminzASIiy61zat3KUwMbV7Rp/iTbbc9V6GmB9/ICwH+3aGnKoGqfnd4+vnB18Ma9WOzNHGb/KkE/U1LrLvi6xhIFSKDPm/jjUHmde4ufFolmzAb7/UkS3zcIZzhouQoyU98bV2psqHr/wbeHtsfQ15bgjWf2CB88+E22jNBSoxS/ZAb5FuVB3V1emCcRKXIr6hB4qFdOBVXSH2V874bjk/e86EBUYl+W97G+/UWwCZtQbLEYtxifD/eug5/ujbpOQB25FZUkJwnLV9YSpEDBPE4tOsMYgupPSiN6RCujeT9+uRyVaq9qE/rqUMiscLQycPhyLl/UL7GgRMxwlyMmoxkFLYqKhSMD8rwPvV4hXLTRhMl7crDCkSfikCVpg0sZJYEVTLu9KRVRI5ubtOYjylUlemnBJVCXp3tB50WbURW9wxagqT6GTTXJ1oZV7zu7caOiFrYjCCZJRVgVKBEHbaj38QQQzHSgzfgOq3scNGnlB3DlOofnIJ5dDUOZbrixYnujfJDogG7PgNIfjY/7rMdOdJpJed0VC00bSwg897h0/jV00xMzWFKtrABTVz6GkoWZuDob+T26vAyJnpQyFrZA3V7BPU3l13V/ZI1ee+OCFTajkRfi4aUULcdgymDyRCa9g/+ukGrYvcr97lSlOHb+nG2KXF0Vd/+DfeJD41cveBgxNGqQXvpnODi5Ngy5FzDC8qfyI2+yr+kMKWElI4XKd7ttX3Ikksg1hmElwY+PAd9CQFi0E3mj6QCldZAlaNJ4amE3CI4fVaFfFAVJmh2U4VP1mnq1UJaguJWMFp7iTqoDUVsMN15AOdIeXiZFIYLBwvQ9+05MK25jJUX9iHk7R7oJ7yBs+WDMcVb3gLVerbNqFH6UkomLb90N+PU0zqpJMiJkfqLV4atwZezDaGlqQE1NfLlFOvBwdkMdvIag4KSFEOu6G7dPc43UK74uhx5dc9UNNXJB1hWCB96JtxgJERt3VxD9kD5X74GKMBKw6GqZwoux1LyrZWgBtlxXGSNEtxZ9xk+NdCCpqYa+WqT5VnTFU4etmhtf6iaDVnkvLfjJ3LjuZTrj6fNqpFwOhqOE15qshOXx8vB9Z17cfJWIorEujTDLaNwQiJU1zZUsoE2ZU6aonr/9HNlqepqSpVlWbnqFj5w09uJ9JoaiGrIrzJDBF75Laz/cjZ2aWpCXZ1WQjTE0HBwgaetgiVoWUb0q27TD31MduKfczeQ/aIF1C4eRM6ADzCvWxlurDqH4NtT4RdUg9BzVej/uhe4eS4E2e2WKci5ogSv1jd4m20vR2wHTtvkTyXoV1hUPe+ramk0FSOkiHjTMjLCalElqOOXjvCTvr1ZoxuTsrR1Uj98YJy0XTH5WTss2L8Dy2fuwErD7nCjFY6hk17BaANR+/1Wr1fr7+u3YhGhzpV3dRv2ng5FYpGYFFlV0LYSiKrrQoDp+L2GsfbzcYBcCWbtoehEth60gjgCL7wyCoaKbUW0JNx+/6+DnPqWmpygUtOHKecuWEHjS13TK2QduTfqnz8I77cvT/T5Kqgx1AQvKgYx+bXwkxoDOGW2AnzbZ9C3fmNFR8eUJryqsKZiiGtpoKU+rdpUCFLquhtNxhVSWovjwlFI0t7RqFl76zhTpCk1nLiZTqtQAgyh8DctspTSoOCuUv2jDPHX08g1xRNm8v7vCutVd/O+25FWPA01JQiPjUauwBv2nG2G9oZkVKjBZngQucjQtSL+KY/FdXIV0RlKhkNOr1SUpo40iIpiEVnAgybtXWmCpEQXzn2coX4yDOl381AzhIxe9yP3peU8CN8qaKd62jv7p/MUZqJMy2saFn+jil83nURUDtkxnQbixQ/fwWDpDp/OJr2T8yOLaDdDgiM/H2VkPGi6HqSgLGEp8sg0rGErs14rSFN/S737IAQY7ceR8yHI9M3GSd4YfNndEprje+H3769h3/U8uAgvAU99Am71+pEccjwmEdLSOhWqG/Qxls7p0dLXSUpQq2aOenLb6HEKKiRXvIKnj+oWuZnUiEhWGKH3h8swx7fFwmfrhPDN0f/F/viDXBb2ns7EU0/fw8msvpjg0ZiHqOgyVn3yLS6YTcMi8vv2Jj+2ihtfY8rt+NbzbfZE0uZE4QHob1aO9JIK48YkIzc7aEtqIKBziUE/fLBkFlozoinKRnpPwxH9Aw2w7xhZ3bO8yC1JHSO/tIO5+kT0XP89bu69gTzHSlzkjcZ0qZSnt7hJaztlVoUfap9X22PVVol+wAdK0N+xEsSo5hyZNV3gY6VBAxeF1OoQP8kNw51OW8dq0iS1krT4T1+LjcOv4eKFK7h+8xZuX/kHUVcjUPbbYngp029beb/0t5V4RcZzMsJEhbi26kMsvGiDKYu+wXQvWnmpuIrvpoTiTn0avlEQPvh1C4Zfv4ALV67hVkgorgZH4Ep4OX5b9SLI06HJ0Rn9v0mGD/1COXkieO1V+NzZgE1fL0L5uF4wyL+FqwUjMPf7N+Feb2xXbkyRr5Acr8rfbjhXhZYBqWu15dwcotVDflyprSZhQl9vKK/ifuUPPnTIqs8N8trqjRbTNrVG+dfbPRehpkYMXnUhyoQcRY1jo0gk6NzvAuj2wquTe+D2hj/xzaJSPOevh7zQK8gbRNG1prq2MpZzi3s1IBJRVVhetwIoqxOt+omaW6dE1dI0teVVLWhX0dKXqkpqOrTxlavm/ch9WdmPwW97XNqxKpA11aL/u1i0bjf2Be/BxuUz8bSjnLm/Y7l1XmoVdUhXcWgTRlll884jK0YXjj2tyKIWj5i8NnpkffLa3Cjcpc1Blv5OpFzI8mjlV8sZg3rqgpd4FP9sDaWlv34wo5m6vv9E9DOoQdQ/e7H/ohaGkE9Tp85gWiGn+W11cxeYUL8ujY2kjWbNn7a8bqrD8cDnLCO1FaiRNIorUVk6sh56oOqWtHXsjgbMXUzIulCE6Khc6bJrR97X9ZuEkbT0de/QAVwjX2vh0KGwlslfsnDkX9iAEznGGPbWOKmyzOUtrq2VE5+tl8bjq9EyWS0qa+SYiyZpGdnyPiL3Sb9ELk85EqpTryGuxh4jx9AHAdTN4WQqAa84GpE57fcHuWzqTrnlOYo5qi9JwIk9W3HTcjz6m/GhYhiI5/vpQhS5B/v2X4LqkD7UF+rfVqLMjvJqC7oe5g0l6O9Q8YIMXLtcCOPhkxBgQHsXHoCf0Nm0yVWkqTyQe9DaqTK0VBPfnMiAttsgjJ/2OW2M3EEbVAeSHzdFZshA+/22jfcj07nwSk0PUf4ZbDqRD/3hb2O8d52bEki5kdcdqmmT6/F7unAd8DymzVuG37ZtxZeDaaUlIxLpzT8Y9YD9vyl1j+pKOXmi7vgivl08FQEm2tDRMoDziFlYumw6hsh9Qq3z+6kGLFy6ERDlyC1VYpDiluUdbMi+LETq9QSUNQ5NlIcAhdnkfmnSC77SwLydPYZpwbK7PniCKBwPLWyiZNZk3UVxZzYnuXk4TFyExW9RfGdtHZpUuGDEx/+HZdMHNrqhKCiPi+JkT7sqRTHHEVIg34OrkXm3qMkbfFrdsaHVDnHqdfqORZNHqCnMQiXM0Mun3ovgfuR+0yy79FXnKsydVNWqSIpvPPdTzJ3zHXal1Y2mGbtoU9/cOfhydSiKCi/g52/X4HIhhYqj5fTbv8/HjyeyGhiTU4BurJ2Pny4U1M2e1K3gbsmlLcLpZZ9j/g8rsOKHBfjq242IlOkf1MGsBo6BM58shSdSUNOkgzWrGCneySdoN7OKJ/kBK6HkSnTgMqQHdMTxOJrUE8/51S9nUwi1ccONwaMPbxxTH46ehi0VGZGYY2ZiVnGjoq/oHu2+kipiXLrGlM3opktF7/JNB2Oivzr497bh53/i0fBtF9qolRl2HcmcvyktFqtxs/GqTKTkVqEsMwX5UrmlDgMzbfDECTh2JkXqjy3IvYat608hl0iX0HpiY63IGYGrDtVJrjpc5nSvjn4uvaJD3Mp9Li2P3Ef41G0zydewsiwDyQWcgkc4cFmRNUteHHDpuUMiJYB8EAe8BH9a0srcuQr/xJQ3YledgdAbqW1/nEbDBWPHO4Ofvx+/HDbDKH+DRl8w4jYVFe5jOyWID89AJc3os0O24tft5LNOFHGW3Iajvu7ybadqSBuoiHuTjp9FEsejtKR+c9t6UsCpUlzYOu5l4tn7oV8iqpViUhQRidx6XVhUcgtbf4+m8I3/w6uuZH1RNcfAif7Q4qVg9y/7KCxjI4pVmSG4niJlilawr6uZlutw+GjXIuloMrzH+UgjG9AmAXiOIz9yyV38c1wHQ3rSeqjsUKJM5XhVmbaXFdrslzZvcmxeTWGocitogpJSUCcLlOFPJehvVlqTy8Lrh3GNiyzDHbQr/c62n3FcZzI+f4s+//uA/KRseyrfD1uRB52FU20qLp4KR1FdkCQpr+uakDVLxwP96cNN7fF9ZVvvu7T0OeZRX+WO0vhwaZQAQc4N7Fy9AzHVPIjrIzUJ0s7hdHhx3ZjCJVbVQzdy79By7w+Xpp509FD5/i+uE4okFlsOOlR6o0ziymx2tJTnyvN+C7mZL2kXV84GUpu+F1/N2YiMHk/TpuiB6OXUrdH1p54+5fopJVYg+5pVse6SU4A9A2DOy0VEsmzQlqVUPK7o+kzCUBMJKi9txtHkxkm/KOcyjqXowf/NSXCTskIHxjBl+JvGe7dnRtB+kEqErPkJ+xPJMksTqLKEYKzaEC39YnHzce6+25E2Q2Ye+AxzNuahx5gRGDqgl1woWBk+Cn613TGW9lbxqq9i7U+HcJeLOCYqQcKBlfgzUjpI143V3Kt6PTFhaDeKHHMem4+mNepGtOHw2tFUaATQhnq3xpXVDst9KXnK823L2ihu/zqdgcL0ymRIyxc7fIe/AJ0UJaPDRbf+QlXU3/h1bxRycvNQVq9YiMvyaFd/Dvkv+mD8gDzs+O0McuuzEBRno8RqNJ71qcK14NNIoR0iNUUUJ9PxWYzjonPwdGHtoIrksHBk5ObSIHgXSSn3kEkBmQPHD2uIiKFCvrU2haew/zAtwvkPh5+JYntvVcxGLPzlJlTHfoWZw2iTTutVaXiiTs6wkYeuQH3SHGkEhTrxTBvVTKpw5UgSnKd9gFHygZbpi2MH163FrrN3UURh9pITs1Gsqob0Ixub3tOyheHtTVi38zziaSNKaUoiRcCgWNFcrGH56VCz/O7GpiEtnz6M4kVxXvnasOvphJroKzRIBWPPwbO0BHoZJ/Yfws1qLwzuY0cbF/jQEMVQhIdI3Dy8HXvDddB7uB8tsatCj0yEd2nZ9Palg9i5bQf2h0jQf+pTqDx/kTBOQVKOEOa0O3j377twLr4QwpJExKbeQx75KXqRSTbz1O9Yu/UkovNpBSAtEZmlFHfbmzZf0RpPZdwBBN/KpE16WSjVdoG3dINfA6zSE76GCPEnLyH6BpUfHAU1Bx5Cd++gXduk7JSlITGzFOpO3tJNi5LKGBzZdwtZGUnILKOJTOBADHKtQszVszh9YA8Onr2Om5ePI/hQCGrcaRe8feMGwqalclcq0LHQRuzhCygf9gneCjKSWyFQgaaJHjIvnUPY5cPYffAiUg2fxptBKTh2JR15WQWQ2LpD89oGrFfQdob6ZuDfPY/roRdwZOdW7NgfhtoB0zC68jQuZ9CmweRc1Fj3hLedI3o6dYz+mqQj9Hl3smBH78fWbXtx7OxRHDpXBO/3/4cPuE1n0orSBlm7XnASROLa+RM4uIc2nt2gXccngnHolhDug4PQnTb9NMdeozf1G3PyQ+fy0KC+F3kAlzTpgz+vUajCen7kG5ii+sohxLm+hw9GURggaXncHyXK1NVtk1f72cZg57qtSrW9s7d9y3jc5CMpjjuOK5HXCff9uK0ZAM/8YPyxTQn+pA2+gQMHwbUdzBqqW38iqYgmngxBcWkcLtHK3KFTp3Dk8CUUeLyDbz5+CvYUkpDDpsP8lBiLlHsF0HLxorCHtCm7zfbsCdWrG5Tvh93pwy5N5IEmHFVuYtfOzsHJtuoGdq3/A8fiylBZmomEm0ew83A+fKZ/hkmknfK17drk+0CdCOxp43150cg1A0/TGPpZF3Ax5BKO7j5IocCMMfLN3hTVh6Ir5WUinzbl2VacxMYNxxFbUo3S7HjcPLoTh3MCMH3u8xTxpnmOSrSXpQkyD/6ObSeiUVBTijSSccUaTiTj9Gh5uxzxh//BzcxMJNFmNy0X76YxmZvJc258KKzMQsiB3UrzvoF2U7nJ9d2eDs7wb0eeoDgS506GIDHsBIJ3UiSlLRQOVfp/Gw6G1cCxrx+sNHXa7KeD+5gj79DaxnFLnldbBB6v6yh8PX0UnT2EW4JAPDOwLoqGIGkffvtNwbhipQUVNUv4+hkgJ+wo9h0IQ46AxsfUy9i38w5MXvoKs4bT9yGkcxTaK9PuGFYNdXKx27HjhFLjlF9gH/gbZSP61iWc2b8du/fuxaE4W0yZ1Qcph68ikzZzpuULYeOmissbmo7zHWtHGwhjz+BkSDxun/yHxl9ZW2zGlm2HEFLljD5+5P7ZYi6mBhOvXjDKicCtyyTfd+7G3r1HEGP1Fmb3i8fhq5n0vYF7ZFCxg4+7OWx8KW32TZzcdwChZGURUHz0q/t2ItTsNXwxcxhs1eUK6KDcF6Qfx5+/3Z/Mbtr+KUjMKoWGnR6it6/F9tMx1K/oewaJWShUd0IPR+pXdazU4b+yKBnctjVJjZcnkg9c6XAmj90LYvJnKshBdnEN+HrdYG5sCG35jRZcharjsfubT7EhzgqDXp5C4bb6UuSNOphF5Ym4eoDi++04j1zP6fi/hRPgqIy2zOVLM8HSzDyIja2bbhChmJuF2YVQM7dsOnjTjLSKc9YiJVmNTzMo6uwivipFeKHZX5N7GqTIkr8p7fRVo91tYlpGFApVoa6tLqe8ceXX5adC7/Kl+QnJckEbTbQ462z9QWkqshIQEUGWYmMP+HrboZv8jjnyb6rMSkRSoRZsXEhRl/PZEwsoVF1qGopUreBkRxsJKNZ0VaUAfHXaAS7gfslIKuDTL/0nC3MtbZbkdrdynzwXCcidQ6RGm8rIIkv01wjpk+jatLmDyBLXVpKrB1n9qIYC+qtFCrqiQ0yW77uJxdRZnGFPW6wryUGLr8G5NVBZNRRhWEMHGlxFiQeqaEWWjNKoJQu5GtVfmqOoHNl3I6XWC2N3P3jZ0QaH5mOgooIJs/IsWpYysFa8waO2CGl30yEwcaVg+eTnRdFYqujjJupkpxLwaEOisLr1tiNaS7JJsBbRh2wc7Sl/imVcVQmBKuEhITxooiPdsMHR1QH6RRW5KFEzgaG4AGnJGbRESOHdXG3AfVtE0SGieOIJkZG00mAKN1/aWEJfdJFP2gR7/aYdQlCaQcqGKaxkHyThCiA+qimkAV7NApayrd3NCm6vTI6fFfIq9YUOt32zsrmP02QnJqJA0x4uFCqQX9Nx/myXfrkyRbl78NHr61A26Rf83zCK0V5FkWia9a+G5MrwE7nzqJHLFycLRORDqaKp1YSXW6Otw/2wmTzQoxjlHe3HrdEi5ZFi6tOxcUghy6eBDSmSno5NZI4Uk9b4nuMxZd5vAJZOSEaX3EtAWo05XOmDDBp8ToaJSGbxOO8M2vBKUZEy4xEbn0ofKDKENX24wdPRsOEjPvJZNZy32V60wZxctMT04SU16lAiAW22pQmbNifjiH5BZQ0FdZAKTnK31a6TX7KMif9bjA/SZSduEqu83Gu177aBa1n8CWzZeBj3LILQ094ERnpqqC3NQvylAzgWUQyL1/7Auin2dbi01k+pHqKqCpJhbfOqrLrSX8or7/g8vPenFb7aMAf+3AfDSJ5WtjKuNLxLBqc0cjeMvVcFHTs3eLjaNB3X6hO2N4ZxTrqiDo5TXJ4599JJ8aSN9i42MJCOi/QxJ+m4R7xF4d5qm4/zHWlHjSokn9qMjYcyYU6Ra7qbGEKHYmGX0YebLh88jIgie7yy7je83tzBXgYO109KspF+Lx+1ZDB0tiF3JOkYpS7VO2pFZMSQjbnS/kEbAKPvoULPDq5urrDtpvijPR2S+w8is6XtT6oE9ROpXkH9SYXrqDW0L4vGyUbdqb5fyerdwV93p7oA8/8thVlZkGqzcHXbGvwVfA2pmmOx7M+Z8OXdxiqKbHG00hFBE6bhw1cpTrG81qBs3iwdQ4AhwBCQQ6BRYV6PDdMUfKBHLi07ZQj8qwiUX8Z3r89H3Ji12PCuS1NXDFqy/99r3yFm0Eps+tS71Q1nD0R/bQr2zPsMlwetwA/P14cAfKAMH++Xy699jTfmp2HUL3/gXdemxoryy59hynfJGPDDJnzakQ3tjzckD4V6mcKs2Fz3UIp8jDKlpZy+b3yHvlMqkU/L+RRljezwznjxh51418q4/c8aP0ZVZaQyBBgCDAGGAENAGQREJam4V0l7J5wsmirL9LK4miJYiPXh3df+4SjLHIFq3fHc3CmI/fZn7O+1CJOaRztRphJPShqyuJempaOC9k44WUiVlMaakeW4upy+dqrjiyAHzlFbarZufM7O7gsBZRad7yvjJ+IlCqZtwgUE51Di68LShinLT0S7skowBLoSAvT5Wuk2G+nmr65EGKOFIdAUAb5pH4zwUMHdfYebfNRJXHUXh1ZtQeHQLzAz6ME+P9y0xJZXalZjMe+rgSi+kVz30a+WSf4bd2gjpEnQSHio0odFDic2YkHKctXdA1i1uQKD532Evtx35NnRKQgwl4xOgZFlwhBgCDAEOogA+QRmnPwdfx6+iGsxBRAbuCKw3yi88cE4ODVdXe1gxiw5Q+DhISAqvYMDv/+F40m0t4JWXLXpy5g15bUwH/QqXhnu1HSz+cMjg+XMIUBW5pJI2pT853Ek8q1g3Y0+RsWFz62xxqBXJ2O4E/cVXHY8KAIylwymMD8okux9hgBDgCHAEGAI/AcRENPOaTHtoGa+nV2g8bmNohS3n/siKzs6FwGZwsyQ7VxcWW4MAYYAQ4AhwBD4TyCgQsoy8+vsIk0toehSbGXqoTYG4/WHCi/LnCHAEGAIMAQYAgwBhgBD4HFHgCnMj3sLMvoZAgwBhgBDgCHAEGAIMAQeKgJMYX6o8D6azEtu/Irl+1MbP1n5aIplpTAEGAIMAYYAQ4AhwBD4TyDAFOYnoJkN/EbC6vwCLDmUwZTmJ6A9WRUYAgwBhgBDgCHAEOhaCDCFuWu1x/1Ro+6KF2Y/jdK/vsIfEVX3lwd7iyHAEGAIMAQYAgwBhgBDQCECTGFWCMvjd1PNdgxe71uKI78eQErt40c/o5ghwBBgCDAEGAIMAYZAV0Wga4aV475Ukx2LO6l68AmwQm3iFVyJq4K2jQd69bCDXvNI3Fzw7sRQhMTmg2fuBl8fJ3RTawY55VmTn4SI8ATkSszhHugHR/mMRMVIuh2C2Fw+zF190cPZCOqyD+RQ/mXJ4bgdn4VyTWu4eXnA3lijMSC4qAQpEeGIzyyHhpUbvDy7w0Rdbi5SW4D40FAk5AMG3b3h72HZ9PPaogpkxtxGulEgepsWIfLqbRSa+cFNsxjFIlWoqoghEoqhZuEMBwMJSpITkU33+RBCrGoBR3sDqEp04T4yCHong3Eg/jl87KXZDAB2yRBgCDAEGAIMAYYAQ4AhcD8IdDmFWZB+ACsX/4mzSfQddOvXMDcmAltP5kBck4u8MjE0Padh2dKX4FIfb1CUfxWbVm5GtEFv9PfWR+a2OfhpdR98+P1sjLKs05pFRbewZ/12XMtSgaZaGTLiEpGjNgTf/v0V+ugJkX99I1ZujoO+/wD46N/Dts+Xo8B/JhZ/OgJWKjk4v3IBdpX6YFCgNYTxu7FkeRSM52zB0oG6EOWfxspv96DEYwh629Yifu93WP6tNeZsWoRB+jVIO74Ga4+kQazJQ3lGDJLyRDAd8S1+mt0XxvwaJO1ZjB+2XEEaeVLYvb8QMWcXYkecECq+c7Ggfyj+WHcaaSItuI59A8+PdyCFWYjilOvYt3kLzpX1xPPvfwz77pzCDGja+aO72klcv0y+zN5O0JAp/PfDGewdhgBDgCHAEGAIMAQYAgwBKQJdTmFWtxmHeSvsoTX1UxzOPIObZguwdpMDtCS5uPzTh1h0ags2XHsaSwfpQVwRhnVzFuB8j8VYP8sfBmTUFfchpfmtpfj15wD0XDQcxiXn8H+frEbhpJVY+rm1VIkU5Z/A0u+SocsXo+LOasxdeA1eC9ZhVoA++GSJDjJKw9QffsbP/j3xv26/YfV5Xby/ZTqGcd9k5z2NEU7fYqM6j87Lcef3X3BOfRY2fzgYhpyC+vRwOC7aTJ+npHNhPkJPZqLXp8swyZaUd1EWTs5/B8tPb8eVN4LwrKkGHCd+ixX23+HNry8g89ABVEz4Gp8FHsKuXDN4PjcLc/PCMWN3BfRoY99gG5olSNRhP3A43INPAx/8D+8G6NC9em7WsoVLNwlCQyJRKHSCZXNLfH0y9sMQYAgwBBgCDAGGAEOAIaA8AnJ+A8q/9NBTqmhDn/whxBZP4eURpCxzVPLNEPj8CJijGhlJBRCQYlt0ZSOOZpPbxhBPqbLM0aVi6I0gSzFqoy8gvqoSUX//jDM1ffHy8DplmUvD7xaICZP6wUq1AFc3H0Gmph+GeJKyzD2kr+UYePeBJaoQdSEBwtJ8VAjicWjXGcQWknOwRBWmQ2bjvZ5alJhcQfLLyWVkP3afjgP3GKpmGPrJe/DXpnO+NZ5duAgTOGWZO1RN4dffFnxJHpJzBXX36C9fWxecwVzX/w28PbY/hry2BGtm+0FHogGHMRPgolKJO4dDUSCue0WQegxnVMbhlZ6kLMsffF0YakrAK01HQWP28inYOUOAIcAQYAgwBBgCDAGGQAcR6HIW5jr66/V4vgbkXYFV9UzBqaml5M8rQQ2y4zI4lRV31n2GTw20oKmpBjUNDXJ/cIWThy30hfdwI6wEEj17kDG38VAxgucAI6A6HLEZIjIU38L6L2djl6am9DvsGhpiaDi4wNNWFzp+r2Gs/XwcINeJWXtUYWDrAU//EXjhlVEw1NCF3+RxcFhwEHuXfYR/VhjB1s0bPYdPwqujDMAVyePl4PrOvTh5KxFFYl3okUsIeSSjulZmFm4kS9/erIUbBd9iGCb2+gtLwvbjasEAjDWrQdyRm+j23FJYN7cg89SgyUEnFhIu7GAIMAQYAgwBhgBDgCHAEOgMBLqowqxM1SQQ1YhIcTZC7w+XYY6vgk1uVWE4VcMDT1KEchHl2VzBlIggoPsSg374YMksSI3GCor+4NctGH79Ai5cuYZbIaG4GhyBK+Hl+G3Vi+ge8DF+3vQUrl24iKvXbiDk9kUcjLqC8NLfsXpUGlZ98i0umE3Doq9nwNuAj4obX2PK7XgFpXC3FBj8VYwR+MJAGN46hwPnsjFq1F0cTPDBhLcNW1QHkkqUCHiQaBhAp3ldWymR3WYIMAQYAgwBhgBDgCHAEGgbAQUaWtsvdJ2nGjB3MQEPRYiOyiUXDQWUqZvByYRcFHIv0CbC6pYJ1M3hZErPi6MRmaM4Flt14nEcv6cL1wHPY9q8Zfht21Z8OVgXyIhEenUVEk+eQJqWBwaOfxfzlv6BbVu+xGDamJcRmYb8CxtwIscYw94aJ1WWOQLEtbUNLsctCVJ8R9vzeYy0ECL1nz24fO4YCvs+Cw/O5aP5UVuC/EoeVM0dmlrUm6dj1wwBhgBDgCHAEGAIMAQYAkoj0EUVZhFEnMcCWYDr3XabVEgi5szF5Es84CX4k89u5s5V+CemnBwd6o/qDITeSEWFqjkGTuoDHV4WDqzYiKv5DSloA54AQu75RH9o8VKw+5d9iClvLK0qMwTXUyohSDuH0+HFjS4Oqnropq8BLff+cNEW4N6Fk7hT3JgvX9eY/K914TbAGSoqKqTQlyA+PAOVInIhCdmKX7fHkXc0+Vg3vkJaNGcppx/6lb8tqw40nDB6rCNUig9h5Q4+Ro2wbgx515CIqlSaiNgiHqwCnKHb0uNDLiU7ZQgwBBgCDAGGAEOAIcAQUBYB/gJggcjMFMWT31b2nYeaTpB+HH/+thWnogpQU5aGxMxSqDt5w4FiJksqY3Bk3y1kZSQhs0wHLoEDMci1CjFXz+L0gT04ePY6bl4+juBDIahxH4wgez3o2AXAR+se7pw/gUMHjuFSaBiunQnGnrOlcOnnC1vHXnASROIaPT+45xDO3LiJyyeCceiWEO6DA6AXvR3r/ziO2JJqlGbH4+bRnTicE4Dpc5+nOMl5uLlzLTYcv4vi6hJkJ9zA0Z1HkNXzY8yb6AIjUz1kXjqHsMuHsfvgRaQaPo03g1Jw7Eo68rIKILF1h+a1DVi/8zziacdgaWIsUu4VQMvFC9ba8nMZFeiYqSLi4DWUBM3EjJFW0k2CzRui/PZGbL6og/EfvoQe+opM7s3fYNcMAYYAQ4AhwBBgCDAEGAKtIWDy81LpIx4ZIiU1Xp5IPnCltbSP9j5ZYitrxOBrqJGPLllia2qhoqEDDc4nVyxAVQ2gRiElaikKhJqWOtmZ6RCVI/tuJCKSq2Ds7gcvOyNoyOubXJLSe4iJikFqkSqM7N3g52ENeZ1UVJGJhMhIJFeaws3XG/b05ROpGzCVWZIZj9j4VOSLDGHt7AVPR8MGC69YUISMhDgkpOZDZGALJ28POBpwMS/qj9oipN1Nh8DEFQ6085AvqkQVfXREnWzWAh5tahRWQ8CnzYp8FTI0C+gDJTyoaGq1oB+iDAR/+j0KZqzC207Nv8pCZYkLcX7+m/iZPw/r/zcAxs3qLyOH/TIEGAIMAYYAQ4AhwBBgCCiHgLuToTRh11OYlaP/P5dKlBWMBWs1MH3+GIXxlQV3/8DHXydg9PJFGG+tQKH+zyHGKswQYAgwBBgCDAGGAEPgwRCQKczMDvlgOD6at3kViD14DrrPDFSoLKM6Elt/vo7uH8zDWKYsP5o2YaUwBBgCDAGGAEOAIfCfQeAxDiv35LdRbcZJ7LgogS3/CrZG98EXb1F0DgVHecxNCMd/h9lDjKWfyFaQhN1iCDAEGAIMAYYAQ4AhwBC4TwSYwnyfwD3013hCFIQGY9dGitlsPQzvfzsRjq14Wuj2fAvvcASxyBgPvVlYAQwBhgBDgCHAEGAI/PcQYD7MXbzNhbVCqKqxeU0XbyZGHkOAIcAQYAgwBBgCTyACzIf5MWlUpiw/Jg3FyGQIMAQYAgwBhgBD4IlFgG36e2KbllWMIcAQYAgwBBgCDAGGAEOgMxBgCnNnoMjyYAgwBBgCDAGGAEOAIcAQeGIRYArzE9u0rGIMAYYAQ4AhwBBgCDAEGAKdgQBTmDsDRZYHQ4AhwBBgCDAEGAIMAYbAE4sAU5if2KZlFWMIMAQYAgwBhgBDgCHAEOgMBJjC3BkosjwYAgwBhgBDgCHAEGAIMASeWASYwvzENi2rGEOAIcAQYAgwBBgCDAGGQGcgwBTmzkCR5cEQYAgwBBgCDAGGAEOAIfDEIsAU5ie2aVnFGAIMAYYAQ4AhwBBgCDAEOgMBpjB3BoosD4YAQ4AhwBBgCDAEGAIMgScWAdXHoWaisnhcOnkR4fHJyCrjQdvEAT36+oAfcRWpNbyGKvCtR+ON552hJWm4xU7kERBXIjutBPp2ltDmC5F/az+Cz4UiMioVmq/9iqXDDCHKv4mDwWcRGhmFZO23sHLJEBj/1/HkCVF05wj2nb6FiOgk8MYtx7JnzdElOw/Rqqhd5dmg08+lZQYj+GwY4ZMKrSlrsHSofqcX86RlKCoKw7Hg07gZHo1E/kQs++EZWPKftFp2Tn0YVp2DY/NcxFXxOLjyB2y5nAme89MY7VyE6NuJUH1llXQ8aJ7+kV/zRKiI2o411/3x0VSP+xvbxWW4e2Yfjl4PR1RCNfy/WIF33NQVVkVcHsDBXYQAAEAASURBVI8zwUdx7U4kEqr74ovlU+EuSyo/fnYRU6O4OhsJMRmAlQeczLXbHZPE1VlIKTaAvYU2mogawrkqYT9W/rgZVwpc8f6axXjGrEkKhXj91252yTFfvhHEpdexesaXOJojz6HXcDNfDJewA4gSN6YWOrphEqcwN976989EhYg6ug07j91EjuunWDHTByp3VuDTlYkwCRqHyZNHwEP/ETAmKTVZwbPw9vpkWL/5J1ZPtoCavi0cjc/gQGYOLKvroVLTh42TMc4dyES2jezmQ4RRLIRIRbVp532IxXUoazna+LpWcDSvxKHjOTCokmO6DmX4aBIrbNeHXLSavh3x0lkpL1kJOmmGRUJcKOJDVb7rP+R6PPTs5evE14elozmqDxxDjnElRA+98MesALn+B4ZV5zeeIA1HV6xBrMcUTPeIxrUkc1hqRmJfeiYsH6aMk2/XdmpVnbAT3y2PRf+FL92fsizNnw9tM0fY8/fjcLYa3IVtyG9VbZg62EPt8EFkS3xQK+uULcZPG6h3kphrBwLFj6sTsX/FcpwRuKOHnQgpvy5AtOYz+Oy7dxDUrRV9QpSB/XPewLq7znj991/wiq1aQ96Ce4ewfE0i3CfPgHtCCoz4jYbIhkTsBF17KCImzTv/J46Rsiw2GYO56/Zi7/bf8cNXn+Dt0YMxY/kK/Ej/F7xs+ciaUlQQhpOHDuDwuUSUttHvOILE5RHY+vlb+PS3a6h0fAavT3CBJnUyDdeJmDLKHpUXV+CTaV9jR3zVw6dfogqjHsMwOGAohvt2o86uCgOX3ujX2xl6cqXzDdwQ0Lc3XPQesjTg1SBl30K8/8pM7E5vB0g5+h7JaXPaCCt9xwD06+sOg0dCwAMU0kq7PkCO7b8qKzPICbrtp1YqhSBlNxa/Oxkz/smAUKk3un6i5nXi6zuhV99+8DB4yH2t60PTlMLm/Y+eMqyaQvTAVzS2Zp/8P2yI98GEsUMwdPx0fDF7IoYP9IbhA2feSgYK2rWVlNLb4pJLWDV/H9Rem4Ux1o3KXVvvKHymog0rnwEY2MtY4WP5myqaNvAdMAg9jZuNSSTjmo6f8m894nNeBSL++B82lzyLz7/5GNOmzsLCHz9Bj8w9WLrmFkpa03VVjeA9dCj8Bw+DXzc5PEmRPvHTH4jzmIhnhw7DhHemop9x11YNHzHiDcU9FAuzuDoPaVm1MLazgl4rk50GCto8qUZ6eCa44cT8qYkY0F2PFD09+AzsDh+594rvachdPdzTmpT9WPfrZZSaToZrPyfoy5ZrmhcrysKppV9ic6Iv3vv1f5jQXS6hpj36vjQPfZ+bgL0LZmHdlz/CdO1XGG76QGA1p6DFtabLS/hsUYvb/9INAbJvX6PlIRcYaHP17kpKQ1em7V9qrkdcbG12KG6mFsNSX7fdZcZHTNp9F/ck1um+wWjzRdb/2oSnMx6K83HrSCTK1YeQe55chjweWtO35FLd52kH2pVXifjtq3FBfSxW9jfuEjKgy4yfhVex7VQpHD4Z0ODCpWIcgKd7auL6jYO4XdIHg/UVjKcSbbhM/ArfN2s9ceENHI2qhnpfctNQ8Fqz5P/py85VmEX5uPHXt/hxTyzKCVaJmgOGfTQfM0dbQ+O+GkKI8uI6twCNbrr315i0BFqRcBh//HUMt+9moJhnBGunXhgz9R2MdtKqcwUgusMO7MChS2FISM9HUYUEWsZ28HvmfUyfSDNuEijc0tBvuxNQVhyLCqqbStEVbPwxE9okYNS6T8SMV92bLBmV3VyH32/xEfj5pxgnryzLs5umC56bOxOh037Ab389i6DPekK3NZzEFchKTkcpzXRVVcQQ0bKSmoUzHDh3DnE5kkPToN/TE8ac8BPkITm1CCI+XYiE4Js5wMGAFHZRBTJjbiPdKBC9reUUeHmaOnJOVorKjGiEZZogINAEpRGXEVZkAf9+HnV0UF6i0kSEhcQiT8USLj16wLlhZku4aRD7aRhAT02u0pRnaUo4IovtEOBn0rjsJSpBWmQk8ix7w9+sfnbcVvkkcLNjw5Gq44NAmxrcvXoV8RU6sHb3Rw/79pSwVmiTx0ZUhPj28hQVI+l2CGJz+TB39UUPZ6PG+sjnRTxamZmEe+U88Pk0sxfVQqJtAwdrHYiKkpBC7kd8FQlEJPCsHKzrJqE8AYriQxGSkA+xQXf06OUJS612rAIdwZajj9KXJFIZsfngmbvB18cJDc0nT7+ic87fLyYM4WnVMHL2hY+rSQsZ0DpvUNGqGtQ3NWGoyzE0sXhVBpLSyyFRUaNlMSGEYnWYO3aX9k1xZSJCU43g59FNOrDW5CcitUgixUwoVoN5d0onM6i01yZt1ZnaqSo7FndSadIeYIXaxCu4ElcFbRsP9Oph165xoHmdWsJGeCe0k2db9LXMkIAUQZAbj9tJGvAIdIRGQQSuh6Sh2sgBXj3cYaXdjGfa4yt5GWJahMirt1FoFoR+HoZ1Sk1b9HE8oVSfVKL/EQ88KFaismRE3IlHRrkmrNy84WlvDA15ONqqC2Hd7vuK2qO2APGhoaBuC4Pu3vD3sESTbktlliWH43Z8Fso1reHm5QF7Y64vtHG012aKXhVWoKCCVGM1ftt5y94luiqykxAbk0iy3ALOHu5wMK0fP2Vp6Le2KBYhoYkoEBvCrkcveFrIp1GmXeszK7uDPSfyYDx+COw5e5jcEAFl68vRTONTaFQh9DwCYCtHZ4tTUTkyo0MQWWgIT3+rFo+lN+R5XzZ+Ks3T9VnSWJ0RSfuG0sqhbukJf7/u6KhHZuXdi4ivMsAIK3lDoQ7sPE2AK8mIyqwhhVnx+C4iORpzOxNG/oGQVUFUXoBKIk869iiued3djsq/dvqPNFPKsyY/CRHhCciVmMM90A+O8lbWtuT1/fSVtuqnxLPOU5iJ+PwzP2IpKcsyBwNebTLOrPoeFq6r8LqDbMRSgqrK61jy1le4ILe2kL76ZYxdzb3LR/cZW/HrM8btd3RqjJJbqzD7m6PIpBUWnp4ZTJCJxJAM/BIWgeTvV+CDnnrg1yTh+LZgXCnjQ6ubObrp5CA3Jw4X/lwIVee/Ma+XFmqzr+PMhQjU1pPPE6Yi9GKq9EqU1Qfvcgpz/TPQ7P36P1dRavA0XggyapNOvkk/vDhQH/PO/YMb7/XCsNaWZyWk7IbtwfqN55AqNELAC5Px1GhShKm3ibKPYMX3J9H7pzWY0l0N4poCJN3Yg61bz6PAbSKmz7SA5NT3+GHLFaRR49h9vPuBFWZB4k4sW7YVl1OrIHT4CAujjmPJ9gQI1ALwxdalGEwY3ti0ApuijeE/wBsGmX/jixWl6PnRYswZpoWkU1uxK5y6aU0E/v56BnbUqsFlpCtygg8gLLsWqoHfYSunMJPiG7t5IX7YFYJsgRo8P98pVZhbL78X3nvTACe3n0UyzdosXv4MsbEbcSJTAkFBLspFOnB/8ycsnezQQoGra8xixCqgze2dRXhPtlZZGYWtX7WRJ9cXrm/Eys1x0PcfAB/9e9j2+XIU+M/E4k9HwKpFV5DQYBSOY+vW41iKGIYD3sCro7vB3kYTwsIkhO76A39f0cPgN97BVHuafGYcxW9rjyFFrAmV8nuIS8xDrfkYfP3TJxjQTX7ElzEkUBX9O75btk8pbLm3RPlXsWnlZkQb9EZ/b31kbpuDn1b3wYffz8YoyxYVaCyIOyN8Nn/5M4ITalBbUU59RgWmg2Zj8dxRsOFeFeW2zhsjTVEVcwLbd0fSxLQKsRu/wMfbadLnMAwBoqPYceYeBPpBmDR5NEbZkyKsKkTOsWVYdGwI0TcZDuqkIBYl4uaezdh6vhQu42dg5huUTr39NmmrzkOp7JWL/8TZpAqIrF/D3BhytzqZQ30tF3llYmh6TsOypS/BRdE4xQ0ciurk8T4WvVPvxCKpRMyWz9vMsy36FLVJbdYJ/Lp0HU7ElUJk/jIWvrYLf6y5Qku2ApRXiiDRcsXoj7/B9GEW0omcIK0NvjKuRdKexY0y5P2FiDm7EDvihFDxnY9tywZAN681nvkInmErseTPc+33SWHr/W+GVz2bPShWVjzkn12OBbsr4Tk4EDbCOOxbvAwLTGlFcEl/cMa5NrFW4v16Sht/yB0h7fgarD2SBrEmD+UZMUjKE8F0xLf4aXZfSFfARTk4v3IBdpX6YFCgNYTxu7FkeRSM52zB0oGKnZ3abLNWZAFqs3B15yacy1WBimQrvno/mCaibnj7xy/Qu5HihjNRaST2r16DMyJ/jAgwQ2Xc3/hqSQqMx8zAF+8Phy3H84IUnFi3BkeTAU2VUqTHkmIttMKw+avwaV9D8EnxaU2uzuip3VCW7KQq/jTCKw3h62X2/+xdB1xURxP/HwdHb9IEpIPSRJoVu0aNMcYSk5hijMYUU20plthrolE/E0tiYuy9Yu8NG0UFBVEE6R3pcHB337yDgwOOu8MWjbu/n97jvX27M//dnZ2dndlXx8igFr807xfFHsXGLeeQKDEhGfEQ8X8uQFIx55Bczy2DAgLvHl+PzWeTITEygRYZeNYuSkIJxU7U+KZQ29Xp+9z82QJIOvizen2aU/ZJBuSG/oNfNyfCtlN72JRex541v+JX89bwJnlaKTJEm1ET8V5LHRkEin+pnILEByQbtWGkK6e+kSFN31SfJG0y0vI5LaWeIBLexe6F8ym4k3iTtMRXW9rBtpkEFRkXsG3DOWTSG+Jt3+HzYAkFf36GRZM7woSjuzoJk/c3Sf4pHT/V84coLxQ712zB5TQN6GgVIuVOHDK0umPmP1PQwVCFvNZo+liR8fI4v3KIP04x3LtFiDoaXqMsy0rjie/i1OUsvOtko/62ioYRHDy80PIhdY57sUgnJ0aN5i3hypl6JdpwtNBSqoTK6uYG8f5VB0lZ1oBux8lYObUHrJCO0/OpQ1ygZysP4/WVb8FB0xJt35qAft17w5fK5hTekz+8j19u5uFGWBrKA5yh334qVv9dhrJb/8OEX0JRbPYGZi0YAjtCkCcwRR2X39J7uBwngsCjHZw4WSDX8Wpok11I9OHUzgXax2LonRL0JOVcYeJbImDYOHybeQPj9unCqecAdOO0D1Io7wXvwr3SXDw8kYS3xpAVydAdvQZ0wukj+Rj8/Rj0bU64Oc7EEofZGDn1nMLim3pT4PI2pi5xxMKRU3CaBtO+kiH4/occHNmZAwMSmDdXj8PM84GYvvobtDMiJU7cDs1SRmDBiv8hsPU42Jl5orXVPtwodkbvd0egla4WLFzcYdvNFd+PWIjbMoLIqur+/gIsc5iEEXNvye5CWf32r47DklY6GDXxMNJPh8Jixp9Y70SCKOcsfv1qNk5sWYvL/ecq3rai0CuJQtrofU6qUFJapjFZNW78hkmzLsNrxmqMCzQCnwR4e9NEjFq4HMsD/LDglXpCm4Sdhd9QfPpFPK5MOgqRkT96tbWQThQC1+7o7LoL520mYfzb1LZkWUsPO4rEwO+w4E1bEoukMB6dgs+XHMXmkBHoOMBc4djQ9RyDeb86qYWtuDgCqyfOwNnW87BmXACMuebrQErzRwuwYnkg/Ob0grIA6qRDp6D11Wps8zEGr+AGtkz/EZvOrcBSf38s6KOD28r6hu8MtJWYw6O1JYJvlMHhlQ/wIbWlwNwF7mbuyL85Dns13NBjQGdIY1ZKY3Bgzz2UZZbheMKb+MRNC4ZuffB60AkcyR2OH8b0hrUm7TKpaJN5nRJV8DwQ3y1xgO6oCTiYegrXLGdg5Xon2lXKxMVfv8CcExux9nJ/LOgqHxFQ1V+4/8WN8KRL8ohLGirKfJQ20bLug3E/O6HZp59hS/op7Iwfi9nbf4A1LR4Kb+/Ewp/+xJFf5lPg4S9425GHXBX9ynlorQxJpTiO4sFT8X3bYGzPpN2/IuV9Zu2cKVhir6t6TOorGX9SpB4fK/8fjbD2t/MQjN2CsT2q2uu13k6Y/Y9A6o6gCmtV71eTWfenMhvhx1PhP2ERhnEdl1z2jk8fg8UntyDkw/Z43UIDJddX4bezBvhs41j05LR2Xn/0dpmJdYJGnCQ4JUxFm5Hkb5g0BDD3DkJr04tI0eqHz7/rClNNfdgo2t4UJeHQ7O/xt+gLrPm5f5ULwKt90cVuAr5YsxAzDRzxv9EuEORcw7GkDhi3cAjsOfYyD2H6p0twcnMIRrbvD0tlcrU+hbSgS42Iot1UM7jLzKBcHnX45ZTl8N8wblYkAucsw2yv6tMghA9wZO7XWHpFrjJxPq6v+hozwrtgNhn2WutXGRuEyQcw99tluCzLSjqHfN+X3pYIYNdfzT5NbSnKOIwFs/eiYuw6jOlDxj5eH3Q0S8foZZFI9P4Ko9o5wpubo1QmMYryuF13E+jXy66how9SvSEUknWwfhK4YchPy+Aw/31MOV37UENgAe9OtIsekgb+K19hYjdjaFGAex19hrILWqgv/1SNH27+MMs/g1++/Q25w5ZiwQ9VHgii7GOEUTwM+GKV8vqnZk0cK7UsP9ZVVQ95rCJkL5N11qDeqqb6kbb8SkiWXdmvjgfenbEMy5bNwXsu3KoQsBs+D8uWLqd7P2NcO/WOrBLlhuNSkgbpq5bo9XYQrDjpwW+OoLf70B0SvEkXEZVHnUvgiF7DXoUX/x7OH9iCf/7ajEu0pculitIycN1PQ9AM1tY2sDLVlkZKSiiQoJmVDWzonrWZ/LYTTY6l6Ugt4cHA1pQUHNVJy6wFBd6Ry0FGufLMpDy69CMFgJeKC1cyaGhQyg/DnghndLKRIPP4AUST0Zbbhs2LOIks3/fQQ+6cKr6eQf11p/L6VD3l64JrcolRW4wY/RqCuo/A7BXj4Fd+ARsPZ0Lbpzu8OG2LS3wTeLWzAq88Cmfj9Wh72B9O3NaLJh1x49UGvj6esOUElkAfBvIuGlVvQ5NoJzlcNzVSfwAtUjT0DKXYW/Yajt7OOlIlkm/eEUN607ZVWTLu5wjrliX7i2/WOG3VeZSWKcrBpQ2HkKrji+6epCxz70j4MPbuAGtaTt46d1dWU4NfHfchGGAvxsMzZAkuqH5Mgv58qA2GDHSssoiTct184DzMHUTKMtdF6W9zv86wJzednPgsCBuZW6WlqYMt13dC1uFwOrkddPeUKsvcuxom3mhvLUbF7XO0HSgtrdH/rPuNwZukLHOrcb5RG7z11WA0Rxkij9EkmKeib9yrgCktNAOcSAmjEowcvODbxgee5J6iodsK/XpZQIOsIpfTqyaFwut7EWHXFTY0Jo4H30Epx784FxGn8tBmePeqCV5lm8SoxzONeSMCXdz8FbxDCpZ0K50Wsm2H9KaFeBlS7ucoxp/aqFGeqlFUXuZjtAlfH8ZEs8Q0CB99EASpcYfoMfR8E99+2gY6otsIPpUi7Ufq9CuZDDEI+BCjBwSh+/vz8fuE1ihXo8+oNSbVGH+PjVVRAbKLyxEXvB0n7uRK24xv3ovw8IEeKXYq+7+y96umjYZjg2+L12fNwWDZyQSaFvANsiM3Q3Kfy6ySRZUF2SgWxiJ4+ynE5JKVkNrJovt4fOrXiBGFnqvTZg2IIYzdPGkhxclZLTO0cHaFqxMdNapAGyi7sxNbIyvQojfJL6kwo9I4ZbHfSHQ3ESN571pcoZ1gvs1gzJ4zUKosc/XxzfwR5ECDMTsemdy0pka7cu9VpXLkpND2II03Y3ndQR1+K1NweNV+JDu9g6EeckenCRzQPshKVoH0V5R6EKsPZMLx7SHwrFaWuQcCuyAENW+odMr6vnwhavVpeqH41jHcKtNFCyv96jlBEyae/rCgZxpmbdC5iw9knoby5Te8Jvkj4mgToazeaUQ8LYFUZgoEChpSWhA5udXT0fimreDpTK6C9FzQzA4urq5wrn/knIwIteSfGuOntAS3/lmOU+Ud8U6vWnddfrO2GDysE2w0Vc+hSscKzWGleSlISkqq/ZechoeNTPky9tT5fXIWZi4Y7y06R/TyHqTJ1SzW74q3u/w7TvuifNqC52iRGMPenFNdq6SZtrkDOJU7g1aYmYWkkJvm4tpfP2H+rrsNLOTc601NEs4HlV7iacokjPISNPiaUiVcVFm1OFCWW9CiEzqYb8OuM1eR/hYdDXf+ADI6f47vmhXi6rIz2Ht9FHzblyP8TCmCRng17hOtrBK1n1VpZ5wPrWUtvBBmRCOZ5H1JxO+YPN4Eujra0KLBrC02hJOrJewNGhvQaldcnVFx/dKH5FvOJQ0dAW07Si/pPz4MzbnJpxIVDeWhLJPKX6VlCtMRkyICrygUayaPx3Ydso4KNKGtLYa2kxs87RRvrUorFdijzxAvbFl6CTtDctC+rxkq7h5HlMsQTDMnzGR8EGtZlzZj98lwxNGCT89QE9z6TlRWKV3cqWRAaYZypN/hTqbIx43V32OCsS50dLTI31ybtpJbwsXDDoYqmk/TQKfObpKguQ9aGW5Dcnk5yh6nb9BE3YJOlbDYth9naMH4Di0Szx3IQcfRE2FRfhFLz+1B2OjW6FR5FaeLuuEDb257h5LKNiE7r1o8VzPO14b8nKRpaCF1xyqguAJZE1VV3IT/lZb5OG1SFcQloeOyBPLiiJQPU692tJC5ifyy6pmkCf3KyMFSzqVJTfqe1Jh8XKwM/TH8dXvM2LcVi7/ZiqUmjmjlGYAew95FP2OR6r6g7H2jxk0kPF4GrmzbjeOhccgTG1DsRiGNV1J8Kqp6jb7v+xjgMB37yfVl3E46xcjOg/xpe+PNd/uSS1EjfakJbdZICY3fJovuwzs3kUu925kMRXWSvivauWrh2LVk3MsSojsZRniZIdi65yTC4yh+Rs8IWnn0hqgM1ezVeV35H2KIufPcqJ01q8R4bXZV/BbF4EoSD/o9zKHL9XclA7I49hK5bBiiK80J8kOjtjI1rtTs03x9E4rIuEPugdkQ+lYdSSfMTkEx3xE9O1jVcTtRXiuPbEpcZyhHURk3idVSLi4vIfc3XZhVx30oKkeF6Fb0itw9deSfallgVJmEqxH5kBg6wEK+W2mYwrOzKRm0bqqcQ5WOFXE01n/9DfZm1XIr0fTBV38teuyzpZ+cwkyw6np9jHnTNLFi/XHcypDA2KUL3vpiDLpJI9HkcH9Gl3watFXtUYrcIpoUzKtslJWFOdWKsTatYCXIODYTs0lZLjdsj/fHf4he7mbI/Gs0fjwuVbebTC1f1wzGhGx6diF1YIprU1FCZUEWOd1T4ImJqpxcYc4IamuMPUfOIDTNi9wwBOgz2R5WgqHwWzMX13ZfRZZzCc7z+mGsQwObrApKHv2xvFyTVAqliptB+6+xYGLrOsGQtTWoWO4pEXS1ZdReyddfe/dfuJKQDy3JeolxJ3w+n6ztjRiHFFJGSox55+HotHYaTu86ieSefenopwwEDpE7sJ/O9b687AvMOt8CH8wh/1MvsuQWX8LsD8JxQ2GhCm4qxZa2D8tpWxymaPfFIkxsU2/fT0FxKm9JyDLNrUtb2UOn8roafaPxEgWOXRFoug+HzoYhtU06jvNexWRHa+gM8scfcy9jz5UsuFVeAF75Fg4yJUNVm9AxTTd/UYNnFV22caof98lTaBMiSSwsJfmkB9fWdCxnk/tV7WTEaSXq9JlnA596tGDsSqzrdRnnz4XgyrVQXA/ZhVuXIlG4ah681On/jbxfsGop3lUgd0V5F7Hs25k4Z/kx5lDMhrcxH8VXp+KD67E1nYNv2h6fr9iIXlfO4VzIZYSG0Q7p3kiE3CzCqmVvgcJT6qYmt1nd19X5q6KMM+KQz3sp9yuf+NA3lNoloUc7GHmXfiE3iEswGzEf08Z6kN9wIa7NHA7yrHiEpAldY5oLK4pQzE2gsqQGvzxROcpJjyzNLaragZW9S1ZHUT0rSSUt4MU08+YVSfdqZTlpLHBBxbV/Pokrfd+ReMfnJtb+MxlzCwYiwCQTYRcL0Pm7ORhFLmdqJzIaNLMxpYVEBtHNtUltpxCVEM88S7hYygSf2qU+wYxqjL/SCJygD87xJHkUU0RV1+r8VXSoktfV1DY6Vpb0JZ1oGYLk2lBD1waunIuB0rlPNQzyUk91blU5qDGbB32COat3YM/enVi3+Bv0d5bbFlH1/hN+zucc6k3JiZ2XjDOnkyD9KCB3FuTpk0ihuiTmvnBvJkTy9QdSxVbXZxAGdXKDjZEQ2XnVI1VcF2ENga60i/KEhRQY0AjB+i7wsyE/nHvRoMW38kT+WpnRd1EksYW/sxraFeeW0cWfAlPu4tjOTbhmPQhB5FCqYdIWQzoZQBS1E3v2XYBm9w5K/UyVE/V4TwVWbjAnDbYgJooC9VSXJdevySzP5wK3KVisyhVG+jZZOgpT06SRvKpLe7I56tCmTtECK7hYUJ97eBtRGfLSXp2XKQ9Zr4a+Qm4Hiftw4PJpnBS9gp62tcNUlH0K649lw6jXaAzyrnJ7gEionsVcLWy1YeVmTr6c9MWvW5mKXQwaY0VSd6zIspU9uIw75Q7o86orjJvYN2Rl1PzquqKrnwF4cYexa1M4bUl3on6uQcGVQ9HJuBy3du3GvvO66N7BotbKrbJNHoPnGsKe5sVToI/zEw05jyyLPngrwJCC3B6jX5FJ4JH7jArYmjz+1KGljGTnsRToteqKQR//gPlrtlKQahcKckpCJE0MKnlR8n5UsgK3OpJf2efW4liGGXp+NFCqLHNsiyuqdiJlEJTFHcXRJAO07DwEH3+3CKs2b8LkbrQjlRKFZAXfkHq8NpPVquSX24VwakE2y0o8uEInRNWxSgiRm15Cc6g/2pjm4Nw/R5Fm0gej3iBlWaoAkeGgnoIqX5PydtVGc7dmlL0ImQW1E4g6/Ep0beFAgfOi6KMIy5GvpQyp9ziTd23StXGic/XLcftoBJ3qUXsf5Sm4m1crc+WePPqlwAVDZy7AqEAz6OmTa5drX3yzaCG+7Nb0L8bqOvuRS2ke7sbn1y4KKJYp/X4+ffGvA7xNnjDtTeJaDVkgIKXenObIzHMURK2gY6uU12SEVjZWKozh5OENb6/af57O3LcnmsSIwsz/JrIKCeJuchH90ydNwKSJM7Etvmr5kbJ9OiZNmohJP63FDc5Pt/QG1v5Ef9O9WTs49ZcWKklbMGcid+8nrIkkR0tdTwwZ5i5VcNO3jcfXUxdgwZQvMWlLKuXWhtdbb6CltgAWzpbSYI/yi7Pw9TfjMPbDj7A4tErwFURsxeqNEXhYPaAE1h5oTqhp5B/GLz9Ox0L62s6CWZMxfV10lf8kR4imLbr0dYFmyjEci68d8NyjBqk8DsdPpIPX6jV04YLz1Ei6LXvBR4+i1ikk2XugjzSqGxIDeA4kX0rJPew6qo/ufsYNSxJzVjQS1PRbo+srukfrbqmblJi2xmoyNiyOSlKYj2/RDUMDyJ8qaTOW74oFHSJQlWhQp0ZcQTzXfuSEosXtEZemIiGzlBTiBGRzUGmawFKPqLx/BKfiaTDRxJ51dQP+OJZDtZEgrNPpFdcvrayaL0ndF6SPuP/EjdyvytAIbeqUqWmFLkMDoMtLwI7/7UF0kYx5jtUwXEmQMl9DR4MLCjBxGTAYbrxMHFxxGCZ9/SEv/3gaVUO2IPamNOpbmHEV237biugyHsSVcpYSRe2qDrY0SVp0fhsB9IWd1G3LsCu6qLavlKUg/CpFaNeZOGs54FyROG7zIqOQWb1WEOWHYtMft+Ey5ieKAKc+oVbfoGaX+uNRfyG/7JLCFMTnVBdIQbJu3VtDXxyLw/f98IZvtYsLHR84sJcZePTBkyOCXvCTD/FW1SY0RtXjmcYN1//IAlLbqnL8Kx8sjfCkTpmP3iYy6jRyLuHQ5fRqowE53ERswIrjzTD4hw/hSev0x+pX6vYZdcaPlOBGxh/1RNX4q8aqpILiAk7cRJ5suBD9BuZGtNXtgSBXA5V9Qen7boqMHjxo0LjlkZtT7M0UMrTQtnUYnfS0hXzuqSfJviYnTDyDkzcf1ipBmoZoRi4euu5BcKv2LpK1J/erdpvJv1RzTbJTKkvl5gJ6JhZV9W0JyX5O9Bv4DEMPUm5KLmygEzBqDQCijIt0oo8hAkYOQyt98mEmmcDLv4ObyaW0fk9D6JYV2BpDAp37ql9NnY21a02GqgtOUfcMhBXJwMj42oAJtfjVc8cAinPglV3Cyl+Dca+ERqooH3f3L8VfUdyorZ4z6Eq31evoSb7KwtAVWLL/PqRZC+/gwPK1uFVBDNHOWJ1xrkimqtunKxKxf8p4/JXqh36v9EBnPzqiUx1DMBdTcmk+Rg99D1MOpEoNGFq23dHbAXTqyjmkyJqkmD7pfakcXsNeqQqGrgep7E8RtStnZuV0gJpEbV4l1upwW/O49uLJjL9iTh4P6wB9Xhr2L1mHS9nytAhRqUpe0xza1LFSy8PjXfFnADNElhZ4OHz045X0BN8ui96IFbsikZ6ZhYJqLMWFWcjMzEAGHUHiP6QfnCSR2LycttEyMpBdrZHxxBTMQXkyM9Mh8R+Kfo4UNNCqG9qbpCHq1l0kPojHg9SHqNBzRrdP52HyAHtok9XNuKUPTNOv40ZCDvKzM2nt5ojOQ4fCPf867qcm4W66EYJeDQR3gAZP3xZOmvcRcTMZWVlJSIi7hwdJqcjQ7ohBvexIDeeSBgwdWyD39C4ER2ghoKePzBukLkq0FRy9cRqWX9LHa5O/ocFLFaiTtA2hEbUfF3TexYT36ci26mUP39gCZSHBuNPyU3ze16aaFiqQrOrx+1di9baziKVgkoKEODp6RguChAPYsF3+nh5aGIRh0+rtOBObi8r8BMSlFUDg2hqO9fyOhff3YNUqWb44xDxIQpZeS3jZ6EKDpwd7Egjlt0NoYtqLnQdO07bnRRzbF4xrZV7o1sGeTtLgQ1sUjRMXo3Dt4BbsvqmPdr18YUVuNBb8WJy/FIaQ4C3YvHU/rom6YXTfApy9kIKshHhkCO3gqXcOaxXVb8tH6ok/sHLTcdzOLkdhYhxSC3Tg4u1I5+SS4L+zH3tDUylAKw0Fem4UmcwFl9VL1Cfq0qYDZ41r2L5NjTIpMK1tl65oKYzC5bPHcGBnME5dvYaLx/YiOLQS7t3aw1EuwKRezdI/NfSbQ5/oPFvcB1991LbmTGvuIU/HDEZp53A+7AIO7ziAs0lm6DOyHVIOU8R7ViqyJc1hErcDf9VrV2funGCBoVrY+rX1QzuXUkRfIgv3/p04cPoKrl08ir3BYSh3p/HkwB1f1DCV3z+EQzF0gs3tfdi0eTeOnD6M4DN58P7sJ3zelfz0pAyo0zdo8astQuzxC7hNB/Fv23sL2u16wdeK/NGpDAE5UUcFh0AwbCI+aG1UTQsFCJqXIuTQfbh+/Dn6ykfXUw5de3+4KGkTJwtH+CnhOYB/AX+v2oQTt3JQXpiIuFQaFy7e0sBVSUk0Du0JRVrKfaQW6sPV20Hhmcz1edJy4iF8x1a1ynRr2wVdWza9TSApwp2DuxGWV4B753djV/BJnDx8AOfz2uCjqV+inx0dTUiYNrlfxcUgISkHum5esKVoMZ6evRL8OsLu7masUndMOhpDr55s8PfIQPDazU8Eq7b6kXScFZ0Qcod2CQtScffaIWw7mA2fsd9jGGmmfKW8dIOq9xuODTo2y9wQqRfOIOLiQew4cB4PTPrT6REJOBJC80haDiR23rCkxd6ffx5FTH4ZCtJjce3wNhzMCMTYSUNIKW1Yquo2s4OPJ/ma11vgCh8cwB+rtuDkbQpSLSAZn5yBUht3aIesoTniFO7Q4pSbI1LzdeES0B5B/sbIiDiMPfsjSPbSswcXsWfbDZi/PQXjuKAtvg7MDFNw8VwoQg5vx/5zKTDpMxId6LSJEPquQWoOD7Y+HrCic/frytVqma/gFBC+oRHyTgcjVNgWr3WhYw/V6qPEr4ctbL39YZoRidCLJH+37cDu3YcQbfMRxneKxcFLqfQ9gyRa0NvDp3Ur+PqZICPyKi6d3IttO+hLwgdjYf3+eHSiD5RdSUlFfCJhZNcK2hf+aDB/6mUewfrNaswJ3DxjV4E7p48h/F4YTuzZgi0b6djL6n+bg6+j2LkjfK2rDhTgxGRN4tFO9e2D2HkuERru/dDPh847J1/fVv6W5K73N7aH56Gs4C7O0m5ElMtYTH3XU3GMiTAOB1avxPbT95BXQcfsxaXjoa4dmkVtxOqtJ6VzZf6De0h9qA2n1g3PhhYmH8Vfaso/1bLKEPr2gfDRTcINmiOD9x/BhfAIXD5FusJpOgq0UxvYOSuT14EwvL0Fa5owVmrwfMQL8+ULpG/yaGUhKffyJIUq5BGLekFeo22xkswUOhnMAi0s9Gq3a+XIF5flIquYBr9Z9XOybuZn5oPfzIKOOpHLSJfiikLkpKcjt1wLRs0sYWZCQTX1ZFpZ3Bb8NGktoi164+0P3sYbHZ2qPzpBH2SJu4h929Zj29k8uI/5FbPfdJALoqlbl6K/hAUppBxZwIb7IIks0Wq0PJdo0moO63oEi0qLyRONgreISDFt4VdWapJVgLMI1r0n0OaOpSGFRUDWQFqNVtC2oYa2PglFWSXVv6ISlAjp0HuyEkvzVdJSl06t0JUHgTAvTruLyMgElJp5oI23Pa2q5UAiekvS4nA/l6KH3exqPy7B8ZGfhoQH+fRxFmfY0wH5mlRfqVCT6KezI6leXYGw0fpFwmKUi2hBQHXxiNfySj4EehRAQqSLK0pQTq5DAkJDSP/rUkCewlSPNkM6B7upZYqKaTKmj63El1igVRtvONBXP+rDqLBuuikqIsFeagprBR8H4Kzu+Um0ACy3Qksn+iAIvxKl5B/Ep4mH2KU6KsiqU69d9QRVfV4dbGWR6XSYf/q9KKmVx8zdF172dOqLXPPVp11UnIl8LXOYiHOQGE8fCaJTz51btlB8ML+qvkGFi2n34V7cQ2jbu8JB/iB+4r8gNQtiM9u6wVDictomzoWWlbVChZWjV2WbNMYzWQVLyDmSr821IY2LcrlxIRailDakyChOfZN+dauxrg9QfZ70aQHX1DIbo09BXdJbdHzZvrHv4bfSD7BsUTeI6fg9A8d6eMreVadf8alfkQsMJ0NElWQ51dGt2ycaoa/JY7Le+DPReAT8G6GFhALKH1LfirlDHwWiWJsWLvD2dK6VPzI8Hvd9WTmy34o8JN5LhtC8JX30gz5Gwsk0kSZJIZK5PLIk8+m7AamxiIl9gGyRCWxdvegEAxPlW8kq2kxAfbGBzOFkN/kn1vRlUoIhoOBkYVmDOUIgkxukZCWSi11MUikpO63gQeO6jiwnHivyH+AeRXubuTnDkmSviE5DqNSkQUExLTzt6vmxfrs2ZiMi+ZB19Dt8+pcNpqydiAD9ahDV5Vcq59KRnJSNCgpKd21B7mtSvAXUfzmrPi2iZbKfxu/DjEQyOFTSx2Tc0IL7tgFHO82BmtxcySd9gOaUBvOnJslZNecZbW4neePfOJhkg0B/CnYzNYRWRQEyYs8h+FAkcmxHkgHqPTgrwoN4EXLyvX5bUps8uB2BmGwDuPj5wknZ/EJ4lnIO4Zrc+CUrO7W5iIIqtcklRUg81OoFtXOlrNtKfx9F/jU2fuQKFhUkIfpWNH1oinYVHGgBQwse+dNaGpXX1GZNHity9Tb10t2l6iMML4/C3FSEnlB+7mDwTSv/xv7LidDqtxTrxnmBd/MXjKbzdosdOmPQqLF4v72cv+UTqpcVwxBgCDAEuPN+qxTmEfjtz5GKP6zCYGIIPI8IVCRg53ff42LXJVg4pPoYzeeRTlU08fJxZeZ7mHZvCJb/OQrucjYu8mPBxanDMSu2Dxau+xa+ijx6VJXPnj91BGQKcyPmtade/0tTgZZVZ4yc0RkjyrJoi4tW2ZyzkPO7WLjpiwbnN780oDBGGQIMAYYAQ4AhoAwBLUe8MekDxMxcjn3+czBMwekjyl5/bp5V0jcWyDLPt3BGc85nk9MBZIkst0UlEujTOf0qP3Ime4f9/msIKNlg/ddo+k9WrKFDriDVh5bz9W3Qot7HTv6TTDOmGAIMgX8ZATEqaYLmNRKo+C8Tx6pnCChFQMtmAL6b0gUPr8bXBtUrfeM5fKjZHG17u0Nwdw8OxcqdCiEuxv3gJdjwsB+++7od6HAPlp5zBJhLxnPeQIw8hgBDgCHwKAhUpBzF2r8OUQDtbeRITODarjN6ffg5BjvL7wk/SsnsHYYAQ6BJCIge4ta+Nfj7aDx41rYw476qUl4EoXUPvDu8J1zrBdU3qWyW+akjIHPJYArzU4eaVcAQYAgwBBgCDAGGAEOAEKCANS7wvEEgPQPnuUVApjAzH+bntokYYQwBhgBDgCHAEGAI/KcQ0CBl+T/F0MvDDPNhfnnamnHKEGAIMAQYAgwBhgBDgCHwCAgwhfkRQGOvMAQYAgwBhgBDgCHAEGAIvDwIMIW5kbbOv7oCi/c9qPqUbCN52G2GAEOAIcAQYAgwBBgCDIH/PgJMYW6kjY19+8Dm7AzMD05hSnMjGLHbDAGGAEOAIcAQYAgwBF4GBJjC3FgrC1rizfH9UfD3FPwZWdpYLnafIcAQYAgwBBgCDAGGAEPgP44AU5iVNLCW3asY0bEAh1bsRwJ9hp0lhgBDgCHAEGAIMAQYAgyBlw+B5/dYOVE+EiJvIja1CNo2reDl6QhzgZx+zxMiLzYcYXezITZ2RGt/T1jryj+vREnKbUSkmiOwrTkKIi8iIq85WrcUoKBAAj6f8oqEEGlZw8XRmD7pHo97mSLwNSQQiQVo7uwAY74B3Pu0h+Hxvdgf+wa+9tJ5+XoI45ghwBBgCDAEGAIMAYbAS47Ac6kwi7JPYunMncj36I52dhWI3T0bi2faYuL6OehqCAgTD2PVyiNIEOtAoygJd+KyUGH1Kqb++i06N9OAMG4bFi3ahIsPSlHp9CVm3TqK+VvuQqgVgHHT2yPyj1U4+UAMgfsgvD9kEBydjCF5eB+hO//B5rNl8Br6Ob504BRmQMc+AI5ax3HlIvkye7tAm32+8iUfMox9hgBDgCHAEGAIMAReNgTkTLLPCeu8Itz44384I3gH4794GwNefx9fTp+Hz3yNoMkjGnmVyA07isTA77Bg0UL88vt6/DneH3oZR7E5JBciyiJweRtTl0xBd0OyJCfvx76S1/D9Dx+grYMVzD0H4+uJQ9Cc8kmM/NGnm61UCdZx7IaeHkaw6Pk9pn3SA/ayr8fq2sGtmQRZYVHIrXxOMGJkMAQYAgwBhgBDgCHAEGAIPDMEnj+FGZXIzy5CRdw+7Dh5B7mc77CmJXp8+ykC9OhaoonmA+dh7iBbCDhrL/1t7tcZ9hpi5MRnQcgp1Vzi68KAlF6JUVuMGP0agrqPwOwV46RlCJwH4I2WZKm+cQBhOeKq/OXxOH5KC/2H+4H07NpEbhkmOhLwCpKRI6y9za4YAgwBhgBDgCHAEGAIMAReDgSeQ5cMA/gOHwinGQewe9GX2LXEFHatvOHXaxje62tc9UlJUoqzLm3G7pPhiMsTQ89QE3mk5IrKKlGt/lLrVWnOnH+zJfcdSnklWLM5ug3xwz8LIrD3Ui66vmaOyjsHcMV8CGbZ1ltD8LSgw90SV5IqzxJDgCHAEGAIMAQYAgwBhsDLhkA97fA5YJ8sxqaBX2P5+uWY/Nkw9PQ2QsGt8ziwfBy+35FEWnEuLi8djU9+iYDF0GlY/OsSzP9+MFx15TXiunzIjM41dyV8mLYbhiDjCtw5cAapFfkIO3Af7oPbwqw+IpIS5JPZWqJtDH3yaWaJIcAQYAgwBBgCDAGGAEPg5UKgvnr473PPK0Hc8WNI1PVAl0Gf4LsFf2LzxsnoZlyJlKgUiLJPYf2xbBj1Go1B3saQmsjptIuKWtOyejzot8GgPpbgJezEzpDTOPKwK153V3AKBinT2SU8aFo5wYKzVLPEEGAIMAQYAgwBhgBDgCHwUiHw/CnMECLp3HHceMiF71UlvoEZjAQGaNXZBTyNKpILYm8iqVgEYcZVbPttK6LLeOQ1Ie80Iabj4eh9sRji2qJkRZKLhgBO/d6AMy8Hx37dBlGfXrDTqn0suxIVxCEmjwebQFcYNG7ElmVnvwwBhgBDgCHAEGAIMAQYAv8xBJ4/hbmyAFkZYfjjh5+wYstu7N/9D5bOWYvk7tPw4ysW0GjWGcN7mEMS+we+fvNtfPa/GDi/OwSO5C5REvYPftt6Czlxe/Dbz6txlhRd/oONmDdvKTaE5jbwQeZb9yArtQbpzgEY2tEMijwuiu9eQRrPFX2CrKus2f+xDsDYYQgwBBgCDAGGAEOAIcAQUI4Aj4ymknIvT8TvD1Ge8xk+FQvzkHL3Du4+yIbI2A4u3h5wNpad80aE0EdL8pPuIrHcCi2dzKHNr0RpCX10RMDjvkUCbUElyoR8+pv+kYW5opKO2qBTM3TlP3zC8UNH1KXv+Raz8ibg11FODc9YFufi7PSRWM7/Dmt+6tzQv/kZYsKqYggwBBgCDAGGAEOAIcAQeLYIuLuYSCt8Dk/JADQEdDKGVwf61wgo5E5h3MILrWWPKVBQV7eaFV3upgB60l+6JLOxppacsi17h/utzMC10Gbo/5V9Q2WZHgvv78aWux74YHF7pizL48auGQIMAYYAQ4AhwBBgCLxECDx/LhnPEPzSmH04bfw6ujZX4IxRFoVNy6/A8fPvMMBWgXPzM6STVcUQYAgwBBgCDAGGAEOAIfDvIfBcWpifKhwViTi19SIq7TRwdXMsAiaPgZGCYL6i6GuoHDQb47ubQVPB86dKIyucIcAQYAgwBBgCDAGGAEPguUHgpVOYRdmhOLDtL0Tz7ND1i9l404msxwoUYgO/jzCGayYFz56b1mOEMAQYAgwBhgBDgCHAEGAIPHUEnsugv6fONUUGVvIF7NSLpw40q4AhwBBgCDAEGAIMAYbAi4uALOjv5fRhZsryi9tzGeUMAYYAQ4AhwBBgCDAEnjECL6fC/IxBZtUxBBgCDAGGAEOAIcAQYAi8uAgwhfnFbTtGOUOAIcAQYAgwBBgCDAGGwDNAgCnMzwBkVgVDgCHAEGAIMAQYAgwBhsCLiwBTmF/ctmOUMwQYAgwBhgBDgCHAEGAIPAMEmML8DEBmVTAEGAIMAYYAQ4AhwBBgCLy4CDCF+cVtO0Y5Q4AhwBBgCDAEGAIMAYbAM0CAKczPAGRWBUOAIcAQYAgwBBgCDAGGwIuLAFOYX9y2Y5QzBBgCDAGGAEOAIcAQYAg8AwSYwvwMQGZVMAQYAgwBhgBDgCHAEGAIvLgIMIX5xW07RjlDgCHAEGAIMAQYAgwBhsAzQIApzM8AZFYFQ4AhwBBgCDAEGAIMAYbAi4uA5otL+stBubgsDQkPjeHQXA98XiWyQ/dh75lwRN16AJ33V2BBL4OG93qavBzgNMalKAc3Du/BydBI3I4X4PWFC/BGc35juf/V+6Lsaziw9zTCo24hXu8jLJ3fHWaSp0iSKAOh+/fhdHgkohON8P7yeehp/DQrfIq8PKuiX6D+9KwgUVgPyae8G4ew52QoIm/fB2/gYix63QpsklGI1jO/WWcueea1swoZAi8+AszCrKgNOcEftQ8rp32OkZ+tQEQJZSqNwIrPP8SX09fgUEwBKhW996TviVKwb+IHGDtyPLYlVUhL1zKyg7PZQ9xPzUBeWVWFiu49aVJqyuOJUCmu+eu5uhCLRNX08GFo44LmZXFITn+IEtnt54raamK0jNDCxQwF91OR/rC6QZ8qnQIY2zvDouAuUtPzUfaksBFX4kkV9VTZV7fwOv38BepP6vL3BPPVjjuAb2ADZ6sSPEgi+VT6nAqKJ8j7v1pUnT6qghIFc4mKN9hjhgBDoB4CL7zCLMqJwPHg/Th4Jg4FT0I+iwtxe8MkfDJxFULKXPHqh4PgrkOoabfCGx/0hVPxafz27ceYsu0uinn10HzSf2qawrtHDwR06wnfZlqARBPGbu3QqZ0rDGV1Kbone/aEf4UJOzDvk+H4alfKs1kwqEu/MA57532Md7/agyROa+ObwDkgCB09jNQt4V/LxzduhcCO7eBm+IysvHxTuAV2Qls3gyfDM68cCXtm4bN3v8GO5CcxAJ8MWY9TSoN+/gL1p8fhu8nv1h93JIuMnAPRqaM7jJtcGHuhKQg06KOqXq4/l6jKz54zBBgCDRB4Krtl4rIsJKZVwMzeBoZPeSe8PGEfVq+4iAKL4WjZyQVGggY8qn+DLMsZJ+Zg2sYEtPxsNWYMtod2jR6jB7tO72JC0CAM3jUNE9f8iEUWqzGtp9nT23KU6MFt6BTMVZ+Dp5qzIj0c1x48hLWRwdPj+VE4qEhFxNUE5NoZQ4/r0TVt9iiFsXeahoAQ6dcvk9uQG4z1uMH+4oP/3PbzpjXM08/Nxt3Tx7iRGprcR5+zuaQRtththsBzjcCTVZhF2bj690z8vDMGRcS2RMsJPb+cjm/62copnurhIcoLw64/NuBIWBwyCwF9C2s0t24B1y4j8ckAe0hit2HVjrsofBiDYipSIy8E635OhR6PBy3HofjqPXfolkZi7bTluJxXZfkSuI7AJ61DsXl/KO6ll0DT1BW9v5uLMZ6cCZlS/hWs/SMMonY/YeJAeWW56rH0fxI8zm98j6/CR2HB6r9xvf1EBOrLPZe/FBcjLT4ZBWR50dQQQ0S+DFrNXeFkRIqFuAjx4Ykw8vOEGadnCLMQ/yAPIj79IaoE39IJTsYCiEpTEH09FaYBbWH7OIuBarrky7MouIFL4fmwCAyCZzOOCKq6IA4RYTHI0rCGW+vWcOUs29WJp6kNPnRgYlCVV3ZfVJCAyFsFsAn0gaUsOy0+CpMicTPTFm0DLCGo1qMard+MvF7SY3DjgSF8Am1QEReCkDul0GvhAf/W9soXXjwBtKknaxsbQla9jDbZryg/BiEhtCugbwd3/9ZwrMcDl08Z77JyQNugJan3kVTEA59PGzSiCkj0WsDJVh+ivPtIyBaDryGBiPqJjZNtDd0VeTEIC49DjtgE9q394dlcl7BUnpqCK1eSWvQrqFJcloro8CgklprCtY0v3MzroUhtmR8XjrCYbPCsWqGNjwtquwWNtyrwYahFjdwAHyFEWtZwcTSGJj0rvh+OB8bEP9ffyDqdff8BcsWa0EAF9X0rODmZ1PYVJX1RyoaIXJOuhyEmkw+rlm3Q2tW05l2IS5AecxMP9H3QtkU57l26hNhifdi6B6C1g/IFX2P9XB66J9afZIWKy5F17zriNL3QzkWAnKhLCH0ghImjF9q420Cv/l5gRQ5iw8NxNxswdvRGgIc1dOXziIqRGn0dyaZt0c4iD1GXriPXsj06eZhULXaVYMf5usbcSIJe60DYVcQ2Pm7UGHc0KBCrCnsltICTI/E3cT02DUU6tmjl5QEHM04OySVl71M2UWE8Im/EIqVIBzatvOHpYAZteazkipJe8oTIi6X+TuCKjR3R2t8T1vLgqkNT/TJVtVf9/PS3Mrob66ONylcab/LPZHOJ2m1dTZ+4OAmREbeQVKgNa49AtHE0fL6MJwpwZLcYAk8KgSenMJMQyT71MxaQslxaTR2vIh6nls1F85bLMMKp3iSsjIOyaKz/4Qdsf0BzqrENWthpQZifgtjr8bjP74MPSWHmpV/BqXORNM1WJV7lA4SfpxcoidI64BNOYRaXIS8jFWmZNGlzD5Ln4oczchaw9HtILKz2vKTJPPfqDlwqNEePYe1gpkyg8i3R4a0uaPbdWey89gkCuzey9S+hSStiJ9asO4MHlaYIfHM4XulHijApzKL0Q1gy9zja/fo7PnDUgrg8B/ev7sSmTWeR02ooxo6tRMTyxdh4MQklkpb4aks72DaTo53jpylJeBe7F86vLs8Nn86MxJl5WxAr1Ib35C34OagUV9cvwfrbZgjo7A3j1H/w45IC+H3WuJnxAAAeq0lEQVQ5DxP7WKA0+hi27IiixUkpYtb9iK+3kFLfsi880nciODwDQu1OmLqxSmEui/kbcxbuQBjtMqD1NGzlFGYl9Xt9OhKWxzfi9P1iiGzfx6ToSGw6nkGYZCKrUAwdz4+xaMHbcFOwYBAV3MLxLTsQSQpsxe21mPr1elRoemPMrI9hKsVHjLLofzBl43GkklKSQ6svkW5rjPhlAd4lxUSaRJlKeLeuVcKkmSUoTr+JI6vX4EiCGCadP8R7/ZrBoYUOKnPvI3z7n/gnxBDdPhyDUQ6kMIsScGz17zgcD+hoFCA5Jg5ZlTboOX0ZJnQ0qTvxV1FDK4ebWDd7EXargyv3TpPol1XC/UrAtdXk3/fgbmkFSopJ+edZo8s3CzDpVRsp36LsS1i/dANuG7dDkLcRUjdPxK+/dcAXc8ejr2UxYk5swvab5ORfHol/pn6FrRWacOweAPHJDTj9QAyDwHcwvG8/ODqRwlyZiqNLZuNgxxVY+Z49BKIy5N6/jN2bNuBMrhcGfvEtPiKFWSU/5BCUfWUdlm64A6OAzvAxSsLmHxYjJ+AbzJvQFaLjP2P+X2cQT6v25u98j5iYdTiWKoEwJxNFIn24j/wVC4Y7NVzEcwsDRf3c4zPM/tKjGrgn3J9IOUs/sQzz1xxFbD4P5kPnonDPb1h5nqwElYUopWAJbZeB+HraZ+jZnGQoLTISj/6OlYcSIdbhoSglGvezRLDoPRO/ju9Ii+9y3N85Dws3htACCLD/bBaiT8/C1juV0GgzHZsXdUBFY9h93RLXV8zFX6fuo0hij7cnReFOI+Om8XE3Ft6yLlZyC5umKMGemzMao2VCb9hoZODs0hnYXuCDrm1tURm7A/MX34LZxI1Y0MWAsFDxvoCen16MGTtK4NmtLVpU3sGeeYsww2IyNswPgpECcSpMPIxVK48gQawDjaIk3InLQoXVq5j667fo3IwmBQqaVUqTjHfZr6r2UjTPcHw1Snd7SBT10VYD0f7hDmyXzhf15PukeegYsrTuXGKQgENL56nV1lJWyBgWunEJNt93QKf21iiN3IE1yxbDzMsH1gJa7OoH4KMJ78BdV8Y4+2UI/PcQeHIKM9mUo46G1yjLMqh44rs4dTkL7zrZqL0SFWWH4iLpvhJBW3y3Zj56UBS/KO0olv3vOAo8mkmtiNrtp2L132Uou/U/TPglFMVmb2DWgiGwI454AlNIXUL12mLihv34cN/HGPF7MpEkgZ7vSIwb0w8tQsfj878fysik3xLcv3wPFdp+aOtYbXGWe1r/UtexPZy1jyP6chyKe/hBX4HwJTMxAoaNw7eZNzBuny6ceg5AtxbcpFeCe8G7cK80Fw9PJOGtMc7QNnRHrwGdcPpIPgZ/PwZ9uVMdfloGh/nvY8rp+rU/wt8CNwypLm/qmUQE7/PBkO8no92RHUjXK8XN1eMw83wgpq/+Bu2MSIqL26FZyggsWPE/BPrOQFuJOTxaWyL4RhkcXvkAH7bSgcDcBe4tusJt0nAsvFNLk477R5izzBFTP5iLMNltZfU7vIYJS9ygO2oCDqaewjXLGVi53gm6kkxc/PULzDmxEWsv98eCrjWe27JSaQIDzN1bw5J/AwWOffDeh27QEVjAhQR3FuXi8ZJx5poNpq/cBGc9MXIu/IyvZp/ClrVX0X9+Z5iIClXwPht9LOTsWbRbYOE3FJ9+EY8rk45CZOSPXm0tpMqlwLU7OrvuwnmbSRj/NrUp9QlR2jUcS+qAcQuHwJ6aXpR5CNM/XYKTm0Mwsn1/WCqaMHV9MHL+cjiogyv53Ctvu3r01yJH2MTj0Knu+Oq33WhjIkFB5EbMmLIJ539fDl//uXhV/yZWT5yBs63nYc24ABhz3aIDKc0fLcCK5YHwm+kLiZknWlvtw41iZ/R+dwRa6WrBwsUdZt45uDk+GDyXXhjQ1VaKT9ndfdh3txRp+SeQ8OYotBQYo2Xv19Hx9GFkDvkRn7xCJyqobI+ZCEr7HZNmXYbXjNUYF2hEp8eI0N40EaMWLsfyAD8s6D8FS+x1MWriYaSfDoXFjD+x3onGdM5Z/PrVbJzYshaX+89FNwUak7iRfq5XjduT708CNO81CT87meLTsduQfnYH4j5dhK0TrSCozEf0nvn46c/9+GWeNZwXvwlHjWyEH0+F/4RFGEaGBOpgOD59DBaf3IKQD9vjdQttOA+diSUOszFy6jmkUnxH8eCp+L5tMLZn6qH8xu/4ftalRrD7Gwu+/xX2uiMw6aDycWOoZNzJuphS7I0rUXzjN6Xt+FOzVfjtrAE+2zgWPbm24vVHb5eZWCeg4BFut0LF+wuC4vDnb+chGLsFY3tUyY7Xejth9j8CUAkNEymquWFHkRj4HRa8SX2WFmYZR6fg8yVHsTlkBDoOMEf5dSU0NSyRFj2q2kuBACgOV0q3qJE+6t6iM9xovmgg301rZX/NXCJwQH8129qEw+HYXMzZrYnP1o5BP3OiuW87WGR9iKVRifAaOxrtaZfDmRskiuZBRbiwewyBFxABBaP1UbngQ9dAgQmQitPWbZpezjdygJ2eBDzhNSz8bCxm/L4DFwrb4sv5v2DG+y1JkSIXDEEzWFvbwMpUm7ZzaZxq6KGZlQ1s6J61meLtbrHlO5g7/T10plMJ7F6dh5WrVuArn+olsagEGSklkBjYgnb8VCeBOWxJBhcmZUHp2Qa0Ne/Srzeseam4cCWjKlguPwx7IpzRyUaCzOMHEM2dwkETQF7ESWT5voce1jIFjRwgGsFUNYGKclSVJ6GQHP8Ro/BaUA+8N/t3jHMKw8bDmdD26Q4vTiviEgU6ebWzIoNWFM7eq4CpRzsEOBmQRZQCexy84NvGB57khqBByxd9A5q46ydNPTQkXXH9E/ypDaj9jMhvQ9z8FbxDk5p0B5QWHG2H9IYVIZxyPwdCBbMc39QLgQGOMNSUQNPIEZ6+vmjjYQuZx4VEYoMew3vBmSuQlF2ztkPR20qM8pR45ApJAcy7oIJ3xa2r4z4EA+zFeHhmDyIKqpkXPsD5UBsMGehYY73k2wzG7DkDpcoyl4tv5o8gB2IkOx6Z5fVBk/9bPVwflX6uJonEDv0+HoI2xtTfuICt1u/iy0EWNO6u41hkAfJC1uFwOrnIdPeUKsvcOxom3mhvLSZr/jnanTCDR1t/OHGBCpp09KFXG/j6eMJWXwM6rq+iV3MxMi5eRhp3pAzvISL2RcKmkzU0Mo/gQHQVruLccJzKbov3elQdP6aSH9qav7ThEFJ1fNHdk5RljigJH8beHUB2L9w6d5e7Q93JENwwtuw1HL2ddaT5+OYdMaS3OVCWjPs51Pj1E2HQeD+vyvy0+hNf35icnci9osNofNiVlGVO8eAbw2PweHzqRztQd4Jxijsph2+L12fNwWBOWeaSpgV8g+zAl5BLF+2kyRJfz4AUPsAg4EOMHhCE7u/Px+/ftsDNDQdVYKcJPUMB9Q3l46bRcSc3oyjFno7qU9WOlQXZKBbGInj7KcTkEu/UPhbdOTxIXqjxPvkoIbu4HHHB23HiTq5UfvDNe+HbT31A00vDROU3HzgPcwdVLfC4+sz9OsOe3Oly4rOk7yulqWGJardXnVeV0q2sjyqRrzQCGs4l6rU1yBh2+0QkSnVaoDmNbWnSbAYPP0tpm5j5dEYXnyqjQR0+2B8Mgf8YAk3TZJUxL6GJ9a3XYH15D9Lk8on1u+LtLk0MjDMOwvi5o7Hk5424nBqLK/u5f2tI2fDBgC9+xKgg86oJRa4edS7FpAxbVK+C+Ua2cJT3pJCIIORcnTU4f0o1kgYfWjySupW0HcV5dSh5SdCiEzqYb8OuM1eR/lZzaJ0/gIzOn+O7ZoW4uuwM9l4fBd/25Qg/U4qgEV4wkBPmSopVg8iGWaTlSUzgaMmpE1UVCTOikUzzUUnE75g83gS6OtrQ0iK/YLEhnFwtYW+gnAoFeiyVrfiuovqrqKyug68NgVx1moYW4JY0BeT/LQdL1Stq/a8JbS25AukYNwtuxUXuByL6eWTeBfboM8QLW5Zews6QHLTva4aKu8cR5TIE0zgLTA2xPPAyQ7B1z0mEx5GPup4RtPKIcHJHqKjJo5gRxQjWvfvI9Eur1IKegBMB1YRIyNrp0woG2y6gXFiK9DjuNJR83Fj9PSYY60JHR4v8lbXJFaAlXDzsYCgHawMOtGnrtoM5tu05gyvpw9BC8yyCM7ph9ERDrLy6HOf3XsfHvm0hCjuFwqAx8KYddo4MVfw46GQiJkUEXlEo1kwej+06tNNBPGhri6Ht5AZPO64gShTLwCUNHQHIpbw60fFw5lxvqkRFVViD7EETfp9Sf6qmV1O3ygBQQxApJt6BpJhEVKBUWMUIj5eBK9t243hoHPLEBuQ7XgiKkECZgg5l5GBZs3iDMF0t7KpIUc5nDX1KLpRirwYt+r7vY4DDdOwnF5NxO+mEIDsPeAb0xpvv9oWJQA1e9Fpi+Ov2mLFvKxZ/sxVLTRzRyjOAXO7eRT+jRqwi1G2yLm3G7pPhiKPYFz1DTeQR7KKySsKYYmmU0qQYjKa0l7QEPf+m011dtXRI1pPvMqoUDVf12poPAxMd8G5FIzq7Ar7SxRq5t6UUg2/3GjpaKTCYyCplvwyB/xACT05hJlB0vT7GvGmaWLH+OG5lkB3TpQve+mIMukmj2pqAGlmMDD2GY/rfw5B/9yKOHzuBU2cvIT7nJvbOnAK91Sswgvx+n2gii2gzE4IjOxuFpDxKzTPKKqgsQFYpD9p2JtDhzFw1k7KCl7SdEdTWGHuOnEFomhe5YQjQZ7I9rARD4bdmLq7tvoos5xKc5/XDWIcnzJcCcqS35PQuSaVQOhkYtP8aCya2llrwG3ut8fvKAFDwllz9Cp4+s1uPzDtnfeo8HJ3WTsPpXSeR3LMv0snvOnCIRy1+tMWbd2kxxtEWuNmI+Zg21gMmmoW4NnM4IqLUZVE5ro9MfyPVSyiIUQQzuNvrQHRbRN3aFO2+WISJbVS7KdUpUqINh85tYbr3OM6EpcMv7wQkfWfAsbkGBvmvxtzQPbic6QDxBQF6f2FXo9Sp5IfOQ19CC1SJcSd8Pn8cOGPj85RU0t9kYslnmnNk1nGDj402xdBdwLJvZ+Kc5ceYQz7j3rQ7UHx1Kj64HttIyXJqEmcUUIldrZW6kQKfzG21aAE+X7ERva6cw7mQywgNC8elvZEIuVmEVfPd1OAFCBi7Eut6Xcb5cyG4ci0U10N24dalSBSsWop368taUS4uL/sCs863wAdzpmGsF/ndF1/C7A/CcaOaa75p+8ZpWvYW6k9LoryLTWwvqojfrGl0K2qRJylfyRjW5v334HNjLdZPnYOigf4wJrfJSzm9MWnuSOa3rAh/du8/iYCcNH0C/HEWqqBPMGf1DuzZuxPrFn+D/uTYJN02bULxwgd78fOUH7FgTxLNE93w5tjZ+P3vn/GqKblp8CiCO6V2L1tDoEtOAWRQEhY+5gcqDODsZ0OWq1hEZ3Eas/JUkXkL9yjQzDrARfH2nvzrnFtGF38KMrmLYzs34Zr1IARZ8ml7uy2GdDKAKGon9uy7AM3uHcgXV/7FZ3MtsHKDOQnYgpgopDd5vqTTIjgLbkUxyiW1UlpUmIy0p35Q9ePj81i8G/pj6CsW0EjchwOXT+Ok6BX0tJUbUpWZOPfPUaSZ9MGoN0hZlrYtKS1qmTfVw/WR6RcrUMTJtz7haizKbfuhv5sxrNzMaZ8gD7dvZSp0h6mPfn2jrY5LN/iRs2v80R3YdM0eb3SinSYNUwQM6QSTiuvYs2c/zmn1RCe5Tq+SH4EVXCxIDjy8jagM1eO0Po1P+2+V9DeVAGEKLl/MhVmvYQg0rkD2ubU4lmGGnh8NlCrLXHHiCgrWVKfc5wk7NWgpizuKo0kGaNl5CD7+bhFWbd6Eyd1oByElCimS5qr7QRnJ22Mp0GvVFYM+/oECK7diw+QuMJEkISq5dg6RQSfKPoX1x7Jh1Gs0BnmTssw9EAnr7EYooym5vvcWF7z3KO3VRLpl9D/NX4HzW5g5bxQCzfWgr2sM197jsGDRWHS3+hcmrKfJKCubIaAEAbnZXUmuZ/xIXBCL8LBQnNmyGLPm/YrfVizG3BmLcTyPR4GAHujkWmtWElh7gIxW0Mg/jF9+nI6FSxZjwazJmL4uGjk3V2LqxEmYtyddygE/aTvmTJyIiVP/QAR3Fp18IouhTZdX4cpPIot2AsprdT/5XFXXFPkcf4xOXdDwJD9gC7WCGXVb9oKPXgXu03EJ3gN9qiK0JQbwHEg+upJ72HVUH939Gh73LxJzagj59oo5v4/qRNfcBMndq7mr6J4sv9yvovL4Ft0wNEAAftJmLN8VCzqYoiqRApUacQXxnI81JR65afApODKV/PlKClPI4l9lije21AMX3HnkVALI6A5h5mVsWnMCmVSOhPwe5CdzRfVXlU68cBnJ8iSrvup+1f8Sef7lH3DXdLyVgOR2Wfp9ZBYXICUhB9x0KBZxJYkJp4aNyaP7HHbq8k5ZGyayoroMGAw3XiYOrjgMk77+MJEfURoaFJBG5OXfwc3kUpp70xC6ZQW2xtCqpM6X8YgWKalEa02D0hf51MD10einIFpOaedl0yfWq3wzuRMH8sPX489IL3w87R0KyOPDovPbCNCRIHXbMuyKLqrta2UpCL/6oPrDPeTFzoFfmoqEzFIUpiYgW7booi3x7j5kmY47iLut34BvtQuUnudg9LSoRMLuYxB09yUFphZalfyUN0eXoQHQ5SVgx//2ILqotreUpobhSkJ1Z60eD1z/U5TEjdzn8iru58+gP1HduVcO4jJ3ugyX6Li0G5uX46j+cPzwEe1c0PJFg/oUj9xkYm+mkIGgHOlhm7Biyx3y3ia/8pq+Q+8qkgeaVmphp864kdKnaNxxQ00d7NWgRZh4BidvPqyK++Aq1DREM3Kl0HUPgquhGrxUUEzBiZvI43zouUQy3sDcCAJ9DwS51c4hVQ+p3QlbLhXE3kRSMS1sM65i229bEV1G0qKyqhBlNLnJIkNlBTalvWreoQs16G6sjzYuX6k7KZhL1G3riuTdmDJxHVJaU+Bljy7wd2lWsyskTzq7Zgj8lxHgzwBmiCwt8HD46OeGT3FJIiJvJuBhTjKS4u8iNpaOf8sohYFLT3z403fk11br58fTt4WT5n1E3ExGVlYSEuLu0WdZU5Gh3RH9LI9h9d4YZFdPqjwxBYFkZiCTjpjyGdofrvV2mTXozM0WuSew7yBtwAX0gq+5Yo+V0uh1mPW/a9AcMAXf9KQAHXWQ0zaERtR+XNChj5+8T8e2VStWfGMLlIUE407LT/F5XxtpoJK0OPqK1oHVK7H99D3kVTxEfFw6HuraweT6eqzedhaxFARTkBBHJw5oQZBwABu2y9+js6K5s4vllbd65d2LSURiNn0YxYvOeOXrwd7PBeW3Q2iC2YudB07T9uVFHNsXjGtlXujWwR6cGzNfW4TY4xdw++oBbNt7C9rtCCNLXRiRhfAebXlev0D3N2/FvjAJgka9gpKz55GalYD7GZWw9dTGpbW1/MjXr5l6FH+t2oQTt0jRLUxEXGoBBC7e0mAySUk0Du0JRVrKfaQW6sPV26HmbOMa2MnvWXznKEKiruDQtn24ruUMzfCt2Hb8NnLKC5B4Pw0PtV3g7WRIwVFFiD24C9dSU3E/pQi6Lduhaxc3lbzX1FXvQkO/OfTv7MfZ4j746qO2VWdqy/Jo6MDMMAUXz4Ui5PB27D+XApM+I9Eh+QBCkrORmsODpXEsdq/djjOxuajMT0BcGvHuSudE62vBUB1c/QLh305128lIkv7ySsnqexjRGjzEBG/A5t1HcfpoME5n++PTaZ+iW7VPIk/PHn4upYi+RNbz/Ttx4PQVXLt4FHuDw1Du3g3tHSjok8eHtigaJy5G4drBLdh9Ux/tevmSuxGnOelQW91A8EVDDBtPW7rc6StcogBB87LzOHSXlPPPe6OF/ADiqeqLDrBw8IeLMAqXzx7DgZ0UDHf1Gi4e24vg0Eq4d/OD5qW1WLnpOG5nl6MwMQ6pBTpw8abAUL4EJdRWe0NTKYg0DQV6btQnuEDWuql+P9fxb4Wc4D+w+djT60+S4tvUz8PwsOAOLtDuXPCJEzh08AJyPMZg2tevwIGOkOMCJXTMDZF64QwiLh7EjgPn8cCkP522koAjIST/0nIgsXOHzuW1WCOTEXExSEjKga6bF2x1KTDbvnHsPDrZIHbbSmxSh083bziSX3udcacTCM/svfhzsxrY67ZC2y5d0bLRdgyE4e0tWPPnUcTkl6EgPRbXDm/DwYxAjJ00BK30lfPi3q097EqvYvuaP3HkDu0+FqTi7rVD2HYwGz5jv8cw0m7lxSPXA3g6ZjBKO4fzYRdweMcBnE0yQ5+R7ZBy+CJSslKRTYGQdsXHsW5tYzTVL1Gd9moDD0vys5frgqLsyyrpbtBH/ZyRvOcP7KieL+Tlq16lgrlESx/ZJ/5Wu63tK2/jzPEwxEUcw95tG7Fp44bqf5txIKIczh19YaPN9VGWGAL/PQTMly+QMsWFrUnKvTwRvz/k+eOSrF6l2WlIeSgm5cEa5hS9XX9ykxEtrihETno6csu1YNTMEmYmenWCx2T5VP6WxWLHtAlYe8cGXd/5AO8M7Ajn6iMXREVxuLR/CzZuPYtMz7H4ZdZgOMtP9ioKFxakkNC1gA19kKQm0ekY5blEt1ZzWMuOduAecrxTYBo0KdCKTxZIIfmWkmKoTVYlITmhaFFknJi2CysrNcmKWUH2pbr3BHqCupbv6vI0qDy+tLxKshhSYI+uHKaUpzjtLiIjyVJs5oE23vZoJh+BR2SJyZJ4L+4htO1d4SD3WUWx8CHSHiQiT9MGLvbm0NUk+kuE4Aso4l5Iv0RPBfGjsH7iqaScPvihTbRxlrJyyqetD22uscVClJK5mIzbqCDLpRbRq3AZQx+JSY+jD4PoOMDNXh8Sio4X04dWtKgMkbBcip00wI3wFpaU004FFUh0QaBXVY8avHPNoiiJiuisb/roh7WF4tNZKvIf4B5FVZq5OcOS8BSVlqBSk+on33EeMcMZrzic+GQBqqDt9RreqTKVuOrqVeHRFPq5vJn50DQzgTj3/+2dTUhUURTH/zqZTmQqKjOZJTpqpoK1KLOF0AdEEEGLWuTXIhGiwEVt2tTCVdEiCQozNUKCIDAk+1xFBS4LLT8ySy2NUEsdR+fjDZ0ZeThPRxuD0TfTfxY+wfHec373vvPOve+cewbxdXgCSLAga+sSRQgUK370daLjywwSc3Yib1uCtvCDMLWNfEb/uBGpWbKo8w3Dl8Xe8CiQmBKv2ZFyO8YwMr4eJvMSfQagjzItTlBnp7wBScb2gnykSTUVz5RRHBIepMhCUlhHyD1idxlkmKO9nNxOm4QOyRsJuYsc8tPoTXpcPKqaeS6rW3uQ55Py8yHOlddh6sQNXDsgx3jNyKkjC1mqYjp/YbDvGxxJ2UiXY+QMcsLPjLJOtHFJ6Iwkzbpm4TB47MacjVBcsjMdY9SMmV92wnzFemruuzgY7Ctn71cWj65y709I0nd37wBGlXhsycxDbsZ8YRsVx5L/77Gtv8VedfdIQSHJqUmVRXNuhnZ+qo2oVzkXe2LoEwbtJmSnJ4lt8NgxRe7PCJlXcuKT5ApOBSCT2pz3+pfxMnqMlO8nQLkXzlHP88KvfZVxXfwskeeGGJ7AbGQ0HP0v0Hy3DUPmQuxKS0JCbBSckyPofdOKZx2/YS69g7qytH9KxvdVnb+TgB4J5FjivWLp22FeK3JOObrq/k00PWrHQMxRXG2sRkHEO9SevoCntgwUHq/E2ZI9axJvvFZI2C8JkEDwCMw7zLfRUOmnqErwumbLJLA8Aetb1JRfRs+RW2ioytIsfGF9hUulNegqvo575/PnE56Xb5F/JYGQIqA6zH4360JKk2AIK6V8iypqUFRmw6iEB8gpa7IPn4mTVx6gKiVRW4I2GP2zTRIgARIgARLQAQFF3pAN2eQMbItZ6yyLbO5ZK6bdm5BflEZnWQdjRRGCS8A3dCq4PYVi61JMIynV7I3fhWEjNqfSWQ7FYaTMJKB7Aq65ZNe5JCzdS0sB/yMChuS9OLQjEn0tbeiVcuvqxz3Th8e1zRjffxHVhX6qsKpf5JUEwoQAQzLCZCCpBgmQQAgSkJjZ7y/r0dj2Gu1dY3DHZWP3vsOoOHMMFp9UhxDUjCKHEQFl8j1a65vwvD8KJnnLukEqq9qtTpiKS3DqoEWbYB5GelMVEvAQUEMy6DBzPpAACZAACZAACQREwC3Z127JwmY8Z0C4+KUwIKA6zJzzYTCYVIEESIAESIAEVoNApDjLjOVcDdLsQ28EOO/1NiKUhwRIgARIgARIgARIQFcEvDvM0R8+IvZJi64EozAkQAIkQAIkQAIkQAIkoAcC3hhmPQhCGUiABEiABEiABEiABEhAjwT+AGRB214/C9nIAAAAAElFTkSuQmCC)"
      ]
    },
    {
      "cell_type": "code",
      "metadata": {
        "colab": {
          "base_uri": "https://localhost:8080/"
        },
        "id": "vQT9B3y63L0p",
        "outputId": "d449508d-8af5-4926-f730-816b21122ad0"
      },
      "source": [
        "print( 15/4 )\n",
        "print( int( 15/4 ) )"
      ],
      "execution_count": null,
      "outputs": [
        {
          "output_type": "stream",
          "text": [
            "3.75\n",
            "3\n"
          ],
          "name": "stdout"
        }
      ]
    },
    {
      "cell_type": "code",
      "metadata": {
        "colab": {
          "base_uri": "https://localhost:8080/"
        },
        "id": "F6qms1x-3aRC",
        "outputId": "5b2c20f8-e1a5-460f-9d3f-e833e1f63f90"
      },
      "source": [
        "print( 15+4 )\n",
        "print( float( 15+4 ) )"
      ],
      "execution_count": null,
      "outputs": [
        {
          "output_type": "stream",
          "text": [
            "19\n",
            "19.0\n"
          ],
          "name": "stdout"
        }
      ]
    },
    {
      "cell_type": "code",
      "metadata": {
        "colab": {
          "base_uri": "https://localhost:8080/",
          "height": 175
        },
        "id": "0ZJc58k33fvX",
        "outputId": "67f984a6-69be-4214-daa8-6598a248c1fc"
      },
      "source": [
        "print( \"I own \" + 15 + \" apples.\" )"
      ],
      "execution_count": null,
      "outputs": [
        {
          "output_type": "error",
          "ename": "TypeError",
          "evalue": "ignored",
          "traceback": [
            "\u001b[0;31m---------------------------------------------------------------------------\u001b[0m",
            "\u001b[0;31mTypeError\u001b[0m                                 Traceback (most recent call last)",
            "\u001b[0;32m<ipython-input-12-59cc51cdb738>\u001b[0m in \u001b[0;36m<module>\u001b[0;34m()\u001b[0m\n\u001b[0;32m----> 1\u001b[0;31m \u001b[0mprint\u001b[0m\u001b[0;34m(\u001b[0m \u001b[0;34m\"I own \"\u001b[0m \u001b[0;34m+\u001b[0m \u001b[0;36m15\u001b[0m \u001b[0;34m+\u001b[0m \u001b[0;34m\" apples.\"\u001b[0m \u001b[0;34m)\u001b[0m\u001b[0;34m\u001b[0m\u001b[0;34m\u001b[0m\u001b[0m\n\u001b[0m",
            "\u001b[0;31mTypeError\u001b[0m: must be str, not int"
          ]
        }
      ]
    }
  ]
}