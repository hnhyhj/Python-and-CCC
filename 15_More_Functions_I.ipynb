{
  "nbformat": 4,
  "nbformat_minor": 0,
  "metadata": {
    "colab": {
      "name": "15 More Functions I.ipynb",
      "provenance": [],
      "authorship_tag": "ABX9TyMyX4aKl870p3Tt6+F2X4Q+",
      "include_colab_link": true
    },
    "kernelspec": {
      "name": "python3",
      "display_name": "Python 3"
    }
  },
  "cells": [
    {
      "cell_type": "markdown",
      "metadata": {
        "id": "view-in-github",
        "colab_type": "text"
      },
      "source": [
        "<a href=\"https://colab.research.google.com/github/hnhyhj/Python-and-CCC/blob/master/15_More_Functions_I.ipynb\" target=\"_parent\"><img src=\"https://colab.research.google.com/assets/colab-badge.svg\" alt=\"Open In Colab\"/></a>"
      ]
    },
    {
      "cell_type": "markdown",
      "metadata": {
        "id": "QMP9rR-mKsse"
      },
      "source": [
        "# **Chapter 15**\n",
        "# **More Functions I**"
      ]
    },
    {
      "cell_type": "markdown",
      "metadata": {
        "id": "42o7-vbmN5AT"
      },
      "source": [
        "## 15.1 Review of function def\n",
        "\n",
        "1. What is the point of coding functions?\n",
        "2. At what time does Python create a function?\n",
        "3. What does a function return if it has no return statement in it?\n",
        "4. When does the code nested inside the function definition statement run?\n",
        "5. What’s wrong with checking the types of objects passed into a function?"
      ]
    },
    {
      "cell_type": "markdown",
      "metadata": {
        "id": "6Kb2Jei8PqmJ"
      },
      "source": [
        "## 15.2 Lifetime and Scopes"
      ]
    },
    {
      "cell_type": "markdown",
      "metadata": {
        "id": "asOD_w5ePzZ0"
      },
      "source": [
        "## 15.3 Arguments\n"
      ]
    },
    {
      "cell_type": "markdown",
      "metadata": {
        "id": "_oJSUYJPP9ti"
      },
      "source": [
        "## 15.4 Advanced Topics"
      ]
    },
    {
      "cell_type": "code",
      "metadata": {
        "id": "Z-aMZcdwJv-s"
      },
      "source": [
        ""
      ],
      "execution_count": null,
      "outputs": []
    }
  ]
}