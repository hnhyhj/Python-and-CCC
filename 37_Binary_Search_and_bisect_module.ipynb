{
  "nbformat": 4,
  "nbformat_minor": 0,
  "metadata": {
    "colab": {
      "provenance": [],
      "authorship_tag": "ABX9TyOfxDUYU1tmCEtDf+oUvIrF",
      "include_colab_link": true
    },
    "kernelspec": {
      "name": "python3",
      "display_name": "Python 3"
    },
    "language_info": {
      "name": "python"
    }
  },
  "cells": [
    {
      "cell_type": "markdown",
      "metadata": {
        "id": "view-in-github",
        "colab_type": "text"
      },
      "source": [
        "<a href=\"https://colab.research.google.com/github/hnhyhj/Python-and-CCC/blob/master/37_Binary_Search_and_bisect_module.ipynb\" target=\"_parent\"><img src=\"https://colab.research.google.com/assets/colab-badge.svg\" alt=\"Open In Colab\"/></a>"
      ]
    },
    {
      "cell_type": "markdown",
      "source": [
        "#37 Binary Search and bisect module"
      ],
      "metadata": {
        "id": "mKUwT5rm_PYS"
      }
    },
    {
      "cell_type": "markdown",
      "source": [
        "## 37.1 Binary search"
      ],
      "metadata": {
        "id": "jEcSo_0ZAwaK"
      }
    },
    {
      "cell_type": "markdown",
      "source": [
        "##37.2 bisect — Array bisection algorithm\n",
        "\n",
        "This module provides support for maintaining a list in sorted order without having to sort the list after each insertion. For long lists of items with expensive comparison operations, this can be an improvement over the more common approach. The module is called bisect because it uses a basic bisection algorithm to do its work. The source code may be most useful as a working example of the algorithm (the boundary conditions are already right!).\n",
        "\n"
      ],
      "metadata": {
        "id": "bak_wVQ9_e56"
      }
    },
    {
      "cell_type": "markdown",
      "source": [
        "\n",
        "\n",
        "```\n",
        "bisect.bisect_left(a, x, lo=0, hi=len(a), *, key=None)\n",
        "```\n",
        "\n",
        "Locate the insertion point for x in a to maintain sorted order. The parameters lo and hi may be used to specify a subset of the list which should be considered; by default the entire list is used. If x is already present in a, the insertion point will be before (to the left of) any existing entries. The return value is suitable for use as the first parameter to list.insert() assuming that a is already sorted.\n",
        "\n",
        "The returned insertion point i partitions the array a into two halves so that `all(val < x for val in a[lo : i])` for the left side and `all(val >= x for val in a[i : hi])` for the right side.\n",
        "\n",
        "key specifies a key function of one argument that is used to extract a comparison key from each element in the array. To support searching complex records, the key function is not applied to the x value.\n",
        "\n",
        "If key is None, the elements are compared directly with no intervening function call.\n",
        "\n",
        "Changed in version 3.10: Added the key parameter.\n",
        "\n"
      ],
      "metadata": {
        "id": "rCktvI00_8DN"
      }
    },
    {
      "cell_type": "markdown",
      "source": [
        "\n",
        "\n",
        "```\n",
        "bisect.bisect_right(a, x, lo=0, hi=len(a), *, key=None)\n",
        "bisect.bisect(a, x, lo=0, hi=len(a), *, key=None)\n",
        "```\n",
        "\n",
        "Similar to bisect_left(), but returns an insertion point which comes after (to the right of) any existing entries of x in a.\n",
        "\n",
        "The returned insertion point i partitions the array a into two halves so that `all(val <= x for val in a[lo : i])` for the left side and `all(val > x for val in a[i : hi])` for the right side.\n",
        "\n",
        "key specifies a key function of one argument that is used to extract a comparison key from each element in the array. To support searching complex records, the key function is not applied to the x value.\n",
        "\n",
        "If key is None, the elements are compared directly with no intervening function call.\n",
        "\n",
        "Changed in version 3.10: Added the key parameter.\n"
      ],
      "metadata": {
        "id": "N3m9UtgCAVNb"
      }
    },
    {
      "cell_type": "code",
      "source": [
        "from bisect import bisect_left, bisect_right\n",
        "alist=[19,23,15,4,2,67,8,9,54,55,75,23,48,99]\n",
        "alist.sort()"
      ],
      "metadata": {
        "id": "N-19c-vauuzg"
      },
      "execution_count": 10,
      "outputs": []
    },
    {
      "cell_type": "code",
      "source": [
        "alist"
      ],
      "metadata": {
        "colab": {
          "base_uri": "https://localhost:8080/"
        },
        "id": "Jf5R-Ys5uwfQ",
        "outputId": "bdc470a7-b67f-411a-a10c-dd7927663b18"
      },
      "execution_count": 11,
      "outputs": [
        {
          "output_type": "execute_result",
          "data": {
            "text/plain": [
              "[2, 4, 8, 9, 15, 19, 23, 23, 48, 54, 55, 67, 75, 99]"
            ]
          },
          "metadata": {},
          "execution_count": 11
        }
      ]
    },
    {
      "cell_type": "code",
      "source": [
        "bisect_right(alist,55)"
      ],
      "metadata": {
        "id": "-RdfQk9FuyKB",
        "colab": {
          "base_uri": "https://localhost:8080/"
        },
        "outputId": "52bba746-981b-4356-a6cf-382a7ee956cd"
      },
      "execution_count": 12,
      "outputs": [
        {
          "output_type": "execute_result",
          "data": {
            "text/plain": [
              "11"
            ]
          },
          "metadata": {},
          "execution_count": 12
        }
      ]
    },
    {
      "cell_type": "code",
      "source": [
        "bisect_left(alist,55)"
      ],
      "metadata": {
        "colab": {
          "base_uri": "https://localhost:8080/"
        },
        "id": "kx486BRA8KzB",
        "outputId": "9103d21d-5d19-4334-9cca-fc0efe9b5531"
      },
      "execution_count": 13,
      "outputs": [
        {
          "output_type": "execute_result",
          "data": {
            "text/plain": [
              "10"
            ]
          },
          "metadata": {},
          "execution_count": 13
        }
      ]
    }
  ]
}