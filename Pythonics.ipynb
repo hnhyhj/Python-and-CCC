{
  "nbformat": 4,
  "nbformat_minor": 0,
  "metadata": {
    "colab": {
      "name": "Pythonics.ipynb",
      "provenance": [],
      "collapsed_sections": [],
      "authorship_tag": "ABX9TyMqGNbCqQ2YgmHB4F/EJvsq",
      "include_colab_link": true
    },
    "kernelspec": {
      "name": "python3",
      "display_name": "Python 3"
    },
    "language_info": {
      "name": "python"
    }
  },
  "cells": [
    {
      "cell_type": "markdown",
      "metadata": {
        "id": "view-in-github",
        "colab_type": "text"
      },
      "source": [
        "<a href=\"https://colab.research.google.com/github/hnhyhj/Python-and-CCC/blob/master/Pythonics.ipynb\" target=\"_parent\"><img src=\"https://colab.research.google.com/assets/colab-badge.svg\" alt=\"Open In Colab\"/></a>"
      ]
    },
    {
      "cell_type": "markdown",
      "metadata": {
        "id": "DwNFGgxTdWj4"
      },
      "source": [
        "### ListComp"
      ]
    },
    {
      "cell_type": "code",
      "metadata": {
        "id": "3-zoWkPTL_i8",
        "colab": {
          "base_uri": "https://localhost:8080/"
        },
        "outputId": "994a3051-ea56-48e5-93eb-1137e250e71b"
      },
      "source": [
        "from collections import defaultdict\n",
        "\n",
        "m = 3 # row\n",
        "n = 4 # column\n",
        "\n",
        "rooms1 = [[i*j for i in range(1, n+1)] for j in range(1, m+1)]\n",
        "rooms1"
      ],
      "execution_count": 5,
      "outputs": [
        {
          "output_type": "execute_result",
          "data": {
            "text/plain": [
              "[[1, 2, 3, 4], [2, 4, 6, 8], [3, 6, 9, 12]]"
            ]
          },
          "metadata": {
            "tags": []
          },
          "execution_count": 5
        }
      ]
    },
    {
      "cell_type": "code",
      "metadata": {
        "colab": {
          "base_uri": "https://localhost:8080/"
        },
        "id": "KmFeLo68cuer",
        "outputId": "639bfa91-ee2a-425c-de65-070050e94ca6"
      },
      "source": [
        "rooms2 = [i*j for i in range(1, m+1) for j in range(1, n+1)]\n",
        "rooms2"
      ],
      "execution_count": 7,
      "outputs": [
        {
          "output_type": "execute_result",
          "data": {
            "text/plain": [
              "[1, 2, 3, 4, 2, 4, 6, 8, 3, 6, 9, 12]"
            ]
          },
          "metadata": {
            "tags": []
          },
          "execution_count": 7
        }
      ]
    },
    {
      "cell_type": "code",
      "metadata": {
        "colab": {
          "base_uri": "https://localhost:8080/"
        },
        "id": "O7kbASZLcyCi",
        "outputId": "1b161c35-c607-43e4-dda9-0e6ddf819ba3"
      },
      "source": [
        "rooms3 = defaultdict(set)\n",
        "[rooms3[i*j].add((i,j)) for j in range(1, n+1) for i in range(1, m+1)]\n",
        "rooms3"
      ],
      "execution_count": 8,
      "outputs": [
        {
          "output_type": "execute_result",
          "data": {
            "text/plain": [
              "defaultdict(set,\n",
              "            {1: {(1, 1)},\n",
              "             2: {(1, 2), (2, 1)},\n",
              "             3: {(1, 3), (3, 1)},\n",
              "             4: {(1, 4), (2, 2)},\n",
              "             6: {(2, 3), (3, 2)},\n",
              "             8: {(2, 4)},\n",
              "             9: {(3, 3)},\n",
              "             12: {(3, 4)}})"
            ]
          },
          "metadata": {
            "tags": []
          },
          "execution_count": 8
        }
      ]
    },
    {
      "cell_type": "markdown",
      "metadata": {
        "id": "dIXbjCoFdf8G"
      },
      "source": [
        "### Binary"
      ]
    },
    {
      "cell_type": "code",
      "metadata": {
        "colab": {
          "base_uri": "https://localhost:8080/"
        },
        "id": "TlLMQlATBwg-",
        "outputId": "b1d7c7e6-e2bd-4d5d-cd9d-eb7008e8136f"
      },
      "source": [
        "int(bin(8), 2)"
      ],
      "execution_count": null,
      "outputs": [
        {
          "output_type": "execute_result",
          "data": {
            "text/plain": [
              "8"
            ]
          },
          "metadata": {
            "tags": []
          },
          "execution_count": 14
        }
      ]
    },
    {
      "cell_type": "code",
      "metadata": {
        "colab": {
          "base_uri": "https://localhost:8080/"
        },
        "id": "yMOIc0uaHmpE",
        "outputId": "8755ba90-d770-4cea-c602-e18e0f8256c3"
      },
      "source": [
        "print(bin(8)[2:])"
      ],
      "execution_count": null,
      "outputs": [
        {
          "output_type": "stream",
          "text": [
            "1000\n"
          ],
          "name": "stdout"
        }
      ]
    },
    {
      "cell_type": "markdown",
      "metadata": {
        "id": "_mBfOJVOdsd5"
      },
      "source": [
        "### zip and map"
      ]
    },
    {
      "cell_type": "code",
      "metadata": {
        "id": "mC9AVLYIcmCF",
        "colab": {
          "base_uri": "https://localhost:8080/"
        },
        "outputId": "86f5d9e3-2507-4d32-faa9-e33d3d996a84"
      },
      "source": [
        "L1 = list(range(1,11))\n",
        "L2 = list(range(10,0,-1))\n",
        "print(L1)\n",
        "print(L2)"
      ],
      "execution_count": 16,
      "outputs": [
        {
          "output_type": "stream",
          "text": [
            "[1, 2, 3, 4, 5, 6, 7, 8, 9, 10]\n",
            "[10, 9, 8, 7, 6, 5, 4, 3, 2, 1]\n"
          ],
          "name": "stdout"
        }
      ]
    },
    {
      "cell_type": "code",
      "metadata": {
        "id": "uHvmVf_ERUjE"
      },
      "source": [
        "alist = list(map(list, zip(L1, L2)))"
      ],
      "execution_count": 12,
      "outputs": []
    },
    {
      "cell_type": "code",
      "metadata": {
        "colab": {
          "base_uri": "https://localhost:8080/"
        },
        "id": "iUHefVY6d9_L",
        "outputId": "bb29f110-76c9-44e2-b284-910932844f57"
      },
      "source": [
        "for item in list(map(list, zip(*alist))):\n",
        "    print(item)"
      ],
      "execution_count": 17,
      "outputs": [
        {
          "output_type": "stream",
          "text": [
            "[1, 2, 3, 4, 5, 6, 7, 8, 9, 10]\n",
            "[10, 9, 8, 7, 6, 5, 4, 3, 2, 1]\n"
          ],
          "name": "stdout"
        }
      ]
    },
    {
      "cell_type": "markdown",
      "metadata": {
        "id": "-ImidWEge4-r"
      },
      "source": [
        "### List: '+' vs 'extend'"
      ]
    },
    {
      "cell_type": "code",
      "metadata": {
        "colab": {
          "base_uri": "https://localhost:8080/"
        },
        "id": "dyqMym5be_7-",
        "outputId": "bbabf9ca-7f14-44d4-c5bb-aae388973453"
      },
      "source": [
        "from time import time\n",
        "\n",
        "t1 = time()\n",
        "aL = []\n",
        "for i in range(10**4):\n",
        "    # aL += L1\n",
        "    aL = aL + L1 # slow\n",
        "t2 = time()\n",
        "\n",
        "print(t2-t1)"
      ],
      "execution_count": 31,
      "outputs": [
        {
          "output_type": "stream",
          "text": [
            "1.6021182537078857\n"
          ],
          "name": "stdout"
        }
      ]
    },
    {
      "cell_type": "code",
      "metadata": {
        "colab": {
          "base_uri": "https://localhost:8080/"
        },
        "id": "Z31yG_tQgeat",
        "outputId": "acfaf257-1f5f-400c-ecb0-18fe41897246"
      },
      "source": [
        "t1 = time()\n",
        "aL = []\n",
        "for i in range(10**4):\n",
        "    aL.extend(L1)\n",
        "t2 = time()\n",
        "\n",
        "print(t2-t1)"
      ],
      "execution_count": 30,
      "outputs": [
        {
          "output_type": "stream",
          "text": [
            "0.004256248474121094\n"
          ],
          "name": "stdout"
        }
      ]
    }
  ]
}