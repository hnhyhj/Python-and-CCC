{
  "nbformat": 4,
  "nbformat_minor": 0,
  "metadata": {
    "colab": {
      "name": "Pythonics.ipynb",
      "provenance": [],
      "collapsed_sections": [],
      "authorship_tag": "ABX9TyMfybVOMRAJV7VxEUMmS+C1",
      "include_colab_link": true
    },
    "kernelspec": {
      "name": "python3",
      "display_name": "Python 3"
    },
    "language_info": {
      "name": "python"
    }
  },
  "cells": [
    {
      "cell_type": "markdown",
      "metadata": {
        "id": "view-in-github",
        "colab_type": "text"
      },
      "source": [
        "<a href=\"https://colab.research.google.com/github/hnhyhj/Python-and-CCC/blob/master/Pythonics.ipynb\" target=\"_parent\"><img src=\"https://colab.research.google.com/assets/colab-badge.svg\" alt=\"Open In Colab\"/></a>"
      ]
    },
    {
      "cell_type": "markdown",
      "metadata": {
        "id": "DwNFGgxTdWj4"
      },
      "source": [
        "### ListComp"
      ]
    },
    {
      "cell_type": "code",
      "metadata": {
        "id": "3-zoWkPTL_i8",
        "colab": {
          "base_uri": "https://localhost:8080/"
        },
        "outputId": "29dc8066-8667-45e6-d57f-d378106a6523"
      },
      "source": [
        "from collections import defaultdict\n",
        "\n",
        "m = 1000 # row\n",
        "n = 1000 # column\n",
        "t1 = time()\n",
        "rooms1 = [[i*j for i in range(1, n+1)] for j in range(1, m+1)]\n",
        "# rooms1\n",
        "t2 = time()\n",
        "print(t2-t1)"
      ],
      "execution_count": 35,
      "outputs": [
        {
          "output_type": "stream",
          "text": [
            "0.12730908393859863\n"
          ],
          "name": "stdout"
        }
      ]
    },
    {
      "cell_type": "code",
      "metadata": {
        "colab": {
          "base_uri": "https://localhost:8080/"
        },
        "id": "KmFeLo68cuer",
        "outputId": "5c1d0bfb-7039-413e-8f49-ef7bc26154c5"
      },
      "source": [
        "t1 = time()\n",
        "rooms2 = [i*j for i in range(1, m+1) for j in range(1, n+1)]\n",
        "# rooms2\n",
        "t2 = time()\n",
        "print(t2-t1)"
      ],
      "execution_count": 36,
      "outputs": [
        {
          "output_type": "stream",
          "text": [
            "0.10398721694946289\n"
          ],
          "name": "stdout"
        }
      ]
    },
    {
      "cell_type": "code",
      "metadata": {
        "colab": {
          "base_uri": "https://localhost:8080/"
        },
        "id": "O7kbASZLcyCi",
        "outputId": "68459e34-ba22-4455-a5ac-4d27efbb95a0"
      },
      "source": [
        "t1 = time()\n",
        "rooms3 = defaultdict(set)\n",
        "[rooms3[i*j].add((i,j)) for j in range(1, n+1) for i in range(1, m+1)]\n",
        "rooms3\n",
        "t2 = time()\n",
        "print(t2-t1)"
      ],
      "execution_count": 30,
      "outputs": [
        {
          "output_type": "stream",
          "text": [
            "1.5908167362213135\n"
          ],
          "name": "stdout"
        }
      ]
    },
    {
      "cell_type": "code",
      "metadata": {
        "colab": {
          "base_uri": "https://localhost:8080/"
        },
        "id": "_kuMHEFX_hCc",
        "outputId": "1d62402d-ecd1-473c-937a-daa1ee0a3dda"
      },
      "source": [
        "t1 = time()\n",
        "rooms4 = defaultdict(set)\n",
        "for i in range(1, m+1):\n",
        "    for j in range(1, n+1):\n",
        "        rooms4[i*j].add((i,j))\n",
        "t2 = time()\n",
        "print(t2-t1)\n"
      ],
      "execution_count": 29,
      "outputs": [
        {
          "output_type": "stream",
          "text": [
            "1.6194348335266113\n"
          ],
          "name": "stdout"
        }
      ]
    },
    {
      "cell_type": "markdown",
      "metadata": {
        "id": "dIXbjCoFdf8G"
      },
      "source": [
        "### Binary"
      ]
    },
    {
      "cell_type": "code",
      "metadata": {
        "colab": {
          "base_uri": "https://localhost:8080/"
        },
        "id": "TlLMQlATBwg-",
        "outputId": "b1d7c7e6-e2bd-4d5d-cd9d-eb7008e8136f"
      },
      "source": [
        "int(bin(8), 2)"
      ],
      "execution_count": null,
      "outputs": [
        {
          "output_type": "execute_result",
          "data": {
            "text/plain": [
              "8"
            ]
          },
          "metadata": {
            "tags": []
          },
          "execution_count": 14
        }
      ]
    },
    {
      "cell_type": "code",
      "metadata": {
        "colab": {
          "base_uri": "https://localhost:8080/"
        },
        "id": "yMOIc0uaHmpE",
        "outputId": "8755ba90-d770-4cea-c602-e18e0f8256c3"
      },
      "source": [
        "print(bin(8)[2:])"
      ],
      "execution_count": null,
      "outputs": [
        {
          "output_type": "stream",
          "text": [
            "1000\n"
          ],
          "name": "stdout"
        }
      ]
    },
    {
      "cell_type": "markdown",
      "metadata": {
        "id": "_mBfOJVOdsd5"
      },
      "source": [
        "### zip and map"
      ]
    },
    {
      "cell_type": "code",
      "metadata": {
        "id": "mC9AVLYIcmCF",
        "colab": {
          "base_uri": "https://localhost:8080/"
        },
        "outputId": "128aa461-d957-42c3-9953-07949fef606b"
      },
      "source": [
        "L1 = list(range(1,11))\n",
        "L2 = list(range(10,0,-1))\n",
        "print(L1)\n",
        "print(L2)"
      ],
      "execution_count": 2,
      "outputs": [
        {
          "output_type": "stream",
          "text": [
            "[1, 2, 3, 4, 5, 6, 7, 8, 9, 10]\n",
            "[10, 9, 8, 7, 6, 5, 4, 3, 2, 1]\n"
          ],
          "name": "stdout"
        }
      ]
    },
    {
      "cell_type": "code",
      "metadata": {
        "id": "uHvmVf_ERUjE"
      },
      "source": [
        "alist = list(map(list, zip(L1, L2)))"
      ],
      "execution_count": 12,
      "outputs": []
    },
    {
      "cell_type": "code",
      "metadata": {
        "colab": {
          "base_uri": "https://localhost:8080/"
        },
        "id": "iUHefVY6d9_L",
        "outputId": "bb29f110-76c9-44e2-b284-910932844f57"
      },
      "source": [
        "for item in list(map(list, zip(*alist))):\n",
        "    print(item)"
      ],
      "execution_count": 17,
      "outputs": [
        {
          "output_type": "stream",
          "text": [
            "[1, 2, 3, 4, 5, 6, 7, 8, 9, 10]\n",
            "[10, 9, 8, 7, 6, 5, 4, 3, 2, 1]\n"
          ],
          "name": "stdout"
        }
      ]
    },
    {
      "cell_type": "markdown",
      "metadata": {
        "id": "-ImidWEge4-r"
      },
      "source": [
        "### List: '+' vs 'extend'"
      ]
    },
    {
      "cell_type": "code",
      "metadata": {
        "colab": {
          "base_uri": "https://localhost:8080/"
        },
        "id": "dyqMym5be_7-",
        "outputId": "2791f11f-0c61-458a-82d4-1cfd6f34726d"
      },
      "source": [
        "from time import time\n",
        "\n",
        "t1 = time()\n",
        "aL = []\n",
        "for i in range(10**4):\n",
        "    # aL += L1\n",
        "    aL = aL + L1 # slow\n",
        "t2 = time()\n",
        "\n",
        "print(t2-t1)"
      ],
      "execution_count": 10,
      "outputs": [
        {
          "output_type": "stream",
          "text": [
            "0.0025103092193603516\n"
          ],
          "name": "stdout"
        }
      ]
    },
    {
      "cell_type": "code",
      "metadata": {
        "colab": {
          "base_uri": "https://localhost:8080/"
        },
        "id": "Z31yG_tQgeat",
        "outputId": "6426e538-f38b-4c03-c5e5-3e190c25e4c5"
      },
      "source": [
        "t1 = time()\n",
        "aL = []\n",
        "for i in range(10**4):\n",
        "    # aL.extend(L1)\n",
        "    for item in L1:\n",
        "      aL.append(item)\n",
        "t2 = time()\n",
        "\n",
        "print(t2-t1)"
      ],
      "execution_count": 13,
      "outputs": [
        {
          "output_type": "stream",
          "text": [
            "0.017980575561523438\n"
          ],
          "name": "stdout"
        }
      ]
    }
  ]
}