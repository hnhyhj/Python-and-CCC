{
  "nbformat": 4,
  "nbformat_minor": 0,
  "metadata": {
    "colab": {
      "name": "Pythonics.ipynb",
      "provenance": [],
      "collapsed_sections": [],
      "authorship_tag": "ABX9TyP7Pwc77SDVdNTqU/wQU+vR",
      "include_colab_link": true
    },
    "kernelspec": {
      "name": "python3",
      "display_name": "Python 3"
    },
    "language_info": {
      "name": "python"
    }
  },
  "cells": [
    {
      "cell_type": "markdown",
      "metadata": {
        "id": "view-in-github",
        "colab_type": "text"
      },
      "source": [
        "<a href=\"https://colab.research.google.com/github/hnhyhj/Python-and-CCC/blob/master/Pythonics.ipynb\" target=\"_parent\"><img src=\"https://colab.research.google.com/assets/colab-badge.svg\" alt=\"Open In Colab\"/></a>"
      ]
    },
    {
      "cell_type": "markdown",
      "metadata": {
        "id": "DwNFGgxTdWj4"
      },
      "source": [
        "### ListComp"
      ]
    },
    {
      "cell_type": "code",
      "metadata": {
        "id": "3-zoWkPTL_i8",
        "colab": {
          "base_uri": "https://localhost:8080/"
        },
        "outputId": "994a3051-ea56-48e5-93eb-1137e250e71b"
      },
      "source": [
        "from collections import defaultdict\n",
        "\n",
        "m = 3 # row\n",
        "n = 4 # column\n",
        "\n",
        "rooms1 = [[i*j for i in range(1, n+1)] for j in range(1, m+1)]\n",
        "rooms1"
      ],
      "execution_count": 5,
      "outputs": [
        {
          "output_type": "execute_result",
          "data": {
            "text/plain": [
              "[[1, 2, 3, 4], [2, 4, 6, 8], [3, 6, 9, 12]]"
            ]
          },
          "metadata": {
            "tags": []
          },
          "execution_count": 5
        }
      ]
    },
    {
      "cell_type": "code",
      "metadata": {
        "colab": {
          "base_uri": "https://localhost:8080/"
        },
        "id": "KmFeLo68cuer",
        "outputId": "639bfa91-ee2a-425c-de65-070050e94ca6"
      },
      "source": [
        "rooms2 = [i*j for i in range(1, m+1) for j in range(1, n+1)]\n",
        "rooms2"
      ],
      "execution_count": 7,
      "outputs": [
        {
          "output_type": "execute_result",
          "data": {
            "text/plain": [
              "[1, 2, 3, 4, 2, 4, 6, 8, 3, 6, 9, 12]"
            ]
          },
          "metadata": {
            "tags": []
          },
          "execution_count": 7
        }
      ]
    },
    {
      "cell_type": "code",
      "metadata": {
        "colab": {
          "base_uri": "https://localhost:8080/"
        },
        "id": "O7kbASZLcyCi",
        "outputId": "1b161c35-c607-43e4-dda9-0e6ddf819ba3"
      },
      "source": [
        "rooms3 = defaultdict(set)\n",
        "[rooms3[i*j].add((i,j)) for j in range(1, n+1) for i in range(1, m+1)]\n",
        "rooms3"
      ],
      "execution_count": 8,
      "outputs": [
        {
          "output_type": "execute_result",
          "data": {
            "text/plain": [
              "defaultdict(set,\n",
              "            {1: {(1, 1)},\n",
              "             2: {(1, 2), (2, 1)},\n",
              "             3: {(1, 3), (3, 1)},\n",
              "             4: {(1, 4), (2, 2)},\n",
              "             6: {(2, 3), (3, 2)},\n",
              "             8: {(2, 4)},\n",
              "             9: {(3, 3)},\n",
              "             12: {(3, 4)}})"
            ]
          },
          "metadata": {
            "tags": []
          },
          "execution_count": 8
        }
      ]
    },
    {
      "cell_type": "markdown",
      "metadata": {
        "id": "dIXbjCoFdf8G"
      },
      "source": [
        "### Binary"
      ]
    },
    {
      "cell_type": "code",
      "metadata": {
        "colab": {
          "base_uri": "https://localhost:8080/"
        },
        "id": "TlLMQlATBwg-",
        "outputId": "b1d7c7e6-e2bd-4d5d-cd9d-eb7008e8136f"
      },
      "source": [
        "int(bin(8), 2)"
      ],
      "execution_count": null,
      "outputs": [
        {
          "output_type": "execute_result",
          "data": {
            "text/plain": [
              "8"
            ]
          },
          "metadata": {
            "tags": []
          },
          "execution_count": 14
        }
      ]
    },
    {
      "cell_type": "code",
      "metadata": {
        "colab": {
          "base_uri": "https://localhost:8080/"
        },
        "id": "yMOIc0uaHmpE",
        "outputId": "8755ba90-d770-4cea-c602-e18e0f8256c3"
      },
      "source": [
        "print(bin(8)[2:])"
      ],
      "execution_count": null,
      "outputs": [
        {
          "output_type": "stream",
          "text": [
            "1000\n"
          ],
          "name": "stdout"
        }
      ]
    },
    {
      "cell_type": "markdown",
      "metadata": {
        "id": "_mBfOJVOdsd5"
      },
      "source": [
        "### zip and map"
      ]
    },
    {
      "cell_type": "code",
      "metadata": {
        "id": "mC9AVLYIcmCF"
      },
      "source": [
        "L1 = list(range(1,11))\n",
        "L2 = list(range(10,0,-1))"
      ],
      "execution_count": null,
      "outputs": []
    },
    {
      "cell_type": "code",
      "metadata": {
        "colab": {
          "base_uri": "https://localhost:8080/"
        },
        "id": "uHvmVf_ERUjE",
        "outputId": "a3dc0ef5-4fb8-4cf8-d38f-6b0d418cdb58"
      },
      "source": [
        "alist = list(map(list, zip(L1, L2)))"
      ],
      "execution_count": null,
      "outputs": [
        {
          "output_type": "execute_result",
          "data": {
            "text/plain": [
              "[[1, 10],\n",
              " [2, 9],\n",
              " [3, 8],\n",
              " [4, 7],\n",
              " [5, 6],\n",
              " [6, 5],\n",
              " [7, 4],\n",
              " [8, 3],\n",
              " [9, 2],\n",
              " [10, 1]]"
            ]
          },
          "metadata": {
            "tags": []
          },
          "execution_count": 8
        }
      ]
    },
    {
      "cell_type": "code",
      "metadata": {
        "id": "iUHefVY6d9_L"
      },
      "source": [
        ""
      ],
      "execution_count": null,
      "outputs": []
    }
  ]
}