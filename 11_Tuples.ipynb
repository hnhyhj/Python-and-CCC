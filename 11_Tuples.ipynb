{
  "nbformat": 4,
  "nbformat_minor": 0,
  "metadata": {
    "colab": {
      "name": "11 Tuples.ipynb",
      "provenance": [],
      "collapsed_sections": [],
      "authorship_tag": "ABX9TyPxQ/Oi0NFYSPKP2sEob6W8",
      "include_colab_link": true
    },
    "kernelspec": {
      "name": "python3",
      "display_name": "Python 3"
    }
  },
  "cells": [
    {
      "cell_type": "markdown",
      "metadata": {
        "id": "view-in-github",
        "colab_type": "text"
      },
      "source": [
        "<a href=\"https://colab.research.google.com/github/hnhyhj/Python-study/blob/master/11_Tuples.ipynb\" target=\"_parent\"><img src=\"https://colab.research.google.com/assets/colab-badge.svg\" alt=\"Open In Colab\"/></a>"
      ]
    },
    {
      "cell_type": "markdown",
      "metadata": {
        "id": "fdOwyQIF2Cgv"
      },
      "source": [
        "# Chapter 11\n",
        "# Tuples\n",
        "\n",
        "A tuple is a group of one or more values that are treated as a whole. "
      ]
    },
    {
      "cell_type": "markdown",
      "metadata": {
        "id": "iCCBo_Hv2PzU"
      },
      "source": [
        "A tuple is a group of one or more values, separated by commas. Normally, tuples are written with parentheses around them, but the parentheses are not actually necessary (except\n",
        "in circumstances where otherwise confusion would arise). "
      ]
    },
    {
      "cell_type": "markdown",
      "metadata": {
        "id": "tPgLbpDW4DKk"
      },
      "source": [
        "## 11.1 Basics of tuples"
      ]
    },
    {
      "cell_type": "code",
      "metadata": {
        "id": "BfEBmu3ZDdxp"
      },
      "source": [
        "t1 = (\"apple\", \"orange\")\n",
        "print( type( t1 ) )\n",
        "t2 = \"banana\", \"cherry\"\n",
        "print( type( t2 ))"
      ],
      "execution_count": null,
      "outputs": []
    },
    {
      "cell_type": "markdown",
      "metadata": {
        "id": "jboPCWFQ2e4U"
      },
      "source": [
        "You can mix data types within tuples. You can even put tuples in tuples."
      ]
    },
    {
      "cell_type": "code",
      "metadata": {
        "id": "aM4wb4quDfUT"
      },
      "source": [
        "t1 = (\"apple\", 3, 1.4)\n",
        "t2 = (\"apple\", 3, 1.4, (\"banana\", 5))"
      ],
      "execution_count": null,
      "outputs": []
    },
    {
      "cell_type": "markdown",
      "metadata": {
        "id": "c2tzOtP62nRq"
      },
      "source": [
        "To find out how many elements a tuple contains, you can use the **len()** function."
      ]
    },
    {
      "cell_type": "code",
      "metadata": {
        "id": "jmCvZzBw4xpz",
        "colab": {
          "base_uri": "https://localhost:8080/"
        },
        "outputId": "566f4c59-71b0-4526-b9df-77a28068b6e4"
      },
      "source": [
        "t1 = (\"apple\", \"orange\")\n",
        "t2 = (\"apple\", 3, 1.4)\n",
        "t3 = (\"apple\", 3, 1.4, (\"banana\", 5))\n",
        "print( len( t1 ) )\n",
        "print( len( t2 ) )\n",
        "print( len( t3 ) )"
      ],
      "execution_count": null,
      "outputs": [
        {
          "output_type": "stream",
          "text": [
            "2\n",
            "3\n",
            "4\n"
          ],
          "name": "stdout"
        }
      ]
    },
    {
      "cell_type": "markdown",
      "metadata": {
        "id": "GQvriSDq3DDT"
      },
      "source": [
        "You can use a for loop to access individual elements of a tuple in sequence."
      ]
    },
    {
      "cell_type": "code",
      "metadata": {
        "id": "LybkWk_f41hh",
        "colab": {
          "base_uri": "https://localhost:8080/"
        },
        "outputId": "db944377-2a0c-477c-d8bc-a4aa1fb299e6"
      },
      "source": [
        "t1 = (\"apple\", 3, 1.4, (\"banana\", 5))\n",
        "for element in t1:\n",
        "    print( element )"
      ],
      "execution_count": null,
      "outputs": [
        {
          "output_type": "stream",
          "text": [
            "apple\n",
            "3\n",
            "1.4\n",
            "('banana', 5)\n"
          ],
          "name": "stdout"
        }
      ]
    },
    {
      "cell_type": "markdown",
      "metadata": {
        "id": "CkZAEL8t3RpH"
      },
      "source": [
        "You can also use the **max()** and **min()** functions to get the maximum respectively the minimum from a tuple of numbers. You can sum the elements of a tuple using the **sum()**\n",
        "function."
      ]
    },
    {
      "cell_type": "code",
      "metadata": {
        "id": "F8YNp0K93V7_"
      },
      "source": [
        "t1 = (327, 419, 101, 667, 925, 225)\n",
        "print( max( t1 ) )\n",
        "print( min( t1 ) )\n",
        "print( sum( t1 ) )"
      ],
      "execution_count": null,
      "outputs": []
    },
    {
      "cell_type": "markdown",
      "metadata": {
        "id": "7jXqz6jA3cum"
      },
      "source": [
        "You can test whether an element is part of a tuple by using the in operator."
      ]
    },
    {
      "cell_type": "code",
      "metadata": {
        "id": "iLLPXZK93d83"
      },
      "source": [
        "t1 = (\"apple\", \"banana\", \"cherry\")\n",
        "print( \"banana\" in t1 )\n",
        "print( \"orange\" in t1 )"
      ],
      "execution_count": null,
      "outputs": []
    },
    {
      "cell_type": "markdown",
      "metadata": {
        "id": "L31bzqjY4Q6H"
      },
      "source": [
        "## 11.2 Tuple assignments"
      ]
    },
    {
      "cell_type": "markdown",
      "metadata": {
        "id": "lIG82voW4Yu8"
      },
      "source": [
        "As you have seen, you can create a tuple by assigning comma-separated values to a variable. Parentheses around it are optional. What if you want to create a tuple with only one\n",
        "element?"
      ]
    },
    {
      "cell_type": "code",
      "metadata": {
        "colab": {
          "base_uri": "https://localhost:8080/"
        },
        "id": "Mkhdu7Vw4qFa",
        "outputId": "f0a1eedd-85cf-491a-d5bb-90b71701ab47"
      },
      "source": [
        "t1 = (\"apple\")\n",
        "print( type( t1 ) )"
      ],
      "execution_count": null,
      "outputs": [
        {
          "output_type": "stream",
          "text": [
            "<class 'str'>\n"
          ],
          "name": "stdout"
        }
      ]
    },
    {
      "cell_type": "markdown",
      "metadata": {
        "id": "WtvlA7l44v6c"
      },
      "source": [
        "If you run this code, you will find that t1 is of the class str, i.e., a string. Putting parentheses around the element does not work, as parentheses are optional. Python introduced\n",
        "a little trick to create a tuple with only one element, and that is that you indicate that it is\n",
        "a tuple by placing a comma after the value. This is rather unintuitive and I would even\n",
        "say “degenerate,” but historically this was the solution that an early version of Python\n",
        "introduced, and for compatibility reasons it was not changed."
      ]
    },
    {
      "cell_type": "code",
      "metadata": {
        "colab": {
          "base_uri": "https://localhost:8080/"
        },
        "id": "HGrZ2dgp4sXK",
        "outputId": "05e1a533-c40a-4c4c-d935-66b131b16ccc"
      },
      "source": [
        "t1 = (\"apple\",)\n",
        "print( type( t1 ) )\n",
        "print( len( t1 ) )"
      ],
      "execution_count": null,
      "outputs": [
        {
          "output_type": "stream",
          "text": [
            "<class 'tuple'>\n",
            "1\n"
          ],
          "name": "stdout"
        }
      ]
    },
    {
      "cell_type": "markdown",
      "metadata": {
        "id": "_N0qS_fA42PB"
      },
      "source": [
        "Python allows you to place a tuple left of the assignment operator. This is an exception to\n",
        "the rule that only one variable can be placed left of an assignment. The values at the right\n",
        "side are copied one-by-one to the left side, left to right."
      ]
    },
    {
      "cell_type": "code",
      "metadata": {
        "id": "jNb1G3PM4zco"
      },
      "source": [
        "t1, t2 = \"apple\", \"banana\"\n",
        "print( t1 )\n",
        "print( t2 )"
      ],
      "execution_count": null,
      "outputs": []
    },
    {
      "cell_type": "markdown",
      "metadata": {
        "id": "sVYA5g4N48Oo"
      },
      "source": [
        "You can place parentheses around the values at the right side, and/or parentheses around\n",
        "the variables at the left side, which makes no difference.\n",
        "If you place more variables at the left side than values at the right side, you get a runtime\n",
        "error. The same for placing fewer (unless you place just one, as shown above). However,\n",
        "you can create tuples at the right side by placing parentheses."
      ]
    },
    {
      "cell_type": "code",
      "metadata": {
        "colab": {
          "base_uri": "https://localhost:8080/"
        },
        "id": "OyEC1dph49e7",
        "outputId": "c3079f48-e72f-4f99-b2b3-e28fc6232b7b"
      },
      "source": [
        "t1, t2 = (\"apple\", \"banana\"), \"cherry\"\n",
        "print( t1 )\n",
        "print( t2 )"
      ],
      "execution_count": null,
      "outputs": [
        {
          "output_type": "stream",
          "text": [
            "('apple', 'banana')\n",
            "cherry\n"
          ],
          "name": "stdout"
        }
      ]
    },
    {
      "cell_type": "markdown",
      "metadata": {
        "id": "PN4VcQ6G5FBu"
      },
      "source": [
        "## 11.2 Tuple indices"
      ]
    },
    {
      "cell_type": "markdown",
      "metadata": {
        "id": "Ot0qtoBj5OgB"
      },
      "source": [
        "ust like with strings, you can access the individual elements of a tuple using indices.\n",
        "Where with strings the individual elements are characters, for tuples they are the values.\n",
        "For instance:"
      ]
    },
    {
      "cell_type": "code",
      "metadata": {
        "id": "vLkuvY955LTH"
      },
      "source": [
        "t1 = (\"apple\", \"banana\", \"cherry\", \"durian\")\n",
        "print( t1[2] "
      ],
      "execution_count": null,
      "outputs": []
    },
    {
      "cell_type": "markdown",
      "metadata": {
        "id": "E_uXxIVJ5RcT"
      },
      "source": [
        "You can even use slices, with the same rules as for strings (if you do not remember, check\n",
        "Chapter 10 again). A slice of a tuple is another tuple. For example:"
      ]
    },
    {
      "cell_type": "code",
      "metadata": {
        "colab": {
          "base_uri": "https://localhost:8080/"
        },
        "id": "e6BTMXvU5c5e",
        "outputId": "456dafe5-6891-453a-e1f8-95986751e5bb"
      },
      "source": [
        "t1 = (\"apple\", \"banana\", \"cherry\", \"durian\", \"orange\")\n",
        "print( t1[1:4] )"
      ],
      "execution_count": null,
      "outputs": [
        {
          "output_type": "stream",
          "text": [
            "('banana', 'cherry', 'durian')\n"
          ],
          "name": "stdout"
        }
      ]
    },
    {
      "cell_type": "markdown",
      "metadata": {
        "id": "HSvD5QQX5hrX"
      },
      "source": [
        "Since tuples are indexed, an alternative for a for loop to access the individual elements of\n",
        "a tuple is to loop over the indices."
      ]
    },
    {
      "cell_type": "code",
      "metadata": {
        "colab": {
          "base_uri": "https://localhost:8080/"
        },
        "id": "bLNswUSg5ke6",
        "outputId": "ff3e692f-9c84-49fa-9cf7-92d3b5d90f01"
      },
      "source": [
        "t1 = (\"apple\", \"banana\", \"cherry\", \"durian\", \"orange\")\n",
        "i = 0\n",
        "while i < len( t1 ):\n",
        "    print( t1[i] )\n",
        "    i += 1"
      ],
      "execution_count": null,
      "outputs": [
        {
          "output_type": "stream",
          "text": [
            "apple\n",
            "banana\n",
            "cherry\n",
            "durian\n",
            "orange\n"
          ],
          "name": "stdout"
        }
      ]
    },
    {
      "cell_type": "markdown",
      "metadata": {
        "id": "wwVJor6i5yw1"
      },
      "source": [
        "## 11.3  Tuple comparisons"
      ]
    },
    {
      "cell_type": "markdown",
      "metadata": {
        "id": "T5vriuU255jL"
      },
      "source": [
        "You can compare two tuples with each other by using the regular comparison operators.\n",
        "These operators first compare the first two elements of the tuples. If these are different,\n",
        "then the comparison will determine which one is “smaller” based on the rules for these\n",
        "data types, and result in True or False. If they are equal, the second elements will be\n",
        "compared, etcetera."
      ]
    },
    {
      "cell_type": "code",
      "metadata": {
        "colab": {
          "base_uri": "https://localhost:8080/"
        },
        "id": "vs5nYJFM53i5",
        "outputId": "0b7f0ef7-3554-44dd-f3a1-b5fe120e3dc8"
      },
      "source": [
        "t1 = ( \"apple\", \"banana\" )\n",
        "t2 = ( \"apple\", \"banana\" )\n",
        "t3 = ( \"apple\", \"cherry\" )\n",
        "t4 = ( \"apple\", \"banana\", \"cherry\" )\n",
        "print( t1 == t2 )\n",
        "print( t1 < t3 )\n",
        "print( t1 > t4 )\n",
        "print( t3 > t4 )"
      ],
      "execution_count": null,
      "outputs": [
        {
          "output_type": "stream",
          "text": [
            "True\n",
            "True\n",
            "False\n",
            "True\n"
          ],
          "name": "stdout"
        }
      ]
    },
    {
      "cell_type": "markdown",
      "metadata": {
        "id": "4I8aKWnr6GOc"
      },
      "source": [
        "## 11.4 Tuple return values\n",
        "In Chapter 8, you learned that functions can return multiple values. If you code something\n",
        "like that, what actually happens is that the function is returning a tuple. To deal with such\n",
        "return values, you assign them to variables as explained under “tuple assignments” above."
      ]
    },
    {
      "cell_type": "markdown",
      "metadata": {
        "id": "weg8TBUg6Kyz"
      },
      "source": [
        "## 11.5 Tuples are immutable\n",
        "Just like strings, tuples are immutable. This means that you cannot assign a new value to\n",
        "one element of a tuple. The example below will produce a runtime error when run."
      ]
    },
    {
      "cell_type": "code",
      "metadata": {
        "colab": {
          "base_uri": "https://localhost:8080/",
          "height": 134
        },
        "id": "FWK0LF7c6TOA",
        "outputId": "23fd7a75-924f-47d1-a56f-f8f23989b924"
      },
      "source": [
        "t1 = (\"apple\", \"banana\", \"cherry\", \"durian\")\n",
        "t1[0] = \"orange"
      ],
      "execution_count": null,
      "outputs": [
        {
          "output_type": "error",
          "ename": "SyntaxError",
          "evalue": "ignored",
          "traceback": [
            "\u001b[0;36m  File \u001b[0;32m\"<ipython-input-15-a41254e47570>\"\u001b[0;36m, line \u001b[0;32m2\u001b[0m\n\u001b[0;31m    t1[0] = \"orange\u001b[0m\n\u001b[0m                   ^\u001b[0m\n\u001b[0;31mSyntaxError\u001b[0m\u001b[0;31m:\u001b[0m EOL while scanning string literal\n"
          ]
        }
      ]
    },
    {
      "cell_type": "markdown",
      "metadata": {
        "id": "JMSscV8l6ZGG"
      },
      "source": [
        "## 11.6 Applications of tuples\n",
        "\n",
        "Tuples are not used often in Python code (except as return values of functions). A logical\n",
        "application of tuples would be to deal with values that always occur in small collections.\n",
        "However, object orientation (Chapter 20 and further) offers many tools and techniques to\n",
        "deal with such small collections, which means that programmers usually revert to object\n",
        "orientation when they need something like that."
      ]
    },
    {
      "cell_type": "markdown",
      "metadata": {
        "id": "9EmTjBSO69dD"
      },
      "source": [
        "For the moment, here is an example of the use of tuples in an application. Suppose that\n",
        "you have to write a program that deals with geometric figures in 2-dimensional space. A\n",
        "concept that you need is that of a point: a location in 2D space that is identified by two\n",
        "coordinates. Rather than write functions that always require a separate X-coordinate and\n",
        "a separate Y-coordinate, you can specify that coordinates are always communicated in the\n",
        "form of tuples."
      ]
    },
    {
      "cell_type": "code",
      "metadata": {
        "colab": {
          "base_uri": "https://localhost:8080/"
        },
        "id": "5f3pvQP86-bw",
        "outputId": "b03b4d0f-f6bf-41dc-e0dc-467fd34667a4"
      },
      "source": [
        "from math import sqrt\n",
        "# Returns the distance between two points in 2-dimensional space.\n",
        "# The points are the parameters of the function; each point is a\n",
        "# tuple of two numeric values.\n",
        "def distance( p1, p2 ):\n",
        "    return sqrt( (p1[0] - p2[0]) **2 + (p1[1] - p2[1]) **2 )\n",
        "\n",
        "point1 = (1,2)\n",
        "point2 = (5,5)\n",
        "print( \"Distance between\", point1 , \"and\", point2 , \"is\", distance( point1 , point2 ) )"
      ],
      "execution_count": null,
      "outputs": [
        {
          "output_type": "stream",
          "text": [
            "Distance between (1, 2) and (5, 5) is 5.0\n"
          ],
          "name": "stdout"
        }
      ]
    },
    {
      "cell_type": "markdown",
      "metadata": {
        "id": "vEI2t9Ge7NaP"
      },
      "source": [
        "## 11.7 Why tuples?"
      ]
    },
    {
      "cell_type": "markdown",
      "metadata": {
        "id": "_hJRkywy7Sxi"
      },
      "source": [
        ""
      ]
    }
  ]
}